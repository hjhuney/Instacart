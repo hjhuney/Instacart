{
 "cells": [
  {
   "cell_type": "markdown",
   "metadata": {},
   "source": [
    "# Imports"
   ]
  },
  {
   "cell_type": "code",
   "execution_count": 1,
   "metadata": {},
   "outputs": [],
   "source": [
    "# standard libraries\n",
    "import pandas as pd\n",
    "import numpy as np\n",
    "\n",
    "# visualization library\n",
    "import altair as alt\n",
    "\n",
    "# modeling libaries\n",
    "from sklearn.metrics.pairwise import cosine_similarity"
   ]
  },
  {
   "cell_type": "code",
   "execution_count": 2,
   "metadata": {},
   "outputs": [
    {
     "data": {
      "text/plain": [
       "ThemeRegistry.enable('opaque')"
      ]
     },
     "execution_count": 2,
     "metadata": {},
     "output_type": "execute_result"
    }
   ],
   "source": [
    "# enable altair visualizations\n",
    "alt.renderers.enable()\n",
    "\n",
    "# opaque background\n",
    "alt.themes.enable('opaque')"
   ]
  },
  {
   "cell_type": "markdown",
   "metadata": {},
   "source": [
    "# Load Data Functions"
   ]
  },
  {
   "cell_type": "code",
   "execution_count": 3,
   "metadata": {},
   "outputs": [],
   "source": [
    "# function to reduce size of dataframes\n",
    "def downcast_df(file):\n",
    "    df = pd.read_csv(file)\n",
    "    \n",
    "    # isolate data types\n",
    "    df_int = df.select_dtypes(include=['int64'])\n",
    "    df_float = df.select_dtypes(include=['float64'])\n",
    "    df_obj = df.select_dtypes(include=['object'])\n",
    "    \n",
    "    # downcast ints and floats\n",
    "    df_int = df_int.apply(pd.to_numeric, downcast='unsigned')\n",
    "    df_float = df_float.apply(pd.to_numeric, downcast='float')\n",
    "    \n",
    "    # recombine into single dataframe\n",
    "    optimized_df = df.copy()\n",
    "    optimized_df[df_int.columns] = df_int\n",
    "    optimized_df[df_float.columns] = df_float\n",
    "    \n",
    "    # return statement    \n",
    "    return optimized_df"
   ]
  },
  {
   "cell_type": "code",
   "execution_count": 4,
   "metadata": {},
   "outputs": [],
   "source": [
    "# function to print out df.info() and df.head() cleanly\n",
    "def print_info(df):\n",
    "    print((\"=\" * 10) + \" Info \" + (\"=\" * 10) + \"\\n\")\n",
    "    print(df.info())\n",
    "    print(\"\\n\" + (\"=\" * 10) + \" First 5 Rows \" + (\"=\" * 10) + \"\\n\")\n",
    "    print(df.head())"
   ]
  },
  {
   "cell_type": "markdown",
   "metadata": {},
   "source": [
    "# DataFrames\n",
    "\n",
    "Loading all datasets, along with info (row data, memory usage), and first 5 rows of data. "
   ]
  },
  {
   "cell_type": "code",
   "execution_count": 5,
   "metadata": {},
   "outputs": [],
   "source": [
    "products = downcast_df('products.csv')"
   ]
  },
  {
   "cell_type": "code",
   "execution_count": 6,
   "metadata": {},
   "outputs": [],
   "source": [
    "# product dictionaries for future usage in mapping\n",
    "product_dict = dict(zip(products['product_name'], products['product_id']))\n",
    "product_dict_inv = dict([v,k] for k,v in product_dict.items())"
   ]
  },
  {
   "cell_type": "code",
   "execution_count": 7,
   "metadata": {},
   "outputs": [],
   "source": [
    "orders = downcast_df('orders.csv')\n",
    "orders['days_since_prior_order'] = orders['days_since_prior_order'].fillna(-99)\n",
    "orders['days_since_prior_order'] = orders['days_since_prior_order'].astype('int16')"
   ]
  },
  {
   "cell_type": "code",
   "execution_count": 8,
   "metadata": {},
   "outputs": [],
   "source": [
    "aisles = downcast_df('aisles.csv')"
   ]
  },
  {
   "cell_type": "code",
   "execution_count": 9,
   "metadata": {},
   "outputs": [],
   "source": [
    "departments = downcast_df('departments.csv')"
   ]
  },
  {
   "cell_type": "code",
   "execution_count": 10,
   "metadata": {},
   "outputs": [],
   "source": [
    "prior = downcast_df('order_products__prior.csv')"
   ]
  },
  {
   "cell_type": "code",
   "execution_count": 11,
   "metadata": {},
   "outputs": [],
   "source": [
    "train = downcast_df('order_products__train_cap.csv')"
   ]
  },
  {
   "cell_type": "code",
   "execution_count": 12,
   "metadata": {},
   "outputs": [],
   "source": [
    "test = downcast_df('order_products__test_cap.csv')"
   ]
  },
  {
   "cell_type": "markdown",
   "metadata": {},
   "source": [
    "# Merge Prior, Order, and Product DataFrames"
   ]
  },
  {
   "cell_type": "code",
   "execution_count": 14,
   "metadata": {},
   "outputs": [],
   "source": [
    "prior_merge1 = pd.merge(prior, products, on=\"product_id\", how=\"left\")\n",
    "df = pd.merge(prior_merge1, orders, on=\"order_id\", how=\"left\")\n",
    "df = df.drop(['eval_set'], axis=1)\n",
    "df['days_since_prior_order'] = df['days_since_prior_order'].fillna(-1).astype('int16')\n",
    "product_count = df.groupby('product_id').size()\n",
    "df['count'] = df['product_id'].map(product_count).astype('uint32')"
   ]
  },
  {
   "cell_type": "code",
   "execution_count": 15,
   "metadata": {},
   "outputs": [
    {
     "data": {
      "text/html": [
       "<div>\n",
       "<style scoped>\n",
       "    .dataframe tbody tr th:only-of-type {\n",
       "        vertical-align: middle;\n",
       "    }\n",
       "\n",
       "    .dataframe tbody tr th {\n",
       "        vertical-align: top;\n",
       "    }\n",
       "\n",
       "    .dataframe thead th {\n",
       "        text-align: right;\n",
       "    }\n",
       "</style>\n",
       "<table border=\"1\" class=\"dataframe\">\n",
       "  <thead>\n",
       "    <tr style=\"text-align: right;\">\n",
       "      <th></th>\n",
       "      <th>order_id</th>\n",
       "      <th>product_id</th>\n",
       "      <th>add_to_cart_order</th>\n",
       "      <th>reordered</th>\n",
       "      <th>product_name</th>\n",
       "      <th>aisle_id</th>\n",
       "      <th>department_id</th>\n",
       "      <th>user_id</th>\n",
       "      <th>order_number</th>\n",
       "      <th>order_dow</th>\n",
       "      <th>order_hour_of_day</th>\n",
       "      <th>days_since_prior_order</th>\n",
       "      <th>count</th>\n",
       "    </tr>\n",
       "  </thead>\n",
       "  <tbody>\n",
       "    <tr>\n",
       "      <th>0</th>\n",
       "      <td>2</td>\n",
       "      <td>33120</td>\n",
       "      <td>1</td>\n",
       "      <td>1</td>\n",
       "      <td>Organic Egg Whites</td>\n",
       "      <td>86</td>\n",
       "      <td>16</td>\n",
       "      <td>202279</td>\n",
       "      <td>3</td>\n",
       "      <td>5</td>\n",
       "      <td>9</td>\n",
       "      <td>8</td>\n",
       "      <td>19400</td>\n",
       "    </tr>\n",
       "    <tr>\n",
       "      <th>1</th>\n",
       "      <td>2</td>\n",
       "      <td>28985</td>\n",
       "      <td>2</td>\n",
       "      <td>1</td>\n",
       "      <td>Michigan Organic Kale</td>\n",
       "      <td>83</td>\n",
       "      <td>4</td>\n",
       "      <td>202279</td>\n",
       "      <td>3</td>\n",
       "      <td>5</td>\n",
       "      <td>9</td>\n",
       "      <td>8</td>\n",
       "      <td>67449</td>\n",
       "    </tr>\n",
       "    <tr>\n",
       "      <th>2</th>\n",
       "      <td>2</td>\n",
       "      <td>9327</td>\n",
       "      <td>3</td>\n",
       "      <td>0</td>\n",
       "      <td>Garlic Powder</td>\n",
       "      <td>104</td>\n",
       "      <td>13</td>\n",
       "      <td>202279</td>\n",
       "      <td>3</td>\n",
       "      <td>5</td>\n",
       "      <td>9</td>\n",
       "      <td>8</td>\n",
       "      <td>6299</td>\n",
       "    </tr>\n",
       "    <tr>\n",
       "      <th>3</th>\n",
       "      <td>2</td>\n",
       "      <td>45918</td>\n",
       "      <td>4</td>\n",
       "      <td>1</td>\n",
       "      <td>Coconut Butter</td>\n",
       "      <td>19</td>\n",
       "      <td>13</td>\n",
       "      <td>202279</td>\n",
       "      <td>3</td>\n",
       "      <td>5</td>\n",
       "      <td>9</td>\n",
       "      <td>8</td>\n",
       "      <td>744</td>\n",
       "    </tr>\n",
       "    <tr>\n",
       "      <th>4</th>\n",
       "      <td>2</td>\n",
       "      <td>30035</td>\n",
       "      <td>5</td>\n",
       "      <td>0</td>\n",
       "      <td>Natural Sweetener</td>\n",
       "      <td>17</td>\n",
       "      <td>13</td>\n",
       "      <td>202279</td>\n",
       "      <td>3</td>\n",
       "      <td>5</td>\n",
       "      <td>9</td>\n",
       "      <td>8</td>\n",
       "      <td>569</td>\n",
       "    </tr>\n",
       "  </tbody>\n",
       "</table>\n",
       "</div>"
      ],
      "text/plain": [
       "   order_id  product_id  add_to_cart_order  reordered           product_name  \\\n",
       "0         2       33120                  1          1     Organic Egg Whites   \n",
       "1         2       28985                  2          1  Michigan Organic Kale   \n",
       "2         2        9327                  3          0          Garlic Powder   \n",
       "3         2       45918                  4          1         Coconut Butter   \n",
       "4         2       30035                  5          0      Natural Sweetener   \n",
       "\n",
       "   aisle_id  department_id  user_id  order_number  order_dow  \\\n",
       "0        86             16   202279             3          5   \n",
       "1        83              4   202279             3          5   \n",
       "2       104             13   202279             3          5   \n",
       "3        19             13   202279             3          5   \n",
       "4        17             13   202279             3          5   \n",
       "\n",
       "   order_hour_of_day  days_since_prior_order  count  \n",
       "0                  9                       8  19400  \n",
       "1                  9                       8  67449  \n",
       "2                  9                       8   6299  \n",
       "3                  9                       8    744  \n",
       "4                  9                       8    569  "
      ]
     },
     "execution_count": 15,
     "metadata": {},
     "output_type": "execute_result"
    }
   ],
   "source": [
    "df.head()"
   ]
  },
  {
   "cell_type": "code",
   "execution_count": 16,
   "metadata": {},
   "outputs": [
    {
     "name": "stdout",
     "output_type": "stream",
     "text": [
      "<class 'pandas.core.frame.DataFrame'>\n",
      "Int64Index: 32434489 entries, 0 to 32434488\n",
      "Data columns (total 13 columns):\n",
      "order_id                  uint32\n",
      "product_id                uint16\n",
      "add_to_cart_order         uint8\n",
      "reordered                 uint8\n",
      "product_name              object\n",
      "aisle_id                  uint8\n",
      "department_id             uint8\n",
      "user_id                   uint32\n",
      "order_number              uint8\n",
      "order_dow                 uint8\n",
      "order_hour_of_day         uint8\n",
      "days_since_prior_order    int16\n",
      "count                     uint32\n",
      "dtypes: int16(1), object(1), uint16(1), uint32(3), uint8(7)\n",
      "memory usage: 3.4 GB\n"
     ]
    }
   ],
   "source": [
    "df.info(memory_usage='deep')"
   ]
  },
  {
   "cell_type": "markdown",
   "metadata": {},
   "source": [
    "# Data Exploration\n",
    "\n",
    "Exploration of various attributes of product and order data. "
   ]
  },
  {
   "cell_type": "markdown",
   "metadata": {},
   "source": [
    "## Time of Day"
   ]
  },
  {
   "cell_type": "code",
   "execution_count": 18,
   "metadata": {},
   "outputs": [],
   "source": [
    "time_of_day = orders['order_hour_of_day'].value_counts()\n",
    "time_of_day = time_of_day.reset_index()\n",
    "time_of_day['pct_of_total'] = np.round((time_of_day['order_hour_of_day'] / time_of_day['order_hour_of_day'].sum()*100), 2)"
   ]
  },
  {
   "cell_type": "code",
   "execution_count": 19,
   "metadata": {},
   "outputs": [
    {
     "data": {
      "application/vnd.vegalite.v2+json": {
       "$schema": "https://vega.github.io/schema/vega-lite/v2.6.0.json",
       "config": {
        "background": "white",
        "view": {
         "height": 300,
         "width": 400
        }
       },
       "data": {
        "name": "data-014e0a7dab42df99afd0375749910c16"
       },
       "datasets": {
        "data-014e0a7dab42df99afd0375749910c16": [
         {
          "index": 10,
          "order_hour_of_day": 288418,
          "pct_of_total": 8.43
         },
         {
          "index": 11,
          "order_hour_of_day": 284728,
          "pct_of_total": 8.32
         },
         {
          "index": 15,
          "order_hour_of_day": 283639,
          "pct_of_total": 8.29
         },
         {
          "index": 14,
          "order_hour_of_day": 283042,
          "pct_of_total": 8.27
         },
         {
          "index": 13,
          "order_hour_of_day": 277999,
          "pct_of_total": 8.13
         },
         {
          "index": 12,
          "order_hour_of_day": 272841,
          "pct_of_total": 7.98
         },
         {
          "index": 16,
          "order_hour_of_day": 272553,
          "pct_of_total": 7.97
         },
         {
          "index": 9,
          "order_hour_of_day": 257812,
          "pct_of_total": 7.54
         },
         {
          "index": 17,
          "order_hour_of_day": 228795,
          "pct_of_total": 6.69
         },
         {
          "index": 18,
          "order_hour_of_day": 182912,
          "pct_of_total": 5.35
         },
         {
          "index": 8,
          "order_hour_of_day": 178201,
          "pct_of_total": 5.21
         },
         {
          "index": 19,
          "order_hour_of_day": 140569,
          "pct_of_total": 4.11
         },
         {
          "index": 20,
          "order_hour_of_day": 104292,
          "pct_of_total": 3.05
         },
         {
          "index": 7,
          "order_hour_of_day": 91868,
          "pct_of_total": 2.69
         },
         {
          "index": 21,
          "order_hour_of_day": 78109,
          "pct_of_total": 2.28
         },
         {
          "index": 22,
          "order_hour_of_day": 61468,
          "pct_of_total": 1.8
         },
         {
          "index": 23,
          "order_hour_of_day": 40043,
          "pct_of_total": 1.17
         },
         {
          "index": 6,
          "order_hour_of_day": 30529,
          "pct_of_total": 0.89
         },
         {
          "index": 0,
          "order_hour_of_day": 22758,
          "pct_of_total": 0.67
         },
         {
          "index": 1,
          "order_hour_of_day": 12398,
          "pct_of_total": 0.36
         },
         {
          "index": 5,
          "order_hour_of_day": 9569,
          "pct_of_total": 0.28
         },
         {
          "index": 2,
          "order_hour_of_day": 7539,
          "pct_of_total": 0.22
         },
         {
          "index": 4,
          "order_hour_of_day": 5527,
          "pct_of_total": 0.16
         },
         {
          "index": 3,
          "order_hour_of_day": 5474,
          "pct_of_total": 0.16
         }
        ]
       },
       "encoding": {
        "color": {
         "field": "order_hour_of_day",
         "legend": null,
         "scale": {
          "scheme": "viridis"
         },
         "sort": "descending",
         "type": "quantitative"
        },
        "tooltip": [
         {
          "field": "index",
          "title": "Hour of Day",
          "type": "ordinal"
         },
         {
          "field": "order_hour_of_day",
          "type": "quantitative"
         },
         {
          "field": "pct_of_total",
          "type": "quantitative"
         }
        ],
        "x": {
         "bin": false,
         "field": "index",
         "title": "hour of day",
         "type": "ordinal"
        },
        "y": {
         "field": "order_hour_of_day",
         "title": "count",
         "type": "quantitative"
        }
       },
       "height": 400,
       "mark": "bar",
       "title": "Orders by Hour of Day",
       "width": 700
      },
      "image/png": "[encoded data removed]",
      "text/plain": [
       "<VegaLite 2 object>\n",
       "\n",
       "If you see this message, it means the renderer has not been properly enabled\n",
       "for the frontend that you are using. For more information, see\n",
       "https://altair-viz.github.io/user_guide/troubleshooting.html\n"
      ]
     },
     "execution_count": 19,
     "metadata": {},
     "output_type": "execute_result"
    }
   ],
   "source": [
    "time_of_day_chart = alt.Chart(time_of_day).mark_bar().encode(\n",
    "    alt.X(\"index:O\", bin=False, title=\"hour of day\"),\n",
    "    alt.Y('order_hour_of_day:Q', title=\"count\"),\n",
    "    color = alt.Color('order_hour_of_day', legend=None, sort=\"descending\", scale=alt.Scale(scheme='viridis')),\n",
    "    tooltip=[alt.Tooltip('index:O', title=\"Hour of Day\"), alt.Tooltip('order_hour_of_day:Q'), alt.Tooltip('pct_of_total:Q')]\n",
    "    ).properties(title=\"Orders by Hour of Day\", width=700, height=400)\n",
    "\n",
    "time_of_day_chart"
   ]
  },
  {
   "cell_type": "markdown",
   "metadata": {},
   "source": [
    "From this, we can see that most orders come in the 7am - 9pm timeframe, with heaviest demand from 9am - 5pm. "
   ]
  },
  {
   "cell_type": "markdown",
   "metadata": {},
   "source": [
    "## Orders by Day of Week"
   ]
  },
  {
   "cell_type": "code",
   "execution_count": 20,
   "metadata": {},
   "outputs": [],
   "source": [
    "# dictionaries and lists for day of week\n",
    "dayofweek_dict = {'Monday': 1, 'Tuesday': 2, 'Wednesday': 3, 'Thursday': 4, 'Friday': 5, 'Saturday': 6, 'Sunday': 0}\n",
    "inv_dayofweek_dict = {v: k for k, v in dayofweek_dict.items()}\n",
    "dayofweek_list = ['Sunday', 'Monday', 'Tuesday', 'Wednesday', 'Thursday', 'Friday', 'Saturday']"
   ]
  },
  {
   "cell_type": "code",
   "execution_count": 21,
   "metadata": {},
   "outputs": [],
   "source": [
    "dow = orders['order_dow'].value_counts()\n",
    "dow = dow.reset_index()\n",
    "dow.columns = ['index', 'count']\n",
    "dow['pct_of_total'] = np.round((dow['count'] / dow['count'].sum()*100), 2)\n",
    "dow['day'] = dow['index'].map(inv_dayofweek_dict)"
   ]
  },
  {
   "cell_type": "code",
   "execution_count": 22,
   "metadata": {},
   "outputs": [
    {
     "data": {
      "application/vnd.vegalite.v2+json": {
       "$schema": "https://vega.github.io/schema/vega-lite/v2.6.0.json",
       "config": {
        "background": "white",
        "view": {
         "height": 300,
         "width": 400
        }
       },
       "data": {
        "name": "data-64482d20ab4610eaa1d4e414fc85e6c0"
       },
       "datasets": {
        "data-64482d20ab4610eaa1d4e414fc85e6c0": [
         {
          "count": 600905,
          "day": "Sunday",
          "index": 0,
          "pct_of_total": 17.56
         },
         {
          "count": 587478,
          "day": "Monday",
          "index": 1,
          "pct_of_total": 17.17
         },
         {
          "count": 467260,
          "day": "Tuesday",
          "index": 2,
          "pct_of_total": 13.66
         },
         {
          "count": 453368,
          "day": "Friday",
          "index": 5,
          "pct_of_total": 13.25
         },
         {
          "count": 448761,
          "day": "Saturday",
          "index": 6,
          "pct_of_total": 13.12
         },
         {
          "count": 436972,
          "day": "Wednesday",
          "index": 3,
          "pct_of_total": 12.77
         },
         {
          "count": 426339,
          "day": "Thursday",
          "index": 4,
          "pct_of_total": 12.46
         }
        ]
       },
       "encoding": {
        "color": {
         "field": "count",
         "legend": null,
         "scale": {
          "scheme": "viridis"
         },
         "sort": "descending",
         "type": "quantitative"
        },
        "tooltip": [
         {
          "field": "day",
          "title": "Day of Week",
          "type": "ordinal"
         },
         {
          "field": "count",
          "type": "quantitative"
         },
         {
          "field": "pct_of_total",
          "type": "quantitative"
         }
        ],
        "x": {
         "bin": false,
         "field": "day",
         "sort": [
          "Sunday",
          "Monday",
          "Tuesday",
          "Wednesday",
          "Thursday",
          "Friday",
          "Saturday"
         ],
         "title": "",
         "type": "ordinal"
        },
        "y": {
         "field": "count",
         "title": "Total Count",
         "type": "quantitative"
        }
       },
       "height": 400,
       "mark": "bar",
       "title": "Order Frequency by Day of Week",
       "width": 700
      },
      "image/png": "[encoded data removed]",
      "text/plain": [
       "<VegaLite 2 object>\n",
       "\n",
       "If you see this message, it means the renderer has not been properly enabled\n",
       "for the frontend that you are using. For more information, see\n",
       "https://altair-viz.github.io/user_guide/troubleshooting.html\n"
      ]
     },
     "execution_count": 22,
     "metadata": {},
     "output_type": "execute_result"
    }
   ],
   "source": [
    "day_of_week_chart = alt.Chart(dow).mark_bar().encode(\n",
    "    alt.X(\"day:O\", bin=False, sort=dayofweek_list, title=\"\"),\n",
    "    alt.Y('count:Q', title=\"Total Count\"),\n",
    "    color = alt.Color('count', legend=None, sort=\"descending\", scale=alt.Scale(scheme='viridis')),\n",
    "    tooltip=[alt.Tooltip('day:O', title=\"Day of Week\"), alt.Tooltip('count:Q'), alt.Tooltip('pct_of_total:Q')]\n",
    "    ).properties(title=\"Order Frequency by Day of Week\", width=700, height=400)\n",
    "\n",
    "day_of_week_chart"
   ]
  },
  {
   "cell_type": "markdown",
   "metadata": {},
   "source": [
    "From this chart, we can see that orders are spread out reasonably well over the week, but Sunday and Monday are the busiest days, account for ~ 34% of all orders. Differences between Tuesday thru Saturday appear to be neglible, so we can think of the week in terms of two categories: Sunday + Monday (peak days) and Tues - Sat.   "
   ]
  },
  {
   "cell_type": "markdown",
   "metadata": {},
   "source": [
    "## Days Since Last Order"
   ]
  },
  {
   "cell_type": "code",
   "execution_count": 23,
   "metadata": {},
   "outputs": [],
   "source": [
    "days_since_prior = orders['days_since_prior_order'].value_counts()\n",
    "days_since_prior = days_since_prior.reset_index()\n",
    "days_since_prior.columns = ['days_since_prior_order', 'count']\n",
    "days_since_prior = days_since_prior.sort_values(by=['days_since_prior_order'])\n",
    "days_since_prior = days_since_prior.drop(6, axis=0)\n",
    "days_since_prior = days_since_prior.reset_index(drop=True)\n",
    "days_since_prior['pct_of_total'] = np.round((days_since_prior['count'] / days_since_prior['count'].sum()*100), 2)"
   ]
  },
  {
   "cell_type": "code",
   "execution_count": 24,
   "metadata": {},
   "outputs": [
    {
     "data": {
      "application/vnd.vegalite.v2+json": {
       "$schema": "https://vega.github.io/schema/vega-lite/v2.6.0.json",
       "config": {
        "background": "white",
        "view": {
         "height": 300,
         "width": 400
        }
       },
       "data": {
        "name": "data-3db4bc69f8a7856b0194699416cd89c2"
       },
       "datasets": {
        "data-3db4bc69f8a7856b0194699416cd89c2": [
         {
          "count": 67755,
          "days_since_prior_order": 0,
          "pct_of_total": 2.11
         },
         {
          "count": 145247,
          "days_since_prior_order": 1,
          "pct_of_total": 4.52
         },
         {
          "count": 193206,
          "days_since_prior_order": 2,
          "pct_of_total": 6.01
         },
         {
          "count": 217005,
          "days_since_prior_order": 3,
          "pct_of_total": 6.75
         },
         {
          "count": 221696,
          "days_since_prior_order": 4,
          "pct_of_total": 6.9
         },
         {
          "count": 214503,
          "days_since_prior_order": 5,
          "pct_of_total": 6.67
         },
         {
          "count": 240013,
          "days_since_prior_order": 6,
          "pct_of_total": 7.47
         },
         {
          "count": 320608,
          "days_since_prior_order": 7,
          "pct_of_total": 9.97
         },
         {
          "count": 181717,
          "days_since_prior_order": 8,
          "pct_of_total": 5.65
         },
         {
          "count": 118188,
          "days_since_prior_order": 9,
          "pct_of_total": 3.68
         },
         {
          "count": 95186,
          "days_since_prior_order": 10,
          "pct_of_total": 2.96
         },
         {
          "count": 80970,
          "days_since_prior_order": 11,
          "pct_of_total": 2.52
         },
         {
          "count": 76146,
          "days_since_prior_order": 12,
          "pct_of_total": 2.37
         },
         {
          "count": 83214,
          "days_since_prior_order": 13,
          "pct_of_total": 2.59
         },
         {
          "count": 100230,
          "days_since_prior_order": 14,
          "pct_of_total": 3.12
         },
         {
          "count": 66579,
          "days_since_prior_order": 15,
          "pct_of_total": 2.07
         },
         {
          "count": 46941,
          "days_since_prior_order": 16,
          "pct_of_total": 1.46
         },
         {
          "count": 39245,
          "days_since_prior_order": 17,
          "pct_of_total": 1.22
         },
         {
          "count": 35881,
          "days_since_prior_order": 18,
          "pct_of_total": 1.12
         },
         {
          "count": 34384,
          "days_since_prior_order": 19,
          "pct_of_total": 1.07
         },
         {
          "count": 38527,
          "days_since_prior_order": 20,
          "pct_of_total": 1.2
         },
         {
          "count": 45470,
          "days_since_prior_order": 21,
          "pct_of_total": 1.41
         },
         {
          "count": 32012,
          "days_since_prior_order": 22,
          "pct_of_total": 1
         },
         {
          "count": 23885,
          "days_since_prior_order": 23,
          "pct_of_total": 0.74
         },
         {
          "count": 20712,
          "days_since_prior_order": 24,
          "pct_of_total": 0.64
         },
         {
          "count": 19234,
          "days_since_prior_order": 25,
          "pct_of_total": 0.6
         },
         {
          "count": 19016,
          "days_since_prior_order": 26,
          "pct_of_total": 0.59
         },
         {
          "count": 22013,
          "days_since_prior_order": 27,
          "pct_of_total": 0.68
         },
         {
          "count": 26777,
          "days_since_prior_order": 28,
          "pct_of_total": 0.83
         },
         {
          "count": 19191,
          "days_since_prior_order": 29,
          "pct_of_total": 0.6
         },
         {
          "count": 369323,
          "days_since_prior_order": 30,
          "pct_of_total": 11.49
         }
        ]
       },
       "encoding": {
        "color": {
         "field": "count",
         "legend": null,
         "scale": {
          "scheme": "viridis"
         },
         "sort": "descending",
         "type": "quantitative"
        },
        "tooltip": [
         {
          "field": "days_since_prior_order",
          "title": "Days since Last Order",
          "type": "quantitative"
         },
         {
          "field": "count",
          "type": "quantitative"
         },
         {
          "field": "pct_of_total",
          "type": "quantitative"
         }
        ],
        "x": {
         "bin": false,
         "field": "days_since_prior_order",
         "title": "Days Since Last Order",
         "type": "ordinal"
        },
        "y": {
         "field": "count",
         "title": "Total Count",
         "type": "quantitative"
        }
       },
       "height": 400,
       "mark": "bar",
       "title": "Days Since Prior Order",
       "width": 700
      },
      "image/png": "[encoded data removed]",
      "text/plain": [
       "<VegaLite 2 object>\n",
       "\n",
       "If you see this message, it means the renderer has not been properly enabled\n",
       "for the frontend that you are using. For more information, see\n",
       "https://altair-viz.github.io/user_guide/troubleshooting.html\n"
      ]
     },
     "execution_count": 24,
     "metadata": {},
     "output_type": "execute_result"
    }
   ],
   "source": [
    "prev_order_chart = alt.Chart(days_since_prior).mark_bar().encode(\n",
    "    alt.X(\"days_since_prior_order:O\", bin=False, title=\"Days Since Last Order\"),\n",
    "    alt.Y('count:Q', title=\"Total Count\"),\n",
    "    color = alt.Color('count', legend=None, sort=\"descending\", scale=alt.Scale(scheme='viridis')),\n",
    "    tooltip=[alt.Tooltip('days_since_prior_order:Q', title=\"Days since Last Order\"), alt.Tooltip('count:Q'), alt.Tooltip('pct_of_total:Q')]\n",
    "    ).properties(title=\"Days Since Prior Order\", width=700, height=400)\n",
    "\n",
    "prev_order_chart"
   ]
  },
  {
   "cell_type": "markdown",
   "metadata": {},
   "source": [
    "The most interesting observation here is that ~ 10% of customers reorder exactly 7 days after their prior order. Approximately 50% of customers reorder within 7 days. "
   ]
  },
  {
   "cell_type": "markdown",
   "metadata": {},
   "source": [
    "## Orders by Department"
   ]
  },
  {
   "cell_type": "code",
   "execution_count": 25,
   "metadata": {},
   "outputs": [],
   "source": [
    "dept_stats = df['department_id'].value_counts().reset_index()\n",
    "dept_stats.columns = ['department_id', 'freq']\n",
    "dept_stats = pd.merge(dept_stats, departments, on='department_id', how='left')\n",
    "dept_stats['pct_orders'] = np.round((dept_stats['freq'] / dept_stats['freq'].sum()) * 100,2)"
   ]
  },
  {
   "cell_type": "code",
   "execution_count": 26,
   "metadata": {},
   "outputs": [
    {
     "data": {
      "application/vnd.vegalite.v2+json": {
       "$schema": "https://vega.github.io/schema/vega-lite/v2.6.0.json",
       "config": {
        "background": "white",
        "view": {
         "height": 300,
         "width": 400
        }
       },
       "data": {
        "name": "data-3e73da957ef4674121d9f2932c31a7b2"
       },
       "datasets": {
        "data-3e73da957ef4674121d9f2932c31a7b2": [
         {
          "department": "produce",
          "department_id": 4,
          "freq": 9479291,
          "pct_orders": 29.23
         },
         {
          "department": "dairy eggs",
          "department_id": 16,
          "freq": 5414016,
          "pct_orders": 16.69
         },
         {
          "department": "snacks",
          "department_id": 19,
          "freq": 2887550,
          "pct_orders": 8.9
         },
         {
          "department": "beverages",
          "department_id": 7,
          "freq": 2690129,
          "pct_orders": 8.29
         },
         {
          "department": "frozen",
          "department_id": 1,
          "freq": 2236432,
          "pct_orders": 6.9
         },
         {
          "department": "pantry",
          "department_id": 13,
          "freq": 1875577,
          "pct_orders": 5.78
         },
         {
          "department": "bakery",
          "department_id": 3,
          "freq": 1176787,
          "pct_orders": 3.63
         },
         {
          "department": "canned goods",
          "department_id": 15,
          "freq": 1068058,
          "pct_orders": 3.29
         },
         {
          "department": "deli",
          "department_id": 20,
          "freq": 1051249,
          "pct_orders": 3.24
         },
         {
          "department": "dry goods pasta",
          "department_id": 9,
          "freq": 866627,
          "pct_orders": 2.67
         },
         {
          "department": "household",
          "department_id": 17,
          "freq": 738666,
          "pct_orders": 2.28
         },
         {
          "department": "breakfast",
          "department_id": 14,
          "freq": 709569,
          "pct_orders": 2.19
         },
         {
          "department": "meat seafood",
          "department_id": 12,
          "freq": 708931,
          "pct_orders": 2.19
         },
         {
          "department": "personal care",
          "department_id": 11,
          "freq": 447123,
          "pct_orders": 1.38
         },
         {
          "department": "babies",
          "department_id": 18,
          "freq": 423802,
          "pct_orders": 1.31
         },
         {
          "department": "international",
          "department_id": 6,
          "freq": 269253,
          "pct_orders": 0.83
         },
         {
          "department": "alcohol",
          "department_id": 5,
          "freq": 153696,
          "pct_orders": 0.47
         },
         {
          "department": "pets",
          "department_id": 8,
          "freq": 97724,
          "pct_orders": 0.3
         },
         {
          "department": "missing",
          "department_id": 21,
          "freq": 69145,
          "pct_orders": 0.21
         },
         {
          "department": "other",
          "department_id": 2,
          "freq": 36291,
          "pct_orders": 0.11
         },
         {
          "department": "bulk",
          "department_id": 10,
          "freq": 34573,
          "pct_orders": 0.11
         }
        ]
       },
       "encoding": {
        "color": {
         "field": "freq",
         "legend": null,
         "scale": {
          "scheme": "viridis"
         },
         "sort": "descending",
         "type": "quantitative"
        },
        "tooltip": [
         {
          "field": "department",
          "title": "Department",
          "type": "ordinal"
         },
         {
          "field": "freq",
          "type": "quantitative"
         },
         {
          "field": "pct_orders",
          "type": "quantitative"
         }
        ],
        "x": {
         "bin": false,
         "field": "department",
         "type": "ordinal"
        },
        "y": {
         "field": "freq",
         "title": "Total Orders",
         "type": "quantitative"
        }
       },
       "height": 400,
       "mark": "bar",
       "title": "Orders by Department",
       "width": 700
      },
      "image/png": "[encoded data removed]",
      "text/plain": [
       "<VegaLite 2 object>\n",
       "\n",
       "If you see this message, it means the renderer has not been properly enabled\n",
       "for the frontend that you are using. For more information, see\n",
       "https://altair-viz.github.io/user_guide/troubleshooting.html\n"
      ]
     },
     "execution_count": 26,
     "metadata": {},
     "output_type": "execute_result"
    }
   ],
   "source": [
    "chart_title = \"Orders by Department\"\n",
    "x_label = \"department:O\"\n",
    "y_label = 'freq:Q'\n",
    "pct_of_orders = 'pct_orders:Q'\n",
    "\n",
    "dept_chart = alt.Chart(dept_stats).mark_bar().encode(\n",
    "    alt.X(x_label, bin=False),\n",
    "    alt.Y(y_label, title=\"Total Orders\"),\n",
    "    color = alt.Color(y_label, legend=None, sort=\"descending\", scale=alt.Scale(scheme='viridis')),\n",
    "    tooltip=[alt.Tooltip(x_label, title=\"Department\"), alt.Tooltip(y_label), alt.Tooltip(pct_of_orders)]\n",
    "    ).properties(title=chart_title, width=700, height=400)\n",
    "\n",
    "dept_chart"
   ]
  },
  {
   "cell_type": "markdown",
   "metadata": {},
   "source": [
    "Produce dominates this category, accounting for roughly 29% of all items purchased. Dairy + eggs are 2nd most popular department, accounting for ~ 17% of items purchased. "
   ]
  },
  {
   "cell_type": "markdown",
   "metadata": {},
   "source": [
    "## Most Popular Products"
   ]
  },
  {
   "cell_type": "code",
   "execution_count": 27,
   "metadata": {},
   "outputs": [
    {
     "data": {
      "text/plain": [
       "Banana                      472565\n",
       "Bag of Organic Bananas      379450\n",
       "Organic Strawberries        264683\n",
       "Organic Baby Spinach        241921\n",
       "Organic Hass Avocado        213584\n",
       "Organic Avocado             176815\n",
       "Large Lemon                 152657\n",
       "Strawberries                142951\n",
       "Limes                       140627\n",
       "Organic Whole Milk          137905\n",
       "Organic Raspberries         137057\n",
       "Organic Yellow Onion        113426\n",
       "Organic Garlic              109778\n",
       "Organic Zucchini            104823\n",
       "Organic Blueberries         100060\n",
       "Cucumber Kirby               97315\n",
       "Organic Fuji Apple           89632\n",
       "Organic Lemon                87746\n",
       "Apple Honeycrisp Organic     85020\n",
       "Organic Grape Tomatoes       84255\n",
       "Name: product_name, dtype: int64"
      ]
     },
     "execution_count": 27,
     "metadata": {},
     "output_type": "execute_result"
    }
   ],
   "source": [
    "# 20 most commonly ordered products\n",
    "df['product_name'].value_counts()[:20]"
   ]
  },
  {
   "cell_type": "code",
   "execution_count": 28,
   "metadata": {},
   "outputs": [],
   "source": [
    "# total number of orders\n",
    "num_orders = orders.shape[0]\n",
    "\n",
    "# top 30 products DF\n",
    "top_prods = df['product_name'].value_counts()[:30]\n",
    "top_prods = pd.DataFrame(top_prods).reset_index()\n",
    "top_prods.columns = ['index', 'count']\n",
    "top_prods['product_num'] = top_prods['index'].map(product_dict)\n",
    "top_prods['Pct_of_Baskets'] = (top_prods['count'] / num_orders) * 100"
   ]
  },
  {
   "cell_type": "code",
   "execution_count": 29,
   "metadata": {},
   "outputs": [
    {
     "data": {
      "text/html": [
       "<div>\n",
       "<style scoped>\n",
       "    .dataframe tbody tr th:only-of-type {\n",
       "        vertical-align: middle;\n",
       "    }\n",
       "\n",
       "    .dataframe tbody tr th {\n",
       "        vertical-align: top;\n",
       "    }\n",
       "\n",
       "    .dataframe thead th {\n",
       "        text-align: right;\n",
       "    }\n",
       "</style>\n",
       "<table border=\"1\" class=\"dataframe\">\n",
       "  <thead>\n",
       "    <tr style=\"text-align: right;\">\n",
       "      <th></th>\n",
       "      <th>index</th>\n",
       "      <th>count</th>\n",
       "      <th>product_num</th>\n",
       "      <th>Pct_of_Baskets</th>\n",
       "    </tr>\n",
       "  </thead>\n",
       "  <tbody>\n",
       "    <tr>\n",
       "      <th>0</th>\n",
       "      <td>Banana</td>\n",
       "      <td>472565</td>\n",
       "      <td>24852</td>\n",
       "      <td>13.813316</td>\n",
       "    </tr>\n",
       "    <tr>\n",
       "      <th>1</th>\n",
       "      <td>Bag of Organic Bananas</td>\n",
       "      <td>379450</td>\n",
       "      <td>13176</td>\n",
       "      <td>11.091517</td>\n",
       "    </tr>\n",
       "    <tr>\n",
       "      <th>2</th>\n",
       "      <td>Organic Strawberries</td>\n",
       "      <td>264683</td>\n",
       "      <td>21137</td>\n",
       "      <td>7.736819</td>\n",
       "    </tr>\n",
       "    <tr>\n",
       "      <th>3</th>\n",
       "      <td>Organic Baby Spinach</td>\n",
       "      <td>241921</td>\n",
       "      <td>21903</td>\n",
       "      <td>7.071474</td>\n",
       "    </tr>\n",
       "    <tr>\n",
       "      <th>4</th>\n",
       "      <td>Organic Hass Avocado</td>\n",
       "      <td>213584</td>\n",
       "      <td>47209</td>\n",
       "      <td>6.243169</td>\n",
       "    </tr>\n",
       "  </tbody>\n",
       "</table>\n",
       "</div>"
      ],
      "text/plain": [
       "                    index   count  product_num  Pct_of_Baskets\n",
       "0                  Banana  472565        24852       13.813316\n",
       "1  Bag of Organic Bananas  379450        13176       11.091517\n",
       "2    Organic Strawberries  264683        21137        7.736819\n",
       "3    Organic Baby Spinach  241921        21903        7.071474\n",
       "4    Organic Hass Avocado  213584        47209        6.243169"
      ]
     },
     "execution_count": 29,
     "metadata": {},
     "output_type": "execute_result"
    }
   ],
   "source": [
    "top_prods.head()"
   ]
  },
  {
   "cell_type": "code",
   "execution_count": 30,
   "metadata": {},
   "outputs": [],
   "source": [
    "top_prods_order_list = top_prods['index'].tolist()"
   ]
  },
  {
   "cell_type": "code",
   "execution_count": 31,
   "metadata": {},
   "outputs": [
    {
     "data": {
      "application/vnd.vegalite.v2+json": {
       "$schema": "https://vega.github.io/schema/vega-lite/v2.6.0.json",
       "config": {
        "background": "white",
        "view": {
         "height": 300,
         "width": 400
        }
       },
       "data": {
        "name": "data-3a0821f4cb5de9e9e16552b2c8814d1b"
       },
       "datasets": {
        "data-3a0821f4cb5de9e9e16552b2c8814d1b": [
         {
          "Pct_of_Baskets": 13.813315841796298,
          "count": 472565,
          "index": "Banana",
          "product_num": 24852
         },
         {
          "Pct_of_Baskets": 11.091516926072826,
          "count": 379450,
          "index": "Bag of Organic Bananas",
          "product_num": 13176
         },
         {
          "Pct_of_Baskets": 7.736819013160452,
          "count": 264683,
          "index": "Organic Strawberries",
          "product_num": 21137
         },
         {
          "Pct_of_Baskets": 7.0714741501448515,
          "count": 241921,
          "index": "Organic Baby Spinach",
          "product_num": 21903
         },
         {
          "Pct_of_Baskets": 6.243169195251913,
          "count": 213584,
          "index": "Organic Hass Avocado",
          "product_num": 47209
         },
         {
          "Pct_of_Baskets": 5.168392582115079,
          "count": 176815,
          "index": "Organic Avocado",
          "product_num": 47766
         },
         {
          "Pct_of_Baskets": 4.4622419274831975,
          "count": 152657,
          "index": "Large Lemon",
          "product_num": 47626
         },
         {
          "Pct_of_Baskets": 4.178530599812983,
          "count": 142951,
          "index": "Strawberries",
          "product_num": 16797
         },
         {
          "Pct_of_Baskets": 4.110598895145192,
          "count": 140627,
          "index": "Limes",
          "product_num": 26209
         },
         {
          "Pct_of_Baskets": 4.031033447595396,
          "count": 137905,
          "index": "Organic Whole Milk",
          "product_num": 27845
         },
         {
          "Pct_of_Baskets": 4.006245975324188,
          "count": 137057,
          "index": "Organic Raspberries",
          "product_num": 27966
         },
         {
          "Pct_of_Baskets": 3.3154997993325503,
          "count": 113426,
          "index": "Organic Yellow Onion",
          "product_num": 22935
         },
         {
          "Pct_of_Baskets": 3.2088668997507517,
          "count": 109778,
          "index": "Organic Garlic",
          "product_num": 24964
         },
         {
          "Pct_of_Baskets": 3.0640297239207586,
          "count": 104823,
          "index": "Organic Zucchini",
          "product_num": 45007
         },
         {
          "Pct_of_Baskets": 2.924804805963492,
          "count": 100060,
          "index": "Organic Blueberries",
          "product_num": 39275
         },
         {
          "Pct_of_Baskets": 2.844567056689358,
          "count": 97315,
          "index": "Cucumber Kirby",
          "product_num": 49683
         },
         {
          "Pct_of_Baskets": 2.6199890502510463,
          "count": 89632,
          "index": "Organic Fuji Apple",
          "product_num": 28204
         },
         {
          "Pct_of_Baskets": 2.5648603088554123,
          "count": 87746,
          "index": "Organic Lemon",
          "product_num": 5876
         },
         {
          "Pct_of_Baskets": 2.4851779392666007,
          "count": 85020,
          "index": "Apple Honeycrisp Organic",
          "product_num": 8277
         },
         {
          "Pct_of_Baskets": 2.462816599304957,
          "count": 84255,
          "index": "Organic Grape Tomatoes",
          "product_num": 40706
         },
         {
          "Pct_of_Baskets": 2.4170416210305334,
          "count": 82689,
          "index": "Seedless Red Grapes",
          "product_num": 4920
         },
         {
          "Pct_of_Baskets": 2.3498991401260945,
          "count": 80392,
          "index": "Organic Cucumber",
          "product_num": 30391
         },
         {
          "Pct_of_Baskets": 2.331688532549488,
          "count": 79769,
          "index": "Honeycrisp Apple",
          "product_num": 45066
         },
         {
          "Pct_of_Baskets": 2.2477092780268704,
          "count": 76896,
          "index": "Organic Baby Carrots",
          "product_num": 42265
         },
         {
          "Pct_of_Baskets": 2.232041724798843,
          "count": 76360,
          "index": "Organic Half & Half",
          "product_num": 49235
         },
         {
          "Pct_of_Baskets": 2.21818646317555,
          "count": 75886,
          "index": "Sparkling Water Grapefruit",
          "product_num": 44632
         },
         {
          "Pct_of_Baskets": 2.1971112656430725,
          "count": 75165,
          "index": "Organic Large Extra Fancy Fuji Apple",
          "product_num": 19057
         },
         {
          "Pct_of_Baskets": 2.138708707155015,
          "count": 73167,
          "index": "Yellow Onions",
          "product_num": 4605
         },
         {
          "Pct_of_Baskets": 2.1293257135240506,
          "count": 72846,
          "index": "Organic Gala Apples",
          "product_num": 37646
         },
         {
          "Pct_of_Baskets": 2.1288287948582365,
          "count": 72829,
          "index": "Organic Baby Arugula",
          "product_num": 21616
         }
        ]
       },
       "encoding": {
        "color": {
         "field": "count",
         "legend": null,
         "scale": {
          "scheme": "viridis"
         },
         "sort": "descending",
         "type": "quantitative"
        },
        "tooltip": [
         {
          "field": "index",
          "title": "Product",
          "type": "ordinal"
         },
         {
          "field": "count",
          "type": "quantitative"
         },
         {
          "field": "Pct_of_Baskets",
          "type": "quantitative"
         },
         {
          "field": "product_num",
          "type": "ordinal"
         }
        ],
        "x": {
         "bin": false,
         "field": "index",
         "sort": [
          "Banana",
          "Bag of Organic Bananas",
          "Organic Strawberries",
          "Organic Baby Spinach",
          "Organic Hass Avocado",
          "Organic Avocado",
          "Large Lemon",
          "Strawberries",
          "Limes",
          "Organic Whole Milk",
          "Organic Raspberries",
          "Organic Yellow Onion",
          "Organic Garlic",
          "Organic Zucchini",
          "Organic Blueberries",
          "Cucumber Kirby",
          "Organic Fuji Apple",
          "Organic Lemon",
          "Apple Honeycrisp Organic",
          "Organic Grape Tomatoes",
          "Seedless Red Grapes",
          "Organic Cucumber",
          "Honeycrisp Apple",
          "Organic Baby Carrots",
          "Organic Half & Half",
          "Sparkling Water Grapefruit",
          "Organic Large Extra Fancy Fuji Apple",
          "Yellow Onions",
          "Organic Gala Apples",
          "Organic Baby Arugula"
         ],
         "title": "",
         "type": "ordinal"
        },
        "y": {
         "field": "count",
         "title": "Total Orders",
         "type": "quantitative"
        }
       },
       "height": 400,
       "mark": "bar",
       "title": "Top 30 Products Ordered",
       "width": 700
      },
      "image/png": "[encoded data removed]",
      "text/plain": [
       "<VegaLite 2 object>\n",
       "\n",
       "If you see this message, it means the renderer has not been properly enabled\n",
       "for the frontend that you are using. For more information, see\n",
       "https://altair-viz.github.io/user_guide/troubleshooting.html\n"
      ]
     },
     "execution_count": 31,
     "metadata": {},
     "output_type": "execute_result"
    }
   ],
   "source": [
    "chart_title = \"Top 30 Products Ordered\"\n",
    "x_label = \"index:O\"\n",
    "y_label = 'count:Q'\n",
    "pct_of_baskets = 'Pct_of_Baskets:Q'\n",
    "product_num = 'product_num:O'\n",
    "\n",
    "top_30_chart = alt.Chart(top_prods).mark_bar().encode(\n",
    "    alt.X(x_label, bin=False, sort=top_prods_order_list, title=\"\"),\n",
    "    alt.Y(y_label, title=\"Total Orders\"),\n",
    "    color = alt.Color(y_label, legend=None, sort=\"descending\", scale=alt.Scale(scheme='viridis')),\n",
    "    tooltip=[alt.Tooltip(x_label, title=\"Product\"), alt.Tooltip(y_label), alt.Tooltip(pct_of_baskets), alt.Tooltip(product_num)]\n",
    "    ).properties(title=chart_title, width=700, height=400)\n",
    "\n",
    "top_30_chart"
   ]
  },
  {
   "cell_type": "markdown",
   "metadata": {},
   "source": [
    "Regular bananas are ordered in a whopping 13% of baskets, while organic bananas are ordered in 11%. There's a significant dropoff by the time we reach the 30th most popular item (organic baby arugla), which is in 2% of baskets. Produce items dominate the top 30 products. "
   ]
  },
  {
   "cell_type": "code",
   "execution_count": 32,
   "metadata": {},
   "outputs": [],
   "source": [
    "# create dictionary for market basket % for every product\n",
    "\n",
    "all_prods = df['product_name'].value_counts()\n",
    "all_prods = pd.DataFrame(all_prods).reset_index()\n",
    "all_prods.columns = ['index', 'count']\n",
    "all_prods['product_id'] = all_prods['index'].map(product_dict)\n",
    "all_prods['pct_pop_orders'] = (all_prods['count'] / num_orders) * 100\n",
    "\n",
    "pct_order_dict = pd.Series(all_prods['pct_pop_orders'].values,index=all_prods['product_id']).to_dict()"
   ]
  },
  {
   "cell_type": "markdown",
   "metadata": {},
   "source": [
    "## Item Order Frequency"
   ]
  },
  {
   "cell_type": "code",
   "execution_count": 33,
   "metadata": {},
   "outputs": [],
   "source": [
    "products['count'] = products['product_id'].map(product_count).fillna(0).astype('uint32')"
   ]
  },
  {
   "cell_type": "code",
   "execution_count": 34,
   "metadata": {},
   "outputs": [],
   "source": [
    "bin_labels = ['0-5', '6-20', '21-50','51-100','101-500','501-2500','2500-10000', '10001-50000', '50000+']\n",
    "bins = [0, 6, 21, 51, 101, 501, 2501,10001, 50001, 500000]\n",
    "\n",
    "products['count_bin'] = pd.cut(products['count'], bins, labels=bin_labels)"
   ]
  },
  {
   "cell_type": "code",
   "execution_count": 35,
   "metadata": {},
   "outputs": [
    {
     "data": {
      "text/html": [
       "<div>\n",
       "<style scoped>\n",
       "    .dataframe tbody tr th:only-of-type {\n",
       "        vertical-align: middle;\n",
       "    }\n",
       "\n",
       "    .dataframe tbody tr th {\n",
       "        vertical-align: top;\n",
       "    }\n",
       "\n",
       "    .dataframe thead th {\n",
       "        text-align: right;\n",
       "    }\n",
       "</style>\n",
       "<table border=\"1\" class=\"dataframe\">\n",
       "  <thead>\n",
       "    <tr style=\"text-align: right;\">\n",
       "      <th></th>\n",
       "      <th>bin</th>\n",
       "      <th>count</th>\n",
       "      <th>pct_total</th>\n",
       "    </tr>\n",
       "  </thead>\n",
       "  <tbody>\n",
       "    <tr>\n",
       "      <th>0</th>\n",
       "      <td>101-500</td>\n",
       "      <td>11614</td>\n",
       "      <td>23.38</td>\n",
       "    </tr>\n",
       "    <tr>\n",
       "      <th>1</th>\n",
       "      <td>6-20</td>\n",
       "      <td>10473</td>\n",
       "      <td>21.08</td>\n",
       "    </tr>\n",
       "    <tr>\n",
       "      <th>2</th>\n",
       "      <td>21-50</td>\n",
       "      <td>8689</td>\n",
       "      <td>17.49</td>\n",
       "    </tr>\n",
       "    <tr>\n",
       "      <th>3</th>\n",
       "      <td>51-100</td>\n",
       "      <td>6397</td>\n",
       "      <td>12.88</td>\n",
       "    </tr>\n",
       "    <tr>\n",
       "      <th>4</th>\n",
       "      <td>501-2500</td>\n",
       "      <td>5997</td>\n",
       "      <td>12.07</td>\n",
       "    </tr>\n",
       "    <tr>\n",
       "      <th>5</th>\n",
       "      <td>0-5</td>\n",
       "      <td>4234</td>\n",
       "      <td>8.52</td>\n",
       "    </tr>\n",
       "    <tr>\n",
       "      <th>6</th>\n",
       "      <td>2500-10000</td>\n",
       "      <td>1781</td>\n",
       "      <td>3.59</td>\n",
       "    </tr>\n",
       "    <tr>\n",
       "      <th>7</th>\n",
       "      <td>10001-50000</td>\n",
       "      <td>432</td>\n",
       "      <td>0.87</td>\n",
       "    </tr>\n",
       "    <tr>\n",
       "      <th>8</th>\n",
       "      <td>50000+</td>\n",
       "      <td>60</td>\n",
       "      <td>0.12</td>\n",
       "    </tr>\n",
       "  </tbody>\n",
       "</table>\n",
       "</div>"
      ],
      "text/plain": [
       "           bin  count  pct_total\n",
       "0      101-500  11614      23.38\n",
       "1         6-20  10473      21.08\n",
       "2        21-50   8689      17.49\n",
       "3       51-100   6397      12.88\n",
       "4     501-2500   5997      12.07\n",
       "5          0-5   4234       8.52\n",
       "6   2500-10000   1781       3.59\n",
       "7  10001-50000    432       0.87\n",
       "8       50000+     60       0.12"
      ]
     },
     "execution_count": 35,
     "metadata": {},
     "output_type": "execute_result"
    }
   ],
   "source": [
    "prod_count_bins = pd.DataFrame(products['count_bin'].value_counts())\n",
    "prod_count_bins = prod_count_bins.reset_index()\n",
    "prod_count_bins.columns = ['bin', 'count']\n",
    "prod_count_bins['pct_total'] = np.round((prod_count_bins['count'] / prod_count_bins['count'].sum()) * 100,2)\n",
    "prod_count_bins"
   ]
  },
  {
   "cell_type": "code",
   "execution_count": 37,
   "metadata": {},
   "outputs": [
    {
     "data": {
      "application/vnd.vegalite.v2+json": {
       "$schema": "https://vega.github.io/schema/vega-lite/v2.6.0.json",
       "config": {
        "background": "white",
        "view": {
         "height": 300,
         "width": 400
        }
       },
       "data": {
        "name": "data-f70ff82f4499db525538ce284872bd43"
       },
       "datasets": {
        "data-f70ff82f4499db525538ce284872bd43": [
         {
          "bin": "101-500",
          "count": 11614,
          "pct_total": 23.38
         },
         {
          "bin": "6-20",
          "count": 10473,
          "pct_total": 21.08
         },
         {
          "bin": "21-50",
          "count": 8689,
          "pct_total": 17.49
         },
         {
          "bin": "51-100",
          "count": 6397,
          "pct_total": 12.88
         },
         {
          "bin": "501-2500",
          "count": 5997,
          "pct_total": 12.07
         },
         {
          "bin": "0-5",
          "count": 4234,
          "pct_total": 8.52
         },
         {
          "bin": "2500-10000",
          "count": 1781,
          "pct_total": 3.59
         },
         {
          "bin": "10001-50000",
          "count": 432,
          "pct_total": 0.87
         },
         {
          "bin": "50000+",
          "count": 60,
          "pct_total": 0.12
         }
        ]
       },
       "encoding": {
        "color": {
         "field": "count",
         "legend": null,
         "scale": {
          "scheme": "viridis"
         },
         "sort": "descending",
         "type": "quantitative"
        },
        "tooltip": [
         {
          "field": "bin",
          "title": "Bin",
          "type": "ordinal"
         },
         {
          "field": "count",
          "type": "quantitative"
         },
         {
          "field": "pct_total",
          "type": "quantitative"
         }
        ],
        "x": {
         "field": "bin",
         "sort": [
          "0-5",
          "6-20",
          "21-50",
          "51-100",
          "101-500",
          "501-2500",
          "2500-10000",
          "10001-50000",
          "50000+"
         ],
         "title": "Bin (Total Orders)",
         "type": "ordinal"
        },
        "y": {
         "field": "count",
         "title": "Number of Products",
         "type": "quantitative"
        }
       },
       "height": 400,
       "mark": "bar",
       "title": "Total Orders for Products (grouped by bins)",
       "width": 700
      },
      "image/png": "[encoded data removed]",
      "text/plain": [
       "<VegaLite 2 object>\n",
       "\n",
       "If you see this message, it means the renderer has not been properly enabled\n",
       "for the frontend that you are using. For more information, see\n",
       "https://altair-viz.github.io/user_guide/troubleshooting.html\n"
      ]
     },
     "execution_count": 37,
     "metadata": {},
     "output_type": "execute_result"
    }
   ],
   "source": [
    "chart_title = \"Total Orders for Products (grouped by bins)\"\n",
    "x_label = \"bin:O\"\n",
    "y_label = 'count:Q'\n",
    "pct_total = 'pct_total:Q'\n",
    "\n",
    "\n",
    "bin_chart = alt.Chart(prod_count_bins).mark_bar().encode(\n",
    "    alt.X(x_label, title=\"Bin (Total Orders)\", sort=bin_labels),\n",
    "    alt.Y(y_label, title=\"Number of Products\"),\n",
    "    color = alt.Color(y_label, legend=None, sort=\"descending\", scale=alt.Scale(scheme='viridis')), \n",
    "    tooltip=[alt.Tooltip(x_label, title=\"Bin\"), alt.Tooltip(y_label), alt.Tooltip(pct_total)]\n",
    "    ).properties(title=chart_title, width=700, height=400)\n",
    "\n",
    "bin_chart"
   ]
  },
  {
   "cell_type": "markdown",
   "metadata": {},
   "source": [
    "What this visualization tells us is that the majority of products are ordered between 0 - 100 times. Products ordered more than 10,000 times are rare (about 1% of total products) and even products ordered more than 2,500 times make up a small percentage (~ 5%) of the total number of products.\n",
    "\n",
    "Items ordered 5 or fewer times account for 8.5% of total products and products ordered fewer than 20 times account for roughly 30% of products. A sizable percentage (~ 23%) of products are ordered between 100 and 500 times. "
   ]
  },
  {
   "cell_type": "markdown",
   "metadata": {},
   "source": [
    "# Associations\n",
    "\n",
    "Next we'll explore associations between items. We'll look at various items purchased and what other items tend to be purchased alongside those items. "
   ]
  },
  {
   "cell_type": "markdown",
   "metadata": {},
   "source": [
    "## Items Most Frequently Ordered with Organic Strawberries\n",
    "\n",
    "Let's start with one of the most popular items: organic strawberries. "
   ]
  },
  {
   "cell_type": "code",
   "execution_count": 38,
   "metadata": {},
   "outputs": [],
   "source": [
    "ords_org_strawberries = df[df['product_id'] == 21137]['order_id'].tolist()\n",
    "# ords_org_strawberries[:10]"
   ]
  },
  {
   "cell_type": "code",
   "execution_count": 39,
   "metadata": {},
   "outputs": [],
   "source": [
    "org_strawberry_df = df[df['order_id'].isin(ords_org_strawberries)]"
   ]
  },
  {
   "cell_type": "code",
   "execution_count": 40,
   "metadata": {},
   "outputs": [
    {
     "data": {
      "text/plain": [
       "Bag of Organic Bananas                  61628\n",
       "Banana                                  56156\n",
       "Organic Hass Avocado                    40794\n",
       "Organic Baby Spinach                    38134\n",
       "Organic Raspberries                     33863\n",
       "Organic Avocado                         23984\n",
       "Organic Whole Milk                      23813\n",
       "Organic Blueberries                     23756\n",
       "Limes                                   18999\n",
       "Organic Yellow Onion                    16651\n",
       "Organic Cucumber                        16555\n",
       "Large Lemon                             16305\n",
       "Apple Honeycrisp Organic                15870\n",
       "Organic Garlic                          15627\n",
       "Organic Grape Tomatoes                  15573\n",
       "Organic Zucchini                        15320\n",
       "Organic Lemon                           15152\n",
       "Organic Large Extra Fancy Fuji Apple    15113\n",
       "Seedless Red Grapes                     13935\n",
       "Organic Whole String Cheese             13513\n",
       "Organic Gala Apples                     13298\n",
       "Organic Baby Carrots                    13156\n",
       "Organic Kiwi                            12486\n",
       "Organic Blackberries                    12444\n",
       "Original Hummus                         12124\n",
       "Cucumber Kirby                          12045\n",
       "Organic Red Bell Pepper                 11913\n",
       "Organic Tomato Cluster                  11680\n",
       "Honeycrisp Apple                        11465\n",
       "Fresh Cauliflower                       10976\n",
       "Name: product_name, dtype: int64"
      ]
     },
     "execution_count": 40,
     "metadata": {},
     "output_type": "execute_result"
    }
   ],
   "source": [
    "# top 30 items ordered with organic strawberries\n",
    "num_org_strawb = org_strawberry_df['product_name'].value_counts()[0]\n",
    "top_items_org_strawb = org_strawberry_df['product_name'].value_counts()[1:31]\n",
    "top_items_org_strawb"
   ]
  },
  {
   "cell_type": "code",
   "execution_count": 41,
   "metadata": {},
   "outputs": [
    {
     "data": {
      "text/html": [
       "<div>\n",
       "<style scoped>\n",
       "    .dataframe tbody tr th:only-of-type {\n",
       "        vertical-align: middle;\n",
       "    }\n",
       "\n",
       "    .dataframe tbody tr th {\n",
       "        vertical-align: top;\n",
       "    }\n",
       "\n",
       "    .dataframe thead th {\n",
       "        text-align: right;\n",
       "    }\n",
       "</style>\n",
       "<table border=\"1\" class=\"dataframe\">\n",
       "  <thead>\n",
       "    <tr style=\"text-align: right;\">\n",
       "      <th></th>\n",
       "      <th>index</th>\n",
       "      <th>count</th>\n",
       "      <th>pct_orders</th>\n",
       "      <th>product_id</th>\n",
       "      <th>pop_pct_orders</th>\n",
       "      <th>purchase_ratio</th>\n",
       "    </tr>\n",
       "  </thead>\n",
       "  <tbody>\n",
       "    <tr>\n",
       "      <th>0</th>\n",
       "      <td>Bag of Organic Bananas</td>\n",
       "      <td>61628</td>\n",
       "      <td>23.28</td>\n",
       "      <td>13176</td>\n",
       "      <td>11.091517</td>\n",
       "      <td>2.10</td>\n",
       "    </tr>\n",
       "    <tr>\n",
       "      <th>1</th>\n",
       "      <td>Banana</td>\n",
       "      <td>56156</td>\n",
       "      <td>21.22</td>\n",
       "      <td>24852</td>\n",
       "      <td>13.813316</td>\n",
       "      <td>1.54</td>\n",
       "    </tr>\n",
       "    <tr>\n",
       "      <th>2</th>\n",
       "      <td>Organic Hass Avocado</td>\n",
       "      <td>40794</td>\n",
       "      <td>15.41</td>\n",
       "      <td>47209</td>\n",
       "      <td>6.243169</td>\n",
       "      <td>2.47</td>\n",
       "    </tr>\n",
       "    <tr>\n",
       "      <th>3</th>\n",
       "      <td>Organic Baby Spinach</td>\n",
       "      <td>38134</td>\n",
       "      <td>14.41</td>\n",
       "      <td>21903</td>\n",
       "      <td>7.071474</td>\n",
       "      <td>2.04</td>\n",
       "    </tr>\n",
       "    <tr>\n",
       "      <th>4</th>\n",
       "      <td>Organic Raspberries</td>\n",
       "      <td>33863</td>\n",
       "      <td>12.79</td>\n",
       "      <td>27966</td>\n",
       "      <td>4.006246</td>\n",
       "      <td>3.19</td>\n",
       "    </tr>\n",
       "    <tr>\n",
       "      <th>5</th>\n",
       "      <td>Organic Avocado</td>\n",
       "      <td>23984</td>\n",
       "      <td>9.06</td>\n",
       "      <td>47766</td>\n",
       "      <td>5.168393</td>\n",
       "      <td>1.75</td>\n",
       "    </tr>\n",
       "    <tr>\n",
       "      <th>6</th>\n",
       "      <td>Organic Whole Milk</td>\n",
       "      <td>23813</td>\n",
       "      <td>9.00</td>\n",
       "      <td>27845</td>\n",
       "      <td>4.031033</td>\n",
       "      <td>2.23</td>\n",
       "    </tr>\n",
       "    <tr>\n",
       "      <th>7</th>\n",
       "      <td>Organic Blueberries</td>\n",
       "      <td>23756</td>\n",
       "      <td>8.98</td>\n",
       "      <td>39275</td>\n",
       "      <td>2.924805</td>\n",
       "      <td>3.07</td>\n",
       "    </tr>\n",
       "    <tr>\n",
       "      <th>8</th>\n",
       "      <td>Limes</td>\n",
       "      <td>18999</td>\n",
       "      <td>7.18</td>\n",
       "      <td>26209</td>\n",
       "      <td>4.110599</td>\n",
       "      <td>1.75</td>\n",
       "    </tr>\n",
       "    <tr>\n",
       "      <th>9</th>\n",
       "      <td>Organic Yellow Onion</td>\n",
       "      <td>16651</td>\n",
       "      <td>6.29</td>\n",
       "      <td>22935</td>\n",
       "      <td>3.315500</td>\n",
       "      <td>1.90</td>\n",
       "    </tr>\n",
       "    <tr>\n",
       "      <th>10</th>\n",
       "      <td>Organic Cucumber</td>\n",
       "      <td>16555</td>\n",
       "      <td>6.25</td>\n",
       "      <td>30391</td>\n",
       "      <td>2.349899</td>\n",
       "      <td>2.66</td>\n",
       "    </tr>\n",
       "    <tr>\n",
       "      <th>11</th>\n",
       "      <td>Large Lemon</td>\n",
       "      <td>16305</td>\n",
       "      <td>6.16</td>\n",
       "      <td>47626</td>\n",
       "      <td>4.462242</td>\n",
       "      <td>1.38</td>\n",
       "    </tr>\n",
       "    <tr>\n",
       "      <th>12</th>\n",
       "      <td>Apple Honeycrisp Organic</td>\n",
       "      <td>15870</td>\n",
       "      <td>6.00</td>\n",
       "      <td>8277</td>\n",
       "      <td>2.485178</td>\n",
       "      <td>2.41</td>\n",
       "    </tr>\n",
       "    <tr>\n",
       "      <th>13</th>\n",
       "      <td>Organic Garlic</td>\n",
       "      <td>15627</td>\n",
       "      <td>5.90</td>\n",
       "      <td>24964</td>\n",
       "      <td>3.208867</td>\n",
       "      <td>1.84</td>\n",
       "    </tr>\n",
       "    <tr>\n",
       "      <th>14</th>\n",
       "      <td>Organic Grape Tomatoes</td>\n",
       "      <td>15573</td>\n",
       "      <td>5.88</td>\n",
       "      <td>40706</td>\n",
       "      <td>2.462817</td>\n",
       "      <td>2.39</td>\n",
       "    </tr>\n",
       "    <tr>\n",
       "      <th>15</th>\n",
       "      <td>Organic Zucchini</td>\n",
       "      <td>15320</td>\n",
       "      <td>5.79</td>\n",
       "      <td>45007</td>\n",
       "      <td>3.064030</td>\n",
       "      <td>1.89</td>\n",
       "    </tr>\n",
       "    <tr>\n",
       "      <th>16</th>\n",
       "      <td>Organic Lemon</td>\n",
       "      <td>15152</td>\n",
       "      <td>5.72</td>\n",
       "      <td>5876</td>\n",
       "      <td>2.564860</td>\n",
       "      <td>2.23</td>\n",
       "    </tr>\n",
       "    <tr>\n",
       "      <th>17</th>\n",
       "      <td>Organic Large Extra Fancy Fuji Apple</td>\n",
       "      <td>15113</td>\n",
       "      <td>5.71</td>\n",
       "      <td>19057</td>\n",
       "      <td>2.197111</td>\n",
       "      <td>2.60</td>\n",
       "    </tr>\n",
       "    <tr>\n",
       "      <th>18</th>\n",
       "      <td>Seedless Red Grapes</td>\n",
       "      <td>13935</td>\n",
       "      <td>5.26</td>\n",
       "      <td>4920</td>\n",
       "      <td>2.417042</td>\n",
       "      <td>2.18</td>\n",
       "    </tr>\n",
       "    <tr>\n",
       "      <th>19</th>\n",
       "      <td>Organic Whole String Cheese</td>\n",
       "      <td>13513</td>\n",
       "      <td>5.11</td>\n",
       "      <td>22035</td>\n",
       "      <td>1.744360</td>\n",
       "      <td>2.93</td>\n",
       "    </tr>\n",
       "  </tbody>\n",
       "</table>\n",
       "</div>"
      ],
      "text/plain": [
       "                                   index  count  pct_orders  product_id  \\\n",
       "0                 Bag of Organic Bananas  61628       23.28       13176   \n",
       "1                                 Banana  56156       21.22       24852   \n",
       "2                   Organic Hass Avocado  40794       15.41       47209   \n",
       "3                   Organic Baby Spinach  38134       14.41       21903   \n",
       "4                    Organic Raspberries  33863       12.79       27966   \n",
       "5                        Organic Avocado  23984        9.06       47766   \n",
       "6                     Organic Whole Milk  23813        9.00       27845   \n",
       "7                    Organic Blueberries  23756        8.98       39275   \n",
       "8                                  Limes  18999        7.18       26209   \n",
       "9                   Organic Yellow Onion  16651        6.29       22935   \n",
       "10                      Organic Cucumber  16555        6.25       30391   \n",
       "11                           Large Lemon  16305        6.16       47626   \n",
       "12              Apple Honeycrisp Organic  15870        6.00        8277   \n",
       "13                        Organic Garlic  15627        5.90       24964   \n",
       "14                Organic Grape Tomatoes  15573        5.88       40706   \n",
       "15                      Organic Zucchini  15320        5.79       45007   \n",
       "16                         Organic Lemon  15152        5.72        5876   \n",
       "17  Organic Large Extra Fancy Fuji Apple  15113        5.71       19057   \n",
       "18                   Seedless Red Grapes  13935        5.26        4920   \n",
       "19           Organic Whole String Cheese  13513        5.11       22035   \n",
       "\n",
       "    pop_pct_orders  purchase_ratio  \n",
       "0        11.091517            2.10  \n",
       "1        13.813316            1.54  \n",
       "2         6.243169            2.47  \n",
       "3         7.071474            2.04  \n",
       "4         4.006246            3.19  \n",
       "5         5.168393            1.75  \n",
       "6         4.031033            2.23  \n",
       "7         2.924805            3.07  \n",
       "8         4.110599            1.75  \n",
       "9         3.315500            1.90  \n",
       "10        2.349899            2.66  \n",
       "11        4.462242            1.38  \n",
       "12        2.485178            2.41  \n",
       "13        3.208867            1.84  \n",
       "14        2.462817            2.39  \n",
       "15        3.064030            1.89  \n",
       "16        2.564860            2.23  \n",
       "17        2.197111            2.60  \n",
       "18        2.417042            2.18  \n",
       "19        1.744360            2.93  "
      ]
     },
     "execution_count": 41,
     "metadata": {},
     "output_type": "execute_result"
    }
   ],
   "source": [
    "top_items_org_strawb_df = pd.DataFrame(top_items_org_strawb)\n",
    "top_items_org_strawb_df = top_items_org_strawb_df.reset_index()\n",
    "top_items_org_strawb_df.columns = ['index', 'count']\n",
    "top_items_org_strawb_df['pct_orders'] = np.round((top_items_org_strawb_df['count'] / num_org_strawb) * 100,2)\n",
    "top_items_org_strawb_df['product_id'] = top_items_org_strawb_df['index'].map(product_dict)\n",
    "top_items_org_strawb_df['pop_pct_orders'] = top_items_org_strawb_df['product_id'].map(pct_order_dict)\n",
    "top_items_org_strawb_df['purchase_ratio'] = np.round(top_items_org_strawb_df['pct_orders'] / top_items_org_strawb_df['pop_pct_orders'], 2)\n",
    "top_items_org_strawb_df.head(20)"
   ]
  },
  {
   "cell_type": "code",
   "execution_count": 42,
   "metadata": {},
   "outputs": [],
   "source": [
    "org_straw_order_list = top_items_org_strawb_df['index'].tolist()"
   ]
  },
  {
   "cell_type": "code",
   "execution_count": 44,
   "metadata": {},
   "outputs": [
    {
     "data": {
      "application/vnd.vegalite.v2+json": {
       "$schema": "https://vega.github.io/schema/vega-lite/v2.6.0.json",
       "config": {
        "background": "white",
        "view": {
         "height": 300,
         "width": 400
        }
       },
       "data": {
        "name": "data-8636066cb806ae25372fabe9629aa11e"
       },
       "datasets": {
        "data-8636066cb806ae25372fabe9629aa11e": [
         {
          "count": 61628,
          "index": "Bag of Organic Bananas",
          "pct_orders": 23.28,
          "pop_pct_orders": 11.091516926072826,
          "product_id": 13176,
          "purchase_ratio": 2.1
         },
         {
          "count": 56156,
          "index": "Banana",
          "pct_orders": 21.22,
          "pop_pct_orders": 13.813315841796298,
          "product_id": 24852,
          "purchase_ratio": 1.54
         },
         {
          "count": 40794,
          "index": "Organic Hass Avocado",
          "pct_orders": 15.41,
          "pop_pct_orders": 6.243169195251913,
          "product_id": 47209,
          "purchase_ratio": 2.47
         },
         {
          "count": 38134,
          "index": "Organic Baby Spinach",
          "pct_orders": 14.41,
          "pop_pct_orders": 7.0714741501448515,
          "product_id": 21903,
          "purchase_ratio": 2.04
         },
         {
          "count": 33863,
          "index": "Organic Raspberries",
          "pct_orders": 12.79,
          "pop_pct_orders": 4.006245975324188,
          "product_id": 27966,
          "purchase_ratio": 3.19
         },
         {
          "count": 23984,
          "index": "Organic Avocado",
          "pct_orders": 9.06,
          "pop_pct_orders": 5.168392582115079,
          "product_id": 47766,
          "purchase_ratio": 1.75
         },
         {
          "count": 23813,
          "index": "Organic Whole Milk",
          "pct_orders": 9,
          "pop_pct_orders": 4.031033447595396,
          "product_id": 27845,
          "purchase_ratio": 2.23
         },
         {
          "count": 23756,
          "index": "Organic Blueberries",
          "pct_orders": 8.98,
          "pop_pct_orders": 2.924804805963492,
          "product_id": 39275,
          "purchase_ratio": 3.07
         },
         {
          "count": 18999,
          "index": "Limes",
          "pct_orders": 7.18,
          "pop_pct_orders": 4.110598895145192,
          "product_id": 26209,
          "purchase_ratio": 1.75
         },
         {
          "count": 16651,
          "index": "Organic Yellow Onion",
          "pct_orders": 6.29,
          "pop_pct_orders": 3.3154997993325503,
          "product_id": 22935,
          "purchase_ratio": 1.9
         },
         {
          "count": 16555,
          "index": "Organic Cucumber",
          "pct_orders": 6.25,
          "pop_pct_orders": 2.3498991401260945,
          "product_id": 30391,
          "purchase_ratio": 2.66
         },
         {
          "count": 16305,
          "index": "Large Lemon",
          "pct_orders": 6.16,
          "pop_pct_orders": 4.4622419274831975,
          "product_id": 47626,
          "purchase_ratio": 1.38
         },
         {
          "count": 15870,
          "index": "Apple Honeycrisp Organic",
          "pct_orders": 6,
          "pop_pct_orders": 2.4851779392666007,
          "product_id": 8277,
          "purchase_ratio": 2.41
         },
         {
          "count": 15627,
          "index": "Organic Garlic",
          "pct_orders": 5.9,
          "pop_pct_orders": 3.2088668997507517,
          "product_id": 24964,
          "purchase_ratio": 1.84
         },
         {
          "count": 15573,
          "index": "Organic Grape Tomatoes",
          "pct_orders": 5.88,
          "pop_pct_orders": 2.462816599304957,
          "product_id": 40706,
          "purchase_ratio": 2.39
         },
         {
          "count": 15320,
          "index": "Organic Zucchini",
          "pct_orders": 5.79,
          "pop_pct_orders": 3.0640297239207586,
          "product_id": 45007,
          "purchase_ratio": 1.89
         },
         {
          "count": 15152,
          "index": "Organic Lemon",
          "pct_orders": 5.72,
          "pop_pct_orders": 2.5648603088554123,
          "product_id": 5876,
          "purchase_ratio": 2.23
         },
         {
          "count": 15113,
          "index": "Organic Large Extra Fancy Fuji Apple",
          "pct_orders": 5.71,
          "pop_pct_orders": 2.1971112656430725,
          "product_id": 19057,
          "purchase_ratio": 2.6
         },
         {
          "count": 13935,
          "index": "Seedless Red Grapes",
          "pct_orders": 5.26,
          "pop_pct_orders": 2.4170416210305334,
          "product_id": 4920,
          "purchase_ratio": 2.18
         },
         {
          "count": 13513,
          "index": "Organic Whole String Cheese",
          "pct_orders": 5.11,
          "pop_pct_orders": 1.7443599000667331,
          "product_id": 22035,
          "purchase_ratio": 2.93
         },
         {
          "count": 13298,
          "index": "Organic Gala Apples",
          "pct_orders": 5.02,
          "pop_pct_orders": 2.1293257135240506,
          "product_id": 37646,
          "purchase_ratio": 2.36
         },
         {
          "count": 13156,
          "index": "Organic Baby Carrots",
          "pct_orders": 4.97,
          "pop_pct_orders": 2.2477092780268704,
          "product_id": 42265,
          "purchase_ratio": 2.21
         },
         {
          "count": 12486,
          "index": "Organic Kiwi",
          "pct_orders": 4.72,
          "pop_pct_orders": 1.4656469895644157,
          "product_id": 39928,
          "purchase_ratio": 3.22
         },
         {
          "count": 12444,
          "index": "Organic Blackberries",
          "pct_orders": 4.7,
          "pop_pct_orders": 1.8048670552570634,
          "product_id": 26604,
          "purchase_ratio": 2.6
         },
         {
          "count": 12124,
          "index": "Original Hummus",
          "pct_orders": 4.58,
          "pop_pct_orders": 2.0845445725812555,
          "product_id": 30489,
          "purchase_ratio": 2.2
         },
         {
          "count": 12045,
          "index": "Cucumber Kirby",
          "pct_orders": 4.55,
          "pop_pct_orders": 2.844567056689358,
          "product_id": 49683,
          "purchase_ratio": 1.6
         },
         {
          "count": 11913,
          "index": "Organic Red Bell Pepper",
          "pct_orders": 4.5,
          "pop_pct_orders": 1.6803158531961955,
          "product_id": 10749,
          "purchase_ratio": 2.68
         },
         {
          "count": 11680,
          "index": "Organic Tomato Cluster",
          "pct_orders": 4.41,
          "pop_pct_orders": 1.8792002415609326,
          "product_id": 41950,
          "purchase_ratio": 2.35
         },
         {
          "count": 11465,
          "index": "Honeycrisp Apple",
          "pct_orders": 4.33,
          "pop_pct_orders": 2.331688532549488,
          "product_id": 45066,
          "purchase_ratio": 1.86
         },
         {
          "count": 10976,
          "index": "Fresh Cauliflower",
          "pct_orders": 4.15,
          "pop_pct_orders": 2.0924368102147772,
          "product_id": 27104,
          "purchase_ratio": 1.98
         }
        ]
       },
       "encoding": {
        "color": {
         "field": "count",
         "legend": null,
         "scale": {
          "scheme": "viridis"
         },
         "sort": "descending",
         "type": "quantitative"
        },
        "tooltip": [
         {
          "field": "index",
          "title": "Item",
          "type": "ordinal"
         },
         {
          "field": "count",
          "type": "quantitative"
         },
         {
          "field": "pct_orders",
          "type": "quantitative"
         },
         {
          "field": "product_id",
          "type": "ordinal"
         },
         {
          "field": "purchase_ratio",
          "title": "purchase ratio",
          "type": "quantitative"
         }
        ],
        "x": {
         "bin": false,
         "field": "index",
         "sort": [
          "Bag of Organic Bananas",
          "Banana",
          "Organic Hass Avocado",
          "Organic Baby Spinach",
          "Organic Raspberries",
          "Organic Avocado",
          "Organic Whole Milk",
          "Organic Blueberries",
          "Limes",
          "Organic Yellow Onion",
          "Organic Cucumber",
          "Large Lemon",
          "Apple Honeycrisp Organic",
          "Organic Garlic",
          "Organic Grape Tomatoes",
          "Organic Zucchini",
          "Organic Lemon",
          "Organic Large Extra Fancy Fuji Apple",
          "Seedless Red Grapes",
          "Organic Whole String Cheese",
          "Organic Gala Apples",
          "Organic Baby Carrots",
          "Organic Kiwi",
          "Organic Blackberries",
          "Original Hummus",
          "Cucumber Kirby",
          "Organic Red Bell Pepper",
          "Organic Tomato Cluster",
          "Honeycrisp Apple",
          "Fresh Cauliflower"
         ],
         "title": "",
         "type": "ordinal"
        },
        "y": {
         "field": "count",
         "type": "quantitative"
        }
       },
       "height": 400,
       "mark": "bar",
       "title": "Top 30 Products Ordered with Organic Strawberries",
       "width": 800
      },
      "image/png": "[encoded data removed]",
      "text/plain": [
       "<VegaLite 2 object>\n",
       "\n",
       "If you see this message, it means the renderer has not been properly enabled\n",
       "for the frontend that you are using. For more information, see\n",
       "https://altair-viz.github.io/user_guide/troubleshooting.html\n"
      ]
     },
     "execution_count": 44,
     "metadata": {},
     "output_type": "execute_result"
    }
   ],
   "source": [
    "chart_title = \"Top 30 Products Ordered with Organic Strawberries\"\n",
    "x_label = \"index:O\"\n",
    "y_label = 'count:Q'\n",
    "pct_of_orders = 'pct_orders:Q'\n",
    "product_num = 'product_id:O'\n",
    "multiple = 'purchase_ratio:Q'\n",
    "\n",
    "strawberry_chart = alt.Chart(top_items_org_strawb_df).mark_bar().encode(\n",
    "    alt.X(x_label, bin=False, sort=org_straw_order_list, title=\"\"),\n",
    "    alt.Y(y_label),\n",
    "    color = alt.Color(y_label, legend=None, sort=\"descending\", scale=alt.Scale(scheme='viridis')),\n",
    "    tooltip=[alt.Tooltip(x_label, title=\"Item\"), alt.Tooltip(y_label), alt.Tooltip(pct_of_orders), alt.Tooltip(product_num), alt.Tooltip(multiple, title=\"purchase ratio\")]\n",
    "    ).properties(title=chart_title, width=800, height=400)\n",
    "\n",
    "strawberry_chart"
   ]
  },
  {
   "cell_type": "code",
   "execution_count": 170,
   "metadata": {},
   "outputs": [],
   "source": [
    "strawberry_chart.save('strawberry.html')"
   ]
  },
  {
   "cell_type": "markdown",
   "metadata": {},
   "source": [
    "## Items Most Frequently Ordered with Honeycrisp Apples"
   ]
  },
  {
   "cell_type": "code",
   "execution_count": 45,
   "metadata": {},
   "outputs": [],
   "source": [
    "# find top n items ordered with any particular product by product_id\n",
    "def top_n_items(df, product_id, n):\n",
    "    orders = df[df['product_id'] == product_id]['order_id'].tolist()\n",
    "    orders_with_item = df[df['order_id'].isin(orders)]\n",
    "\n",
    "    # top 30 items ordered with organic strawberries\n",
    "    num_of_main_item = orders_with_item['product_name'].value_counts()[0]\n",
    "    top_items_with_item = orders_with_item['product_name'].value_counts()[1:n+1]\n",
    "\n",
    "    top_items_with_item = pd.DataFrame(top_items_with_item)\n",
    "    top_items_with_item = top_items_with_item.reset_index()\n",
    "    top_items_with_item.columns = ['index', 'count']\n",
    "    top_items_with_item['pct_orders'] = np.round((top_items_with_item['count'] / num_of_main_item) * 100, 2)\n",
    "    top_items_with_item['product_id'] = top_items_with_item['index'].map(product_dict)\n",
    "\n",
    "    top_items_order_list = top_items_with_item['index'].tolist()\n",
    "    \n",
    "    return top_items_with_item"
   ]
  },
  {
   "cell_type": "code",
   "execution_count": 46,
   "metadata": {},
   "outputs": [
    {
     "data": {
      "text/html": [
       "<div>\n",
       "<style scoped>\n",
       "    .dataframe tbody tr th:only-of-type {\n",
       "        vertical-align: middle;\n",
       "    }\n",
       "\n",
       "    .dataframe tbody tr th {\n",
       "        vertical-align: top;\n",
       "    }\n",
       "\n",
       "    .dataframe thead th {\n",
       "        text-align: right;\n",
       "    }\n",
       "</style>\n",
       "<table border=\"1\" class=\"dataframe\">\n",
       "  <thead>\n",
       "    <tr style=\"text-align: right;\">\n",
       "      <th></th>\n",
       "      <th>index</th>\n",
       "      <th>count</th>\n",
       "      <th>pct_orders</th>\n",
       "      <th>product_id</th>\n",
       "      <th>pop_pct_orders</th>\n",
       "      <th>purchase_ratio</th>\n",
       "    </tr>\n",
       "  </thead>\n",
       "  <tbody>\n",
       "    <tr>\n",
       "      <th>0</th>\n",
       "      <td>Banana</td>\n",
       "      <td>28408</td>\n",
       "      <td>35.61</td>\n",
       "      <td>24852</td>\n",
       "      <td>13.813316</td>\n",
       "      <td>2.58</td>\n",
       "    </tr>\n",
       "    <tr>\n",
       "      <th>1</th>\n",
       "      <td>Organic Strawberries</td>\n",
       "      <td>11465</td>\n",
       "      <td>14.37</td>\n",
       "      <td>21137</td>\n",
       "      <td>7.736819</td>\n",
       "      <td>1.86</td>\n",
       "    </tr>\n",
       "    <tr>\n",
       "      <th>2</th>\n",
       "      <td>Bag of Organic Bananas</td>\n",
       "      <td>11137</td>\n",
       "      <td>13.96</td>\n",
       "      <td>13176</td>\n",
       "      <td>11.091517</td>\n",
       "      <td>1.26</td>\n",
       "    </tr>\n",
       "    <tr>\n",
       "      <th>3</th>\n",
       "      <td>Organic Avocado</td>\n",
       "      <td>11046</td>\n",
       "      <td>13.85</td>\n",
       "      <td>47766</td>\n",
       "      <td>5.168393</td>\n",
       "      <td>2.68</td>\n",
       "    </tr>\n",
       "    <tr>\n",
       "      <th>4</th>\n",
       "      <td>Organic Baby Spinach</td>\n",
       "      <td>10170</td>\n",
       "      <td>12.75</td>\n",
       "      <td>21903</td>\n",
       "      <td>7.071474</td>\n",
       "      <td>1.80</td>\n",
       "    </tr>\n",
       "    <tr>\n",
       "      <th>5</th>\n",
       "      <td>Large Lemon</td>\n",
       "      <td>9485</td>\n",
       "      <td>11.89</td>\n",
       "      <td>47626</td>\n",
       "      <td>4.462242</td>\n",
       "      <td>2.66</td>\n",
       "    </tr>\n",
       "    <tr>\n",
       "      <th>6</th>\n",
       "      <td>Organic Hass Avocado</td>\n",
       "      <td>8100</td>\n",
       "      <td>10.15</td>\n",
       "      <td>47209</td>\n",
       "      <td>6.243169</td>\n",
       "      <td>1.63</td>\n",
       "    </tr>\n",
       "    <tr>\n",
       "      <th>7</th>\n",
       "      <td>Strawberries</td>\n",
       "      <td>7536</td>\n",
       "      <td>9.45</td>\n",
       "      <td>16797</td>\n",
       "      <td>4.178531</td>\n",
       "      <td>2.26</td>\n",
       "    </tr>\n",
       "    <tr>\n",
       "      <th>8</th>\n",
       "      <td>Limes</td>\n",
       "      <td>6993</td>\n",
       "      <td>8.77</td>\n",
       "      <td>26209</td>\n",
       "      <td>4.110599</td>\n",
       "      <td>2.13</td>\n",
       "    </tr>\n",
       "    <tr>\n",
       "      <th>9</th>\n",
       "      <td>Cucumber Kirby</td>\n",
       "      <td>6518</td>\n",
       "      <td>8.17</td>\n",
       "      <td>49683</td>\n",
       "      <td>2.844567</td>\n",
       "      <td>2.87</td>\n",
       "    </tr>\n",
       "    <tr>\n",
       "      <th>10</th>\n",
       "      <td>Seedless Red Grapes</td>\n",
       "      <td>6291</td>\n",
       "      <td>7.89</td>\n",
       "      <td>4920</td>\n",
       "      <td>2.417042</td>\n",
       "      <td>3.26</td>\n",
       "    </tr>\n",
       "    <tr>\n",
       "      <th>11</th>\n",
       "      <td>Organic Whole Milk</td>\n",
       "      <td>6162</td>\n",
       "      <td>7.72</td>\n",
       "      <td>27845</td>\n",
       "      <td>4.031033</td>\n",
       "      <td>1.92</td>\n",
       "    </tr>\n",
       "    <tr>\n",
       "      <th>12</th>\n",
       "      <td>Organic Raspberries</td>\n",
       "      <td>4941</td>\n",
       "      <td>6.19</td>\n",
       "      <td>27966</td>\n",
       "      <td>4.006246</td>\n",
       "      <td>1.55</td>\n",
       "    </tr>\n",
       "    <tr>\n",
       "      <th>13</th>\n",
       "      <td>Organic Baby Carrots</td>\n",
       "      <td>4782</td>\n",
       "      <td>5.99</td>\n",
       "      <td>42265</td>\n",
       "      <td>2.247709</td>\n",
       "      <td>2.66</td>\n",
       "    </tr>\n",
       "    <tr>\n",
       "      <th>14</th>\n",
       "      <td>Organic Garlic</td>\n",
       "      <td>4529</td>\n",
       "      <td>5.68</td>\n",
       "      <td>24964</td>\n",
       "      <td>3.208867</td>\n",
       "      <td>1.77</td>\n",
       "    </tr>\n",
       "    <tr>\n",
       "      <th>15</th>\n",
       "      <td>Organic Zucchini</td>\n",
       "      <td>4209</td>\n",
       "      <td>5.28</td>\n",
       "      <td>45007</td>\n",
       "      <td>3.064030</td>\n",
       "      <td>1.72</td>\n",
       "    </tr>\n",
       "    <tr>\n",
       "      <th>16</th>\n",
       "      <td>Organic Yellow Onion</td>\n",
       "      <td>4115</td>\n",
       "      <td>5.16</td>\n",
       "      <td>22935</td>\n",
       "      <td>3.315500</td>\n",
       "      <td>1.56</td>\n",
       "    </tr>\n",
       "    <tr>\n",
       "      <th>17</th>\n",
       "      <td>Original Hummus</td>\n",
       "      <td>4039</td>\n",
       "      <td>5.06</td>\n",
       "      <td>30489</td>\n",
       "      <td>2.084545</td>\n",
       "      <td>2.43</td>\n",
       "    </tr>\n",
       "    <tr>\n",
       "      <th>18</th>\n",
       "      <td>Yellow Onions</td>\n",
       "      <td>3926</td>\n",
       "      <td>4.92</td>\n",
       "      <td>4605</td>\n",
       "      <td>2.138709</td>\n",
       "      <td>2.30</td>\n",
       "    </tr>\n",
       "    <tr>\n",
       "      <th>19</th>\n",
       "      <td>Organic Blueberries</td>\n",
       "      <td>3852</td>\n",
       "      <td>4.83</td>\n",
       "      <td>39275</td>\n",
       "      <td>2.924805</td>\n",
       "      <td>1.65</td>\n",
       "    </tr>\n",
       "  </tbody>\n",
       "</table>\n",
       "</div>"
      ],
      "text/plain": [
       "                     index  count  pct_orders  product_id  pop_pct_orders  \\\n",
       "0                   Banana  28408       35.61       24852       13.813316   \n",
       "1     Organic Strawberries  11465       14.37       21137        7.736819   \n",
       "2   Bag of Organic Bananas  11137       13.96       13176       11.091517   \n",
       "3          Organic Avocado  11046       13.85       47766        5.168393   \n",
       "4     Organic Baby Spinach  10170       12.75       21903        7.071474   \n",
       "5              Large Lemon   9485       11.89       47626        4.462242   \n",
       "6     Organic Hass Avocado   8100       10.15       47209        6.243169   \n",
       "7             Strawberries   7536        9.45       16797        4.178531   \n",
       "8                    Limes   6993        8.77       26209        4.110599   \n",
       "9           Cucumber Kirby   6518        8.17       49683        2.844567   \n",
       "10     Seedless Red Grapes   6291        7.89        4920        2.417042   \n",
       "11      Organic Whole Milk   6162        7.72       27845        4.031033   \n",
       "12     Organic Raspberries   4941        6.19       27966        4.006246   \n",
       "13    Organic Baby Carrots   4782        5.99       42265        2.247709   \n",
       "14          Organic Garlic   4529        5.68       24964        3.208867   \n",
       "15        Organic Zucchini   4209        5.28       45007        3.064030   \n",
       "16    Organic Yellow Onion   4115        5.16       22935        3.315500   \n",
       "17         Original Hummus   4039        5.06       30489        2.084545   \n",
       "18           Yellow Onions   3926        4.92        4605        2.138709   \n",
       "19     Organic Blueberries   3852        4.83       39275        2.924805   \n",
       "\n",
       "    purchase_ratio  \n",
       "0             2.58  \n",
       "1             1.86  \n",
       "2             1.26  \n",
       "3             2.68  \n",
       "4             1.80  \n",
       "5             2.66  \n",
       "6             1.63  \n",
       "7             2.26  \n",
       "8             2.13  \n",
       "9             2.87  \n",
       "10            3.26  \n",
       "11            1.92  \n",
       "12            1.55  \n",
       "13            2.66  \n",
       "14            1.77  \n",
       "15            1.72  \n",
       "16            1.56  \n",
       "17            2.43  \n",
       "18            2.30  \n",
       "19            1.65  "
      ]
     },
     "execution_count": 46,
     "metadata": {},
     "output_type": "execute_result"
    }
   ],
   "source": [
    "# top 10 items ordered with honeycrisp apples\n",
    "honeycrisp_df = top_n_items(df, 45066, 20)\n",
    "honeycrisp_df['pop_pct_orders'] = honeycrisp_df['product_id'].map(pct_order_dict)\n",
    "honeycrisp_df['purchase_ratio'] = np.round(honeycrisp_df['pct_orders'] / honeycrisp_df['pop_pct_orders'], 2)\n",
    "honeycrisp_df"
   ]
  },
  {
   "cell_type": "code",
   "execution_count": 47,
   "metadata": {},
   "outputs": [
    {
     "data": {
      "application/vnd.vegalite.v2+json": {
       "$schema": "https://vega.github.io/schema/vega-lite/v2.6.0.json",
       "config": {
        "background": "white",
        "view": {
         "height": 300,
         "width": 400
        }
       },
       "data": {
        "name": "data-c4c71a8718cf0eaf597314313526ffb3"
       },
       "datasets": {
        "data-c4c71a8718cf0eaf597314313526ffb3": [
         {
          "count": 28408,
          "index": "Banana",
          "pct_orders": 35.61,
          "pop_pct_orders": 13.813315841796298,
          "product_id": 24852,
          "purchase_ratio": 2.58
         },
         {
          "count": 11465,
          "index": "Organic Strawberries",
          "pct_orders": 14.37,
          "pop_pct_orders": 7.736819013160452,
          "product_id": 21137,
          "purchase_ratio": 1.86
         },
         {
          "count": 11137,
          "index": "Bag of Organic Bananas",
          "pct_orders": 13.96,
          "pop_pct_orders": 11.091516926072826,
          "product_id": 13176,
          "purchase_ratio": 1.26
         },
         {
          "count": 11046,
          "index": "Organic Avocado",
          "pct_orders": 13.85,
          "pop_pct_orders": 5.168392582115079,
          "product_id": 47766,
          "purchase_ratio": 2.68
         },
         {
          "count": 10170,
          "index": "Organic Baby Spinach",
          "pct_orders": 12.75,
          "pop_pct_orders": 7.0714741501448515,
          "product_id": 21903,
          "purchase_ratio": 1.8
         },
         {
          "count": 9485,
          "index": "Large Lemon",
          "pct_orders": 11.89,
          "pop_pct_orders": 4.4622419274831975,
          "product_id": 47626,
          "purchase_ratio": 2.66
         },
         {
          "count": 8100,
          "index": "Organic Hass Avocado",
          "pct_orders": 10.15,
          "pop_pct_orders": 6.243169195251913,
          "product_id": 47209,
          "purchase_ratio": 1.63
         },
         {
          "count": 7536,
          "index": "Strawberries",
          "pct_orders": 9.45,
          "pop_pct_orders": 4.178530599812983,
          "product_id": 16797,
          "purchase_ratio": 2.26
         },
         {
          "count": 6993,
          "index": "Limes",
          "pct_orders": 8.77,
          "pop_pct_orders": 4.110598895145192,
          "product_id": 26209,
          "purchase_ratio": 2.13
         },
         {
          "count": 6518,
          "index": "Cucumber Kirby",
          "pct_orders": 8.17,
          "pop_pct_orders": 2.844567056689358,
          "product_id": 49683,
          "purchase_ratio": 2.87
         },
         {
          "count": 6291,
          "index": "Seedless Red Grapes",
          "pct_orders": 7.89,
          "pop_pct_orders": 2.4170416210305334,
          "product_id": 4920,
          "purchase_ratio": 3.26
         },
         {
          "count": 6162,
          "index": "Organic Whole Milk",
          "pct_orders": 7.72,
          "pop_pct_orders": 4.031033447595396,
          "product_id": 27845,
          "purchase_ratio": 1.92
         },
         {
          "count": 4941,
          "index": "Organic Raspberries",
          "pct_orders": 6.19,
          "pop_pct_orders": 4.006245975324188,
          "product_id": 27966,
          "purchase_ratio": 1.55
         },
         {
          "count": 4782,
          "index": "Organic Baby Carrots",
          "pct_orders": 5.99,
          "pop_pct_orders": 2.2477092780268704,
          "product_id": 42265,
          "purchase_ratio": 2.66
         },
         {
          "count": 4529,
          "index": "Organic Garlic",
          "pct_orders": 5.68,
          "pop_pct_orders": 3.2088668997507517,
          "product_id": 24964,
          "purchase_ratio": 1.77
         },
         {
          "count": 4209,
          "index": "Organic Zucchini",
          "pct_orders": 5.28,
          "pop_pct_orders": 3.0640297239207586,
          "product_id": 45007,
          "purchase_ratio": 1.72
         },
         {
          "count": 4115,
          "index": "Organic Yellow Onion",
          "pct_orders": 5.16,
          "pop_pct_orders": 3.3154997993325503,
          "product_id": 22935,
          "purchase_ratio": 1.56
         },
         {
          "count": 4039,
          "index": "Original Hummus",
          "pct_orders": 5.06,
          "pop_pct_orders": 2.0845445725812555,
          "product_id": 30489,
          "purchase_ratio": 2.43
         },
         {
          "count": 3926,
          "index": "Yellow Onions",
          "pct_orders": 4.92,
          "pop_pct_orders": 2.138708707155015,
          "product_id": 4605,
          "purchase_ratio": 2.3
         },
         {
          "count": 3852,
          "index": "Organic Blueberries",
          "pct_orders": 4.83,
          "pop_pct_orders": 2.924804805963492,
          "product_id": 39275,
          "purchase_ratio": 1.65
         }
        ]
       },
       "encoding": {
        "color": {
         "field": "count",
         "legend": null,
         "scale": {
          "scheme": "viridis"
         },
         "sort": "descending",
         "type": "quantitative"
        },
        "tooltip": [
         {
          "field": "index",
          "title": "Item",
          "type": "ordinal"
         },
         {
          "field": "count",
          "type": "quantitative"
         },
         {
          "field": "pct_orders",
          "type": "quantitative"
         },
         {
          "field": "product_id",
          "type": "ordinal"
         },
         {
          "field": "purchase_ratio",
          "title": "purchase ratio",
          "type": "quantitative"
         }
        ],
        "x": {
         "bin": false,
         "field": "index",
         "sort": [
          "Banana",
          "Organic Strawberries",
          "Bag of Organic Bananas",
          "Organic Avocado",
          "Organic Baby Spinach",
          "Large Lemon",
          "Organic Hass Avocado",
          "Strawberries",
          "Limes",
          "Cucumber Kirby",
          "Seedless Red Grapes",
          "Organic Whole Milk",
          "Organic Raspberries",
          "Organic Baby Carrots",
          "Organic Garlic",
          "Organic Zucchini",
          "Organic Yellow Onion",
          "Original Hummus",
          "Yellow Onions",
          "Organic Blueberries"
         ],
         "title": "",
         "type": "ordinal"
        },
        "y": {
         "field": "count",
         "title": "Total Orders",
         "type": "quantitative"
        }
       },
       "height": 400,
       "mark": "bar",
       "title": "Top 20 Products Ordered with Honeycrisp Apples",
       "width": 800
      },
      "image/png": "[encoded data removed]",
      "text/plain": [
       "<VegaLite 2 object>\n",
       "\n",
       "If you see this message, it means the renderer has not been properly enabled\n",
       "for the frontend that you are using. For more information, see\n",
       "https://altair-viz.github.io/user_guide/troubleshooting.html\n"
      ]
     },
     "execution_count": 47,
     "metadata": {},
     "output_type": "execute_result"
    }
   ],
   "source": [
    "chart_title = \"Top 20 Products Ordered with Honeycrisp Apples\"\n",
    "x_label = \"index:O\"\n",
    "y_label = 'count:Q'\n",
    "pct_of_orders = 'pct_orders:Q'\n",
    "product_num = 'product_id:O'\n",
    "multiple = 'purchase_ratio:Q'\n",
    "sort_list = honeycrisp_df['index'].tolist()\n",
    "\n",
    "\n",
    "honeycrisp_chart = alt.Chart(honeycrisp_df).mark_bar().encode(\n",
    "    alt.X(x_label, bin=False, sort=sort_list, title=\"\"),\n",
    "    alt.Y(y_label, title=\"Total Orders\"),\n",
    "    color = alt.Color(y_label, legend=None, sort=\"descending\", scale=alt.Scale(scheme='viridis')),\n",
    "    tooltip=[alt.Tooltip(x_label, title=\"Item\"), alt.Tooltip(y_label), alt.Tooltip(pct_of_orders), alt.Tooltip(product_num), alt.Tooltip(multiple, title=\"purchase ratio\")]\n",
    "    ).properties(title=chart_title, width=800, height=400)\n",
    "\n",
    "honeycrisp_chart"
   ]
  },
  {
   "cell_type": "code",
   "execution_count": 171,
   "metadata": {},
   "outputs": [],
   "source": [
    "honeycrisp_chart.save('honeycrisp.html')"
   ]
  },
  {
   "cell_type": "markdown",
   "metadata": {},
   "source": [
    "## Items Most Frequently Ordered with Organic Turkey Burgers"
   ]
  },
  {
   "cell_type": "code",
   "execution_count": 48,
   "metadata": {},
   "outputs": [
    {
     "data": {
      "text/html": [
       "<div>\n",
       "<style scoped>\n",
       "    .dataframe tbody tr th:only-of-type {\n",
       "        vertical-align: middle;\n",
       "    }\n",
       "\n",
       "    .dataframe tbody tr th {\n",
       "        vertical-align: top;\n",
       "    }\n",
       "\n",
       "    .dataframe thead th {\n",
       "        text-align: right;\n",
       "    }\n",
       "</style>\n",
       "<table border=\"1\" class=\"dataframe\">\n",
       "  <thead>\n",
       "    <tr style=\"text-align: right;\">\n",
       "      <th></th>\n",
       "      <th>index</th>\n",
       "      <th>count</th>\n",
       "      <th>pct_orders</th>\n",
       "      <th>product_id</th>\n",
       "      <th>pop_pct_orders</th>\n",
       "      <th>purchase_ratio</th>\n",
       "    </tr>\n",
       "  </thead>\n",
       "  <tbody>\n",
       "    <tr>\n",
       "      <th>0</th>\n",
       "      <td>Banana</td>\n",
       "      <td>179</td>\n",
       "      <td>16.76</td>\n",
       "      <td>24852</td>\n",
       "      <td>13.813316</td>\n",
       "      <td>1.21</td>\n",
       "    </tr>\n",
       "    <tr>\n",
       "      <th>1</th>\n",
       "      <td>Bag of Organic Bananas</td>\n",
       "      <td>172</td>\n",
       "      <td>16.10</td>\n",
       "      <td>13176</td>\n",
       "      <td>11.091517</td>\n",
       "      <td>1.45</td>\n",
       "    </tr>\n",
       "    <tr>\n",
       "      <th>2</th>\n",
       "      <td>Organic Strawberries</td>\n",
       "      <td>169</td>\n",
       "      <td>15.82</td>\n",
       "      <td>21137</td>\n",
       "      <td>7.736819</td>\n",
       "      <td>2.04</td>\n",
       "    </tr>\n",
       "    <tr>\n",
       "      <th>3</th>\n",
       "      <td>Organic Baby Spinach</td>\n",
       "      <td>151</td>\n",
       "      <td>14.14</td>\n",
       "      <td>21903</td>\n",
       "      <td>7.071474</td>\n",
       "      <td>2.00</td>\n",
       "    </tr>\n",
       "    <tr>\n",
       "      <th>4</th>\n",
       "      <td>Organic Hass Avocado</td>\n",
       "      <td>135</td>\n",
       "      <td>12.64</td>\n",
       "      <td>47209</td>\n",
       "      <td>6.243169</td>\n",
       "      <td>2.02</td>\n",
       "    </tr>\n",
       "    <tr>\n",
       "      <th>5</th>\n",
       "      <td>Organic Avocado</td>\n",
       "      <td>114</td>\n",
       "      <td>10.67</td>\n",
       "      <td>47766</td>\n",
       "      <td>5.168393</td>\n",
       "      <td>2.06</td>\n",
       "    </tr>\n",
       "    <tr>\n",
       "      <th>6</th>\n",
       "      <td>Organic Raspberries</td>\n",
       "      <td>101</td>\n",
       "      <td>9.46</td>\n",
       "      <td>27966</td>\n",
       "      <td>4.006246</td>\n",
       "      <td>2.36</td>\n",
       "    </tr>\n",
       "    <tr>\n",
       "      <th>7</th>\n",
       "      <td>Organic Baby Carrots</td>\n",
       "      <td>99</td>\n",
       "      <td>9.27</td>\n",
       "      <td>42265</td>\n",
       "      <td>2.247709</td>\n",
       "      <td>4.12</td>\n",
       "    </tr>\n",
       "    <tr>\n",
       "      <th>8</th>\n",
       "      <td>Organic Zucchini</td>\n",
       "      <td>82</td>\n",
       "      <td>7.68</td>\n",
       "      <td>45007</td>\n",
       "      <td>3.064030</td>\n",
       "      <td>2.51</td>\n",
       "    </tr>\n",
       "    <tr>\n",
       "      <th>9</th>\n",
       "      <td>Large Lemon</td>\n",
       "      <td>75</td>\n",
       "      <td>7.02</td>\n",
       "      <td>47626</td>\n",
       "      <td>4.462242</td>\n",
       "      <td>1.57</td>\n",
       "    </tr>\n",
       "    <tr>\n",
       "      <th>10</th>\n",
       "      <td>Original Hummus</td>\n",
       "      <td>73</td>\n",
       "      <td>6.84</td>\n",
       "      <td>30489</td>\n",
       "      <td>2.084545</td>\n",
       "      <td>3.28</td>\n",
       "    </tr>\n",
       "    <tr>\n",
       "      <th>11</th>\n",
       "      <td>Cucumber Kirby</td>\n",
       "      <td>70</td>\n",
       "      <td>6.55</td>\n",
       "      <td>49683</td>\n",
       "      <td>2.844567</td>\n",
       "      <td>2.30</td>\n",
       "    </tr>\n",
       "    <tr>\n",
       "      <th>12</th>\n",
       "      <td>Limes</td>\n",
       "      <td>70</td>\n",
       "      <td>6.55</td>\n",
       "      <td>26209</td>\n",
       "      <td>4.110599</td>\n",
       "      <td>1.59</td>\n",
       "    </tr>\n",
       "    <tr>\n",
       "      <th>13</th>\n",
       "      <td>Organic Red Bell Pepper</td>\n",
       "      <td>68</td>\n",
       "      <td>6.37</td>\n",
       "      <td>10749</td>\n",
       "      <td>1.680316</td>\n",
       "      <td>3.79</td>\n",
       "    </tr>\n",
       "    <tr>\n",
       "      <th>14</th>\n",
       "      <td>Organic Whole Milk</td>\n",
       "      <td>68</td>\n",
       "      <td>6.37</td>\n",
       "      <td>27845</td>\n",
       "      <td>4.031033</td>\n",
       "      <td>1.58</td>\n",
       "    </tr>\n",
       "    <tr>\n",
       "      <th>15</th>\n",
       "      <td>Organic Blueberries</td>\n",
       "      <td>68</td>\n",
       "      <td>6.37</td>\n",
       "      <td>39275</td>\n",
       "      <td>2.924805</td>\n",
       "      <td>2.18</td>\n",
       "    </tr>\n",
       "    <tr>\n",
       "      <th>16</th>\n",
       "      <td>Organic Unsweetened Almond Milk</td>\n",
       "      <td>64</td>\n",
       "      <td>5.99</td>\n",
       "      <td>35951</td>\n",
       "      <td>1.692300</td>\n",
       "      <td>3.54</td>\n",
       "    </tr>\n",
       "    <tr>\n",
       "      <th>17</th>\n",
       "      <td>Organic Grape Tomatoes</td>\n",
       "      <td>64</td>\n",
       "      <td>5.99</td>\n",
       "      <td>40706</td>\n",
       "      <td>2.462817</td>\n",
       "      <td>2.43</td>\n",
       "    </tr>\n",
       "    <tr>\n",
       "      <th>18</th>\n",
       "      <td>Honeycrisp Apple</td>\n",
       "      <td>61</td>\n",
       "      <td>5.71</td>\n",
       "      <td>45066</td>\n",
       "      <td>2.331689</td>\n",
       "      <td>2.45</td>\n",
       "    </tr>\n",
       "    <tr>\n",
       "      <th>19</th>\n",
       "      <td>Boneless Skinless Chicken Breasts</td>\n",
       "      <td>57</td>\n",
       "      <td>5.34</td>\n",
       "      <td>25890</td>\n",
       "      <td>1.469739</td>\n",
       "      <td>3.63</td>\n",
       "    </tr>\n",
       "  </tbody>\n",
       "</table>\n",
       "</div>"
      ],
      "text/plain": [
       "                                index  count  pct_orders  product_id  \\\n",
       "0                              Banana    179       16.76       24852   \n",
       "1              Bag of Organic Bananas    172       16.10       13176   \n",
       "2                Organic Strawberries    169       15.82       21137   \n",
       "3                Organic Baby Spinach    151       14.14       21903   \n",
       "4                Organic Hass Avocado    135       12.64       47209   \n",
       "5                     Organic Avocado    114       10.67       47766   \n",
       "6                 Organic Raspberries    101        9.46       27966   \n",
       "7                Organic Baby Carrots     99        9.27       42265   \n",
       "8                    Organic Zucchini     82        7.68       45007   \n",
       "9                         Large Lemon     75        7.02       47626   \n",
       "10                    Original Hummus     73        6.84       30489   \n",
       "11                     Cucumber Kirby     70        6.55       49683   \n",
       "12                              Limes     70        6.55       26209   \n",
       "13            Organic Red Bell Pepper     68        6.37       10749   \n",
       "14                 Organic Whole Milk     68        6.37       27845   \n",
       "15                Organic Blueberries     68        6.37       39275   \n",
       "16    Organic Unsweetened Almond Milk     64        5.99       35951   \n",
       "17             Organic Grape Tomatoes     64        5.99       40706   \n",
       "18                   Honeycrisp Apple     61        5.71       45066   \n",
       "19  Boneless Skinless Chicken Breasts     57        5.34       25890   \n",
       "\n",
       "    pop_pct_orders  purchase_ratio  \n",
       "0        13.813316            1.21  \n",
       "1        11.091517            1.45  \n",
       "2         7.736819            2.04  \n",
       "3         7.071474            2.00  \n",
       "4         6.243169            2.02  \n",
       "5         5.168393            2.06  \n",
       "6         4.006246            2.36  \n",
       "7         2.247709            4.12  \n",
       "8         3.064030            2.51  \n",
       "9         4.462242            1.57  \n",
       "10        2.084545            3.28  \n",
       "11        2.844567            2.30  \n",
       "12        4.110599            1.59  \n",
       "13        1.680316            3.79  \n",
       "14        4.031033            1.58  \n",
       "15        2.924805            2.18  \n",
       "16        1.692300            3.54  \n",
       "17        2.462817            2.43  \n",
       "18        2.331689            2.45  \n",
       "19        1.469739            3.63  "
      ]
     },
     "execution_count": 48,
     "metadata": {},
     "output_type": "execute_result"
    }
   ],
   "source": [
    "# top 20 items ordered with honeycrisp apples\n",
    "org_turkey_burger_df = top_n_items(df, 23, 20)\n",
    "org_turkey_burger_df['pop_pct_orders'] = org_turkey_burger_df['product_id'].map(pct_order_dict)\n",
    "org_turkey_burger_df['purchase_ratio'] = np.round(org_turkey_burger_df['pct_orders'] / org_turkey_burger_df['pop_pct_orders'],2)\n",
    "org_turkey_burger_df"
   ]
  },
  {
   "cell_type": "code",
   "execution_count": 49,
   "metadata": {},
   "outputs": [
    {
     "data": {
      "application/vnd.vegalite.v2+json": {
       "$schema": "https://vega.github.io/schema/vega-lite/v2.6.0.json",
       "config": {
        "background": "white",
        "view": {
         "height": 300,
         "width": 400
        }
       },
       "data": {
        "name": "data-6b245b37e965d9750bcc4e78258f330e"
       },
       "datasets": {
        "data-6b245b37e965d9750bcc4e78258f330e": [
         {
          "count": 179,
          "index": "Banana",
          "pct_orders": 16.76,
          "pop_pct_orders": 13.813315841796298,
          "product_id": 24852,
          "purchase_ratio": 1.21
         },
         {
          "count": 172,
          "index": "Bag of Organic Bananas",
          "pct_orders": 16.1,
          "pop_pct_orders": 11.091516926072826,
          "product_id": 13176,
          "purchase_ratio": 1.45
         },
         {
          "count": 169,
          "index": "Organic Strawberries",
          "pct_orders": 15.82,
          "pop_pct_orders": 7.736819013160452,
          "product_id": 21137,
          "purchase_ratio": 2.04
         },
         {
          "count": 151,
          "index": "Organic Baby Spinach",
          "pct_orders": 14.14,
          "pop_pct_orders": 7.0714741501448515,
          "product_id": 21903,
          "purchase_ratio": 2
         },
         {
          "count": 135,
          "index": "Organic Hass Avocado",
          "pct_orders": 12.64,
          "pop_pct_orders": 6.243169195251913,
          "product_id": 47209,
          "purchase_ratio": 2.02
         },
         {
          "count": 114,
          "index": "Organic Avocado",
          "pct_orders": 10.67,
          "pop_pct_orders": 5.168392582115079,
          "product_id": 47766,
          "purchase_ratio": 2.06
         },
         {
          "count": 101,
          "index": "Organic Raspberries",
          "pct_orders": 9.46,
          "pop_pct_orders": 4.006245975324188,
          "product_id": 27966,
          "purchase_ratio": 2.36
         },
         {
          "count": 99,
          "index": "Organic Baby Carrots",
          "pct_orders": 9.27,
          "pop_pct_orders": 2.2477092780268704,
          "product_id": 42265,
          "purchase_ratio": 4.12
         },
         {
          "count": 82,
          "index": "Organic Zucchini",
          "pct_orders": 7.68,
          "pop_pct_orders": 3.0640297239207586,
          "product_id": 45007,
          "purchase_ratio": 2.51
         },
         {
          "count": 75,
          "index": "Large Lemon",
          "pct_orders": 7.02,
          "pop_pct_orders": 4.4622419274831975,
          "product_id": 47626,
          "purchase_ratio": 1.57
         },
         {
          "count": 73,
          "index": "Original Hummus",
          "pct_orders": 6.84,
          "pop_pct_orders": 2.0845445725812555,
          "product_id": 30489,
          "purchase_ratio": 3.28
         },
         {
          "count": 70,
          "index": "Cucumber Kirby",
          "pct_orders": 6.55,
          "pop_pct_orders": 2.844567056689358,
          "product_id": 49683,
          "purchase_ratio": 2.3
         },
         {
          "count": 70,
          "index": "Limes",
          "pct_orders": 6.55,
          "pop_pct_orders": 4.110598895145192,
          "product_id": 26209,
          "purchase_ratio": 1.59
         },
         {
          "count": 68,
          "index": "Organic Red Bell Pepper",
          "pct_orders": 6.37,
          "pop_pct_orders": 1.6803158531961955,
          "product_id": 10749,
          "purchase_ratio": 3.79
         },
         {
          "count": 68,
          "index": "Organic Whole Milk",
          "pct_orders": 6.37,
          "pop_pct_orders": 4.031033447595396,
          "product_id": 27845,
          "purchase_ratio": 1.58
         },
         {
          "count": 68,
          "index": "Organic Blueberries",
          "pct_orders": 6.37,
          "pop_pct_orders": 2.924804805963492,
          "product_id": 39275,
          "purchase_ratio": 2.18
         },
         {
          "count": 64,
          "index": "Organic Unsweetened Almond Milk",
          "pct_orders": 5.99,
          "pop_pct_orders": 1.6923003621952464,
          "product_id": 35951,
          "purchase_ratio": 3.54
         },
         {
          "count": 64,
          "index": "Organic Grape Tomatoes",
          "pct_orders": 5.99,
          "pop_pct_orders": 2.462816599304957,
          "product_id": 40706,
          "purchase_ratio": 2.43
         },
         {
          "count": 61,
          "index": "Honeycrisp Apple",
          "pct_orders": 5.71,
          "pop_pct_orders": 2.331688532549488,
          "product_id": 45066,
          "purchase_ratio": 2.45
         },
         {
          "count": 57,
          "index": "Boneless Skinless Chicken Breasts",
          "pct_orders": 5.34,
          "pop_pct_orders": 1.4697392609299453,
          "product_id": 25890,
          "purchase_ratio": 3.63
         }
        ]
       },
       "encoding": {
        "color": {
         "field": "count",
         "legend": null,
         "scale": {
          "scheme": "viridis"
         },
         "sort": "descending",
         "type": "quantitative"
        },
        "tooltip": [
         {
          "field": "index",
          "title": "Item",
          "type": "ordinal"
         },
         {
          "field": "count",
          "type": "quantitative"
         },
         {
          "field": "pct_orders",
          "title": "% of Orders",
          "type": "quantitative"
         },
         {
          "field": "product_id",
          "type": "ordinal"
         },
         {
          "field": "purchase_ratio",
          "title": "purchase ratio",
          "type": "quantitative"
         }
        ],
        "x": {
         "bin": false,
         "field": "index",
         "sort": [
          "Banana",
          "Bag of Organic Bananas",
          "Organic Strawberries",
          "Organic Baby Spinach",
          "Organic Hass Avocado",
          "Organic Avocado",
          "Organic Raspberries",
          "Organic Baby Carrots",
          "Organic Zucchini",
          "Large Lemon",
          "Original Hummus",
          "Cucumber Kirby",
          "Limes",
          "Organic Red Bell Pepper",
          "Organic Whole Milk",
          "Organic Blueberries",
          "Organic Unsweetened Almond Milk",
          "Organic Grape Tomatoes",
          "Honeycrisp Apple",
          "Boneless Skinless Chicken Breasts"
         ],
         "title": "",
         "type": "ordinal"
        },
        "y": {
         "field": "count",
         "title": "Total Orders",
         "type": "quantitative"
        }
       },
       "height": 400,
       "mark": "bar",
       "title": "Top 20 Products Ordered with Organic Turkey Burgers",
       "width": 800
      },
      "image/png": "[encoded data removed]",
      "text/plain": [
       "<VegaLite 2 object>\n",
       "\n",
       "If you see this message, it means the renderer has not been properly enabled\n",
       "for the frontend that you are using. For more information, see\n",
       "https://altair-viz.github.io/user_guide/troubleshooting.html\n"
      ]
     },
     "execution_count": 49,
     "metadata": {},
     "output_type": "execute_result"
    }
   ],
   "source": [
    "chart_title = \"Top 20 Products Ordered with Organic Turkey Burgers\"\n",
    "x_label = \"index:O\"\n",
    "y_label = 'count:Q'\n",
    "pct_of_orders = 'pct_orders:Q'\n",
    "product_num = 'product_id:O'\n",
    "multiple = 'purchase_ratio:Q'\n",
    "sort_list = org_turkey_burger_df['index'].tolist()\n",
    "\n",
    "\n",
    "turkey_chart = alt.Chart(org_turkey_burger_df).mark_bar().encode(\n",
    "    alt.X(x_label, bin=False, sort=sort_list, title=\"\"),\n",
    "    alt.Y(y_label, title=\"Total Orders\"),\n",
    "    color = alt.Color(y_label, legend=None, sort=\"descending\", scale=alt.Scale(scheme='viridis')),\n",
    "    tooltip=[alt.Tooltip(x_label, title=\"Item\"), alt.Tooltip(y_label), alt.Tooltip(pct_of_orders, title=\"% of Orders\"), \n",
    "             alt.Tooltip(product_num), alt.Tooltip(multiple, title=\"purchase ratio\")]\n",
    "    ).properties(title=chart_title, width=800, height=400)\n",
    "\n",
    "turkey_chart"
   ]
  },
  {
   "cell_type": "code",
   "execution_count": 172,
   "metadata": {},
   "outputs": [],
   "source": [
    "turkey_chart.save('turkey.html')"
   ]
  },
  {
   "cell_type": "markdown",
   "metadata": {},
   "source": [
    "# Recommendation Algorithm Prototypes\n",
    "\n",
    "Now we'll look at a few simple ideas for recommendation algorithms. We'll start by using an idea we already explored: finding items that are purchased more frequently than average when a customer purchases a particular item. "
   ]
  },
  {
   "cell_type": "markdown",
   "metadata": {},
   "source": [
    "## Frequently Purchaed Items\n",
    "\n",
    "To get started, we'll tweek our \"top_n_items\" function, so that it finds the top 100 items, but then sorts the items based on how much more often the item is purchased versus the average basket. For instance, if we find that customers that purchase goat cheese are 6 times more likely to purchase mozzarella than the average customer, we make that a top recommendation."
   ]
  },
  {
   "cell_type": "code",
   "execution_count": 86,
   "metadata": {},
   "outputs": [],
   "source": [
    "# find top n items ordered with any particular product by product_id\n",
    "def top_n_recommendations(df, product_id, n):\n",
    "    orders = df[df['product_id'] == product_id]['order_id'].tolist()\n",
    "    orders_with_item = df[df['order_id'].isin(orders)]\n",
    "\n",
    "    # top 30 items ordered with organic strawberries\n",
    "    num_of_main_item = orders_with_item['product_name'].value_counts()[0]\n",
    "    top_items_with_item = orders_with_item['product_name'].value_counts()[1:n+1]\n",
    "\n",
    "    top_items_with_item = pd.DataFrame(top_items_with_item)\n",
    "    top_items_with_item = top_items_with_item.reset_index()\n",
    "    top_items_with_item.columns = ['index', 'count']\n",
    "    top_items_with_item['pct_orders'] = np.round((top_items_with_item['count'] / num_of_main_item) * 100, 2)\n",
    "    top_items_with_item['product_id'] = top_items_with_item['index'].map(product_dict)\n",
    "    \n",
    "    top_items_with_item['pop_pct_orders'] = top_items_with_item['product_id'].map(pct_order_dict)\n",
    "    top_items_with_item['purchase_ratio'] = np.round(top_items_with_item['pct_orders'] / top_items_with_item['pop_pct_orders'],2)\n",
    "    \n",
    "    \n",
    "    top_items_with_item = top_items_with_item.sort_values(by=['purchase_ratio'], ascending=False)\n",
    "    top_items_with_item = top_items_with_item[:10]\n",
    "    top_items_with_item = top_items_with_item.reset_index(drop=True)\n",
    "\n",
    "    top_items_order_list = top_items_with_item['index'].tolist()\n",
    "    \n",
    "    return top_items_with_item"
   ]
  },
  {
   "cell_type": "code",
   "execution_count": 131,
   "metadata": {},
   "outputs": [],
   "source": [
    "def top_n_rec_viz(df, product_id):\n",
    "    \n",
    "    product_name = product_dict_inv[product_id]\n",
    "    chart_title = \"Top 10 Recs based on purchase of \" + product_name\n",
    "    x_label = \"index:O\"\n",
    "    y_label = 'purchase_ratio:Q'\n",
    "    pct_of_orders = 'pct_orders:Q'\n",
    "    product_num = 'product_id:O'\n",
    "    multiple = 'purchase_ratio:Q'\n",
    "    total_orders = 'count:Q'\n",
    "    sort_list = df['index'].tolist()\n",
    "\n",
    "\n",
    "    turkey_chart = alt.Chart(df).mark_bar().encode(\n",
    "        alt.X(x_label, bin=False, sort=sort_list, title=\"\"),\n",
    "        alt.Y(y_label, title=\"Purchased X Times More then Average\"),\n",
    "        color = alt.Color(y_label, legend=None, sort=\"descending\", scale=alt.Scale(scheme='viridis')),\n",
    "        tooltip=[alt.Tooltip(x_label, title=\"Item\"), alt.Tooltip(product_num, title=\"Product ID\"), alt.Tooltip(y_label, title=\"Purchase Ratio\"), \n",
    "                 alt.Tooltip(pct_of_orders, title=\"% of Orders\"), alt.Tooltip(total_orders, title=\"Total Orders\") ]\n",
    "        ).properties(title=chart_title, width=800, height=400).configure_axis(\n",
    "    labelFontSize=12,\n",
    "    titleFontSize=12 \n",
    ").configure_title(fontSize=18)\n",
    "\n",
    "    return turkey_chart"
   ]
  },
  {
   "cell_type": "markdown",
   "metadata": {},
   "source": [
    "### Organic Turkey Burgers\n",
    "\n",
    "Let's now re-examine our organic turkey burgers. We'll find the 100 items most frequently purchased with the burgers. We'll then recommend the top 10 items (from the top 100) based on how much more likely than average the customer is to purchase that item. "
   ]
  },
  {
   "cell_type": "code",
   "execution_count": 87,
   "metadata": {},
   "outputs": [
    {
     "data": {
      "text/html": [
       "<div>\n",
       "<style scoped>\n",
       "    .dataframe tbody tr th:only-of-type {\n",
       "        vertical-align: middle;\n",
       "    }\n",
       "\n",
       "    .dataframe tbody tr th {\n",
       "        vertical-align: top;\n",
       "    }\n",
       "\n",
       "    .dataframe thead th {\n",
       "        text-align: right;\n",
       "    }\n",
       "</style>\n",
       "<table border=\"1\" class=\"dataframe\">\n",
       "  <thead>\n",
       "    <tr style=\"text-align: right;\">\n",
       "      <th></th>\n",
       "      <th>index</th>\n",
       "      <th>count</th>\n",
       "      <th>pct_orders</th>\n",
       "      <th>product_id</th>\n",
       "      <th>pop_pct_orders</th>\n",
       "      <th>purchase_ratio</th>\n",
       "    </tr>\n",
       "  </thead>\n",
       "  <tbody>\n",
       "    <tr>\n",
       "      <th>0</th>\n",
       "      <td>Grilled Chicken Breast Strips</td>\n",
       "      <td>25</td>\n",
       "      <td>2.34</td>\n",
       "      <td>17878</td>\n",
       "      <td>0.195055</td>\n",
       "      <td>12.00</td>\n",
       "    </tr>\n",
       "    <tr>\n",
       "      <th>1</th>\n",
       "      <td>Naturals Chicken Nuggets</td>\n",
       "      <td>30</td>\n",
       "      <td>2.81</td>\n",
       "      <td>2452</td>\n",
       "      <td>0.305810</td>\n",
       "      <td>9.19</td>\n",
       "    </tr>\n",
       "    <tr>\n",
       "      <th>2</th>\n",
       "      <td>Organic Chicken Strips</td>\n",
       "      <td>29</td>\n",
       "      <td>2.72</td>\n",
       "      <td>43504</td>\n",
       "      <td>0.324751</td>\n",
       "      <td>8.38</td>\n",
       "    </tr>\n",
       "    <tr>\n",
       "      <th>3</th>\n",
       "      <td>Organic Baby Spinach Salad</td>\n",
       "      <td>44</td>\n",
       "      <td>4.12</td>\n",
       "      <td>25931</td>\n",
       "      <td>0.516562</td>\n",
       "      <td>7.98</td>\n",
       "    </tr>\n",
       "    <tr>\n",
       "      <th>4</th>\n",
       "      <td>Organic Original Hommus</td>\n",
       "      <td>30</td>\n",
       "      <td>2.81</td>\n",
       "      <td>2825</td>\n",
       "      <td>0.389935</td>\n",
       "      <td>7.21</td>\n",
       "    </tr>\n",
       "    <tr>\n",
       "      <th>5</th>\n",
       "      <td>Organic Turkey Bacon</td>\n",
       "      <td>34</td>\n",
       "      <td>3.18</td>\n",
       "      <td>5646</td>\n",
       "      <td>0.447285</td>\n",
       "      <td>7.11</td>\n",
       "    </tr>\n",
       "    <tr>\n",
       "      <th>6</th>\n",
       "      <td>Organic Thompson Seedless Raisins</td>\n",
       "      <td>27</td>\n",
       "      <td>2.53</td>\n",
       "      <td>5134</td>\n",
       "      <td>0.363335</td>\n",
       "      <td>6.96</td>\n",
       "    </tr>\n",
       "    <tr>\n",
       "      <th>7</th>\n",
       "      <td>Roasted Red Pepper Hummus</td>\n",
       "      <td>35</td>\n",
       "      <td>3.28</td>\n",
       "      <td>21019</td>\n",
       "      <td>0.498029</td>\n",
       "      <td>6.59</td>\n",
       "    </tr>\n",
       "    <tr>\n",
       "      <th>8</th>\n",
       "      <td>Organic Chicken &amp; Apple Sausage</td>\n",
       "      <td>26</td>\n",
       "      <td>2.43</td>\n",
       "      <td>9339</td>\n",
       "      <td>0.379763</td>\n",
       "      <td>6.40</td>\n",
       "    </tr>\n",
       "    <tr>\n",
       "      <th>9</th>\n",
       "      <td>Organic Snipped Green Beans</td>\n",
       "      <td>33</td>\n",
       "      <td>3.09</td>\n",
       "      <td>13629</td>\n",
       "      <td>0.509283</td>\n",
       "      <td>6.07</td>\n",
       "    </tr>\n",
       "  </tbody>\n",
       "</table>\n",
       "</div>"
      ],
      "text/plain": [
       "                               index  count  pct_orders  product_id  \\\n",
       "0      Grilled Chicken Breast Strips     25        2.34       17878   \n",
       "1           Naturals Chicken Nuggets     30        2.81        2452   \n",
       "2             Organic Chicken Strips     29        2.72       43504   \n",
       "3         Organic Baby Spinach Salad     44        4.12       25931   \n",
       "4            Organic Original Hommus     30        2.81        2825   \n",
       "5               Organic Turkey Bacon     34        3.18        5646   \n",
       "6  Organic Thompson Seedless Raisins     27        2.53        5134   \n",
       "7          Roasted Red Pepper Hummus     35        3.28       21019   \n",
       "8    Organic Chicken & Apple Sausage     26        2.43        9339   \n",
       "9        Organic Snipped Green Beans     33        3.09       13629   \n",
       "\n",
       "   pop_pct_orders  purchase_ratio  \n",
       "0        0.195055           12.00  \n",
       "1        0.305810            9.19  \n",
       "2        0.324751            8.38  \n",
       "3        0.516562            7.98  \n",
       "4        0.389935            7.21  \n",
       "5        0.447285            7.11  \n",
       "6        0.363335            6.96  \n",
       "7        0.498029            6.59  \n",
       "8        0.379763            6.40  \n",
       "9        0.509283            6.07  "
      ]
     },
     "execution_count": 87,
     "metadata": {},
     "output_type": "execute_result"
    }
   ],
   "source": [
    "turkey_recs = top_n_recommendations(df, 23, 100)\n",
    "turkey_recs"
   ]
  },
  {
   "cell_type": "code",
   "execution_count": 132,
   "metadata": {},
   "outputs": [
    {
     "data": {
      "application/vnd.vegalite.v2+json": {
       "$schema": "https://vega.github.io/schema/vega-lite/v2.6.0.json",
       "config": {
        "axis": {
         "labelFontSize": 12,
         "titleFontSize": 12
        },
        "background": "white",
        "title": {
         "fontSize": 18
        },
        "view": {
         "height": 300,
         "width": 400
        }
       },
       "data": {
        "name": "data-2b40dba9b490be39ff737244e743da31"
       },
       "datasets": {
        "data-2b40dba9b490be39ff737244e743da31": [
         {
          "count": 25,
          "index": "Grilled Chicken Breast Strips",
          "pct_orders": 2.34,
          "pop_pct_orders": 0.19505519158699158,
          "product_id": 17878,
          "purchase_ratio": 12
         },
         {
          "count": 30,
          "index": "Naturals Chicken Nuggets",
          "pct_orders": 2.81,
          "pop_pct_orders": 0.305809593044074,
          "product_id": 2452,
          "purchase_ratio": 9.19
         },
         {
          "count": 29,
          "index": "Organic Chicken Strips",
          "pct_orders": 2.72,
          "pop_pct_orders": 0.3247509633645252,
          "product_id": 43504,
          "purchase_ratio": 8.38
         },
         {
          "count": 44,
          "index": "Organic Baby Spinach Salad",
          "pct_orders": 4.12,
          "pop_pct_orders": 0.5165615683688469,
          "product_id": 25931,
          "purchase_ratio": 7.98
         },
         {
          "count": 30,
          "index": "Organic Original Hommus",
          "pct_orders": 2.81,
          "pop_pct_orders": 0.3899350001154605,
          "product_id": 2825,
          "purchase_ratio": 7.21
         },
         {
          "count": 34,
          "index": "Organic Turkey Bacon",
          "pct_orders": 3.18,
          "pop_pct_orders": 0.4472852602523821,
          "product_id": 5646,
          "purchase_ratio": 7.11
         },
         {
          "count": 27,
          "index": "Organic Thompson Seedless Raisins",
          "pct_orders": 2.53,
          "pop_pct_orders": 0.3633352362395183,
          "product_id": 5134,
          "purchase_ratio": 6.96
         },
         {
          "count": 35,
          "index": "Roasted Red Pepper Hummus",
          "pct_orders": 3.28,
          "pop_pct_orders": 0.4980294251849487,
          "product_id": 21019,
          "purchase_ratio": 6.59
         },
         {
          "count": 26,
          "index": "Organic Chicken & Apple Sausage",
          "pct_orders": 2.43,
          "pop_pct_orders": 0.3797627827211441,
          "product_id": 9339,
          "purchase_ratio": 6.4
         },
         {
          "count": 33,
          "index": "Organic Snipped Green Beans",
          "pct_orders": 3.09,
          "pop_pct_orders": 0.5092831714401551,
          "product_id": 13629,
          "purchase_ratio": 6.07
         }
        ]
       },
       "encoding": {
        "color": {
         "field": "purchase_ratio",
         "legend": null,
         "scale": {
          "scheme": "viridis"
         },
         "sort": "descending",
         "type": "quantitative"
        },
        "tooltip": [
         {
          "field": "index",
          "title": "Item",
          "type": "ordinal"
         },
         {
          "field": "product_id",
          "title": "Product ID",
          "type": "ordinal"
         },
         {
          "field": "purchase_ratio",
          "title": "Purchase Ratio",
          "type": "quantitative"
         },
         {
          "field": "pct_orders",
          "title": "% of Orders",
          "type": "quantitative"
         },
         {
          "field": "count",
          "title": "Total Orders",
          "type": "quantitative"
         }
        ],
        "x": {
         "bin": false,
         "field": "index",
         "sort": [
          "Grilled Chicken Breast Strips",
          "Naturals Chicken Nuggets",
          "Organic Chicken Strips",
          "Organic Baby Spinach Salad",
          "Organic Original Hommus",
          "Organic Turkey Bacon",
          "Organic Thompson Seedless Raisins",
          "Roasted Red Pepper Hummus",
          "Organic Chicken & Apple Sausage",
          "Organic Snipped Green Beans"
         ],
         "title": "",
         "type": "ordinal"
        },
        "y": {
         "field": "purchase_ratio",
         "title": "Purchased X Times More then Average",
         "type": "quantitative"
        }
       },
       "height": 400,
       "mark": "bar",
       "title": "Top 10 Recs based on purchase of Organic Turkey Burgers",
       "width": 800
      },
      "image/png": "[encoded data removed]",
      "text/plain": [
       "<VegaLite 2 object>\n",
       "\n",
       "If you see this message, it means the renderer has not been properly enabled\n",
       "for the frontend that you are using. For more information, see\n",
       "https://altair-viz.github.io/user_guide/troubleshooting.html\n"
      ]
     },
     "execution_count": 132,
     "metadata": {},
     "output_type": "execute_result"
    }
   ],
   "source": [
    "top_n_rec_viz(turkey_recs, 23)"
   ]
  },
  {
   "cell_type": "code",
   "execution_count": 127,
   "metadata": {},
   "outputs": [
    {
     "data": {
      "text/plain": [
       "39947"
      ]
     },
     "execution_count": 127,
     "metadata": {},
     "output_type": "execute_result"
    }
   ],
   "source": [
    "product_dict['Blackberry Cucumber Sparkling Water']"
   ]
  },
  {
   "cell_type": "code",
   "execution_count": 130,
   "metadata": {},
   "outputs": [
    {
     "data": {
      "text/plain": [
       "'Blackberry Cucumber Sparkling Water'"
      ]
     },
     "execution_count": 130,
     "metadata": {},
     "output_type": "execute_result"
    }
   ],
   "source": [
    "product_dict_inv[39947]"
   ]
  },
  {
   "cell_type": "code",
   "execution_count": null,
   "metadata": {},
   "outputs": [],
   "source": []
  },
  {
   "cell_type": "markdown",
   "metadata": {},
   "source": [
    "### Organic Shredded Mozzarella"
   ]
  },
  {
   "cell_type": "code",
   "execution_count": 128,
   "metadata": {},
   "outputs": [
    {
     "data": {
      "text/html": [
       "<div>\n",
       "<style scoped>\n",
       "    .dataframe tbody tr th:only-of-type {\n",
       "        vertical-align: middle;\n",
       "    }\n",
       "\n",
       "    .dataframe tbody tr th {\n",
       "        vertical-align: top;\n",
       "    }\n",
       "\n",
       "    .dataframe thead th {\n",
       "        text-align: right;\n",
       "    }\n",
       "</style>\n",
       "<table border=\"1\" class=\"dataframe\">\n",
       "  <thead>\n",
       "    <tr style=\"text-align: right;\">\n",
       "      <th></th>\n",
       "      <th>index</th>\n",
       "      <th>count</th>\n",
       "      <th>pct_orders</th>\n",
       "      <th>product_id</th>\n",
       "      <th>pop_pct_orders</th>\n",
       "      <th>purchase_ratio</th>\n",
       "    </tr>\n",
       "  </thead>\n",
       "  <tbody>\n",
       "    <tr>\n",
       "      <th>0</th>\n",
       "      <td>Whole Milk Ricotta Cheese</td>\n",
       "      <td>1156</td>\n",
       "      <td>6.27</td>\n",
       "      <td>2314</td>\n",
       "      <td>0.304991</td>\n",
       "      <td>20.56</td>\n",
       "    </tr>\n",
       "    <tr>\n",
       "      <th>1</th>\n",
       "      <td>Pizza Sauce</td>\n",
       "      <td>509</td>\n",
       "      <td>2.76</td>\n",
       "      <td>38288</td>\n",
       "      <td>0.143405</td>\n",
       "      <td>19.25</td>\n",
       "    </tr>\n",
       "    <tr>\n",
       "      <th>2</th>\n",
       "      <td>Uncured Pepperoni</td>\n",
       "      <td>626</td>\n",
       "      <td>3.39</td>\n",
       "      <td>37119</td>\n",
       "      <td>0.234136</td>\n",
       "      <td>14.48</td>\n",
       "    </tr>\n",
       "    <tr>\n",
       "      <th>3</th>\n",
       "      <td>Organic Shredded Mild Cheddar</td>\n",
       "      <td>584</td>\n",
       "      <td>3.17</td>\n",
       "      <td>781</td>\n",
       "      <td>0.243373</td>\n",
       "      <td>13.03</td>\n",
       "    </tr>\n",
       "    <tr>\n",
       "      <th>4</th>\n",
       "      <td>Sliced Black Olives</td>\n",
       "      <td>507</td>\n",
       "      <td>2.75</td>\n",
       "      <td>14462</td>\n",
       "      <td>0.316157</td>\n",
       "      <td>8.70</td>\n",
       "    </tr>\n",
       "    <tr>\n",
       "      <th>5</th>\n",
       "      <td>Grated Parmesan</td>\n",
       "      <td>1699</td>\n",
       "      <td>9.21</td>\n",
       "      <td>33731</td>\n",
       "      <td>1.322330</td>\n",
       "      <td>6.96</td>\n",
       "    </tr>\n",
       "    <tr>\n",
       "      <th>6</th>\n",
       "      <td>Shredded Parmesan</td>\n",
       "      <td>1307</td>\n",
       "      <td>7.08</td>\n",
       "      <td>4799</td>\n",
       "      <td>1.062967</td>\n",
       "      <td>6.66</td>\n",
       "    </tr>\n",
       "    <tr>\n",
       "      <th>7</th>\n",
       "      <td>Organic Chopped Spinach</td>\n",
       "      <td>417</td>\n",
       "      <td>2.26</td>\n",
       "      <td>18918</td>\n",
       "      <td>0.348574</td>\n",
       "      <td>6.48</td>\n",
       "    </tr>\n",
       "    <tr>\n",
       "      <th>8</th>\n",
       "      <td>Organic Tomato Sauce</td>\n",
       "      <td>424</td>\n",
       "      <td>2.30</td>\n",
       "      <td>44449</td>\n",
       "      <td>0.397447</td>\n",
       "      <td>5.79</td>\n",
       "    </tr>\n",
       "    <tr>\n",
       "      <th>9</th>\n",
       "      <td>Organic Tomato Basil Pasta Sauce</td>\n",
       "      <td>494</td>\n",
       "      <td>2.68</td>\n",
       "      <td>39619</td>\n",
       "      <td>0.491774</td>\n",
       "      <td>5.45</td>\n",
       "    </tr>\n",
       "  </tbody>\n",
       "</table>\n",
       "</div>"
      ],
      "text/plain": [
       "                              index  count  pct_orders  product_id  \\\n",
       "0         Whole Milk Ricotta Cheese   1156        6.27        2314   \n",
       "1                       Pizza Sauce    509        2.76       38288   \n",
       "2                 Uncured Pepperoni    626        3.39       37119   \n",
       "3     Organic Shredded Mild Cheddar    584        3.17         781   \n",
       "4               Sliced Black Olives    507        2.75       14462   \n",
       "5                   Grated Parmesan   1699        9.21       33731   \n",
       "6                 Shredded Parmesan   1307        7.08        4799   \n",
       "7           Organic Chopped Spinach    417        2.26       18918   \n",
       "8              Organic Tomato Sauce    424        2.30       44449   \n",
       "9  Organic Tomato Basil Pasta Sauce    494        2.68       39619   \n",
       "\n",
       "   pop_pct_orders  purchase_ratio  \n",
       "0        0.304991           20.56  \n",
       "1        0.143405           19.25  \n",
       "2        0.234136           14.48  \n",
       "3        0.243373           13.03  \n",
       "4        0.316157            8.70  \n",
       "5        1.322330            6.96  \n",
       "6        1.062967            6.66  \n",
       "7        0.348574            6.48  \n",
       "8        0.397447            5.79  \n",
       "9        0.491774            5.45  "
      ]
     },
     "execution_count": 128,
     "metadata": {},
     "output_type": "execute_result"
    }
   ],
   "source": [
    "mozz_recs = top_n_recommendations(df, 18370, 100)\n",
    "mozz_recs"
   ]
  },
  {
   "cell_type": "code",
   "execution_count": 133,
   "metadata": {},
   "outputs": [
    {
     "data": {
      "application/vnd.vegalite.v2+json": {
       "$schema": "https://vega.github.io/schema/vega-lite/v2.6.0.json",
       "config": {
        "axis": {
         "labelFontSize": 12,
         "titleFontSize": 12
        },
        "background": "white",
        "title": {
         "fontSize": 18
        },
        "view": {
         "height": 300,
         "width": 400
        }
       },
       "data": {
        "name": "data-5a0f33ea1f4fa7b87364aa4251ff00de"
       },
       "datasets": {
        "data-5a0f33ea1f4fa7b87364aa4251ff00de": [
         {
          "count": 1156,
          "index": "Whole Milk Ricotta Cheese",
          "pct_orders": 6.27,
          "pop_pct_orders": 0.3049911387709681,
          "product_id": 2314,
          "purchase_ratio": 20.56
         },
         {
          "count": 509,
          "index": "Pizza Sauce",
          "pct_orders": 2.76,
          "pop_pct_orders": 0.14340488085205766,
          "product_id": 38288,
          "purchase_ratio": 19.25
         },
         {
          "count": 626,
          "index": "Uncured Pepperoni",
          "pct_orders": 3.39,
          "pop_pct_orders": 0.234136383127799,
          "product_id": 37119,
          "purchase_ratio": 14.48
         },
         {
          "count": 584,
          "index": "Organic Shredded Mild Cheddar",
          "pct_orders": 3.17,
          "pop_pct_orders": 0.2433732242099943,
          "product_id": 781,
          "purchase_ratio": 13.03
         },
         {
          "count": 507,
          "index": "Sliced Black Olives",
          "pct_orders": 2.75,
          "pop_pct_orders": 0.31615719349691307,
          "product_id": 14462,
          "purchase_ratio": 8.7
         },
         {
          "count": 1699,
          "index": "Grated Parmesan",
          "pct_orders": 9.21,
          "pop_pct_orders": 1.3223298002416193,
          "product_id": 33731,
          "purchase_ratio": 6.96
         },
         {
          "count": 1307,
          "index": "Shredded Parmesan",
          "pct_orders": 7.08,
          "pop_pct_orders": 1.062967487196306,
          "product_id": 4799,
          "purchase_ratio": 6.66
         },
         {
          "count": 417,
          "index": "Organic Chopped Spinach",
          "pct_orders": 2.26,
          "pop_pct_orders": 0.34857382881385807,
          "product_id": 18918,
          "purchase_ratio": 6.48
         },
         {
          "count": 424,
          "index": "Organic Tomato Sauce",
          "pct_orders": 2.3,
          "pop_pct_orders": 0.3974472411221826,
          "product_id": 44449,
          "purchase_ratio": 5.79
         },
         {
          "count": 494,
          "index": "Organic Tomato Basil Pasta Sauce",
          "pct_orders": 2.68,
          "pop_pct_orders": 0.4917740960976392,
          "product_id": 39619,
          "purchase_ratio": 5.45
         }
        ]
       },
       "encoding": {
        "color": {
         "field": "purchase_ratio",
         "legend": null,
         "scale": {
          "scheme": "viridis"
         },
         "sort": "descending",
         "type": "quantitative"
        },
        "tooltip": [
         {
          "field": "index",
          "title": "Item",
          "type": "ordinal"
         },
         {
          "field": "product_id",
          "title": "Product ID",
          "type": "ordinal"
         },
         {
          "field": "purchase_ratio",
          "title": "Purchase Ratio",
          "type": "quantitative"
         },
         {
          "field": "pct_orders",
          "title": "% of Orders",
          "type": "quantitative"
         },
         {
          "field": "count",
          "title": "Total Orders",
          "type": "quantitative"
         }
        ],
        "x": {
         "bin": false,
         "field": "index",
         "sort": [
          "Whole Milk Ricotta Cheese",
          "Pizza Sauce",
          "Uncured Pepperoni",
          "Organic Shredded Mild Cheddar",
          "Sliced Black Olives",
          "Grated Parmesan",
          "Shredded Parmesan",
          "Organic Chopped Spinach",
          "Organic Tomato Sauce",
          "Organic Tomato Basil Pasta Sauce"
         ],
         "title": "",
         "type": "ordinal"
        },
        "y": {
         "field": "purchase_ratio",
         "title": "Purchased X Times More then Average",
         "type": "quantitative"
        }
       },
       "height": 400,
       "mark": "bar",
       "title": "Top 10 Recs based on purchase of Organic Shredded Mozzarella",
       "width": 800
      },
      "image/png": "[encoded data removed]",
      "text/plain": [
       "<VegaLite 2 object>\n",
       "\n",
       "If you see this message, it means the renderer has not been properly enabled\n",
       "for the frontend that you are using. For more information, see\n",
       "https://altair-viz.github.io/user_guide/troubleshooting.html\n"
      ]
     },
     "execution_count": 133,
     "metadata": {},
     "output_type": "execute_result"
    }
   ],
   "source": [
    "top_n_rec_viz(mozz_recs, 18370)"
   ]
  },
  {
   "cell_type": "markdown",
   "metadata": {},
   "source": [
    "### Sourdough Bread"
   ]
  },
  {
   "cell_type": "code",
   "execution_count": 138,
   "metadata": {},
   "outputs": [
    {
     "data": {
      "text/html": [
       "<div>\n",
       "<style scoped>\n",
       "    .dataframe tbody tr th:only-of-type {\n",
       "        vertical-align: middle;\n",
       "    }\n",
       "\n",
       "    .dataframe tbody tr th {\n",
       "        vertical-align: top;\n",
       "    }\n",
       "\n",
       "    .dataframe thead th {\n",
       "        text-align: right;\n",
       "    }\n",
       "</style>\n",
       "<table border=\"1\" class=\"dataframe\">\n",
       "  <thead>\n",
       "    <tr style=\"text-align: right;\">\n",
       "      <th></th>\n",
       "      <th>index</th>\n",
       "      <th>count</th>\n",
       "      <th>pct_orders</th>\n",
       "      <th>product_id</th>\n",
       "      <th>pop_pct_orders</th>\n",
       "      <th>purchase_ratio</th>\n",
       "    </tr>\n",
       "  </thead>\n",
       "  <tbody>\n",
       "    <tr>\n",
       "      <th>0</th>\n",
       "      <td>Salted Butter</td>\n",
       "      <td>419</td>\n",
       "      <td>2.57</td>\n",
       "      <td>35108</td>\n",
       "      <td>0.560144</td>\n",
       "      <td>4.59</td>\n",
       "    </tr>\n",
       "    <tr>\n",
       "      <th>1</th>\n",
       "      <td>Sea Salt Pita Chips</td>\n",
       "      <td>353</td>\n",
       "      <td>2.16</td>\n",
       "      <td>31040</td>\n",
       "      <td>0.485986</td>\n",
       "      <td>4.44</td>\n",
       "    </tr>\n",
       "    <tr>\n",
       "      <th>2</th>\n",
       "      <td>Organic Creamy Peanut Butter</td>\n",
       "      <td>326</td>\n",
       "      <td>2.00</td>\n",
       "      <td>43713</td>\n",
       "      <td>0.527318</td>\n",
       "      <td>3.79</td>\n",
       "    </tr>\n",
       "    <tr>\n",
       "      <th>3</th>\n",
       "      <td>Organic Sour Cream</td>\n",
       "      <td>473</td>\n",
       "      <td>2.90</td>\n",
       "      <td>42701</td>\n",
       "      <td>0.780192</td>\n",
       "      <td>3.72</td>\n",
       "    </tr>\n",
       "    <tr>\n",
       "      <th>4</th>\n",
       "      <td>Uncured Genoa Salami</td>\n",
       "      <td>712</td>\n",
       "      <td>4.36</td>\n",
       "      <td>27344</td>\n",
       "      <td>1.212277</td>\n",
       "      <td>3.60</td>\n",
       "    </tr>\n",
       "    <tr>\n",
       "      <th>5</th>\n",
       "      <td>Whipped Cream Cheese</td>\n",
       "      <td>532</td>\n",
       "      <td>3.26</td>\n",
       "      <td>42828</td>\n",
       "      <td>0.911758</td>\n",
       "      <td>3.58</td>\n",
       "    </tr>\n",
       "    <tr>\n",
       "      <th>6</th>\n",
       "      <td>Sharp Cheddar Cheese</td>\n",
       "      <td>511</td>\n",
       "      <td>3.13</td>\n",
       "      <td>16185</td>\n",
       "      <td>0.881884</td>\n",
       "      <td>3.55</td>\n",
       "    </tr>\n",
       "    <tr>\n",
       "      <th>7</th>\n",
       "      <td>Organic Reduced Fat Milk</td>\n",
       "      <td>592</td>\n",
       "      <td>3.63</td>\n",
       "      <td>38689</td>\n",
       "      <td>1.042448</td>\n",
       "      <td>3.48</td>\n",
       "    </tr>\n",
       "    <tr>\n",
       "      <th>8</th>\n",
       "      <td>Unsalted Butter</td>\n",
       "      <td>561</td>\n",
       "      <td>3.44</td>\n",
       "      <td>42736</td>\n",
       "      <td>1.042565</td>\n",
       "      <td>3.30</td>\n",
       "    </tr>\n",
       "    <tr>\n",
       "      <th>9</th>\n",
       "      <td>Shredded Parmesan</td>\n",
       "      <td>558</td>\n",
       "      <td>3.42</td>\n",
       "      <td>4799</td>\n",
       "      <td>1.062967</td>\n",
       "      <td>3.22</td>\n",
       "    </tr>\n",
       "  </tbody>\n",
       "</table>\n",
       "</div>"
      ],
      "text/plain": [
       "                          index  count  pct_orders  product_id  \\\n",
       "0                 Salted Butter    419        2.57       35108   \n",
       "1           Sea Salt Pita Chips    353        2.16       31040   \n",
       "2  Organic Creamy Peanut Butter    326        2.00       43713   \n",
       "3            Organic Sour Cream    473        2.90       42701   \n",
       "4          Uncured Genoa Salami    712        4.36       27344   \n",
       "5          Whipped Cream Cheese    532        3.26       42828   \n",
       "6          Sharp Cheddar Cheese    511        3.13       16185   \n",
       "7      Organic Reduced Fat Milk    592        3.63       38689   \n",
       "8               Unsalted Butter    561        3.44       42736   \n",
       "9             Shredded Parmesan    558        3.42        4799   \n",
       "\n",
       "   pop_pct_orders  purchase_ratio  \n",
       "0        0.560144            4.59  \n",
       "1        0.485986            4.44  \n",
       "2        0.527318            3.79  \n",
       "3        0.780192            3.72  \n",
       "4        1.212277            3.60  \n",
       "5        0.911758            3.58  \n",
       "6        0.881884            3.55  \n",
       "7        1.042448            3.48  \n",
       "8        1.042565            3.30  \n",
       "9        1.062967            3.22  "
      ]
     },
     "execution_count": 138,
     "metadata": {},
     "output_type": "execute_result"
    }
   ],
   "source": [
    "bread_recs = top_n_recommendations(df, 21267, 100)\n",
    "bread_recs"
   ]
  },
  {
   "cell_type": "code",
   "execution_count": 139,
   "metadata": {},
   "outputs": [
    {
     "data": {
      "application/vnd.vegalite.v2+json": {
       "$schema": "https://vega.github.io/schema/vega-lite/v2.6.0.json",
       "config": {
        "axis": {
         "labelFontSize": 12,
         "titleFontSize": 12
        },
        "background": "white",
        "title": {
         "fontSize": 18
        },
        "view": {
         "height": 300,
         "width": 400
        }
       },
       "data": {
        "name": "data-422de99de05f952030b6d5b30b1779eb"
       },
       "datasets": {
        "data-422de99de05f952030b6d5b30b1779eb": [
         {
          "count": 419,
          "index": "Salted Butter",
          "pct_orders": 2.57,
          "pop_pct_orders": 0.5601442584117369,
          "product_id": 35108,
          "purchase_ratio": 4.59
         },
         {
          "count": 353,
          "index": "Sea Salt Pita Chips",
          "pct_orders": 2.16,
          "pop_pct_orders": 0.48598645516639033,
          "product_id": 31040,
          "purchase_ratio": 4.44
         },
         {
          "count": 326,
          "index": "Organic Creamy Peanut Butter",
          "pct_orders": 2,
          "pop_pct_orders": 0.527318395958239,
          "product_id": 43713,
          "purchase_ratio": 3.79
         },
         {
          "count": 473,
          "index": "Organic Sour Cream",
          "pct_orders": 2.9,
          "pop_pct_orders": 0.7801915358382127,
          "product_id": 42701,
          "purchase_ratio": 3.72
         },
         {
          "count": 712,
          "index": "Uncured Genoa Salami",
          "pct_orders": 4.36,
          "pop_pct_orders": 1.2122769310186279,
          "product_id": 27344,
          "purchase_ratio": 3.6
         },
         {
          "count": 532,
          "index": "Whipped Cream Cheese",
          "pct_orders": 3.26,
          "pop_pct_orders": 0.9117580602399884,
          "product_id": 42828,
          "purchase_ratio": 3.58
         },
         {
          "count": 511,
          "index": "Sharp Cheddar Cheese",
          "pct_orders": 3.13,
          "pop_pct_orders": 0.8818844792716225,
          "product_id": 16185,
          "purchase_ratio": 3.55
         },
         {
          "count": 592,
          "index": "Organic Reduced Fat Milk",
          "pct_orders": 3.63,
          "pop_pct_orders": 1.0424476693491507,
          "product_id": 38689,
          "purchase_ratio": 3.48
         },
         {
          "count": 561,
          "index": "Unsalted Butter",
          "pct_orders": 3.44,
          "pop_pct_orders": 1.0425645913881656,
          "product_id": 42736,
          "purchase_ratio": 3.3
         },
         {
          "count": 558,
          "index": "Shredded Parmesan",
          "pct_orders": 3.42,
          "pop_pct_orders": 1.062967487196306,
          "product_id": 4799,
          "purchase_ratio": 3.22
         }
        ]
       },
       "encoding": {
        "color": {
         "field": "purchase_ratio",
         "legend": null,
         "scale": {
          "scheme": "viridis"
         },
         "sort": "descending",
         "type": "quantitative"
        },
        "tooltip": [
         {
          "field": "index",
          "title": "Item",
          "type": "ordinal"
         },
         {
          "field": "product_id",
          "title": "Product ID",
          "type": "ordinal"
         },
         {
          "field": "purchase_ratio",
          "title": "Purchase Ratio",
          "type": "quantitative"
         },
         {
          "field": "pct_orders",
          "title": "% of Orders",
          "type": "quantitative"
         },
         {
          "field": "count",
          "title": "Total Orders",
          "type": "quantitative"
         }
        ],
        "x": {
         "bin": false,
         "field": "index",
         "sort": [
          "Salted Butter",
          "Sea Salt Pita Chips",
          "Organic Creamy Peanut Butter",
          "Organic Sour Cream",
          "Uncured Genoa Salami",
          "Whipped Cream Cheese",
          "Sharp Cheddar Cheese",
          "Organic Reduced Fat Milk",
          "Unsalted Butter",
          "Shredded Parmesan"
         ],
         "title": "",
         "type": "ordinal"
        },
        "y": {
         "field": "purchase_ratio",
         "title": "Purchased X Times More then Average",
         "type": "quantitative"
        }
       },
       "height": 400,
       "mark": "bar",
       "title": "Top 10 Recs based on purchase of Sourdough Bread",
       "width": 800
      },
      "image/png": "[encoded data removed]",
      "text/plain": [
       "<VegaLite 2 object>\n",
       "\n",
       "If you see this message, it means the renderer has not been properly enabled\n",
       "for the frontend that you are using. For more information, see\n",
       "https://altair-viz.github.io/user_guide/troubleshooting.html\n"
      ]
     },
     "execution_count": 139,
     "metadata": {},
     "output_type": "execute_result"
    }
   ],
   "source": [
    "top_n_rec_viz(bread_recs, 21267)"
   ]
  },
  {
   "cell_type": "markdown",
   "metadata": {},
   "source": [
    "### Lemon Hummus"
   ]
  },
  {
   "cell_type": "code",
   "execution_count": 136,
   "metadata": {},
   "outputs": [
    {
     "data": {
      "text/html": [
       "<div>\n",
       "<style scoped>\n",
       "    .dataframe tbody tr th:only-of-type {\n",
       "        vertical-align: middle;\n",
       "    }\n",
       "\n",
       "    .dataframe tbody tr th {\n",
       "        vertical-align: top;\n",
       "    }\n",
       "\n",
       "    .dataframe thead th {\n",
       "        text-align: right;\n",
       "    }\n",
       "</style>\n",
       "<table border=\"1\" class=\"dataframe\">\n",
       "  <thead>\n",
       "    <tr style=\"text-align: right;\">\n",
       "      <th></th>\n",
       "      <th>index</th>\n",
       "      <th>count</th>\n",
       "      <th>pct_orders</th>\n",
       "      <th>product_id</th>\n",
       "      <th>pop_pct_orders</th>\n",
       "      <th>purchase_ratio</th>\n",
       "    </tr>\n",
       "  </thead>\n",
       "  <tbody>\n",
       "    <tr>\n",
       "      <th>0</th>\n",
       "      <td>Jalapeno Hummus</td>\n",
       "      <td>443</td>\n",
       "      <td>2.69</td>\n",
       "      <td>17429</td>\n",
       "      <td>0.225280</td>\n",
       "      <td>11.94</td>\n",
       "    </tr>\n",
       "    <tr>\n",
       "      <th>1</th>\n",
       "      <td>Garlic Hummus</td>\n",
       "      <td>368</td>\n",
       "      <td>2.24</td>\n",
       "      <td>7485</td>\n",
       "      <td>0.239076</td>\n",
       "      <td>9.37</td>\n",
       "    </tr>\n",
       "    <tr>\n",
       "      <th>2</th>\n",
       "      <td>Sea Salt Pita Chips</td>\n",
       "      <td>733</td>\n",
       "      <td>4.46</td>\n",
       "      <td>31040</td>\n",
       "      <td>0.485986</td>\n",
       "      <td>9.18</td>\n",
       "    </tr>\n",
       "    <tr>\n",
       "      <th>3</th>\n",
       "      <td>Feta Cheese Crumbles</td>\n",
       "      <td>624</td>\n",
       "      <td>3.80</td>\n",
       "      <td>40604</td>\n",
       "      <td>0.945636</td>\n",
       "      <td>4.02</td>\n",
       "    </tr>\n",
       "    <tr>\n",
       "      <th>4</th>\n",
       "      <td>Organic Peeled Whole Baby Carrots</td>\n",
       "      <td>1032</td>\n",
       "      <td>6.28</td>\n",
       "      <td>43961</td>\n",
       "      <td>1.618523</td>\n",
       "      <td>3.88</td>\n",
       "    </tr>\n",
       "    <tr>\n",
       "      <th>5</th>\n",
       "      <td>Organic Baby Carrots</td>\n",
       "      <td>1340</td>\n",
       "      <td>8.15</td>\n",
       "      <td>42265</td>\n",
       "      <td>2.247709</td>\n",
       "      <td>3.63</td>\n",
       "    </tr>\n",
       "    <tr>\n",
       "      <th>6</th>\n",
       "      <td>Organic Baby Rainbow Carrots</td>\n",
       "      <td>331</td>\n",
       "      <td>2.01</td>\n",
       "      <td>32864</td>\n",
       "      <td>0.574058</td>\n",
       "      <td>3.50</td>\n",
       "    </tr>\n",
       "    <tr>\n",
       "      <th>7</th>\n",
       "      <td>Organic Whole String Cheese</td>\n",
       "      <td>992</td>\n",
       "      <td>6.03</td>\n",
       "      <td>22035</td>\n",
       "      <td>1.744360</td>\n",
       "      <td>3.46</td>\n",
       "    </tr>\n",
       "    <tr>\n",
       "      <th>8</th>\n",
       "      <td>Original Hummus</td>\n",
       "      <td>1174</td>\n",
       "      <td>7.14</td>\n",
       "      <td>30489</td>\n",
       "      <td>2.084545</td>\n",
       "      <td>3.43</td>\n",
       "    </tr>\n",
       "    <tr>\n",
       "      <th>9</th>\n",
       "      <td>Whipped Cream Cheese</td>\n",
       "      <td>507</td>\n",
       "      <td>3.08</td>\n",
       "      <td>42828</td>\n",
       "      <td>0.911758</td>\n",
       "      <td>3.38</td>\n",
       "    </tr>\n",
       "  </tbody>\n",
       "</table>\n",
       "</div>"
      ],
      "text/plain": [
       "                               index  count  pct_orders  product_id  \\\n",
       "0                    Jalapeno Hummus    443        2.69       17429   \n",
       "1                      Garlic Hummus    368        2.24        7485   \n",
       "2                Sea Salt Pita Chips    733        4.46       31040   \n",
       "3               Feta Cheese Crumbles    624        3.80       40604   \n",
       "4  Organic Peeled Whole Baby Carrots   1032        6.28       43961   \n",
       "5               Organic Baby Carrots   1340        8.15       42265   \n",
       "6       Organic Baby Rainbow Carrots    331        2.01       32864   \n",
       "7        Organic Whole String Cheese    992        6.03       22035   \n",
       "8                    Original Hummus   1174        7.14       30489   \n",
       "9               Whipped Cream Cheese    507        3.08       42828   \n",
       "\n",
       "   pop_pct_orders  purchase_ratio  \n",
       "0        0.225280           11.94  \n",
       "1        0.239076            9.37  \n",
       "2        0.485986            9.18  \n",
       "3        0.945636            4.02  \n",
       "4        1.618523            3.88  \n",
       "5        2.247709            3.63  \n",
       "6        0.574058            3.50  \n",
       "7        1.744360            3.46  \n",
       "8        2.084545            3.43  \n",
       "9        0.911758            3.38  "
      ]
     },
     "execution_count": 136,
     "metadata": {},
     "output_type": "execute_result"
    }
   ],
   "source": [
    "hummus_recs = top_n_recommendations(df, 13646, 100)\n",
    "hummus_recs"
   ]
  },
  {
   "cell_type": "code",
   "execution_count": 137,
   "metadata": {},
   "outputs": [
    {
     "data": {
      "application/vnd.vegalite.v2+json": {
       "$schema": "https://vega.github.io/schema/vega-lite/v2.6.0.json",
       "config": {
        "axis": {
         "labelFontSize": 12,
         "titleFontSize": 12
        },
        "background": "white",
        "title": {
         "fontSize": 18
        },
        "view": {
         "height": 300,
         "width": 400
        }
       },
       "data": {
        "name": "data-19dd5b78ec6586eedf16fff028ff9c93"
       },
       "datasets": {
        "data-19dd5b78ec6586eedf16fff028ff9c93": [
         {
          "count": 443,
          "index": "Jalapeno Hummus",
          "pct_orders": 2.69,
          "pop_pct_orders": 0.22527953867240288,
          "product_id": 17429,
          "purchase_ratio": 11.94
         },
         {
          "count": 368,
          "index": "Garlic Hummus",
          "pct_orders": 2.24,
          "pop_pct_orders": 0.23907633927618827,
          "product_id": 7485,
          "purchase_ratio": 9.37
         },
         {
          "count": 733,
          "index": "Sea Salt Pita Chips",
          "pct_orders": 4.46,
          "pop_pct_orders": 0.48598645516639033,
          "product_id": 31040,
          "purchase_ratio": 9.18
         },
         {
          "count": 624,
          "index": "Feta Cheese Crumbles",
          "pct_orders": 3.8,
          "pop_pct_orders": 0.9456362210446224,
          "product_id": 40604,
          "purchase_ratio": 4.02
         },
         {
          "count": 1032,
          "index": "Organic Peeled Whole Baby Carrots",
          "pct_orders": 6.28,
          "pop_pct_orders": 1.6185225555766989,
          "product_id": 43961,
          "purchase_ratio": 3.88
         },
         {
          "count": 1340,
          "index": "Organic Baby Carrots",
          "pct_orders": 8.15,
          "pop_pct_orders": 2.2477092780268704,
          "product_id": 42265,
          "purchase_ratio": 3.63
         },
         {
          "count": 331,
          "index": "Organic Baby Rainbow Carrots",
          "pct_orders": 2.01,
          "pop_pct_orders": 0.5740579810545374,
          "product_id": 32864,
          "purchase_ratio": 3.5
         },
         {
          "count": 992,
          "index": "Organic Whole String Cheese",
          "pct_orders": 6.03,
          "pop_pct_orders": 1.7443599000667331,
          "product_id": 22035,
          "purchase_ratio": 3.46
         },
         {
          "count": 1174,
          "index": "Original Hummus",
          "pct_orders": 7.14,
          "pop_pct_orders": 2.0845445725812555,
          "product_id": 30489,
          "purchase_ratio": 3.43
         },
         {
          "count": 507,
          "index": "Whipped Cream Cheese",
          "pct_orders": 3.08,
          "pop_pct_orders": 0.9117580602399884,
          "product_id": 42828,
          "purchase_ratio": 3.38
         }
        ]
       },
       "encoding": {
        "color": {
         "field": "purchase_ratio",
         "legend": null,
         "scale": {
          "scheme": "viridis"
         },
         "sort": "descending",
         "type": "quantitative"
        },
        "tooltip": [
         {
          "field": "index",
          "title": "Item",
          "type": "ordinal"
         },
         {
          "field": "product_id",
          "title": "Product ID",
          "type": "ordinal"
         },
         {
          "field": "purchase_ratio",
          "title": "Purchase Ratio",
          "type": "quantitative"
         },
         {
          "field": "pct_orders",
          "title": "% of Orders",
          "type": "quantitative"
         },
         {
          "field": "count",
          "title": "Total Orders",
          "type": "quantitative"
         }
        ],
        "x": {
         "bin": false,
         "field": "index",
         "sort": [
          "Jalapeno Hummus",
          "Garlic Hummus",
          "Sea Salt Pita Chips",
          "Feta Cheese Crumbles",
          "Organic Peeled Whole Baby Carrots",
          "Organic Baby Carrots",
          "Organic Baby Rainbow Carrots",
          "Organic Whole String Cheese",
          "Original Hummus",
          "Whipped Cream Cheese"
         ],
         "title": "",
         "type": "ordinal"
        },
        "y": {
         "field": "purchase_ratio",
         "title": "Purchased X Times More then Average",
         "type": "quantitative"
        }
       },
       "height": 400,
       "mark": "bar",
       "title": "Top 10 Recs based on purchase of Lemon Hummus",
       "width": 800
      },
      "image/png": "[encoded data removed]",
      "text/plain": [
       "<VegaLite 2 object>\n",
       "\n",
       "If you see this message, it means the renderer has not been properly enabled\n",
       "for the frontend that you are using. For more information, see\n",
       "https://altair-viz.github.io/user_guide/troubleshooting.html\n"
      ]
     },
     "execution_count": 137,
     "metadata": {},
     "output_type": "execute_result"
    }
   ],
   "source": [
    "top_n_rec_viz(hummus_recs, 13646)"
   ]
  },
  {
   "cell_type": "markdown",
   "metadata": {},
   "source": [
    "### Blackberry Cucumber Sparkling Water"
   ]
  },
  {
   "cell_type": "code",
   "execution_count": 134,
   "metadata": {},
   "outputs": [
    {
     "data": {
      "text/html": [
       "<div>\n",
       "<style scoped>\n",
       "    .dataframe tbody tr th:only-of-type {\n",
       "        vertical-align: middle;\n",
       "    }\n",
       "\n",
       "    .dataframe tbody tr th {\n",
       "        vertical-align: top;\n",
       "    }\n",
       "\n",
       "    .dataframe thead th {\n",
       "        text-align: right;\n",
       "    }\n",
       "</style>\n",
       "<table border=\"1\" class=\"dataframe\">\n",
       "  <thead>\n",
       "    <tr style=\"text-align: right;\">\n",
       "      <th></th>\n",
       "      <th>index</th>\n",
       "      <th>count</th>\n",
       "      <th>pct_orders</th>\n",
       "      <th>product_id</th>\n",
       "      <th>pop_pct_orders</th>\n",
       "      <th>purchase_ratio</th>\n",
       "    </tr>\n",
       "  </thead>\n",
       "  <tbody>\n",
       "    <tr>\n",
       "      <th>0</th>\n",
       "      <td>Kiwi Sandia Sparkling Water</td>\n",
       "      <td>3160</td>\n",
       "      <td>28.12</td>\n",
       "      <td>12576</td>\n",
       "      <td>0.267401</td>\n",
       "      <td>105.16</td>\n",
       "    </tr>\n",
       "    <tr>\n",
       "      <th>1</th>\n",
       "      <td>Curate Melon Pomelo Sparking Water</td>\n",
       "      <td>2389</td>\n",
       "      <td>21.26</td>\n",
       "      <td>45747</td>\n",
       "      <td>0.206075</td>\n",
       "      <td>103.17</td>\n",
       "    </tr>\n",
       "    <tr>\n",
       "      <th>2</th>\n",
       "      <td>Pineapple Strawberry Sparkling Water</td>\n",
       "      <td>651</td>\n",
       "      <td>5.79</td>\n",
       "      <td>27275</td>\n",
       "      <td>0.072258</td>\n",
       "      <td>80.13</td>\n",
       "    </tr>\n",
       "    <tr>\n",
       "      <th>3</th>\n",
       "      <td>Pineapple Strawberry Naturally Essenced Sparkl...</td>\n",
       "      <td>267</td>\n",
       "      <td>2.38</td>\n",
       "      <td>28342</td>\n",
       "      <td>0.031277</td>\n",
       "      <td>76.10</td>\n",
       "    </tr>\n",
       "    <tr>\n",
       "      <th>4</th>\n",
       "      <td>Curate Pomme Baya-Apple Berry Sparkling Water</td>\n",
       "      <td>678</td>\n",
       "      <td>6.03</td>\n",
       "      <td>41682</td>\n",
       "      <td>0.080735</td>\n",
       "      <td>74.69</td>\n",
       "    </tr>\n",
       "    <tr>\n",
       "      <th>5</th>\n",
       "      <td>Curate Cherry Lime Sparkling Water</td>\n",
       "      <td>1428</td>\n",
       "      <td>12.71</td>\n",
       "      <td>30353</td>\n",
       "      <td>0.262315</td>\n",
       "      <td>48.45</td>\n",
       "    </tr>\n",
       "    <tr>\n",
       "      <th>6</th>\n",
       "      <td>Peach-Pear Sparkling Water</td>\n",
       "      <td>329</td>\n",
       "      <td>2.93</td>\n",
       "      <td>1831</td>\n",
       "      <td>0.084125</td>\n",
       "      <td>34.83</td>\n",
       "    </tr>\n",
       "    <tr>\n",
       "      <th>7</th>\n",
       "      <td>Passionfruit Sparkling Water</td>\n",
       "      <td>858</td>\n",
       "      <td>7.64</td>\n",
       "      <td>31964</td>\n",
       "      <td>0.219755</td>\n",
       "      <td>34.77</td>\n",
       "    </tr>\n",
       "    <tr>\n",
       "      <th>8</th>\n",
       "      <td>Cran-Raspberry Flavored Sparkling Water</td>\n",
       "      <td>304</td>\n",
       "      <td>2.71</td>\n",
       "      <td>7693</td>\n",
       "      <td>0.112187</td>\n",
       "      <td>24.16</td>\n",
       "    </tr>\n",
       "    <tr>\n",
       "      <th>9</th>\n",
       "      <td>Coconut Sparkling Water</td>\n",
       "      <td>263</td>\n",
       "      <td>2.34</td>\n",
       "      <td>12919</td>\n",
       "      <td>0.120254</td>\n",
       "      <td>19.46</td>\n",
       "    </tr>\n",
       "  </tbody>\n",
       "</table>\n",
       "</div>"
      ],
      "text/plain": [
       "                                               index  count  pct_orders  \\\n",
       "0                        Kiwi Sandia Sparkling Water   3160       28.12   \n",
       "1                 Curate Melon Pomelo Sparking Water   2389       21.26   \n",
       "2               Pineapple Strawberry Sparkling Water    651        5.79   \n",
       "3  Pineapple Strawberry Naturally Essenced Sparkl...    267        2.38   \n",
       "4      Curate Pomme Baya-Apple Berry Sparkling Water    678        6.03   \n",
       "5                 Curate Cherry Lime Sparkling Water   1428       12.71   \n",
       "6                         Peach-Pear Sparkling Water    329        2.93   \n",
       "7                       Passionfruit Sparkling Water    858        7.64   \n",
       "8            Cran-Raspberry Flavored Sparkling Water    304        2.71   \n",
       "9                            Coconut Sparkling Water    263        2.34   \n",
       "\n",
       "   product_id  pop_pct_orders  purchase_ratio  \n",
       "0       12576        0.267401          105.16  \n",
       "1       45747        0.206075          103.17  \n",
       "2       27275        0.072258           80.13  \n",
       "3       28342        0.031277           76.10  \n",
       "4       41682        0.080735           74.69  \n",
       "5       30353        0.262315           48.45  \n",
       "6        1831        0.084125           34.83  \n",
       "7       31964        0.219755           34.77  \n",
       "8        7693        0.112187           24.16  \n",
       "9       12919        0.120254           19.46  "
      ]
     },
     "execution_count": 134,
     "metadata": {},
     "output_type": "execute_result"
    }
   ],
   "source": [
    "bcwater_recs = top_n_recommendations(df, 39947, 100)\n",
    "bcwater_recs"
   ]
  },
  {
   "cell_type": "code",
   "execution_count": 135,
   "metadata": {},
   "outputs": [
    {
     "data": {
      "application/vnd.vegalite.v2+json": {
       "$schema": "https://vega.github.io/schema/vega-lite/v2.6.0.json",
       "config": {
        "axis": {
         "labelFontSize": 12,
         "titleFontSize": 12
        },
        "background": "white",
        "title": {
         "fontSize": 18
        },
        "view": {
         "height": 300,
         "width": 400
        }
       },
       "data": {
        "name": "data-cd64e55840b2254c20b4398829d2ac6d"
       },
       "datasets": {
        "data-cd64e55840b2254c20b4398829d2ac6d": [
         {
          "count": 3160,
          "index": "Kiwi Sandia Sparkling Water",
          "pct_orders": 28.12,
          "pop_pct_orders": 0.2674007032276036,
          "product_id": 12576,
          "purchase_ratio": 105.16
         },
         {
          "count": 2389,
          "index": "Curate Melon Pomelo Sparking Water",
          "pct_orders": 21.26,
          "pop_pct_orders": 0.20607509376416766,
          "product_id": 45747,
          "purchase_ratio": 103.17
         },
         {
          "count": 651,
          "index": "Pineapple Strawberry Sparkling Water",
          "pct_orders": 5.79,
          "pop_pct_orders": 0.0722578201113507,
          "product_id": 27275,
          "purchase_ratio": 80.13
         },
         {
          "count": 267,
          "index": "Pineapple Strawberry Naturally Essenced Sparkling Water",
          "pct_orders": 2.38,
          "pop_pct_orders": 0.03127664543654743,
          "product_id": 28342,
          "purchase_ratio": 76.1
         },
         {
          "count": 678,
          "index": "Curate Pomme Baya-Apple Berry Sparkling Water",
          "pct_orders": 6.03,
          "pop_pct_orders": 0.08073466793994767,
          "product_id": 41682,
          "purchase_ratio": 74.69
         },
         {
          "count": 1428,
          "index": "Curate Cherry Lime Sparkling Water",
          "pct_orders": 12.71,
          "pop_pct_orders": 0.2623145945304455,
          "product_id": 30353,
          "purchase_ratio": 48.45
         },
         {
          "count": 329,
          "index": "Peach-Pear Sparkling Water",
          "pct_orders": 2.93,
          "pop_pct_orders": 0.08412540707138647,
          "product_id": 1831,
          "purchase_ratio": 34.83
         },
         {
          "count": 858,
          "index": "Passionfruit Sparkling Water",
          "pct_orders": 7.64,
          "pop_pct_orders": 0.21975497232893793,
          "product_id": 31964,
          "purchase_ratio": 34.77
         },
         {
          "count": 304,
          "index": "Cran-Raspberry Flavored Sparkling Water",
          "pct_orders": 2.71,
          "pop_pct_orders": 0.1121866964350178,
          "product_id": 7693,
          "purchase_ratio": 24.16
         },
         {
          "count": 263,
          "index": "Coconut Sparkling Water",
          "pct_orders": 2.34,
          "pop_pct_orders": 0.1202543171270618,
          "product_id": 12919,
          "purchase_ratio": 19.46
         }
        ]
       },
       "encoding": {
        "color": {
         "field": "purchase_ratio",
         "legend": null,
         "scale": {
          "scheme": "viridis"
         },
         "sort": "descending",
         "type": "quantitative"
        },
        "tooltip": [
         {
          "field": "index",
          "title": "Item",
          "type": "ordinal"
         },
         {
          "field": "product_id",
          "title": "Product ID",
          "type": "ordinal"
         },
         {
          "field": "purchase_ratio",
          "title": "Purchase Ratio",
          "type": "quantitative"
         },
         {
          "field": "pct_orders",
          "title": "% of Orders",
          "type": "quantitative"
         },
         {
          "field": "count",
          "title": "Total Orders",
          "type": "quantitative"
         }
        ],
        "x": {
         "bin": false,
         "field": "index",
         "sort": [
          "Kiwi Sandia Sparkling Water",
          "Curate Melon Pomelo Sparking Water",
          "Pineapple Strawberry Sparkling Water",
          "Pineapple Strawberry Naturally Essenced Sparkling Water",
          "Curate Pomme Baya-Apple Berry Sparkling Water",
          "Curate Cherry Lime Sparkling Water",
          "Peach-Pear Sparkling Water",
          "Passionfruit Sparkling Water",
          "Cran-Raspberry Flavored Sparkling Water",
          "Coconut Sparkling Water"
         ],
         "title": "",
         "type": "ordinal"
        },
        "y": {
         "field": "purchase_ratio",
         "title": "Purchased X Times More then Average",
         "type": "quantitative"
        }
       },
       "height": 400,
       "mark": "bar",
       "title": "Top 10 Recs based on purchase of Blackberry Cucumber Sparkling Water",
       "width": 800
      },
      "image/png": "[encoded data removed]",
      "text/plain": [
       "<VegaLite 2 object>\n",
       "\n",
       "If you see this message, it means the renderer has not been properly enabled\n",
       "for the frontend that you are using. For more information, see\n",
       "https://altair-viz.github.io/user_guide/troubleshooting.html\n"
      ]
     },
     "execution_count": 135,
     "metadata": {},
     "output_type": "execute_result"
    }
   ],
   "source": [
    "top_n_rec_viz(bcwater_recs, 39947)"
   ]
  },
  {
   "cell_type": "code",
   "execution_count": null,
   "metadata": {},
   "outputs": [],
   "source": []
  },
  {
   "cell_type": "code",
   "execution_count": null,
   "metadata": {},
   "outputs": [],
   "source": []
  },
  {
   "cell_type": "code",
   "execution_count": null,
   "metadata": {},
   "outputs": [],
   "source": []
  },
  {
   "cell_type": "markdown",
   "metadata": {},
   "source": [
    "## Similar Products (Cosine Similarity)\n",
    "\n",
    "The next type of algorithm will look also examines item similiarity, but this time we'll use cosine similiarity between all of our items to find the best matches. This is more computationally intensive than our last methodology. I've shrunk the training dataset in order to run this in Pandas, but for a full-scale version, we'd likely run it using a big data platform such as Spark or Dask. "
   ]
  },
  {
   "cell_type": "code",
   "execution_count": 86,
   "metadata": {},
   "outputs": [
    {
     "data": {
      "text/plain": [
       "(1038515, 4)"
      ]
     },
     "execution_count": 86,
     "metadata": {},
     "output_type": "execute_result"
    }
   ],
   "source": [
    "train.shape"
   ]
  },
  {
   "cell_type": "code",
   "execution_count": 141,
   "metadata": {},
   "outputs": [
    {
     "data": {
      "text/html": [
       "<div>\n",
       "<style scoped>\n",
       "    .dataframe tbody tr th:only-of-type {\n",
       "        vertical-align: middle;\n",
       "    }\n",
       "\n",
       "    .dataframe tbody tr th {\n",
       "        vertical-align: top;\n",
       "    }\n",
       "\n",
       "    .dataframe thead th {\n",
       "        text-align: right;\n",
       "    }\n",
       "</style>\n",
       "<table border=\"1\" class=\"dataframe\">\n",
       "  <thead>\n",
       "    <tr style=\"text-align: right;\">\n",
       "      <th></th>\n",
       "      <th>order_id</th>\n",
       "      <th>product_id</th>\n",
       "      <th>add_to_cart_order</th>\n",
       "      <th>reordered</th>\n",
       "    </tr>\n",
       "  </thead>\n",
       "  <tbody>\n",
       "    <tr>\n",
       "      <th>0</th>\n",
       "      <td>36</td>\n",
       "      <td>39612</td>\n",
       "      <td>1</td>\n",
       "      <td>0</td>\n",
       "    </tr>\n",
       "    <tr>\n",
       "      <th>1</th>\n",
       "      <td>36</td>\n",
       "      <td>19660</td>\n",
       "      <td>2</td>\n",
       "      <td>1</td>\n",
       "    </tr>\n",
       "    <tr>\n",
       "      <th>2</th>\n",
       "      <td>36</td>\n",
       "      <td>49235</td>\n",
       "      <td>3</td>\n",
       "      <td>0</td>\n",
       "    </tr>\n",
       "    <tr>\n",
       "      <th>3</th>\n",
       "      <td>36</td>\n",
       "      <td>43086</td>\n",
       "      <td>4</td>\n",
       "      <td>1</td>\n",
       "    </tr>\n",
       "    <tr>\n",
       "      <th>4</th>\n",
       "      <td>36</td>\n",
       "      <td>46620</td>\n",
       "      <td>5</td>\n",
       "      <td>1</td>\n",
       "    </tr>\n",
       "  </tbody>\n",
       "</table>\n",
       "</div>"
      ],
      "text/plain": [
       "   order_id  product_id  add_to_cart_order  reordered\n",
       "0        36       39612                  1          0\n",
       "1        36       19660                  2          1\n",
       "2        36       49235                  3          0\n",
       "3        36       43086                  4          1\n",
       "4        36       46620                  5          1"
      ]
     },
     "execution_count": 141,
     "metadata": {},
     "output_type": "execute_result"
    }
   ],
   "source": [
    "# smaller training dataframe\n",
    "train_sm = train[:100000].copy()\n",
    "train_sm.head()"
   ]
  },
  {
   "cell_type": "code",
   "execution_count": 19,
   "metadata": {},
   "outputs": [
    {
     "name": "stdout",
     "output_type": "stream",
     "text": [
      "<class 'pandas.core.frame.DataFrame'>\n",
      "RangeIndex: 100000 entries, 0 to 99999\n",
      "Data columns (total 4 columns):\n",
      "order_id             100000 non-null uint32\n",
      "product_id           100000 non-null uint16\n",
      "add_to_cart_order    100000 non-null uint8\n",
      "reordered            100000 non-null uint8\n",
      "dtypes: uint16(1), uint32(1), uint8(2)\n",
      "memory usage: 781.3 KB\n"
     ]
    }
   ],
   "source": [
    "train_sm.info()"
   ]
  },
  {
   "cell_type": "code",
   "execution_count": 142,
   "metadata": {},
   "outputs": [],
   "source": [
    "# create sparse matrix of products and orders\n",
    "productPivot = train_sm.pivot(index='product_id', columns='order_id', values='reordered')"
   ]
  },
  {
   "cell_type": "code",
   "execution_count": 143,
   "metadata": {},
   "outputs": [],
   "source": [
    "# fill in all nulls with 0 and all non-null values with 1\n",
    "productPivot[productPivot.notnull()] = 1\n",
    "productPivot[productPivot.isnull()] = 0"
   ]
  },
  {
   "cell_type": "code",
   "execution_count": 144,
   "metadata": {},
   "outputs": [
    {
     "data": {
      "text/plain": [
       "(16635, 9402)"
      ]
     },
     "execution_count": 144,
     "metadata": {},
     "output_type": "execute_result"
    }
   ],
   "source": [
    "productPivot.shape"
   ]
  },
  {
   "cell_type": "code",
   "execution_count": 145,
   "metadata": {},
   "outputs": [],
   "source": [
    "# create our cosine similiartiy matrix\n",
    "product_sim_matrix = cosine_similarity(productPivot)"
   ]
  },
  {
   "cell_type": "code",
   "execution_count": 146,
   "metadata": {},
   "outputs": [],
   "source": [
    "# function to find n similar items\n",
    "def find_similar_items(prod_id, matrix, n):\n",
    "    \n",
    "    index_num = np.where(productPivot.index == prod_id)[0][0]\n",
    "    \n",
    "    match_list = []\n",
    "    score_list = []\n",
    "    \n",
    "    matrix = matrix[index_num]\n",
    "    \n",
    "    for i in range(len(matrix)):\n",
    "        if matrix[i] > 0.05 and matrix[i] < 0.99:\n",
    "            match_list.append(i)\n",
    "            score_list.append(matrix[i])\n",
    "            \n",
    "    order_match_list = productPivot[productPivot.reset_index().index.isin(match_list)].index.values.tolist()\n",
    "      \n",
    "    df = products[products['product_id'].isin(order_match_list)].copy()\n",
    "    df['sim_score'] = score_list\n",
    "    df = df.sort_values(by=['sim_score'], ascending=False)\n",
    "    df = df[:n]\n",
    "    \n",
    "    return df"
   ]
  },
  {
   "cell_type": "markdown",
   "metadata": {},
   "source": [
    "### Chocolate Sandwich Cookies\n",
    "\n",
    "Let's first test this out on the first item in our product table: \"Chocalate Sandwich Cookies\""
   ]
  },
  {
   "cell_type": "code",
   "execution_count": 85,
   "metadata": {},
   "outputs": [
    {
     "data": {
      "text/html": [
       "<div>\n",
       "<style scoped>\n",
       "    .dataframe tbody tr th:only-of-type {\n",
       "        vertical-align: middle;\n",
       "    }\n",
       "\n",
       "    .dataframe tbody tr th {\n",
       "        vertical-align: top;\n",
       "    }\n",
       "\n",
       "    .dataframe thead th {\n",
       "        text-align: right;\n",
       "    }\n",
       "</style>\n",
       "<table border=\"1\" class=\"dataframe\">\n",
       "  <thead>\n",
       "    <tr style=\"text-align: right;\">\n",
       "      <th></th>\n",
       "      <th>product_id</th>\n",
       "      <th>product_name</th>\n",
       "      <th>aisle_id</th>\n",
       "      <th>department_id</th>\n",
       "      <th>sim_score</th>\n",
       "    </tr>\n",
       "  </thead>\n",
       "  <tbody>\n",
       "    <tr>\n",
       "      <th>24069</th>\n",
       "      <td>24070</td>\n",
       "      <td>Spicy Homestyle Guacamole</td>\n",
       "      <td>1</td>\n",
       "      <td>20</td>\n",
       "      <td>0.333333</td>\n",
       "    </tr>\n",
       "    <tr>\n",
       "      <th>29872</th>\n",
       "      <td>29873</td>\n",
       "      <td>Morena Pure Cane Sugar</td>\n",
       "      <td>17</td>\n",
       "      <td>13</td>\n",
       "      <td>0.333333</td>\n",
       "    </tr>\n",
       "    <tr>\n",
       "      <th>39812</th>\n",
       "      <td>39813</td>\n",
       "      <td>Rice Sea Salt &amp; Pepper Snacks</td>\n",
       "      <td>78</td>\n",
       "      <td>19</td>\n",
       "      <td>0.333333</td>\n",
       "    </tr>\n",
       "    <tr>\n",
       "      <th>10961</th>\n",
       "      <td>10962</td>\n",
       "      <td>Extra Strength Energy Shot</td>\n",
       "      <td>64</td>\n",
       "      <td>7</td>\n",
       "      <td>0.333333</td>\n",
       "    </tr>\n",
       "    <tr>\n",
       "      <th>11303</th>\n",
       "      <td>11304</td>\n",
       "      <td>Ground Black Silk Dark Coffee</td>\n",
       "      <td>26</td>\n",
       "      <td>7</td>\n",
       "      <td>0.333333</td>\n",
       "    </tr>\n",
       "    <tr>\n",
       "      <th>13819</th>\n",
       "      <td>13820</td>\n",
       "      <td>Peanut Butter Cookies</td>\n",
       "      <td>8</td>\n",
       "      <td>3</td>\n",
       "      <td>0.333333</td>\n",
       "    </tr>\n",
       "    <tr>\n",
       "      <th>16304</th>\n",
       "      <td>16305</td>\n",
       "      <td>Ritz Crackers</td>\n",
       "      <td>78</td>\n",
       "      <td>19</td>\n",
       "      <td>0.333333</td>\n",
       "    </tr>\n",
       "    <tr>\n",
       "      <th>33739</th>\n",
       "      <td>33740</td>\n",
       "      <td>Cara Cara Oranges, Bag</td>\n",
       "      <td>24</td>\n",
       "      <td>4</td>\n",
       "      <td>0.333333</td>\n",
       "    </tr>\n",
       "    <tr>\n",
       "      <th>33637</th>\n",
       "      <td>33638</td>\n",
       "      <td>Mint Rolls</td>\n",
       "      <td>46</td>\n",
       "      <td>19</td>\n",
       "      <td>0.333333</td>\n",
       "    </tr>\n",
       "    <tr>\n",
       "      <th>43961</th>\n",
       "      <td>43962</td>\n",
       "      <td>Coleslaw</td>\n",
       "      <td>123</td>\n",
       "      <td>4</td>\n",
       "      <td>0.235702</td>\n",
       "    </tr>\n",
       "  </tbody>\n",
       "</table>\n",
       "</div>"
      ],
      "text/plain": [
       "       product_id                   product_name  aisle_id  department_id  \\\n",
       "24069       24070      Spicy Homestyle Guacamole         1             20   \n",
       "29872       29873         Morena Pure Cane Sugar        17             13   \n",
       "39812       39813  Rice Sea Salt & Pepper Snacks        78             19   \n",
       "10961       10962     Extra Strength Energy Shot        64              7   \n",
       "11303       11304  Ground Black Silk Dark Coffee        26              7   \n",
       "13819       13820          Peanut Butter Cookies         8              3   \n",
       "16304       16305                  Ritz Crackers        78             19   \n",
       "33739       33740         Cara Cara Oranges, Bag        24              4   \n",
       "33637       33638                     Mint Rolls        46             19   \n",
       "43961       43962                       Coleslaw       123              4   \n",
       "\n",
       "       sim_score  \n",
       "24069   0.333333  \n",
       "29872   0.333333  \n",
       "39812   0.333333  \n",
       "10961   0.333333  \n",
       "11303   0.333333  \n",
       "13819   0.333333  \n",
       "16304   0.333333  \n",
       "33739   0.333333  \n",
       "33637   0.333333  \n",
       "43961   0.235702  "
      ]
     },
     "execution_count": 85,
     "metadata": {},
     "output_type": "execute_result"
    }
   ],
   "source": [
    "# similarity to chocolate sandwich cookies\n",
    "find_similar_items(1, product_sim_matrix, 10)"
   ]
  },
  {
   "cell_type": "markdown",
   "metadata": {},
   "source": [
    "The algorithm seems to provide reasonable results, recommending items such as peanut butter cookies, Ritz crackers, and rice sea salt & pepper snacks. However, some results seem odd, such as coleslaw and cara cara oranges. It the algorithm uncovering a deeper connection or is it simply giving us random noise?"
   ]
  },
  {
   "cell_type": "markdown",
   "metadata": {},
   "source": [
    "### Organic Turkey Burgers\n",
    "\n",
    "Next, let's take another look at our organic turkey burgers"
   ]
  },
  {
   "cell_type": "code",
   "execution_count": 90,
   "metadata": {},
   "outputs": [
    {
     "data": {
      "text/html": [
       "<div>\n",
       "<style scoped>\n",
       "    .dataframe tbody tr th:only-of-type {\n",
       "        vertical-align: middle;\n",
       "    }\n",
       "\n",
       "    .dataframe tbody tr th {\n",
       "        vertical-align: top;\n",
       "    }\n",
       "\n",
       "    .dataframe thead th {\n",
       "        text-align: right;\n",
       "    }\n",
       "</style>\n",
       "<table border=\"1\" class=\"dataframe\">\n",
       "  <thead>\n",
       "    <tr style=\"text-align: right;\">\n",
       "      <th></th>\n",
       "      <th>product_id</th>\n",
       "      <th>product_name</th>\n",
       "      <th>aisle_id</th>\n",
       "      <th>department_id</th>\n",
       "      <th>sim_score</th>\n",
       "    </tr>\n",
       "  </thead>\n",
       "  <tbody>\n",
       "    <tr>\n",
       "      <th>32332</th>\n",
       "      <td>32333</td>\n",
       "      <td>Apple + Banana Fruit Bar</td>\n",
       "      <td>3</td>\n",
       "      <td>19</td>\n",
       "      <td>0.577350</td>\n",
       "    </tr>\n",
       "    <tr>\n",
       "      <th>24582</th>\n",
       "      <td>24583</td>\n",
       "      <td>Organic  Unsweetened &amp; Salt Free Sunflower See...</td>\n",
       "      <td>88</td>\n",
       "      <td>13</td>\n",
       "      <td>0.577350</td>\n",
       "    </tr>\n",
       "    <tr>\n",
       "      <th>43634</th>\n",
       "      <td>43635</td>\n",
       "      <td>Whole Milk Greek Plain</td>\n",
       "      <td>120</td>\n",
       "      <td>16</td>\n",
       "      <td>0.408248</td>\n",
       "    </tr>\n",
       "    <tr>\n",
       "      <th>35126</th>\n",
       "      <td>35127</td>\n",
       "      <td>Matcha Almondmilk</td>\n",
       "      <td>31</td>\n",
       "      <td>7</td>\n",
       "      <td>0.333333</td>\n",
       "    </tr>\n",
       "    <tr>\n",
       "      <th>46324</th>\n",
       "      <td>46325</td>\n",
       "      <td>Original Sparkling Water</td>\n",
       "      <td>115</td>\n",
       "      <td>7</td>\n",
       "      <td>0.333333</td>\n",
       "    </tr>\n",
       "    <tr>\n",
       "      <th>29573</th>\n",
       "      <td>29574</td>\n",
       "      <td>Tempt Unsweetened Vanilla Hemp Milk</td>\n",
       "      <td>91</td>\n",
       "      <td>16</td>\n",
       "      <td>0.288675</td>\n",
       "    </tr>\n",
       "    <tr>\n",
       "      <th>25019</th>\n",
       "      <td>25020</td>\n",
       "      <td>Organic Banana Chips</td>\n",
       "      <td>50</td>\n",
       "      <td>19</td>\n",
       "      <td>0.288675</td>\n",
       "    </tr>\n",
       "    <tr>\n",
       "      <th>275</th>\n",
       "      <td>276</td>\n",
       "      <td>French Vanilla Ice Cream</td>\n",
       "      <td>37</td>\n",
       "      <td>1</td>\n",
       "      <td>0.258199</td>\n",
       "    </tr>\n",
       "    <tr>\n",
       "      <th>20167</th>\n",
       "      <td>20168</td>\n",
       "      <td>Organic Sunflower Seed Spread</td>\n",
       "      <td>88</td>\n",
       "      <td>13</td>\n",
       "      <td>0.235702</td>\n",
       "    </tr>\n",
       "    <tr>\n",
       "      <th>22720</th>\n",
       "      <td>22721</td>\n",
       "      <td>Creamy Peanut Butter Dark Roasted</td>\n",
       "      <td>88</td>\n",
       "      <td>13</td>\n",
       "      <td>0.218218</td>\n",
       "    </tr>\n",
       "  </tbody>\n",
       "</table>\n",
       "</div>"
      ],
      "text/plain": [
       "       product_id                                       product_name  \\\n",
       "32332       32333                           Apple + Banana Fruit Bar   \n",
       "24582       24583  Organic  Unsweetened & Salt Free Sunflower See...   \n",
       "43634       43635                             Whole Milk Greek Plain   \n",
       "35126       35127                                  Matcha Almondmilk   \n",
       "46324       46325                           Original Sparkling Water   \n",
       "29573       29574                Tempt Unsweetened Vanilla Hemp Milk   \n",
       "25019       25020                               Organic Banana Chips   \n",
       "275           276                           French Vanilla Ice Cream   \n",
       "20167       20168                      Organic Sunflower Seed Spread   \n",
       "22720       22721                  Creamy Peanut Butter Dark Roasted   \n",
       "\n",
       "       aisle_id  department_id  sim_score  \n",
       "32332         3             19   0.577350  \n",
       "24582        88             13   0.577350  \n",
       "43634       120             16   0.408248  \n",
       "35126        31              7   0.333333  \n",
       "46324       115              7   0.333333  \n",
       "29573        91             16   0.288675  \n",
       "25019        50             19   0.288675  \n",
       "275          37              1   0.258199  \n",
       "20167        88             13   0.235702  \n",
       "22720        88             13   0.218218  "
      ]
     },
     "execution_count": 90,
     "metadata": {},
     "output_type": "execute_result"
    }
   ],
   "source": [
    "# organic turkey burgers\n",
    "find_similar_items(23, product_sim_matrix, 10)"
   ]
  },
  {
   "cell_type": "markdown",
   "metadata": {},
   "source": [
    "This algorithm provides much different recommendations. Items it suggests purchasing include whole milk greek yogurt (plain), original sparkling water, and sunflower seed oil. My initial view of this is skepticism; however, the algorithm may perform better using the full training dataset, as sparse matrices need a very large volume of data to be workable. "
   ]
  },
  {
   "cell_type": "markdown",
   "metadata": {},
   "source": [
    "### Organic Shredded Mozzarella"
   ]
  },
  {
   "cell_type": "code",
   "execution_count": 147,
   "metadata": {},
   "outputs": [
    {
     "data": {
      "text/html": [
       "<div>\n",
       "<style scoped>\n",
       "    .dataframe tbody tr th:only-of-type {\n",
       "        vertical-align: middle;\n",
       "    }\n",
       "\n",
       "    .dataframe tbody tr th {\n",
       "        vertical-align: top;\n",
       "    }\n",
       "\n",
       "    .dataframe thead th {\n",
       "        text-align: right;\n",
       "    }\n",
       "</style>\n",
       "<table border=\"1\" class=\"dataframe\">\n",
       "  <thead>\n",
       "    <tr style=\"text-align: right;\">\n",
       "      <th></th>\n",
       "      <th>product_id</th>\n",
       "      <th>product_name</th>\n",
       "      <th>aisle_id</th>\n",
       "      <th>department_id</th>\n",
       "      <th>count</th>\n",
       "      <th>count_bin</th>\n",
       "      <th>sim_score</th>\n",
       "    </tr>\n",
       "  </thead>\n",
       "  <tbody>\n",
       "    <tr>\n",
       "      <th>31885</th>\n",
       "      <td>31886</td>\n",
       "      <td>Pretzel In Milk Chocolate Bar</td>\n",
       "      <td>45</td>\n",
       "      <td>19</td>\n",
       "      <td>1838</td>\n",
       "      <td>501-2500</td>\n",
       "      <td>0.179605</td>\n",
       "    </tr>\n",
       "    <tr>\n",
       "      <th>46349</th>\n",
       "      <td>46350</td>\n",
       "      <td>Happy Baby Super Salmon Hearty Meals</td>\n",
       "      <td>92</td>\n",
       "      <td>18</td>\n",
       "      <td>180</td>\n",
       "      <td>101-500</td>\n",
       "      <td>0.179605</td>\n",
       "    </tr>\n",
       "    <tr>\n",
       "      <th>47135</th>\n",
       "      <td>47136</td>\n",
       "      <td>Organic Blueberry Blast Z Fruit + Veggie Rope</td>\n",
       "      <td>3</td>\n",
       "      <td>19</td>\n",
       "      <td>335</td>\n",
       "      <td>101-500</td>\n",
       "      <td>0.179605</td>\n",
       "    </tr>\n",
       "    <tr>\n",
       "      <th>46954</th>\n",
       "      <td>46955</td>\n",
       "      <td>Organic Mountain Berry Spinach</td>\n",
       "      <td>50</td>\n",
       "      <td>19</td>\n",
       "      <td>588</td>\n",
       "      <td>501-2500</td>\n",
       "      <td>0.179605</td>\n",
       "    </tr>\n",
       "    <tr>\n",
       "      <th>10435</th>\n",
       "      <td>10436</td>\n",
       "      <td>Granola, Original Honey</td>\n",
       "      <td>57</td>\n",
       "      <td>14</td>\n",
       "      <td>273</td>\n",
       "      <td>101-500</td>\n",
       "      <td>0.179605</td>\n",
       "    </tr>\n",
       "    <tr>\n",
       "      <th>35520</th>\n",
       "      <td>35521</td>\n",
       "      <td>Mountain Spring Long Lasting Deodorant for Men</td>\n",
       "      <td>80</td>\n",
       "      <td>11</td>\n",
       "      <td>155</td>\n",
       "      <td>101-500</td>\n",
       "      <td>0.179605</td>\n",
       "    </tr>\n",
       "    <tr>\n",
       "      <th>10468</th>\n",
       "      <td>10469</td>\n",
       "      <td>Brown Rice Pasta Shells</td>\n",
       "      <td>131</td>\n",
       "      <td>9</td>\n",
       "      <td>741</td>\n",
       "      <td>501-2500</td>\n",
       "      <td>0.179605</td>\n",
       "    </tr>\n",
       "    <tr>\n",
       "      <th>30504</th>\n",
       "      <td>30505</td>\n",
       "      <td>Gluten Free Class French Dinner Rolls</td>\n",
       "      <td>58</td>\n",
       "      <td>1</td>\n",
       "      <td>793</td>\n",
       "      <td>501-2500</td>\n",
       "      <td>0.179605</td>\n",
       "    </tr>\n",
       "    <tr>\n",
       "      <th>35902</th>\n",
       "      <td>35903</td>\n",
       "      <td>Gluten Free Garden Margherita Pizza</td>\n",
       "      <td>79</td>\n",
       "      <td>1</td>\n",
       "      <td>292</td>\n",
       "      <td>101-500</td>\n",
       "      <td>0.179605</td>\n",
       "    </tr>\n",
       "    <tr>\n",
       "      <th>45093</th>\n",
       "      <td>45094</td>\n",
       "      <td>Gluten Free Mild Whole Green Chiles</td>\n",
       "      <td>30</td>\n",
       "      <td>6</td>\n",
       "      <td>551</td>\n",
       "      <td>501-2500</td>\n",
       "      <td>0.179605</td>\n",
       "    </tr>\n",
       "  </tbody>\n",
       "</table>\n",
       "</div>"
      ],
      "text/plain": [
       "       product_id                                    product_name  aisle_id  \\\n",
       "31885       31886                   Pretzel In Milk Chocolate Bar        45   \n",
       "46349       46350            Happy Baby Super Salmon Hearty Meals        92   \n",
       "47135       47136   Organic Blueberry Blast Z Fruit + Veggie Rope         3   \n",
       "46954       46955                  Organic Mountain Berry Spinach        50   \n",
       "10435       10436                         Granola, Original Honey        57   \n",
       "35520       35521  Mountain Spring Long Lasting Deodorant for Men        80   \n",
       "10468       10469                         Brown Rice Pasta Shells       131   \n",
       "30504       30505           Gluten Free Class French Dinner Rolls        58   \n",
       "35902       35903             Gluten Free Garden Margherita Pizza        79   \n",
       "45093       45094             Gluten Free Mild Whole Green Chiles        30   \n",
       "\n",
       "       department_id  count count_bin  sim_score  \n",
       "31885             19   1838  501-2500   0.179605  \n",
       "46349             18    180   101-500   0.179605  \n",
       "47135             19    335   101-500   0.179605  \n",
       "46954             19    588  501-2500   0.179605  \n",
       "10435             14    273   101-500   0.179605  \n",
       "35520             11    155   101-500   0.179605  \n",
       "10468              9    741  501-2500   0.179605  \n",
       "30504              1    793  501-2500   0.179605  \n",
       "35902              1    292   101-500   0.179605  \n",
       "45093              6    551  501-2500   0.179605  "
      ]
     },
     "execution_count": 147,
     "metadata": {},
     "output_type": "execute_result"
    }
   ],
   "source": [
    "# Organic Shredded Mozzarella\n",
    "find_similar_items(18370, product_sim_matrix, 10)"
   ]
  },
  {
   "cell_type": "markdown",
   "metadata": {},
   "source": [
    "Similar to the cookies, the recommendations for mozzarella sometimes seem reasonable and sometimes seem off-the-wall. Margherita pizza might be a good recommendation here, but \"Mountain Spring Long Lasting Deodorant for Men\" seems like a bit of a stretch. Even if men are more likely to purchase mozzarella than women, men's deodorant does not pass \"the common sense\" test on good recommendations for customers buying mozzarella. "
   ]
  },
  {
   "cell_type": "markdown",
   "metadata": {},
   "source": [
    "### Sourdough Bread"
   ]
  },
  {
   "cell_type": "code",
   "execution_count": 148,
   "metadata": {},
   "outputs": [
    {
     "data": {
      "text/html": [
       "<div>\n",
       "<style scoped>\n",
       "    .dataframe tbody tr th:only-of-type {\n",
       "        vertical-align: middle;\n",
       "    }\n",
       "\n",
       "    .dataframe tbody tr th {\n",
       "        vertical-align: top;\n",
       "    }\n",
       "\n",
       "    .dataframe thead th {\n",
       "        text-align: right;\n",
       "    }\n",
       "</style>\n",
       "<table border=\"1\" class=\"dataframe\">\n",
       "  <thead>\n",
       "    <tr style=\"text-align: right;\">\n",
       "      <th></th>\n",
       "      <th>product_id</th>\n",
       "      <th>product_name</th>\n",
       "      <th>aisle_id</th>\n",
       "      <th>department_id</th>\n",
       "      <th>count</th>\n",
       "      <th>count_bin</th>\n",
       "      <th>sim_score</th>\n",
       "    </tr>\n",
       "  </thead>\n",
       "  <tbody>\n",
       "    <tr>\n",
       "      <th>38475</th>\n",
       "      <td>38476</td>\n",
       "      <td>Black Bean Chipotle Veggie Burger Patties</td>\n",
       "      <td>42</td>\n",
       "      <td>1</td>\n",
       "      <td>333</td>\n",
       "      <td>101-500</td>\n",
       "      <td>0.137361</td>\n",
       "    </tr>\n",
       "    <tr>\n",
       "      <th>49498</th>\n",
       "      <td>49499</td>\n",
       "      <td>Asparagus &amp; Gruyere Ravioli</td>\n",
       "      <td>12</td>\n",
       "      <td>9</td>\n",
       "      <td>298</td>\n",
       "      <td>101-500</td>\n",
       "      <td>0.137361</td>\n",
       "    </tr>\n",
       "    <tr>\n",
       "      <th>8272</th>\n",
       "      <td>8273</td>\n",
       "      <td>Mighty Bar Beef with Cranberry &amp; Sunflower See...</td>\n",
       "      <td>3</td>\n",
       "      <td>19</td>\n",
       "      <td>8</td>\n",
       "      <td>6-20</td>\n",
       "      <td>0.137361</td>\n",
       "    </tr>\n",
       "    <tr>\n",
       "      <th>8573</th>\n",
       "      <td>8574</td>\n",
       "      <td>Squash &amp; Sweet Peas Stage 2</td>\n",
       "      <td>92</td>\n",
       "      <td>18</td>\n",
       "      <td>2436</td>\n",
       "      <td>501-2500</td>\n",
       "      <td>0.137361</td>\n",
       "    </tr>\n",
       "    <tr>\n",
       "      <th>8980</th>\n",
       "      <td>8981</td>\n",
       "      <td>No. 01 Organic Vegan Cold Pressed Juice Kale S...</td>\n",
       "      <td>31</td>\n",
       "      <td>7</td>\n",
       "      <td>101</td>\n",
       "      <td>51-100</td>\n",
       "      <td>0.137361</td>\n",
       "    </tr>\n",
       "    <tr>\n",
       "      <th>42051</th>\n",
       "      <td>42052</td>\n",
       "      <td>Lavender Hand Sanitizer</td>\n",
       "      <td>109</td>\n",
       "      <td>11</td>\n",
       "      <td>347</td>\n",
       "      <td>101-500</td>\n",
       "      <td>0.137361</td>\n",
       "    </tr>\n",
       "    <tr>\n",
       "      <th>9455</th>\n",
       "      <td>9456</td>\n",
       "      <td>Whole Milk Peach Yogurt Smoothies</td>\n",
       "      <td>100</td>\n",
       "      <td>21</td>\n",
       "      <td>54</td>\n",
       "      <td>51-100</td>\n",
       "      <td>0.137361</td>\n",
       "    </tr>\n",
       "    <tr>\n",
       "      <th>45661</th>\n",
       "      <td>45662</td>\n",
       "      <td>High Heat Cooking Grapeseed Oil</td>\n",
       "      <td>19</td>\n",
       "      <td>13</td>\n",
       "      <td>406</td>\n",
       "      <td>101-500</td>\n",
       "      <td>0.137361</td>\n",
       "    </tr>\n",
       "    <tr>\n",
       "      <th>30203</th>\n",
       "      <td>30204</td>\n",
       "      <td>Coconut Spray Oil</td>\n",
       "      <td>19</td>\n",
       "      <td>13</td>\n",
       "      <td>494</td>\n",
       "      <td>101-500</td>\n",
       "      <td>0.137361</td>\n",
       "    </tr>\n",
       "    <tr>\n",
       "      <th>30199</th>\n",
       "      <td>30200</td>\n",
       "      <td>Aspen Flower Essence Anxiety Homeopathic Remedy</td>\n",
       "      <td>6</td>\n",
       "      <td>2</td>\n",
       "      <td>9</td>\n",
       "      <td>6-20</td>\n",
       "      <td>0.137361</td>\n",
       "    </tr>\n",
       "  </tbody>\n",
       "</table>\n",
       "</div>"
      ],
      "text/plain": [
       "       product_id                                       product_name  \\\n",
       "38475       38476          Black Bean Chipotle Veggie Burger Patties   \n",
       "49498       49499                        Asparagus & Gruyere Ravioli   \n",
       "8272         8273  Mighty Bar Beef with Cranberry & Sunflower See...   \n",
       "8573         8574                        Squash & Sweet Peas Stage 2   \n",
       "8980         8981  No. 01 Organic Vegan Cold Pressed Juice Kale S...   \n",
       "42051       42052                            Lavender Hand Sanitizer   \n",
       "9455         9456                  Whole Milk Peach Yogurt Smoothies   \n",
       "45661       45662                    High Heat Cooking Grapeseed Oil   \n",
       "30203       30204                                  Coconut Spray Oil   \n",
       "30199       30200    Aspen Flower Essence Anxiety Homeopathic Remedy   \n",
       "\n",
       "       aisle_id  department_id  count count_bin  sim_score  \n",
       "38475        42              1    333   101-500   0.137361  \n",
       "49498        12              9    298   101-500   0.137361  \n",
       "8272          3             19      8      6-20   0.137361  \n",
       "8573         92             18   2436  501-2500   0.137361  \n",
       "8980         31              7    101    51-100   0.137361  \n",
       "42051       109             11    347   101-500   0.137361  \n",
       "9455        100             21     54    51-100   0.137361  \n",
       "45661        19             13    406   101-500   0.137361  \n",
       "30203        19             13    494   101-500   0.137361  \n",
       "30199         6              2      9      6-20   0.137361  "
      ]
     },
     "execution_count": 148,
     "metadata": {},
     "output_type": "execute_result"
    }
   ],
   "source": [
    "find_similar_items(21267, product_sim_matrix, 10)"
   ]
  },
  {
   "cell_type": "markdown",
   "metadata": {},
   "source": []
  },
  {
   "cell_type": "markdown",
   "metadata": {},
   "source": [
    "### Lemon Hummus"
   ]
  },
  {
   "cell_type": "code",
   "execution_count": 149,
   "metadata": {},
   "outputs": [
    {
     "data": {
      "text/html": [
       "<div>\n",
       "<style scoped>\n",
       "    .dataframe tbody tr th:only-of-type {\n",
       "        vertical-align: middle;\n",
       "    }\n",
       "\n",
       "    .dataframe tbody tr th {\n",
       "        vertical-align: top;\n",
       "    }\n",
       "\n",
       "    .dataframe thead th {\n",
       "        text-align: right;\n",
       "    }\n",
       "</style>\n",
       "<table border=\"1\" class=\"dataframe\">\n",
       "  <thead>\n",
       "    <tr style=\"text-align: right;\">\n",
       "      <th></th>\n",
       "      <th>product_id</th>\n",
       "      <th>product_name</th>\n",
       "      <th>aisle_id</th>\n",
       "      <th>department_id</th>\n",
       "      <th>count</th>\n",
       "      <th>count_bin</th>\n",
       "      <th>sim_score</th>\n",
       "    </tr>\n",
       "  </thead>\n",
       "  <tbody>\n",
       "    <tr>\n",
       "      <th>17420</th>\n",
       "      <td>17421</td>\n",
       "      <td>Coconut Mango Chia Vitality Beverage</td>\n",
       "      <td>31</td>\n",
       "      <td>7</td>\n",
       "      <td>416</td>\n",
       "      <td>101-500</td>\n",
       "      <td>0.164399</td>\n",
       "    </tr>\n",
       "    <tr>\n",
       "      <th>23507</th>\n",
       "      <td>23508</td>\n",
       "      <td>13 Gallon Recycled Trash Bags</td>\n",
       "      <td>60</td>\n",
       "      <td>17</td>\n",
       "      <td>213</td>\n",
       "      <td>101-500</td>\n",
       "      <td>0.164399</td>\n",
       "    </tr>\n",
       "    <tr>\n",
       "      <th>31769</th>\n",
       "      <td>31770</td>\n",
       "      <td>Organic Tofu</td>\n",
       "      <td>14</td>\n",
       "      <td>20</td>\n",
       "      <td>473</td>\n",
       "      <td>101-500</td>\n",
       "      <td>0.164399</td>\n",
       "    </tr>\n",
       "    <tr>\n",
       "      <th>32137</th>\n",
       "      <td>32138</td>\n",
       "      <td>Dark Roast Cold Brew Coffee Concentrate</td>\n",
       "      <td>26</td>\n",
       "      <td>7</td>\n",
       "      <td>230</td>\n",
       "      <td>101-500</td>\n",
       "      <td>0.164399</td>\n",
       "    </tr>\n",
       "    <tr>\n",
       "      <th>32303</th>\n",
       "      <td>32304</td>\n",
       "      <td>Reduced Sodium Vegetable Lentil &amp; Roasted Red ...</td>\n",
       "      <td>69</td>\n",
       "      <td>15</td>\n",
       "      <td>486</td>\n",
       "      <td>101-500</td>\n",
       "      <td>0.164399</td>\n",
       "    </tr>\n",
       "    <tr>\n",
       "      <th>17434</th>\n",
       "      <td>17435</td>\n",
       "      <td>Original California Style Hot Sauce</td>\n",
       "      <td>5</td>\n",
       "      <td>13</td>\n",
       "      <td>328</td>\n",
       "      <td>101-500</td>\n",
       "      <td>0.164399</td>\n",
       "    </tr>\n",
       "    <tr>\n",
       "      <th>30034</th>\n",
       "      <td>30035</td>\n",
       "      <td>Natural Sweetener</td>\n",
       "      <td>17</td>\n",
       "      <td>13</td>\n",
       "      <td>569</td>\n",
       "      <td>501-2500</td>\n",
       "      <td>0.164399</td>\n",
       "    </tr>\n",
       "    <tr>\n",
       "      <th>32700</th>\n",
       "      <td>32701</td>\n",
       "      <td>Roasted Seaweed Snacks Wasabi</td>\n",
       "      <td>50</td>\n",
       "      <td>19</td>\n",
       "      <td>763</td>\n",
       "      <td>501-2500</td>\n",
       "      <td>0.164399</td>\n",
       "    </tr>\n",
       "    <tr>\n",
       "      <th>34941</th>\n",
       "      <td>34942</td>\n",
       "      <td>Kahuna Crunch Trail Mix</td>\n",
       "      <td>125</td>\n",
       "      <td>19</td>\n",
       "      <td>1026</td>\n",
       "      <td>501-2500</td>\n",
       "      <td>0.164399</td>\n",
       "    </tr>\n",
       "    <tr>\n",
       "      <th>29006</th>\n",
       "      <td>29007</td>\n",
       "      <td>Crystallized Ginger Slices</td>\n",
       "      <td>117</td>\n",
       "      <td>19</td>\n",
       "      <td>386</td>\n",
       "      <td>101-500</td>\n",
       "      <td>0.164399</td>\n",
       "    </tr>\n",
       "  </tbody>\n",
       "</table>\n",
       "</div>"
      ],
      "text/plain": [
       "       product_id                                       product_name  \\\n",
       "17420       17421               Coconut Mango Chia Vitality Beverage   \n",
       "23507       23508                      13 Gallon Recycled Trash Bags   \n",
       "31769       31770                                       Organic Tofu   \n",
       "32137       32138            Dark Roast Cold Brew Coffee Concentrate   \n",
       "32303       32304  Reduced Sodium Vegetable Lentil & Roasted Red ...   \n",
       "17434       17435                Original California Style Hot Sauce   \n",
       "30034       30035                                  Natural Sweetener   \n",
       "32700       32701                      Roasted Seaweed Snacks Wasabi   \n",
       "34941       34942                            Kahuna Crunch Trail Mix   \n",
       "29006       29007                         Crystallized Ginger Slices   \n",
       "\n",
       "       aisle_id  department_id  count count_bin  sim_score  \n",
       "17420        31              7    416   101-500   0.164399  \n",
       "23507        60             17    213   101-500   0.164399  \n",
       "31769        14             20    473   101-500   0.164399  \n",
       "32137        26              7    230   101-500   0.164399  \n",
       "32303        69             15    486   101-500   0.164399  \n",
       "17434         5             13    328   101-500   0.164399  \n",
       "30034        17             13    569  501-2500   0.164399  \n",
       "32700        50             19    763  501-2500   0.164399  \n",
       "34941       125             19   1026  501-2500   0.164399  \n",
       "29006       117             19    386   101-500   0.164399  "
      ]
     },
     "execution_count": 149,
     "metadata": {},
     "output_type": "execute_result"
    }
   ],
   "source": [
    "find_similar_items(13646, product_sim_matrix, 10)"
   ]
  },
  {
   "cell_type": "markdown",
   "metadata": {},
   "source": [
    "### Blackberry Cucumber Sparkling Water"
   ]
  },
  {
   "cell_type": "code",
   "execution_count": 150,
   "metadata": {},
   "outputs": [
    {
     "data": {
      "text/html": [
       "<div>\n",
       "<style scoped>\n",
       "    .dataframe tbody tr th:only-of-type {\n",
       "        vertical-align: middle;\n",
       "    }\n",
       "\n",
       "    .dataframe tbody tr th {\n",
       "        vertical-align: top;\n",
       "    }\n",
       "\n",
       "    .dataframe thead th {\n",
       "        text-align: right;\n",
       "    }\n",
       "</style>\n",
       "<table border=\"1\" class=\"dataframe\">\n",
       "  <thead>\n",
       "    <tr style=\"text-align: right;\">\n",
       "      <th></th>\n",
       "      <th>product_id</th>\n",
       "      <th>product_name</th>\n",
       "      <th>aisle_id</th>\n",
       "      <th>department_id</th>\n",
       "      <th>count</th>\n",
       "      <th>count_bin</th>\n",
       "      <th>sim_score</th>\n",
       "    </tr>\n",
       "  </thead>\n",
       "  <tbody>\n",
       "    <tr>\n",
       "      <th>45746</th>\n",
       "      <td>45747</td>\n",
       "      <td>Curate Melon Pomelo Sparking Water</td>\n",
       "      <td>115</td>\n",
       "      <td>7</td>\n",
       "      <td>7050</td>\n",
       "      <td>2500-10000</td>\n",
       "      <td>0.230089</td>\n",
       "    </tr>\n",
       "    <tr>\n",
       "      <th>12575</th>\n",
       "      <td>12576</td>\n",
       "      <td>Kiwi Sandia Sparkling Water</td>\n",
       "      <td>115</td>\n",
       "      <td>7</td>\n",
       "      <td>9148</td>\n",
       "      <td>2500-10000</td>\n",
       "      <td>0.179124</td>\n",
       "    </tr>\n",
       "    <tr>\n",
       "      <th>31302</th>\n",
       "      <td>31303</td>\n",
       "      <td>Asparagus &amp; Meyer Lemon Ravioli In Lemon Parsl...</td>\n",
       "      <td>12</td>\n",
       "      <td>9</td>\n",
       "      <td>43</td>\n",
       "      <td>21-50</td>\n",
       "      <td>0.171499</td>\n",
       "    </tr>\n",
       "    <tr>\n",
       "      <th>26669</th>\n",
       "      <td>26670</td>\n",
       "      <td>Mighty Dry Hard Cider</td>\n",
       "      <td>27</td>\n",
       "      <td>5</td>\n",
       "      <td>125</td>\n",
       "      <td>101-500</td>\n",
       "      <td>0.171499</td>\n",
       "    </tr>\n",
       "    <tr>\n",
       "      <th>17420</th>\n",
       "      <td>17421</td>\n",
       "      <td>Coconut Mango Chia Vitality Beverage</td>\n",
       "      <td>31</td>\n",
       "      <td>7</td>\n",
       "      <td>416</td>\n",
       "      <td>101-500</td>\n",
       "      <td>0.171499</td>\n",
       "    </tr>\n",
       "    <tr>\n",
       "      <th>29882</th>\n",
       "      <td>29883</td>\n",
       "      <td>Kids! Chewables Probiotic Tablets Natural Burs...</td>\n",
       "      <td>70</td>\n",
       "      <td>11</td>\n",
       "      <td>107</td>\n",
       "      <td>101-500</td>\n",
       "      <td>0.171499</td>\n",
       "    </tr>\n",
       "    <tr>\n",
       "      <th>28620</th>\n",
       "      <td>28621</td>\n",
       "      <td>Oatmeal Raisin Flax Soft-Baked Cookies</td>\n",
       "      <td>61</td>\n",
       "      <td>19</td>\n",
       "      <td>148</td>\n",
       "      <td>101-500</td>\n",
       "      <td>0.171499</td>\n",
       "    </tr>\n",
       "    <tr>\n",
       "      <th>28226</th>\n",
       "      <td>28227</td>\n",
       "      <td>Zero calorie Sport Drink</td>\n",
       "      <td>64</td>\n",
       "      <td>7</td>\n",
       "      <td>142</td>\n",
       "      <td>101-500</td>\n",
       "      <td>0.171499</td>\n",
       "    </tr>\n",
       "    <tr>\n",
       "      <th>28031</th>\n",
       "      <td>28032</td>\n",
       "      <td>Platinum Fresh Scent Action Pacs Dishwasher De...</td>\n",
       "      <td>100</td>\n",
       "      <td>21</td>\n",
       "      <td>8</td>\n",
       "      <td>6-20</td>\n",
       "      <td>0.171499</td>\n",
       "    </tr>\n",
       "    <tr>\n",
       "      <th>11159</th>\n",
       "      <td>11160</td>\n",
       "      <td>Cat Food Purrfect Delights Chicken Dulgence En...</td>\n",
       "      <td>41</td>\n",
       "      <td>8</td>\n",
       "      <td>62</td>\n",
       "      <td>51-100</td>\n",
       "      <td>0.171499</td>\n",
       "    </tr>\n",
       "  </tbody>\n",
       "</table>\n",
       "</div>"
      ],
      "text/plain": [
       "       product_id                                       product_name  \\\n",
       "45746       45747                 Curate Melon Pomelo Sparking Water   \n",
       "12575       12576                        Kiwi Sandia Sparkling Water   \n",
       "31302       31303  Asparagus & Meyer Lemon Ravioli In Lemon Parsl...   \n",
       "26669       26670                              Mighty Dry Hard Cider   \n",
       "17420       17421               Coconut Mango Chia Vitality Beverage   \n",
       "29882       29883  Kids! Chewables Probiotic Tablets Natural Burs...   \n",
       "28620       28621             Oatmeal Raisin Flax Soft-Baked Cookies   \n",
       "28226       28227                           Zero calorie Sport Drink   \n",
       "28031       28032  Platinum Fresh Scent Action Pacs Dishwasher De...   \n",
       "11159       11160  Cat Food Purrfect Delights Chicken Dulgence En...   \n",
       "\n",
       "       aisle_id  department_id  count   count_bin  sim_score  \n",
       "45746       115              7   7050  2500-10000   0.230089  \n",
       "12575       115              7   9148  2500-10000   0.179124  \n",
       "31302        12              9     43       21-50   0.171499  \n",
       "26669        27              5    125     101-500   0.171499  \n",
       "17420        31              7    416     101-500   0.171499  \n",
       "29882        70             11    107     101-500   0.171499  \n",
       "28620        61             19    148     101-500   0.171499  \n",
       "28226        64              7    142     101-500   0.171499  \n",
       "28031       100             21      8        6-20   0.171499  \n",
       "11159        41              8     62      51-100   0.171499  "
      ]
     },
     "execution_count": 150,
     "metadata": {},
     "output_type": "execute_result"
    }
   ],
   "source": [
    "find_similar_items(39947, product_sim_matrix, 10)"
   ]
  },
  {
   "cell_type": "markdown",
   "metadata": {},
   "source": [
    "The sparkling water recommendations seem more reasonable than some of the others. Here we find that customers purchasing blackberry cucumber sparkling water would be recommended items like \"Curate Melon Pomelo Sparkling Water\" and \"Kiwi Sandia Sparkling Water.\" There's even some variety with \"Mighty Dry Hard Cider.\" Nevertheless, there are once again some odd recommendations included including dishwasher detergent and cat food. Interestingly, both the detergent and cat food are not frequentliy purchased items, so perhaps the algorithm would work better with more data that might filter out obscure items such as these. "
   ]
  },
  {
   "cell_type": "markdown",
   "metadata": {},
   "source": [
    "## Similar Baskets (Cosine Similiarity)\n",
    "\n",
    "Our final approach will be to look at cosine similiarity once again, but this time, we'll do it on an order / basket basis. Instead of analyzing product similiarity, we are thus analyzing \"market basket similiarity\" and recommending products that have come from similiar baskets. "
   ]
  },
  {
   "cell_type": "code",
   "execution_count": 108,
   "metadata": {},
   "outputs": [],
   "source": [
    "train_200k = train[:200000].copy()"
   ]
  },
  {
   "cell_type": "code",
   "execution_count": 109,
   "metadata": {},
   "outputs": [],
   "source": [
    "orderPivot = train_200k.pivot(index='order_id', columns='product_id', values='reordered')"
   ]
  },
  {
   "cell_type": "code",
   "execution_count": 110,
   "metadata": {},
   "outputs": [],
   "source": [
    "orderPivot[orderPivot.notnull()] = 1\n",
    "orderPivot[orderPivot.isnull()] = 0"
   ]
  },
  {
   "cell_type": "code",
   "execution_count": 111,
   "metadata": {},
   "outputs": [
    {
     "data": {
      "text/plain": [
       "(18874, 22376)"
      ]
     },
     "execution_count": 111,
     "metadata": {},
     "output_type": "execute_result"
    }
   ],
   "source": [
    "orderPivot.shape"
   ]
  },
  {
   "cell_type": "code",
   "execution_count": 112,
   "metadata": {},
   "outputs": [],
   "source": [
    "order_sim_matrix = cosine_similarity(orderPivot)"
   ]
  },
  {
   "cell_type": "code",
   "execution_count": null,
   "metadata": {},
   "outputs": [],
   "source": []
  },
  {
   "cell_type": "code",
   "execution_count": 134,
   "metadata": {},
   "outputs": [],
   "source": [
    "def find_similar_baskets(matrix):\n",
    "    match_list = []\n",
    "\n",
    "    for i in range(len(matrix)):\n",
    "        if matrix[i] > 0.1 and matrix[i] < 0.99:\n",
    "            match_list.append(i)\n",
    "            \n",
    "    order_match_list = orderPivot[orderPivot.reset_index().index.isin(match_list)].index.values.tolist()\n",
    "    \n",
    "    return order_match_list"
   ]
  },
  {
   "cell_type": "code",
   "execution_count": null,
   "metadata": {},
   "outputs": [],
   "source": [
    "# def find_similar_baskets(order_id):\n",
    "#     match_list = []\n",
    "\n",
    "#     for i in range(len(matrix)):\n",
    "#         if matrix[i] > 0.2 and matrix[i] < 0.99:\n",
    "#             match_list.append(i)\n",
    "            \n",
    "#     order_match_list = orderPivot[orderPivot.reset_index().index.isin(match_list)].index.values.tolist()\n",
    "    \n",
    "#     return order_match_list"
   ]
  },
  {
   "cell_type": "code",
   "execution_count": 122,
   "metadata": {},
   "outputs": [],
   "source": [
    "matched_baskets = find_similar_baskets(order_sim_matrix[0])"
   ]
  },
  {
   "cell_type": "code",
   "execution_count": 104,
   "metadata": {},
   "outputs": [
    {
     "data": {
      "text/html": [
       "<div>\n",
       "<style scoped>\n",
       "    .dataframe tbody tr th:only-of-type {\n",
       "        vertical-align: middle;\n",
       "    }\n",
       "\n",
       "    .dataframe tbody tr th {\n",
       "        vertical-align: top;\n",
       "    }\n",
       "\n",
       "    .dataframe thead th {\n",
       "        text-align: right;\n",
       "    }\n",
       "</style>\n",
       "<table border=\"1\" class=\"dataframe\">\n",
       "  <thead>\n",
       "    <tr style=\"text-align: right;\">\n",
       "      <th></th>\n",
       "      <th>order_id</th>\n",
       "      <th>product_id</th>\n",
       "      <th>add_to_cart_order</th>\n",
       "      <th>reordered</th>\n",
       "      <th>product_name</th>\n",
       "    </tr>\n",
       "  </thead>\n",
       "  <tbody>\n",
       "    <tr>\n",
       "      <th>0</th>\n",
       "      <td>36</td>\n",
       "      <td>39612</td>\n",
       "      <td>1</td>\n",
       "      <td>0</td>\n",
       "      <td>Grated Pecorino Romano Cheese</td>\n",
       "    </tr>\n",
       "    <tr>\n",
       "      <th>1</th>\n",
       "      <td>36</td>\n",
       "      <td>19660</td>\n",
       "      <td>2</td>\n",
       "      <td>1</td>\n",
       "      <td>Spring Water</td>\n",
       "    </tr>\n",
       "    <tr>\n",
       "      <th>2</th>\n",
       "      <td>36</td>\n",
       "      <td>49235</td>\n",
       "      <td>3</td>\n",
       "      <td>0</td>\n",
       "      <td>Organic Half &amp; Half</td>\n",
       "    </tr>\n",
       "    <tr>\n",
       "      <th>3</th>\n",
       "      <td>36</td>\n",
       "      <td>43086</td>\n",
       "      <td>4</td>\n",
       "      <td>1</td>\n",
       "      <td>Super Greens Salad</td>\n",
       "    </tr>\n",
       "    <tr>\n",
       "      <th>4</th>\n",
       "      <td>36</td>\n",
       "      <td>46620</td>\n",
       "      <td>5</td>\n",
       "      <td>1</td>\n",
       "      <td>Cage Free Extra Large Grade AA Eggs</td>\n",
       "    </tr>\n",
       "    <tr>\n",
       "      <th>5</th>\n",
       "      <td>36</td>\n",
       "      <td>34497</td>\n",
       "      <td>6</td>\n",
       "      <td>1</td>\n",
       "      <td>Prosciutto, Americano</td>\n",
       "    </tr>\n",
       "    <tr>\n",
       "      <th>6</th>\n",
       "      <td>36</td>\n",
       "      <td>48679</td>\n",
       "      <td>7</td>\n",
       "      <td>1</td>\n",
       "      <td>Organic Garnet Sweet Potato (Yam)</td>\n",
       "    </tr>\n",
       "    <tr>\n",
       "      <th>7</th>\n",
       "      <td>36</td>\n",
       "      <td>46979</td>\n",
       "      <td>8</td>\n",
       "      <td>1</td>\n",
       "      <td>Asparagus</td>\n",
       "    </tr>\n",
       "  </tbody>\n",
       "</table>\n",
       "</div>"
      ],
      "text/plain": [
       "   order_id  product_id  add_to_cart_order  reordered  \\\n",
       "0        36       39612                  1          0   \n",
       "1        36       19660                  2          1   \n",
       "2        36       49235                  3          0   \n",
       "3        36       43086                  4          1   \n",
       "4        36       46620                  5          1   \n",
       "5        36       34497                  6          1   \n",
       "6        36       48679                  7          1   \n",
       "7        36       46979                  8          1   \n",
       "\n",
       "                          product_name  \n",
       "0        Grated Pecorino Romano Cheese  \n",
       "1                         Spring Water  \n",
       "2                  Organic Half & Half  \n",
       "3                   Super Greens Salad  \n",
       "4  Cage Free Extra Large Grade AA Eggs  \n",
       "5                Prosciutto, Americano  \n",
       "6    Organic Garnet Sweet Potato (Yam)  \n",
       "7                            Asparagus  "
      ]
     },
     "execution_count": 104,
     "metadata": {},
     "output_type": "execute_result"
    }
   ],
   "source": [
    "sample_order = train_sm[train_sm['order_id']==36].copy()\n",
    "sample_order['product_name'] = sample_order['product_id'].map(product_dict_inv)\n",
    "sample_order"
   ]
  },
  {
   "cell_type": "code",
   "execution_count": 105,
   "metadata": {},
   "outputs": [
    {
     "data": {
      "text/plain": [
       "[39612, 19660, 49235, 43086, 46620, 34497, 48679, 46979]"
      ]
     },
     "execution_count": 105,
     "metadata": {},
     "output_type": "execute_result"
    }
   ],
   "source": [
    "sample_order_list = sample_order['product_id'].tolist()\n",
    "sample_order_list"
   ]
  },
  {
   "cell_type": "code",
   "execution_count": 125,
   "metadata": {},
   "outputs": [
    {
     "data": {
      "text/html": [
       "<div>\n",
       "<style scoped>\n",
       "    .dataframe tbody tr th:only-of-type {\n",
       "        vertical-align: middle;\n",
       "    }\n",
       "\n",
       "    .dataframe tbody tr th {\n",
       "        vertical-align: top;\n",
       "    }\n",
       "\n",
       "    .dataframe thead th {\n",
       "        text-align: right;\n",
       "    }\n",
       "</style>\n",
       "<table border=\"1\" class=\"dataframe\">\n",
       "  <thead>\n",
       "    <tr style=\"text-align: right;\">\n",
       "      <th></th>\n",
       "      <th>product_id</th>\n",
       "      <th>count</th>\n",
       "      <th>product_name</th>\n",
       "    </tr>\n",
       "  </thead>\n",
       "  <tbody>\n",
       "    <tr>\n",
       "      <th>5</th>\n",
       "      <td>21137</td>\n",
       "      <td>3</td>\n",
       "      <td>Organic Strawberries</td>\n",
       "    </tr>\n",
       "    <tr>\n",
       "      <th>6</th>\n",
       "      <td>47766</td>\n",
       "      <td>2</td>\n",
       "      <td>Organic Avocado</td>\n",
       "    </tr>\n",
       "    <tr>\n",
       "      <th>7</th>\n",
       "      <td>2078</td>\n",
       "      <td>2</td>\n",
       "      <td>Unsalted Pure Irish Butter</td>\n",
       "    </tr>\n",
       "    <tr>\n",
       "      <th>8</th>\n",
       "      <td>22935</td>\n",
       "      <td>2</td>\n",
       "      <td>Organic Yellow Onion</td>\n",
       "    </tr>\n",
       "    <tr>\n",
       "      <th>9</th>\n",
       "      <td>47626</td>\n",
       "      <td>2</td>\n",
       "      <td>Large Lemon</td>\n",
       "    </tr>\n",
       "    <tr>\n",
       "      <th>10</th>\n",
       "      <td>21903</td>\n",
       "      <td>2</td>\n",
       "      <td>Organic Baby Spinach</td>\n",
       "    </tr>\n",
       "    <tr>\n",
       "      <th>11</th>\n",
       "      <td>45007</td>\n",
       "      <td>2</td>\n",
       "      <td>Organic Zucchini</td>\n",
       "    </tr>\n",
       "    <tr>\n",
       "      <th>12</th>\n",
       "      <td>14999</td>\n",
       "      <td>2</td>\n",
       "      <td>Grade A Large Brown Eggs</td>\n",
       "    </tr>\n",
       "    <tr>\n",
       "      <th>13</th>\n",
       "      <td>8424</td>\n",
       "      <td>2</td>\n",
       "      <td>Broccoli Crown</td>\n",
       "    </tr>\n",
       "    <tr>\n",
       "      <th>14</th>\n",
       "      <td>47209</td>\n",
       "      <td>2</td>\n",
       "      <td>Organic Hass Avocado</td>\n",
       "    </tr>\n",
       "  </tbody>\n",
       "</table>\n",
       "</div>"
      ],
      "text/plain": [
       "    product_id  count                product_name\n",
       "5        21137      3        Organic Strawberries\n",
       "6        47766      2             Organic Avocado\n",
       "7         2078      2  Unsalted Pure Irish Butter\n",
       "8        22935      2        Organic Yellow Onion\n",
       "9        47626      2                 Large Lemon\n",
       "10       21903      2        Organic Baby Spinach\n",
       "11       45007      2            Organic Zucchini\n",
       "12       14999      2    Grade A Large Brown Eggs\n",
       "13        8424      2              Broccoli Crown\n",
       "14       47209      2        Organic Hass Avocado"
      ]
     },
     "execution_count": 125,
     "metadata": {},
     "output_type": "execute_result"
    }
   ],
   "source": [
    "matching_vals = pd.DataFrame(train_sm[train_sm['order_id'].isin(matched_baskets)]['product_id'].value_counts())\n",
    "matching_vals = matching_vals.reset_index()\n",
    "matching_vals.columns = ['product_id', 'count']\n",
    "matching_vals['product_name'] = matching_vals['product_id'].map(product_dict_inv)\n",
    "matching_vals[matching_vals['product_id'].isin(sample_order_list) == False][:10]"
   ]
  },
  {
   "cell_type": "markdown",
   "metadata": {},
   "source": [
    "### Another Sample"
   ]
  },
  {
   "cell_type": "code",
   "execution_count": 135,
   "metadata": {},
   "outputs": [],
   "source": [
    "matched_baskets2 = find_similar_baskets(order_sim_matrix[10])"
   ]
  },
  {
   "cell_type": "code",
   "execution_count": 136,
   "metadata": {},
   "outputs": [
    {
     "data": {
      "text/html": [
       "<div>\n",
       "<style scoped>\n",
       "    .dataframe tbody tr th:only-of-type {\n",
       "        vertical-align: middle;\n",
       "    }\n",
       "\n",
       "    .dataframe tbody tr th {\n",
       "        vertical-align: top;\n",
       "    }\n",
       "\n",
       "    .dataframe thead th {\n",
       "        text-align: right;\n",
       "    }\n",
       "</style>\n",
       "<table border=\"1\" class=\"dataframe\">\n",
       "  <thead>\n",
       "    <tr style=\"text-align: right;\">\n",
       "      <th></th>\n",
       "      <th>order_id</th>\n",
       "      <th>product_id</th>\n",
       "      <th>add_to_cart_order</th>\n",
       "      <th>reordered</th>\n",
       "      <th>product_name</th>\n",
       "    </tr>\n",
       "  </thead>\n",
       "  <tbody>\n",
       "    <tr>\n",
       "      <th>79</th>\n",
       "      <td>878</td>\n",
       "      <td>48070</td>\n",
       "      <td>1</td>\n",
       "      <td>1</td>\n",
       "      <td>Chocolate Mint Crisp Protein Bar</td>\n",
       "    </tr>\n",
       "    <tr>\n",
       "      <th>80</th>\n",
       "      <td>878</td>\n",
       "      <td>24852</td>\n",
       "      <td>2</td>\n",
       "      <td>1</td>\n",
       "      <td>Banana</td>\n",
       "    </tr>\n",
       "    <tr>\n",
       "      <th>81</th>\n",
       "      <td>878</td>\n",
       "      <td>23044</td>\n",
       "      <td>3</td>\n",
       "      <td>0</td>\n",
       "      <td>Cream Top Smooth &amp; Creamy Vanilla Yogurt</td>\n",
       "    </tr>\n",
       "    <tr>\n",
       "      <th>82</th>\n",
       "      <td>878</td>\n",
       "      <td>45066</td>\n",
       "      <td>4</td>\n",
       "      <td>1</td>\n",
       "      <td>Honeycrisp Apple</td>\n",
       "    </tr>\n",
       "    <tr>\n",
       "      <th>83</th>\n",
       "      <td>878</td>\n",
       "      <td>21903</td>\n",
       "      <td>5</td>\n",
       "      <td>1</td>\n",
       "      <td>Organic Baby Spinach</td>\n",
       "    </tr>\n",
       "    <tr>\n",
       "      <th>84</th>\n",
       "      <td>878</td>\n",
       "      <td>24964</td>\n",
       "      <td>6</td>\n",
       "      <td>0</td>\n",
       "      <td>Organic Garlic</td>\n",
       "    </tr>\n",
       "    <tr>\n",
       "      <th>85</th>\n",
       "      <td>878</td>\n",
       "      <td>47209</td>\n",
       "      <td>7</td>\n",
       "      <td>1</td>\n",
       "      <td>Organic Hass Avocado</td>\n",
       "    </tr>\n",
       "    <tr>\n",
       "      <th>86</th>\n",
       "      <td>878</td>\n",
       "      <td>40706</td>\n",
       "      <td>8</td>\n",
       "      <td>0</td>\n",
       "      <td>Organic Grape Tomatoes</td>\n",
       "    </tr>\n",
       "    <tr>\n",
       "      <th>87</th>\n",
       "      <td>878</td>\n",
       "      <td>21616</td>\n",
       "      <td>9</td>\n",
       "      <td>0</td>\n",
       "      <td>Organic Baby Arugula</td>\n",
       "    </tr>\n",
       "    <tr>\n",
       "      <th>88</th>\n",
       "      <td>878</td>\n",
       "      <td>10305</td>\n",
       "      <td>10</td>\n",
       "      <td>0</td>\n",
       "      <td>Black Plum</td>\n",
       "    </tr>\n",
       "    <tr>\n",
       "      <th>89</th>\n",
       "      <td>878</td>\n",
       "      <td>21137</td>\n",
       "      <td>11</td>\n",
       "      <td>1</td>\n",
       "      <td>Organic Strawberries</td>\n",
       "    </tr>\n",
       "    <tr>\n",
       "      <th>90</th>\n",
       "      <td>878</td>\n",
       "      <td>9076</td>\n",
       "      <td>12</td>\n",
       "      <td>0</td>\n",
       "      <td>Blueberries</td>\n",
       "    </tr>\n",
       "    <tr>\n",
       "      <th>91</th>\n",
       "      <td>878</td>\n",
       "      <td>27104</td>\n",
       "      <td>13</td>\n",
       "      <td>1</td>\n",
       "      <td>Fresh Cauliflower</td>\n",
       "    </tr>\n",
       "    <tr>\n",
       "      <th>92</th>\n",
       "      <td>878</td>\n",
       "      <td>48679</td>\n",
       "      <td>14</td>\n",
       "      <td>0</td>\n",
       "      <td>Organic Garnet Sweet Potato (Yam)</td>\n",
       "    </tr>\n",
       "    <tr>\n",
       "      <th>93</th>\n",
       "      <td>878</td>\n",
       "      <td>10749</td>\n",
       "      <td>15</td>\n",
       "      <td>1</td>\n",
       "      <td>Organic Red Bell Pepper</td>\n",
       "    </tr>\n",
       "    <tr>\n",
       "      <th>94</th>\n",
       "      <td>878</td>\n",
       "      <td>31717</td>\n",
       "      <td>16</td>\n",
       "      <td>1</td>\n",
       "      <td>Organic Cilantro</td>\n",
       "    </tr>\n",
       "    <tr>\n",
       "      <th>95</th>\n",
       "      <td>878</td>\n",
       "      <td>30720</td>\n",
       "      <td>17</td>\n",
       "      <td>1</td>\n",
       "      <td>Sugar Snap Peas</td>\n",
       "    </tr>\n",
       "    <tr>\n",
       "      <th>96</th>\n",
       "      <td>878</td>\n",
       "      <td>16759</td>\n",
       "      <td>18</td>\n",
       "      <td>0</td>\n",
       "      <td>Organic Carrot Bunch</td>\n",
       "    </tr>\n",
       "    <tr>\n",
       "      <th>97</th>\n",
       "      <td>878</td>\n",
       "      <td>5876</td>\n",
       "      <td>19</td>\n",
       "      <td>0</td>\n",
       "      <td>Organic Lemon</td>\n",
       "    </tr>\n",
       "    <tr>\n",
       "      <th>98</th>\n",
       "      <td>878</td>\n",
       "      <td>8193</td>\n",
       "      <td>20</td>\n",
       "      <td>0</td>\n",
       "      <td>Russet Potato</td>\n",
       "    </tr>\n",
       "    <tr>\n",
       "      <th>99</th>\n",
       "      <td>878</td>\n",
       "      <td>43789</td>\n",
       "      <td>21</td>\n",
       "      <td>0</td>\n",
       "      <td>Organic Basil</td>\n",
       "    </tr>\n",
       "    <tr>\n",
       "      <th>100</th>\n",
       "      <td>878</td>\n",
       "      <td>26209</td>\n",
       "      <td>22</td>\n",
       "      <td>0</td>\n",
       "      <td>Limes</td>\n",
       "    </tr>\n",
       "    <tr>\n",
       "      <th>101</th>\n",
       "      <td>878</td>\n",
       "      <td>11262</td>\n",
       "      <td>23</td>\n",
       "      <td>0</td>\n",
       "      <td>Extra Thick Whole Grain Rolled Oats</td>\n",
       "    </tr>\n",
       "    <tr>\n",
       "      <th>102</th>\n",
       "      <td>878</td>\n",
       "      <td>17652</td>\n",
       "      <td>24</td>\n",
       "      <td>0</td>\n",
       "      <td>Air Chilled Breaded Chicken Breast Nuggets</td>\n",
       "    </tr>\n",
       "    <tr>\n",
       "      <th>103</th>\n",
       "      <td>878</td>\n",
       "      <td>34913</td>\n",
       "      <td>25</td>\n",
       "      <td>0</td>\n",
       "      <td>Ground Beef 85% Lean</td>\n",
       "    </tr>\n",
       "    <tr>\n",
       "      <th>104</th>\n",
       "      <td>878</td>\n",
       "      <td>47156</td>\n",
       "      <td>26</td>\n",
       "      <td>0</td>\n",
       "      <td>Coconut Almond Unsweetened Creamer Blend</td>\n",
       "    </tr>\n",
       "    <tr>\n",
       "      <th>105</th>\n",
       "      <td>878</td>\n",
       "      <td>40174</td>\n",
       "      <td>27</td>\n",
       "      <td>0</td>\n",
       "      <td>2% Reduced Fat Organic Milk</td>\n",
       "    </tr>\n",
       "    <tr>\n",
       "      <th>106</th>\n",
       "      <td>878</td>\n",
       "      <td>31343</td>\n",
       "      <td>28</td>\n",
       "      <td>0</td>\n",
       "      <td>Shredded Mild Cheddar Cheese</td>\n",
       "    </tr>\n",
       "  </tbody>\n",
       "</table>\n",
       "</div>"
      ],
      "text/plain": [
       "     order_id  product_id  add_to_cart_order  reordered  \\\n",
       "79        878       48070                  1          1   \n",
       "80        878       24852                  2          1   \n",
       "81        878       23044                  3          0   \n",
       "82        878       45066                  4          1   \n",
       "83        878       21903                  5          1   \n",
       "84        878       24964                  6          0   \n",
       "85        878       47209                  7          1   \n",
       "86        878       40706                  8          0   \n",
       "87        878       21616                  9          0   \n",
       "88        878       10305                 10          0   \n",
       "89        878       21137                 11          1   \n",
       "90        878        9076                 12          0   \n",
       "91        878       27104                 13          1   \n",
       "92        878       48679                 14          0   \n",
       "93        878       10749                 15          1   \n",
       "94        878       31717                 16          1   \n",
       "95        878       30720                 17          1   \n",
       "96        878       16759                 18          0   \n",
       "97        878        5876                 19          0   \n",
       "98        878        8193                 20          0   \n",
       "99        878       43789                 21          0   \n",
       "100       878       26209                 22          0   \n",
       "101       878       11262                 23          0   \n",
       "102       878       17652                 24          0   \n",
       "103       878       34913                 25          0   \n",
       "104       878       47156                 26          0   \n",
       "105       878       40174                 27          0   \n",
       "106       878       31343                 28          0   \n",
       "\n",
       "                                   product_name  \n",
       "79             Chocolate Mint Crisp Protein Bar  \n",
       "80                                       Banana  \n",
       "81     Cream Top Smooth & Creamy Vanilla Yogurt  \n",
       "82                             Honeycrisp Apple  \n",
       "83                         Organic Baby Spinach  \n",
       "84                               Organic Garlic  \n",
       "85                         Organic Hass Avocado  \n",
       "86                       Organic Grape Tomatoes  \n",
       "87                         Organic Baby Arugula  \n",
       "88                                   Black Plum  \n",
       "89                         Organic Strawberries  \n",
       "90                                  Blueberries  \n",
       "91                            Fresh Cauliflower  \n",
       "92            Organic Garnet Sweet Potato (Yam)  \n",
       "93                      Organic Red Bell Pepper  \n",
       "94                             Organic Cilantro  \n",
       "95                              Sugar Snap Peas  \n",
       "96                         Organic Carrot Bunch  \n",
       "97                                Organic Lemon  \n",
       "98                                Russet Potato  \n",
       "99                                Organic Basil  \n",
       "100                                       Limes  \n",
       "101         Extra Thick Whole Grain Rolled Oats  \n",
       "102  Air Chilled Breaded Chicken Breast Nuggets  \n",
       "103                        Ground Beef 85% Lean  \n",
       "104    Coconut Almond Unsweetened Creamer Blend  \n",
       "105                 2% Reduced Fat Organic Milk  \n",
       "106                Shredded Mild Cheddar Cheese  "
      ]
     },
     "execution_count": 136,
     "metadata": {},
     "output_type": "execute_result"
    }
   ],
   "source": [
    "sample_order2 = train_sm[train_sm['order_id']==878].copy()\n",
    "sample_order2['product_name'] = sample_order2['product_id'].map(product_dict_inv)\n",
    "sample_order2"
   ]
  },
  {
   "cell_type": "code",
   "execution_count": 137,
   "metadata": {},
   "outputs": [],
   "source": [
    "sample_order_list2 = sample_order2['product_id'].tolist()\n",
    "# sample_order_list2"
   ]
  },
  {
   "cell_type": "code",
   "execution_count": 140,
   "metadata": {},
   "outputs": [
    {
     "data": {
      "text/html": [
       "<div>\n",
       "<style scoped>\n",
       "    .dataframe tbody tr th:only-of-type {\n",
       "        vertical-align: middle;\n",
       "    }\n",
       "\n",
       "    .dataframe tbody tr th {\n",
       "        vertical-align: top;\n",
       "    }\n",
       "\n",
       "    .dataframe thead th {\n",
       "        text-align: right;\n",
       "    }\n",
       "</style>\n",
       "<table border=\"1\" class=\"dataframe\">\n",
       "  <thead>\n",
       "    <tr style=\"text-align: right;\">\n",
       "      <th></th>\n",
       "      <th>product_id</th>\n",
       "      <th>count</th>\n",
       "      <th>product_name</th>\n",
       "    </tr>\n",
       "  </thead>\n",
       "  <tbody>\n",
       "    <tr>\n",
       "      <th>0</th>\n",
       "      <td>196</td>\n",
       "      <td>72</td>\n",
       "      <td>Soda</td>\n",
       "    </tr>\n",
       "    <tr>\n",
       "      <th>1</th>\n",
       "      <td>43352</td>\n",
       "      <td>6</td>\n",
       "      <td>Raspberries</td>\n",
       "    </tr>\n",
       "    <tr>\n",
       "      <th>2</th>\n",
       "      <td>46149</td>\n",
       "      <td>4</td>\n",
       "      <td>Zero Calorie Cola</td>\n",
       "    </tr>\n",
       "    <tr>\n",
       "      <th>3</th>\n",
       "      <td>37710</td>\n",
       "      <td>4</td>\n",
       "      <td>Trail Mix</td>\n",
       "    </tr>\n",
       "    <tr>\n",
       "      <th>4</th>\n",
       "      <td>40939</td>\n",
       "      <td>4</td>\n",
       "      <td>Drinking Water</td>\n",
       "    </tr>\n",
       "    <tr>\n",
       "      <th>5</th>\n",
       "      <td>41400</td>\n",
       "      <td>4</td>\n",
       "      <td>Crunchy Oats 'n Honey Granola Bars</td>\n",
       "    </tr>\n",
       "    <tr>\n",
       "      <th>6</th>\n",
       "      <td>13966</td>\n",
       "      <td>3</td>\n",
       "      <td>Chicken Pot Pie</td>\n",
       "    </tr>\n",
       "    <tr>\n",
       "      <th>7</th>\n",
       "      <td>22395</td>\n",
       "      <td>3</td>\n",
       "      <td>Tomato Sauce</td>\n",
       "    </tr>\n",
       "    <tr>\n",
       "      <th>8</th>\n",
       "      <td>29529</td>\n",
       "      <td>3</td>\n",
       "      <td>Lemon-Lime Soda</td>\n",
       "    </tr>\n",
       "    <tr>\n",
       "      <th>9</th>\n",
       "      <td>6184</td>\n",
       "      <td>3</td>\n",
       "      <td>Clementines</td>\n",
       "    </tr>\n",
       "  </tbody>\n",
       "</table>\n",
       "</div>"
      ],
      "text/plain": [
       "   product_id  count                        product_name\n",
       "0         196     72                                Soda\n",
       "1       43352      6                         Raspberries\n",
       "2       46149      4                   Zero Calorie Cola\n",
       "3       37710      4                           Trail Mix\n",
       "4       40939      4                      Drinking Water\n",
       "5       41400      4  Crunchy Oats 'n Honey Granola Bars\n",
       "6       13966      3                     Chicken Pot Pie\n",
       "7       22395      3                        Tomato Sauce\n",
       "8       29529      3                     Lemon-Lime Soda\n",
       "9        6184      3                         Clementines"
      ]
     },
     "execution_count": 140,
     "metadata": {},
     "output_type": "execute_result"
    }
   ],
   "source": [
    "matching_vals2 = pd.DataFrame(train_sm[train_sm['order_id'].isin(matched_baskets2)]['product_id'].value_counts())\n",
    "matching_vals2 = matching_vals2.reset_index()\n",
    "matching_vals2.columns = ['product_id', 'count']\n",
    "matching_vals2['product_name'] = matching_vals2['product_id'].map(product_dict_inv)\n",
    "matching_vals2[matching_vals2['product_id'].isin(sample_order_list2) == False][:10]\n",
    "# matching_vals2"
   ]
  },
  {
   "cell_type": "code",
   "execution_count": null,
   "metadata": {},
   "outputs": [],
   "source": []
  },
  {
   "cell_type": "markdown",
   "metadata": {},
   "source": [
    "Overall, I'm not a fan of this methodology. It seems to recommend frequently purchased items too often and none of the recommendations seem very specifically tailored to the customer. "
   ]
  },
  {
   "cell_type": "code",
   "execution_count": null,
   "metadata": {},
   "outputs": [],
   "source": []
  },
  {
   "cell_type": "markdown",
   "metadata": {},
   "source": [
    "# Final Recommendations\n",
    "\n",
    "Based on this analysis, my recommendation is to use the \"customers also purchased\" algorithm, which seems to emphasize the most relevant items for the customer. We might also expand the item-based cosine-similiarity algorithm to the full training set and see if our predictions improve. We could test both algorithms out on random sets of customers and see if customers favored one or the other based on \"additional purchase"
   ]
  },
  {
   "cell_type": "code",
   "execution_count": null,
   "metadata": {},
   "outputs": [],
   "source": []
  },
  {
   "cell_type": "code",
   "execution_count": null,
   "metadata": {},
   "outputs": [],
   "source": []
  },
  {
   "cell_type": "code",
   "execution_count": null,
   "metadata": {},
   "outputs": [],
   "source": []
  }
 ],
 "metadata": {
  "kernelspec": {
   "display_name": "Python 3",
   "language": "python",
   "name": "python3"
  },
  "language_info": {
   "codemirror_mode": {
    "name": "ipython",
    "version": 3
   },
   "file_extension": ".py",
   "mimetype": "text/x-python",
   "name": "python",
   "nbconvert_exporter": "python",
   "pygments_lexer": "ipython3",
   "version": "3.7.1"
  }
 },
 "nbformat": 4,
 "nbformat_minor": 2
}
