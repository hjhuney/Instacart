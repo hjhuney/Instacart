{
 "cells": [
  {
   "cell_type": "markdown",
   "metadata": {},
   "source": [
    "# Imports"
   ]
  },
  {
   "cell_type": "code",
   "execution_count": 1,
   "metadata": {},
   "outputs": [],
   "source": [
    "# standard libraries\n",
    "import pandas as pd\n",
    "import numpy as np\n",
    "\n",
    "# visualization library\n",
    "import altair as alt\n",
    "\n",
    "# modeling libaries\n",
    "from sklearn.metrics.pairwise import cosine_similarity"
   ]
  },
  {
   "cell_type": "code",
   "execution_count": 2,
   "metadata": {},
   "outputs": [
    {
     "data": {
      "text/plain": [
       "ThemeRegistry.enable('opaque')"
      ]
     },
     "execution_count": 2,
     "metadata": {},
     "output_type": "execute_result"
    }
   ],
   "source": [
    "# enable altair visualizations\n",
    "alt.renderers.enable()\n",
    "\n",
    "# opaque background\n",
    "alt.themes.enable('opaque')"
   ]
  },
  {
   "cell_type": "markdown",
   "metadata": {},
   "source": [
    "# Load Data Functions"
   ]
  },
  {
   "cell_type": "code",
   "execution_count": 3,
   "metadata": {},
   "outputs": [],
   "source": [
    "# function to reduce size of dataframes\n",
    "def downcast_df(file):\n",
    "    df = pd.read_csv(file)\n",
    "    \n",
    "    # isolate data types\n",
    "    df_int = df.select_dtypes(include=['int64'])\n",
    "    df_float = df.select_dtypes(include=['float64'])\n",
    "    df_obj = df.select_dtypes(include=['object'])\n",
    "    \n",
    "    # downcast ints and floats\n",
    "    df_int = df_int.apply(pd.to_numeric, downcast='unsigned')\n",
    "    df_float = df_float.apply(pd.to_numeric, downcast='float')\n",
    "    \n",
    "    # recombine into single dataframe\n",
    "    optimized_df = df.copy()\n",
    "    optimized_df[df_int.columns] = df_int\n",
    "    optimized_df[df_float.columns] = df_float\n",
    "    \n",
    "    # return statement    \n",
    "    return optimized_df"
   ]
  },
  {
   "cell_type": "code",
   "execution_count": 4,
   "metadata": {},
   "outputs": [],
   "source": [
    "# function to print out df.info() and df.head() cleanly\n",
    "def print_info(df):\n",
    "    print((\"=\" * 10) + \" Info \" + (\"=\" * 10) + \"\\n\")\n",
    "    print(df.info())\n",
    "    print(\"\\n\" + (\"=\" * 10) + \" First 5 Rows \" + (\"=\" * 10) + \"\\n\")\n",
    "    print(df.head())"
   ]
  },
  {
   "cell_type": "markdown",
   "metadata": {},
   "source": [
    "# DataFrames\n",
    "\n",
    "Loading all datasets, along with info (row data, memory usage), and first 5 rows of data. "
   ]
  },
  {
   "cell_type": "markdown",
   "metadata": {},
   "source": [
    "## Products"
   ]
  },
  {
   "cell_type": "code",
   "execution_count": 5,
   "metadata": {},
   "outputs": [
    {
     "name": "stdout",
     "output_type": "stream",
     "text": [
      "========== Info ==========\n",
      "\n",
      "<class 'pandas.core.frame.DataFrame'>\n",
      "RangeIndex: 49688 entries, 0 to 49687\n",
      "Data columns (total 4 columns):\n",
      "product_id       49688 non-null uint16\n",
      "product_name     49688 non-null object\n",
      "aisle_id         49688 non-null uint8\n",
      "department_id    49688 non-null uint8\n",
      "dtypes: object(1), uint16(1), uint8(2)\n",
      "memory usage: 582.4+ KB\n",
      "None\n",
      "\n",
      "========== First 5 Rows ==========\n",
      "\n",
      "   product_id                                       product_name  aisle_id  \\\n",
      "0           1                         Chocolate Sandwich Cookies        61   \n",
      "1           2                                   All-Seasons Salt       104   \n",
      "2           3               Robust Golden Unsweetened Oolong Tea        94   \n",
      "3           4  Smart Ones Classic Favorites Mini Rigatoni Wit...        38   \n",
      "4           5                          Green Chile Anytime Sauce         5   \n",
      "\n",
      "   department_id  \n",
      "0             19  \n",
      "1             13  \n",
      "2              7  \n",
      "3              1  \n",
      "4             13  \n"
     ]
    }
   ],
   "source": [
    "products = downcast_df('products.csv')\n",
    "print_info(products)"
   ]
  },
  {
   "cell_type": "code",
   "execution_count": 103,
   "metadata": {},
   "outputs": [],
   "source": [
    "# product dictionaries for future usage in mapping\n",
    "product_dict = dict(zip(products['product_name'], products['product_id']))\n",
    "product_dict_inv = dict([v,k] for k,v in product_dict.items())"
   ]
  },
  {
   "cell_type": "markdown",
   "metadata": {},
   "source": [
    "## Orders"
   ]
  },
  {
   "cell_type": "code",
   "execution_count": 6,
   "metadata": {},
   "outputs": [
    {
     "name": "stdout",
     "output_type": "stream",
     "text": [
      "========== Info ==========\n",
      "\n",
      "<class 'pandas.core.frame.DataFrame'>\n",
      "RangeIndex: 3421083 entries, 0 to 3421082\n",
      "Data columns (total 7 columns):\n",
      "order_id                  uint32\n",
      "user_id                   uint32\n",
      "eval_set                  object\n",
      "order_number              uint8\n",
      "order_dow                 uint8\n",
      "order_hour_of_day         uint8\n",
      "days_since_prior_order    int16\n",
      "dtypes: int16(1), object(1), uint32(2), uint8(3)\n",
      "memory usage: 68.5+ MB\n",
      "None\n",
      "\n",
      "========== First 5 Rows ==========\n",
      "\n",
      "   order_id  user_id eval_set  order_number  order_dow  order_hour_of_day  \\\n",
      "0   2539329        1    prior             1          2                  8   \n",
      "1   2398795        1    prior             2          3                  7   \n",
      "2    473747        1    prior             3          3                 12   \n",
      "3   2254736        1    prior             4          4                  7   \n",
      "4    431534        1    prior             5          4                 15   \n",
      "\n",
      "   days_since_prior_order  \n",
      "0                     -99  \n",
      "1                      15  \n",
      "2                      21  \n",
      "3                      29  \n",
      "4                      28  \n"
     ]
    }
   ],
   "source": [
    "orders = downcast_df('orders.csv')\n",
    "orders['days_since_prior_order'] = orders['days_since_prior_order'].fillna(-99)\n",
    "orders['days_since_prior_order'] = orders['days_since_prior_order'].astype('int16')\n",
    "print_info(orders)"
   ]
  },
  {
   "cell_type": "markdown",
   "metadata": {},
   "source": [
    "## Aisles"
   ]
  },
  {
   "cell_type": "code",
   "execution_count": 7,
   "metadata": {},
   "outputs": [
    {
     "name": "stdout",
     "output_type": "stream",
     "text": [
      "========== Info ==========\n",
      "\n",
      "<class 'pandas.core.frame.DataFrame'>\n",
      "RangeIndex: 134 entries, 0 to 133\n",
      "Data columns (total 2 columns):\n",
      "aisle_id    134 non-null uint8\n",
      "aisle       134 non-null object\n",
      "dtypes: object(1), uint8(1)\n",
      "memory usage: 1.3+ KB\n",
      "None\n",
      "\n",
      "========== First 5 Rows ==========\n",
      "\n",
      "   aisle_id                       aisle\n",
      "0         1       prepared soups salads\n",
      "1         2           specialty cheeses\n",
      "2         3         energy granola bars\n",
      "3         4               instant foods\n",
      "4         5  marinades meat preparation\n"
     ]
    }
   ],
   "source": [
    "aisles = downcast_df('aisles.csv')\n",
    "print_info(aisles)"
   ]
  },
  {
   "cell_type": "markdown",
   "metadata": {},
   "source": [
    "## Departments"
   ]
  },
  {
   "cell_type": "code",
   "execution_count": 8,
   "metadata": {},
   "outputs": [
    {
     "name": "stdout",
     "output_type": "stream",
     "text": [
      "========== Info ==========\n",
      "\n",
      "<class 'pandas.core.frame.DataFrame'>\n",
      "RangeIndex: 21 entries, 0 to 20\n",
      "Data columns (total 2 columns):\n",
      "department_id    21 non-null uint8\n",
      "department       21 non-null object\n",
      "dtypes: object(1), uint8(1)\n",
      "memory usage: 269.0+ bytes\n",
      "None\n",
      "\n",
      "========== First 5 Rows ==========\n",
      "\n",
      "   department_id department\n",
      "0              1     frozen\n",
      "1              2      other\n",
      "2              3     bakery\n",
      "3              4    produce\n",
      "4              5    alcohol\n"
     ]
    }
   ],
   "source": [
    "departments = downcast_df('departments.csv')\n",
    "print_info(departments)"
   ]
  },
  {
   "cell_type": "markdown",
   "metadata": {},
   "source": [
    "## Prior Order Info"
   ]
  },
  {
   "cell_type": "code",
   "execution_count": 9,
   "metadata": {},
   "outputs": [
    {
     "name": "stdout",
     "output_type": "stream",
     "text": [
      "========== Info ==========\n",
      "\n",
      "<class 'pandas.core.frame.DataFrame'>\n",
      "RangeIndex: 32434489 entries, 0 to 32434488\n",
      "Data columns (total 4 columns):\n",
      "order_id             uint32\n",
      "product_id           uint16\n",
      "add_to_cart_order    uint8\n",
      "reordered            uint8\n",
      "dtypes: uint16(1), uint32(1), uint8(2)\n",
      "memory usage: 247.5 MB\n",
      "None\n",
      "\n",
      "========== First 5 Rows ==========\n",
      "\n",
      "   order_id  product_id  add_to_cart_order  reordered\n",
      "0         2       33120                  1          1\n",
      "1         2       28985                  2          1\n",
      "2         2        9327                  3          0\n",
      "3         2       45918                  4          1\n",
      "4         2       30035                  5          0\n"
     ]
    }
   ],
   "source": [
    "prior = downcast_df('order_products__prior.csv')\n",
    "print_info(prior)"
   ]
  },
  {
   "cell_type": "markdown",
   "metadata": {},
   "source": [
    "## Training Data"
   ]
  },
  {
   "cell_type": "code",
   "execution_count": 10,
   "metadata": {},
   "outputs": [
    {
     "name": "stdout",
     "output_type": "stream",
     "text": [
      "========== Info ==========\n",
      "\n",
      "<class 'pandas.core.frame.DataFrame'>\n",
      "RangeIndex: 1038515 entries, 0 to 1038514\n",
      "Data columns (total 4 columns):\n",
      "order_id             1038515 non-null uint32\n",
      "product_id           1038515 non-null uint16\n",
      "add_to_cart_order    1038515 non-null uint8\n",
      "reordered            1038515 non-null uint8\n",
      "dtypes: uint16(1), uint32(1), uint8(2)\n",
      "memory usage: 7.9 MB\n",
      "None\n",
      "\n",
      "========== First 5 Rows ==========\n",
      "\n",
      "   order_id  product_id  add_to_cart_order  reordered\n",
      "0        36       39612                  1          0\n",
      "1        36       19660                  2          1\n",
      "2        36       49235                  3          0\n",
      "3        36       43086                  4          1\n",
      "4        36       46620                  5          1\n"
     ]
    }
   ],
   "source": [
    "train = downcast_df('order_products__train_cap.csv')\n",
    "print_info(train)"
   ]
  },
  {
   "cell_type": "markdown",
   "metadata": {},
   "source": [
    "## Test Data"
   ]
  },
  {
   "cell_type": "code",
   "execution_count": 11,
   "metadata": {},
   "outputs": [
    {
     "name": "stdout",
     "output_type": "stream",
     "text": [
      "========== Info ==========\n",
      "\n",
      "<class 'pandas.core.frame.DataFrame'>\n",
      "RangeIndex: 346102 entries, 0 to 346101\n",
      "Data columns (total 2 columns):\n",
      "order_id      346102 non-null uint32\n",
      "product_id    346102 non-null uint16\n",
      "dtypes: uint16(1), uint32(1)\n",
      "memory usage: 2.0 MB\n",
      "None\n",
      "\n",
      "========== First 5 Rows ==========\n",
      "\n",
      "   order_id  product_id\n",
      "0         1       49302\n",
      "1         1       11109\n",
      "2         1       10246\n",
      "3         1       49683\n",
      "4         1       43633\n"
     ]
    }
   ],
   "source": [
    "test = downcast_df('order_products__test_cap.csv')\n",
    "print_info(test)"
   ]
  },
  {
   "cell_type": "markdown",
   "metadata": {},
   "source": [
    "# Merge DFs"
   ]
  },
  {
   "cell_type": "code",
   "execution_count": 12,
   "metadata": {},
   "outputs": [
    {
     "data": {
      "text/html": [
       "<div>\n",
       "<style scoped>\n",
       "    .dataframe tbody tr th:only-of-type {\n",
       "        vertical-align: middle;\n",
       "    }\n",
       "\n",
       "    .dataframe tbody tr th {\n",
       "        vertical-align: top;\n",
       "    }\n",
       "\n",
       "    .dataframe thead th {\n",
       "        text-align: right;\n",
       "    }\n",
       "</style>\n",
       "<table border=\"1\" class=\"dataframe\">\n",
       "  <thead>\n",
       "    <tr style=\"text-align: right;\">\n",
       "      <th></th>\n",
       "      <th>order_id</th>\n",
       "      <th>product_id</th>\n",
       "      <th>add_to_cart_order</th>\n",
       "      <th>reordered</th>\n",
       "      <th>product_name</th>\n",
       "      <th>aisle_id</th>\n",
       "      <th>department_id</th>\n",
       "      <th>user_id</th>\n",
       "      <th>order_number</th>\n",
       "      <th>order_dow</th>\n",
       "      <th>order_hour_of_day</th>\n",
       "      <th>days_since_prior_order</th>\n",
       "    </tr>\n",
       "  </thead>\n",
       "  <tbody>\n",
       "    <tr>\n",
       "      <th>0</th>\n",
       "      <td>2</td>\n",
       "      <td>33120</td>\n",
       "      <td>1</td>\n",
       "      <td>1</td>\n",
       "      <td>Organic Egg Whites</td>\n",
       "      <td>86</td>\n",
       "      <td>16</td>\n",
       "      <td>202279</td>\n",
       "      <td>3</td>\n",
       "      <td>5</td>\n",
       "      <td>9</td>\n",
       "      <td>8</td>\n",
       "    </tr>\n",
       "    <tr>\n",
       "      <th>1</th>\n",
       "      <td>2</td>\n",
       "      <td>28985</td>\n",
       "      <td>2</td>\n",
       "      <td>1</td>\n",
       "      <td>Michigan Organic Kale</td>\n",
       "      <td>83</td>\n",
       "      <td>4</td>\n",
       "      <td>202279</td>\n",
       "      <td>3</td>\n",
       "      <td>5</td>\n",
       "      <td>9</td>\n",
       "      <td>8</td>\n",
       "    </tr>\n",
       "    <tr>\n",
       "      <th>2</th>\n",
       "      <td>2</td>\n",
       "      <td>9327</td>\n",
       "      <td>3</td>\n",
       "      <td>0</td>\n",
       "      <td>Garlic Powder</td>\n",
       "      <td>104</td>\n",
       "      <td>13</td>\n",
       "      <td>202279</td>\n",
       "      <td>3</td>\n",
       "      <td>5</td>\n",
       "      <td>9</td>\n",
       "      <td>8</td>\n",
       "    </tr>\n",
       "    <tr>\n",
       "      <th>3</th>\n",
       "      <td>2</td>\n",
       "      <td>45918</td>\n",
       "      <td>4</td>\n",
       "      <td>1</td>\n",
       "      <td>Coconut Butter</td>\n",
       "      <td>19</td>\n",
       "      <td>13</td>\n",
       "      <td>202279</td>\n",
       "      <td>3</td>\n",
       "      <td>5</td>\n",
       "      <td>9</td>\n",
       "      <td>8</td>\n",
       "    </tr>\n",
       "    <tr>\n",
       "      <th>4</th>\n",
       "      <td>2</td>\n",
       "      <td>30035</td>\n",
       "      <td>5</td>\n",
       "      <td>0</td>\n",
       "      <td>Natural Sweetener</td>\n",
       "      <td>17</td>\n",
       "      <td>13</td>\n",
       "      <td>202279</td>\n",
       "      <td>3</td>\n",
       "      <td>5</td>\n",
       "      <td>9</td>\n",
       "      <td>8</td>\n",
       "    </tr>\n",
       "  </tbody>\n",
       "</table>\n",
       "</div>"
      ],
      "text/plain": [
       "   order_id  product_id  add_to_cart_order  reordered           product_name  \\\n",
       "0         2       33120                  1          1     Organic Egg Whites   \n",
       "1         2       28985                  2          1  Michigan Organic Kale   \n",
       "2         2        9327                  3          0          Garlic Powder   \n",
       "3         2       45918                  4          1         Coconut Butter   \n",
       "4         2       30035                  5          0      Natural Sweetener   \n",
       "\n",
       "   aisle_id  department_id  user_id  order_number  order_dow  \\\n",
       "0        86             16   202279             3          5   \n",
       "1        83              4   202279             3          5   \n",
       "2       104             13   202279             3          5   \n",
       "3        19             13   202279             3          5   \n",
       "4        17             13   202279             3          5   \n",
       "\n",
       "   order_hour_of_day  days_since_prior_order  \n",
       "0                  9                       8  \n",
       "1                  9                       8  \n",
       "2                  9                       8  \n",
       "3                  9                       8  \n",
       "4                  9                       8  "
      ]
     },
     "execution_count": 12,
     "metadata": {},
     "output_type": "execute_result"
    }
   ],
   "source": [
    "prior_merge1 = pd.merge(prior, products, on=\"product_id\", how=\"left\")\n",
    "df = pd.merge(prior_merge1, orders, on=\"order_id\", how=\"left\")\n",
    "df = df.drop(['eval_set'], axis=1)\n",
    "df['days_since_prior_order'] = df['days_since_prior_order'].fillna(-1).astype('int16')\n",
    "df.head()"
   ]
  },
  {
   "cell_type": "code",
   "execution_count": 13,
   "metadata": {},
   "outputs": [],
   "source": [
    "product_count = df.groupby('product_id').size()"
   ]
  },
  {
   "cell_type": "code",
   "execution_count": 14,
   "metadata": {},
   "outputs": [],
   "source": [
    "df['count'] = df['product_id'].map(product_count).astype('uint32')"
   ]
  },
  {
   "cell_type": "code",
   "execution_count": 15,
   "metadata": {},
   "outputs": [
    {
     "data": {
      "text/html": [
       "<div>\n",
       "<style scoped>\n",
       "    .dataframe tbody tr th:only-of-type {\n",
       "        vertical-align: middle;\n",
       "    }\n",
       "\n",
       "    .dataframe tbody tr th {\n",
       "        vertical-align: top;\n",
       "    }\n",
       "\n",
       "    .dataframe thead th {\n",
       "        text-align: right;\n",
       "    }\n",
       "</style>\n",
       "<table border=\"1\" class=\"dataframe\">\n",
       "  <thead>\n",
       "    <tr style=\"text-align: right;\">\n",
       "      <th></th>\n",
       "      <th>order_id</th>\n",
       "      <th>product_id</th>\n",
       "      <th>add_to_cart_order</th>\n",
       "      <th>reordered</th>\n",
       "      <th>product_name</th>\n",
       "      <th>aisle_id</th>\n",
       "      <th>department_id</th>\n",
       "      <th>user_id</th>\n",
       "      <th>order_number</th>\n",
       "      <th>order_dow</th>\n",
       "      <th>order_hour_of_day</th>\n",
       "      <th>days_since_prior_order</th>\n",
       "      <th>count</th>\n",
       "    </tr>\n",
       "  </thead>\n",
       "  <tbody>\n",
       "    <tr>\n",
       "      <th>0</th>\n",
       "      <td>2</td>\n",
       "      <td>33120</td>\n",
       "      <td>1</td>\n",
       "      <td>1</td>\n",
       "      <td>Organic Egg Whites</td>\n",
       "      <td>86</td>\n",
       "      <td>16</td>\n",
       "      <td>202279</td>\n",
       "      <td>3</td>\n",
       "      <td>5</td>\n",
       "      <td>9</td>\n",
       "      <td>8</td>\n",
       "      <td>19400</td>\n",
       "    </tr>\n",
       "    <tr>\n",
       "      <th>1</th>\n",
       "      <td>2</td>\n",
       "      <td>28985</td>\n",
       "      <td>2</td>\n",
       "      <td>1</td>\n",
       "      <td>Michigan Organic Kale</td>\n",
       "      <td>83</td>\n",
       "      <td>4</td>\n",
       "      <td>202279</td>\n",
       "      <td>3</td>\n",
       "      <td>5</td>\n",
       "      <td>9</td>\n",
       "      <td>8</td>\n",
       "      <td>67449</td>\n",
       "    </tr>\n",
       "    <tr>\n",
       "      <th>2</th>\n",
       "      <td>2</td>\n",
       "      <td>9327</td>\n",
       "      <td>3</td>\n",
       "      <td>0</td>\n",
       "      <td>Garlic Powder</td>\n",
       "      <td>104</td>\n",
       "      <td>13</td>\n",
       "      <td>202279</td>\n",
       "      <td>3</td>\n",
       "      <td>5</td>\n",
       "      <td>9</td>\n",
       "      <td>8</td>\n",
       "      <td>6299</td>\n",
       "    </tr>\n",
       "    <tr>\n",
       "      <th>3</th>\n",
       "      <td>2</td>\n",
       "      <td>45918</td>\n",
       "      <td>4</td>\n",
       "      <td>1</td>\n",
       "      <td>Coconut Butter</td>\n",
       "      <td>19</td>\n",
       "      <td>13</td>\n",
       "      <td>202279</td>\n",
       "      <td>3</td>\n",
       "      <td>5</td>\n",
       "      <td>9</td>\n",
       "      <td>8</td>\n",
       "      <td>744</td>\n",
       "    </tr>\n",
       "    <tr>\n",
       "      <th>4</th>\n",
       "      <td>2</td>\n",
       "      <td>30035</td>\n",
       "      <td>5</td>\n",
       "      <td>0</td>\n",
       "      <td>Natural Sweetener</td>\n",
       "      <td>17</td>\n",
       "      <td>13</td>\n",
       "      <td>202279</td>\n",
       "      <td>3</td>\n",
       "      <td>5</td>\n",
       "      <td>9</td>\n",
       "      <td>8</td>\n",
       "      <td>569</td>\n",
       "    </tr>\n",
       "  </tbody>\n",
       "</table>\n",
       "</div>"
      ],
      "text/plain": [
       "   order_id  product_id  add_to_cart_order  reordered           product_name  \\\n",
       "0         2       33120                  1          1     Organic Egg Whites   \n",
       "1         2       28985                  2          1  Michigan Organic Kale   \n",
       "2         2        9327                  3          0          Garlic Powder   \n",
       "3         2       45918                  4          1         Coconut Butter   \n",
       "4         2       30035                  5          0      Natural Sweetener   \n",
       "\n",
       "   aisle_id  department_id  user_id  order_number  order_dow  \\\n",
       "0        86             16   202279             3          5   \n",
       "1        83              4   202279             3          5   \n",
       "2       104             13   202279             3          5   \n",
       "3        19             13   202279             3          5   \n",
       "4        17             13   202279             3          5   \n",
       "\n",
       "   order_hour_of_day  days_since_prior_order  count  \n",
       "0                  9                       8  19400  \n",
       "1                  9                       8  67449  \n",
       "2                  9                       8   6299  \n",
       "3                  9                       8    744  \n",
       "4                  9                       8    569  "
      ]
     },
     "execution_count": 15,
     "metadata": {},
     "output_type": "execute_result"
    }
   ],
   "source": [
    "df.head()"
   ]
  },
  {
   "cell_type": "code",
   "execution_count": 16,
   "metadata": {},
   "outputs": [
    {
     "name": "stdout",
     "output_type": "stream",
     "text": [
      "<class 'pandas.core.frame.DataFrame'>\n",
      "Int64Index: 32434489 entries, 0 to 32434488\n",
      "Data columns (total 13 columns):\n",
      "order_id                  uint32\n",
      "product_id                uint16\n",
      "add_to_cart_order         uint8\n",
      "reordered                 uint8\n",
      "product_name              object\n",
      "aisle_id                  uint8\n",
      "department_id             uint8\n",
      "user_id                   uint32\n",
      "order_number              uint8\n",
      "order_dow                 uint8\n",
      "order_hour_of_day         uint8\n",
      "days_since_prior_order    int16\n",
      "count                     uint32\n",
      "dtypes: int16(1), object(1), uint16(1), uint32(3), uint8(7)\n",
      "memory usage: 3.4 GB\n"
     ]
    }
   ],
   "source": [
    "df.info(memory_usage='deep')"
   ]
  },
  {
   "cell_type": "markdown",
   "metadata": {},
   "source": [
    "# Data Exploration\n",
    "\n",
    "Exploration of various attributes of product and order data. "
   ]
  },
  {
   "cell_type": "markdown",
   "metadata": {},
   "source": [
    "## Time of Day"
   ]
  },
  {
   "cell_type": "code",
   "execution_count": 17,
   "metadata": {},
   "outputs": [],
   "source": [
    "time_of_day = orders['order_hour_of_day'].value_counts()\n",
    "time_of_day = time_of_day.reset_index()\n",
    "time_of_day['pct_of_total'] = np.round((time_of_day['order_hour_of_day'] / time_of_day['order_hour_of_day'].sum()*100), 2)\n",
    "# time_of_day.head()"
   ]
  },
  {
   "cell_type": "code",
   "execution_count": 19,
   "metadata": {},
   "outputs": [
    {
     "data": {
      "application/vnd.vegalite.v2+json": {
       "$schema": "https://vega.github.io/schema/vega-lite/v2.6.0.json",
       "config": {
        "background": "white",
        "view": {
         "height": 300,
         "width": 400
        }
       },
       "data": {
        "name": "data-014e0a7dab42df99afd0375749910c16"
       },
       "datasets": {
        "data-014e0a7dab42df99afd0375749910c16": [
         {
          "index": 10,
          "order_hour_of_day": 288418,
          "pct_of_total": 8.43
         },
         {
          "index": 11,
          "order_hour_of_day": 284728,
          "pct_of_total": 8.32
         },
         {
          "index": 15,
          "order_hour_of_day": 283639,
          "pct_of_total": 8.29
         },
         {
          "index": 14,
          "order_hour_of_day": 283042,
          "pct_of_total": 8.27
         },
         {
          "index": 13,
          "order_hour_of_day": 277999,
          "pct_of_total": 8.13
         },
         {
          "index": 12,
          "order_hour_of_day": 272841,
          "pct_of_total": 7.98
         },
         {
          "index": 16,
          "order_hour_of_day": 272553,
          "pct_of_total": 7.97
         },
         {
          "index": 9,
          "order_hour_of_day": 257812,
          "pct_of_total": 7.54
         },
         {
          "index": 17,
          "order_hour_of_day": 228795,
          "pct_of_total": 6.69
         },
         {
          "index": 18,
          "order_hour_of_day": 182912,
          "pct_of_total": 5.35
         },
         {
          "index": 8,
          "order_hour_of_day": 178201,
          "pct_of_total": 5.21
         },
         {
          "index": 19,
          "order_hour_of_day": 140569,
          "pct_of_total": 4.11
         },
         {
          "index": 20,
          "order_hour_of_day": 104292,
          "pct_of_total": 3.05
         },
         {
          "index": 7,
          "order_hour_of_day": 91868,
          "pct_of_total": 2.69
         },
         {
          "index": 21,
          "order_hour_of_day": 78109,
          "pct_of_total": 2.28
         },
         {
          "index": 22,
          "order_hour_of_day": 61468,
          "pct_of_total": 1.8
         },
         {
          "index": 23,
          "order_hour_of_day": 40043,
          "pct_of_total": 1.17
         },
         {
          "index": 6,
          "order_hour_of_day": 30529,
          "pct_of_total": 0.89
         },
         {
          "index": 0,
          "order_hour_of_day": 22758,
          "pct_of_total": 0.67
         },
         {
          "index": 1,
          "order_hour_of_day": 12398,
          "pct_of_total": 0.36
         },
         {
          "index": 5,
          "order_hour_of_day": 9569,
          "pct_of_total": 0.28
         },
         {
          "index": 2,
          "order_hour_of_day": 7539,
          "pct_of_total": 0.22
         },
         {
          "index": 4,
          "order_hour_of_day": 5527,
          "pct_of_total": 0.16
         },
         {
          "index": 3,
          "order_hour_of_day": 5474,
          "pct_of_total": 0.16
         }
        ]
       },
       "encoding": {
        "color": {
         "field": "order_hour_of_day",
         "legend": null,
         "scale": {
          "scheme": "viridis"
         },
         "sort": "descending",
         "type": "quantitative"
        },
        "tooltip": [
         {
          "field": "index",
          "title": "Hour of Day",
          "type": "ordinal"
         },
         {
          "field": "order_hour_of_day",
          "type": "quantitative"
         },
         {
          "field": "pct_of_total",
          "type": "quantitative"
         }
        ],
        "x": {
         "bin": false,
         "field": "index",
         "title": "hour of day",
         "type": "ordinal"
        },
        "y": {
         "field": "order_hour_of_day",
         "title": "count",
         "type": "quantitative"
        }
       },
       "height": 400,
       "mark": "bar",
       "title": "Orders by Hour of Day",
       "width": 700
      },
      "image/png": "[encoded data removed]",
      "text/plain": [
       "<VegaLite 2 object>\n",
       "\n",
       "If you see this message, it means the renderer has not been properly enabled\n",
       "for the frontend that you are using. For more information, see\n",
       "https://altair-viz.github.io/user_guide/troubleshooting.html\n"
      ]
     },
     "execution_count": 19,
     "metadata": {},
     "output_type": "execute_result"
    }
   ],
   "source": [
    "time_of_day_chart = alt.Chart(time_of_day).mark_bar().encode(\n",
    "    alt.X(\"index:O\", bin=False, title=\"hour of day\"),\n",
    "    alt.Y('order_hour_of_day:Q', title=\"count\"),\n",
    "#     alt.ColorValue('darkorange'),\n",
    "#     color = alt.Color('order_hour_of_day', alt.ColorValue(\"blue\")),\n",
    "#     color='orange',\n",
    "    color = alt.Color('order_hour_of_day', legend=None, sort=\"descending\", scale=alt.Scale(scheme='viridis')),\n",
    "    tooltip=[alt.Tooltip('index:O', title=\"Hour of Day\"), alt.Tooltip('order_hour_of_day:Q'), alt.Tooltip('pct_of_total:Q')]\n",
    "    ).properties(title=\"Orders by Hour of Day\", width=700, height=400)\n",
    "\n",
    "time_of_day_chart"
   ]
  },
  {
   "cell_type": "markdown",
   "metadata": {},
   "source": [
    "From this, we can see that most orders come in the 7am - 9pm timeframe, with heaviest demand from 9am - 5pm. "
   ]
  },
  {
   "cell_type": "markdown",
   "metadata": {},
   "source": [
    "## Orders by Day of Week"
   ]
  },
  {
   "cell_type": "code",
   "execution_count": 23,
   "metadata": {},
   "outputs": [],
   "source": [
    "dayofweek_dict = {'Monday': 1, 'Tuesday': 2, 'Wednesday': 3, 'Thursday': 4, 'Friday': 5, 'Saturday': 6, 'Sunday': 0}\n",
    "\n",
    "inv_dayofweek_dict = {v: k for k, v in dayofweek_dict.items()}\n",
    "\n",
    "dayofweek_list = ['Sunday', 'Monday', 'Tuesday', 'Wednesday', 'Thursday', 'Friday', 'Saturday']"
   ]
  },
  {
   "cell_type": "code",
   "execution_count": 24,
   "metadata": {},
   "outputs": [],
   "source": [
    "dow = orders['order_dow'].value_counts()\n",
    "dow = dow.reset_index()\n",
    "dow.columns = ['index', 'count']\n",
    "dow['pct_of_total'] = np.round((dow['count'] / dow['count'].sum()*100), 2)\n",
    "dow['day'] = dow['index'].map(inv_dayofweek_dict)\n",
    "# dow.head()"
   ]
  },
  {
   "cell_type": "code",
   "execution_count": 30,
   "metadata": {},
   "outputs": [
    {
     "data": {
      "application/vnd.vegalite.v2+json": {
       "$schema": "https://vega.github.io/schema/vega-lite/v2.6.0.json",
       "config": {
        "background": "white",
        "view": {
         "height": 300,
         "width": 400
        }
       },
       "data": {
        "name": "data-64482d20ab4610eaa1d4e414fc85e6c0"
       },
       "datasets": {
        "data-64482d20ab4610eaa1d4e414fc85e6c0": [
         {
          "count": 600905,
          "day": "Sunday",
          "index": 0,
          "pct_of_total": 17.56
         },
         {
          "count": 587478,
          "day": "Monday",
          "index": 1,
          "pct_of_total": 17.17
         },
         {
          "count": 467260,
          "day": "Tuesday",
          "index": 2,
          "pct_of_total": 13.66
         },
         {
          "count": 453368,
          "day": "Friday",
          "index": 5,
          "pct_of_total": 13.25
         },
         {
          "count": 448761,
          "day": "Saturday",
          "index": 6,
          "pct_of_total": 13.12
         },
         {
          "count": 436972,
          "day": "Wednesday",
          "index": 3,
          "pct_of_total": 12.77
         },
         {
          "count": 426339,
          "day": "Thursday",
          "index": 4,
          "pct_of_total": 12.46
         }
        ]
       },
       "encoding": {
        "color": {
         "field": "count",
         "legend": null,
         "scale": {
          "scheme": "viridis"
         },
         "sort": "descending",
         "type": "quantitative"
        },
        "tooltip": [
         {
          "field": "day",
          "title": "Day of Week",
          "type": "ordinal"
         },
         {
          "field": "count",
          "type": "quantitative"
         },
         {
          "field": "pct_of_total",
          "type": "quantitative"
         }
        ],
        "x": {
         "bin": false,
         "field": "day",
         "sort": [
          "Sunday",
          "Monday",
          "Tuesday",
          "Wednesday",
          "Thursday",
          "Friday",
          "Saturday"
         ],
         "title": "",
         "type": "ordinal"
        },
        "y": {
         "field": "count",
         "title": "Total Count",
         "type": "quantitative"
        }
       },
       "height": 400,
       "mark": "bar",
       "title": "Order Frequency by Day of Week",
       "width": 700
      },
      "image/png": "[encoded data removed]",
      "text/plain": [
       "<VegaLite 2 object>\n",
       "\n",
       "If you see this message, it means the renderer has not been properly enabled\n",
       "for the frontend that you are using. For more information, see\n",
       "https://altair-viz.github.io/user_guide/troubleshooting.html\n"
      ]
     },
     "execution_count": 30,
     "metadata": {},
     "output_type": "execute_result"
    }
   ],
   "source": [
    "day_of_week_chart = alt.Chart(dow).mark_bar().encode(\n",
    "    alt.X(\"day:O\", bin=False, sort=dayofweek_list, title=\"\"),\n",
    "    alt.Y('count:Q', title=\"Total Count\"),\n",
    "#     alt.ColorValue('darkorange'),\n",
    "#     color = alt.Color('order_hour_of_day', alt.ColorValue(\"blue\")),\n",
    "#     color='orange',\n",
    "    color = alt.Color('count', legend=None, sort=\"descending\", scale=alt.Scale(scheme='viridis')),\n",
    "    tooltip=[alt.Tooltip('day:O', title=\"Day of Week\"), alt.Tooltip('count:Q'), alt.Tooltip('pct_of_total:Q')]\n",
    "    ).properties(title=\"Order Frequency by Day of Week\", width=700, height=400)\n",
    "\n",
    "day_of_week_chart"
   ]
  },
  {
   "cell_type": "markdown",
   "metadata": {},
   "source": [
    "From this chart, we can see that orders are spread out reasonably well over the week, but Sunday and Monday are the busiest days, account for ~ 34% of all orders. Differences between Tuesday thru Saturday appear to be neglible, so we can think of the week in terms of two categories: Sunday + Monday (peak days) and Tues - Sat.   "
   ]
  },
  {
   "cell_type": "markdown",
   "metadata": {},
   "source": [
    "## Days Since Last Order"
   ]
  },
  {
   "cell_type": "code",
   "execution_count": 27,
   "metadata": {},
   "outputs": [],
   "source": [
    "days_since_prior = orders['days_since_prior_order'].value_counts()\n",
    "days_since_prior = days_since_prior.reset_index()\n",
    "days_since_prior.columns = ['days_since_prior_order', 'count']\n",
    "days_since_prior = days_since_prior.sort_values(by=['days_since_prior_order'])\n",
    "days_since_prior = days_since_prior.drop(6, axis=0)\n",
    "days_since_prior = days_since_prior.reset_index(drop=True)\n",
    "# days_since_prior = days_since_prior.drop('index', axis=1)\n",
    "# days_since_prior = days_since_prior.reset_index()\n",
    "days_since_prior['pct_of_total'] = np.round((days_since_prior['count'] / days_since_prior['count'].sum()*100), 2)\n",
    "# days_since_prior.head()"
   ]
  },
  {
   "cell_type": "code",
   "execution_count": 29,
   "metadata": {},
   "outputs": [
    {
     "data": {
      "application/vnd.vegalite.v2+json": {
       "$schema": "https://vega.github.io/schema/vega-lite/v2.6.0.json",
       "config": {
        "background": "white",
        "view": {
         "height": 300,
         "width": 400
        }
       },
       "data": {
        "name": "data-3db4bc69f8a7856b0194699416cd89c2"
       },
       "datasets": {
        "data-3db4bc69f8a7856b0194699416cd89c2": [
         {
          "count": 67755,
          "days_since_prior_order": 0,
          "pct_of_total": 2.11
         },
         {
          "count": 145247,
          "days_since_prior_order": 1,
          "pct_of_total": 4.52
         },
         {
          "count": 193206,
          "days_since_prior_order": 2,
          "pct_of_total": 6.01
         },
         {
          "count": 217005,
          "days_since_prior_order": 3,
          "pct_of_total": 6.75
         },
         {
          "count": 221696,
          "days_since_prior_order": 4,
          "pct_of_total": 6.9
         },
         {
          "count": 214503,
          "days_since_prior_order": 5,
          "pct_of_total": 6.67
         },
         {
          "count": 240013,
          "days_since_prior_order": 6,
          "pct_of_total": 7.47
         },
         {
          "count": 320608,
          "days_since_prior_order": 7,
          "pct_of_total": 9.97
         },
         {
          "count": 181717,
          "days_since_prior_order": 8,
          "pct_of_total": 5.65
         },
         {
          "count": 118188,
          "days_since_prior_order": 9,
          "pct_of_total": 3.68
         },
         {
          "count": 95186,
          "days_since_prior_order": 10,
          "pct_of_total": 2.96
         },
         {
          "count": 80970,
          "days_since_prior_order": 11,
          "pct_of_total": 2.52
         },
         {
          "count": 76146,
          "days_since_prior_order": 12,
          "pct_of_total": 2.37
         },
         {
          "count": 83214,
          "days_since_prior_order": 13,
          "pct_of_total": 2.59
         },
         {
          "count": 100230,
          "days_since_prior_order": 14,
          "pct_of_total": 3.12
         },
         {
          "count": 66579,
          "days_since_prior_order": 15,
          "pct_of_total": 2.07
         },
         {
          "count": 46941,
          "days_since_prior_order": 16,
          "pct_of_total": 1.46
         },
         {
          "count": 39245,
          "days_since_prior_order": 17,
          "pct_of_total": 1.22
         },
         {
          "count": 35881,
          "days_since_prior_order": 18,
          "pct_of_total": 1.12
         },
         {
          "count": 34384,
          "days_since_prior_order": 19,
          "pct_of_total": 1.07
         },
         {
          "count": 38527,
          "days_since_prior_order": 20,
          "pct_of_total": 1.2
         },
         {
          "count": 45470,
          "days_since_prior_order": 21,
          "pct_of_total": 1.41
         },
         {
          "count": 32012,
          "days_since_prior_order": 22,
          "pct_of_total": 1
         },
         {
          "count": 23885,
          "days_since_prior_order": 23,
          "pct_of_total": 0.74
         },
         {
          "count": 20712,
          "days_since_prior_order": 24,
          "pct_of_total": 0.64
         },
         {
          "count": 19234,
          "days_since_prior_order": 25,
          "pct_of_total": 0.6
         },
         {
          "count": 19016,
          "days_since_prior_order": 26,
          "pct_of_total": 0.59
         },
         {
          "count": 22013,
          "days_since_prior_order": 27,
          "pct_of_total": 0.68
         },
         {
          "count": 26777,
          "days_since_prior_order": 28,
          "pct_of_total": 0.83
         },
         {
          "count": 19191,
          "days_since_prior_order": 29,
          "pct_of_total": 0.6
         },
         {
          "count": 369323,
          "days_since_prior_order": 30,
          "pct_of_total": 11.49
         }
        ]
       },
       "encoding": {
        "color": {
         "field": "count",
         "legend": null,
         "scale": {
          "scheme": "viridis"
         },
         "sort": "descending",
         "type": "quantitative"
        },
        "tooltip": [
         {
          "field": "days_since_prior_order",
          "title": "Days since Last Order",
          "type": "quantitative"
         },
         {
          "field": "count",
          "type": "quantitative"
         },
         {
          "field": "pct_of_total",
          "type": "quantitative"
         }
        ],
        "x": {
         "bin": false,
         "field": "days_since_prior_order",
         "title": "Days Since Last Order",
         "type": "ordinal"
        },
        "y": {
         "field": "count",
         "title": "Total Count",
         "type": "quantitative"
        }
       },
       "height": 400,
       "mark": "bar",
       "title": "Days Since Prior Order",
       "width": 700
      },
      "image/png": "[encoded data removed]",
      "text/plain": [
       "<VegaLite 2 object>\n",
       "\n",
       "If you see this message, it means the renderer has not been properly enabled\n",
       "for the frontend that you are using. For more information, see\n",
       "https://altair-viz.github.io/user_guide/troubleshooting.html\n"
      ]
     },
     "execution_count": 29,
     "metadata": {},
     "output_type": "execute_result"
    }
   ],
   "source": [
    "prev_order_chart = alt.Chart(days_since_prior).mark_bar().encode(\n",
    "    alt.X(\"days_since_prior_order:O\", bin=False, title=\"Days Since Last Order\"),\n",
    "    alt.Y('count:Q', title=\"Total Count\"),\n",
    "#     alt.ColorValue('darkorange'),\n",
    "#     color = alt.Color('order_hour_of_day', alt.ColorValue(\"blue\")),\n",
    "#     color='orange',\n",
    "    color = alt.Color('count', legend=None, sort=\"descending\", scale=alt.Scale(scheme='viridis')),\n",
    "    tooltip=[alt.Tooltip('days_since_prior_order:Q', title=\"Days since Last Order\"), alt.Tooltip('count:Q'), alt.Tooltip('pct_of_total:Q')]\n",
    "    ).properties(title=\"Days Since Prior Order\", width=700, height=400)\n",
    "\n",
    "prev_order_chart"
   ]
  },
  {
   "cell_type": "markdown",
   "metadata": {},
   "source": [
    "The most interesting observation here is that ~ 10% of customers reorder exactly 7 days after their prior order. Approximately 50% of customers reorder within 7 days. "
   ]
  },
  {
   "cell_type": "markdown",
   "metadata": {},
   "source": [
    "## Orders by Department"
   ]
  },
  {
   "cell_type": "code",
   "execution_count": 34,
   "metadata": {},
   "outputs": [],
   "source": [
    "dept_stats = df['department_id'].value_counts().reset_index()\n",
    "dept_stats.columns = ['department_id', 'freq']\n",
    "dept_stats = pd.merge(dept_stats, departments, on='department_id', how='left')\n",
    "dept_stats['pct_orders'] = np.round((dept_stats['freq'] / dept_stats['freq'].sum()) * 100,2)\n",
    "# dept_stats"
   ]
  },
  {
   "cell_type": "code",
   "execution_count": 35,
   "metadata": {},
   "outputs": [
    {
     "data": {
      "application/vnd.vegalite.v2+json": {
       "$schema": "https://vega.github.io/schema/vega-lite/v2.6.0.json",
       "config": {
        "background": "white",
        "view": {
         "height": 300,
         "width": 400
        }
       },
       "data": {
        "name": "data-3e73da957ef4674121d9f2932c31a7b2"
       },
       "datasets": {
        "data-3e73da957ef4674121d9f2932c31a7b2": [
         {
          "department": "produce",
          "department_id": 4,
          "freq": 9479291,
          "pct_orders": 29.23
         },
         {
          "department": "dairy eggs",
          "department_id": 16,
          "freq": 5414016,
          "pct_orders": 16.69
         },
         {
          "department": "snacks",
          "department_id": 19,
          "freq": 2887550,
          "pct_orders": 8.9
         },
         {
          "department": "beverages",
          "department_id": 7,
          "freq": 2690129,
          "pct_orders": 8.29
         },
         {
          "department": "frozen",
          "department_id": 1,
          "freq": 2236432,
          "pct_orders": 6.9
         },
         {
          "department": "pantry",
          "department_id": 13,
          "freq": 1875577,
          "pct_orders": 5.78
         },
         {
          "department": "bakery",
          "department_id": 3,
          "freq": 1176787,
          "pct_orders": 3.63
         },
         {
          "department": "canned goods",
          "department_id": 15,
          "freq": 1068058,
          "pct_orders": 3.29
         },
         {
          "department": "deli",
          "department_id": 20,
          "freq": 1051249,
          "pct_orders": 3.24
         },
         {
          "department": "dry goods pasta",
          "department_id": 9,
          "freq": 866627,
          "pct_orders": 2.67
         },
         {
          "department": "household",
          "department_id": 17,
          "freq": 738666,
          "pct_orders": 2.28
         },
         {
          "department": "breakfast",
          "department_id": 14,
          "freq": 709569,
          "pct_orders": 2.19
         },
         {
          "department": "meat seafood",
          "department_id": 12,
          "freq": 708931,
          "pct_orders": 2.19
         },
         {
          "department": "personal care",
          "department_id": 11,
          "freq": 447123,
          "pct_orders": 1.38
         },
         {
          "department": "babies",
          "department_id": 18,
          "freq": 423802,
          "pct_orders": 1.31
         },
         {
          "department": "international",
          "department_id": 6,
          "freq": 269253,
          "pct_orders": 0.83
         },
         {
          "department": "alcohol",
          "department_id": 5,
          "freq": 153696,
          "pct_orders": 0.47
         },
         {
          "department": "pets",
          "department_id": 8,
          "freq": 97724,
          "pct_orders": 0.3
         },
         {
          "department": "missing",
          "department_id": 21,
          "freq": 69145,
          "pct_orders": 0.21
         },
         {
          "department": "other",
          "department_id": 2,
          "freq": 36291,
          "pct_orders": 0.11
         },
         {
          "department": "bulk",
          "department_id": 10,
          "freq": 34573,
          "pct_orders": 0.11
         }
        ]
       },
       "encoding": {
        "color": {
         "field": "freq",
         "legend": null,
         "scale": {
          "scheme": "viridis"
         },
         "sort": "descending",
         "type": "quantitative"
        },
        "tooltip": [
         {
          "field": "department",
          "title": "Department",
          "type": "ordinal"
         },
         {
          "field": "freq",
          "type": "quantitative"
         },
         {
          "field": "pct_orders",
          "type": "quantitative"
         }
        ],
        "x": {
         "bin": false,
         "field": "department",
         "type": "ordinal"
        },
        "y": {
         "field": "freq",
         "title": "Total Orders",
         "type": "quantitative"
        }
       },
       "height": 400,
       "mark": "bar",
       "title": "Orders by Department",
       "width": 700
      },
      "image/png": "[encoded data removed]",
      "text/plain": [
       "<VegaLite 2 object>\n",
       "\n",
       "If you see this message, it means the renderer has not been properly enabled\n",
       "for the frontend that you are using. For more information, see\n",
       "https://altair-viz.github.io/user_guide/troubleshooting.html\n"
      ]
     },
     "execution_count": 35,
     "metadata": {},
     "output_type": "execute_result"
    }
   ],
   "source": [
    "chart_title = \"Orders by Department\"\n",
    "x_label = \"department:O\"\n",
    "y_label = 'freq:Q'\n",
    "pct_of_orders = 'pct_orders:Q'\n",
    "# sort_list = honeycrisp_df['index'].tolist()\n",
    "\n",
    "\n",
    "dept_chart = alt.Chart(dept_stats).mark_bar().encode(\n",
    "    alt.X(x_label, bin=False),\n",
    "    alt.Y(y_label, title=\"Total Orders\"),\n",
    "    color = alt.Color(y_label, legend=None, sort=\"descending\", scale=alt.Scale(scheme='viridis')),\n",
    "    tooltip=[alt.Tooltip(x_label, title=\"Department\"), alt.Tooltip(y_label), alt.Tooltip(pct_of_orders)]\n",
    "    ).properties(title=chart_title, width=700, height=400)\n",
    "\n",
    "dept_chart"
   ]
  },
  {
   "cell_type": "markdown",
   "metadata": {},
   "source": [
    "Produce dominates this category, accounting for roughly 29% of all items purchased. Dairy + eggs are 2nd most popular department, accounting for ~ 17% of items purchased. "
   ]
  },
  {
   "cell_type": "markdown",
   "metadata": {},
   "source": [
    "## Most Popular Products"
   ]
  },
  {
   "cell_type": "code",
   "execution_count": 37,
   "metadata": {},
   "outputs": [
    {
     "data": {
      "text/plain": [
       "Banana                      472565\n",
       "Bag of Organic Bananas      379450\n",
       "Organic Strawberries        264683\n",
       "Organic Baby Spinach        241921\n",
       "Organic Hass Avocado        213584\n",
       "Organic Avocado             176815\n",
       "Large Lemon                 152657\n",
       "Strawberries                142951\n",
       "Limes                       140627\n",
       "Organic Whole Milk          137905\n",
       "Organic Raspberries         137057\n",
       "Organic Yellow Onion        113426\n",
       "Organic Garlic              109778\n",
       "Organic Zucchini            104823\n",
       "Organic Blueberries         100060\n",
       "Cucumber Kirby               97315\n",
       "Organic Fuji Apple           89632\n",
       "Organic Lemon                87746\n",
       "Apple Honeycrisp Organic     85020\n",
       "Organic Grape Tomatoes       84255\n",
       "Name: product_name, dtype: int64"
      ]
     },
     "execution_count": 37,
     "metadata": {},
     "output_type": "execute_result"
    }
   ],
   "source": [
    "# 20 most commonly ordered products\n",
    "df['product_name'].value_counts()[:20]"
   ]
  },
  {
   "cell_type": "code",
   "execution_count": 38,
   "metadata": {},
   "outputs": [],
   "source": []
  },
  {
   "cell_type": "code",
   "execution_count": 145,
   "metadata": {},
   "outputs": [],
   "source": [
    "num_orders = orders.shape[0]\n",
    "\n",
    "top_prods = df['product_name'].value_counts()[:30]\n",
    "top_prods = pd.DataFrame(top_prods).reset_index()\n",
    "top_prods.columns = ['index', 'count']\n",
    "top_prods['product_num'] = top_prods['index'].map(product_dict)\n",
    "top_prods['Pct_of_Baskets'] = (top_prods['count'] / num_orders) * 100"
   ]
  },
  {
   "cell_type": "code",
   "execution_count": 40,
   "metadata": {},
   "outputs": [
    {
     "data": {
      "text/html": [
       "<div>\n",
       "<style scoped>\n",
       "    .dataframe tbody tr th:only-of-type {\n",
       "        vertical-align: middle;\n",
       "    }\n",
       "\n",
       "    .dataframe tbody tr th {\n",
       "        vertical-align: top;\n",
       "    }\n",
       "\n",
       "    .dataframe thead th {\n",
       "        text-align: right;\n",
       "    }\n",
       "</style>\n",
       "<table border=\"1\" class=\"dataframe\">\n",
       "  <thead>\n",
       "    <tr style=\"text-align: right;\">\n",
       "      <th></th>\n",
       "      <th>index</th>\n",
       "      <th>count</th>\n",
       "      <th>product_num</th>\n",
       "      <th>Pct_of_Baskets</th>\n",
       "    </tr>\n",
       "  </thead>\n",
       "  <tbody>\n",
       "    <tr>\n",
       "      <th>0</th>\n",
       "      <td>Banana</td>\n",
       "      <td>472565</td>\n",
       "      <td>24852</td>\n",
       "      <td>13.813316</td>\n",
       "    </tr>\n",
       "    <tr>\n",
       "      <th>1</th>\n",
       "      <td>Bag of Organic Bananas</td>\n",
       "      <td>379450</td>\n",
       "      <td>13176</td>\n",
       "      <td>11.091517</td>\n",
       "    </tr>\n",
       "    <tr>\n",
       "      <th>2</th>\n",
       "      <td>Organic Strawberries</td>\n",
       "      <td>264683</td>\n",
       "      <td>21137</td>\n",
       "      <td>7.736819</td>\n",
       "    </tr>\n",
       "    <tr>\n",
       "      <th>3</th>\n",
       "      <td>Organic Baby Spinach</td>\n",
       "      <td>241921</td>\n",
       "      <td>21903</td>\n",
       "      <td>7.071474</td>\n",
       "    </tr>\n",
       "    <tr>\n",
       "      <th>4</th>\n",
       "      <td>Organic Hass Avocado</td>\n",
       "      <td>213584</td>\n",
       "      <td>47209</td>\n",
       "      <td>6.243169</td>\n",
       "    </tr>\n",
       "  </tbody>\n",
       "</table>\n",
       "</div>"
      ],
      "text/plain": [
       "                    index   count  product_num  Pct_of_Baskets\n",
       "0                  Banana  472565        24852       13.813316\n",
       "1  Bag of Organic Bananas  379450        13176       11.091517\n",
       "2    Organic Strawberries  264683        21137        7.736819\n",
       "3    Organic Baby Spinach  241921        21903        7.071474\n",
       "4    Organic Hass Avocado  213584        47209        6.243169"
      ]
     },
     "execution_count": 40,
     "metadata": {},
     "output_type": "execute_result"
    }
   ],
   "source": [
    "top_prods.head()"
   ]
  },
  {
   "cell_type": "code",
   "execution_count": 41,
   "metadata": {},
   "outputs": [],
   "source": [
    "top_prods_order_list = top_prods['index'].tolist()"
   ]
  },
  {
   "cell_type": "code",
   "execution_count": 43,
   "metadata": {},
   "outputs": [
    {
     "data": {
      "application/vnd.vegalite.v2+json": {
       "$schema": "https://vega.github.io/schema/vega-lite/v2.6.0.json",
       "config": {
        "background": "white",
        "view": {
         "height": 300,
         "width": 400
        }
       },
       "data": {
        "name": "data-3a0821f4cb5de9e9e16552b2c8814d1b"
       },
       "datasets": {
        "data-3a0821f4cb5de9e9e16552b2c8814d1b": [
         {
          "Pct_of_Baskets": 13.813315841796298,
          "count": 472565,
          "index": "Banana",
          "product_num": 24852
         },
         {
          "Pct_of_Baskets": 11.091516926072826,
          "count": 379450,
          "index": "Bag of Organic Bananas",
          "product_num": 13176
         },
         {
          "Pct_of_Baskets": 7.736819013160452,
          "count": 264683,
          "index": "Organic Strawberries",
          "product_num": 21137
         },
         {
          "Pct_of_Baskets": 7.0714741501448515,
          "count": 241921,
          "index": "Organic Baby Spinach",
          "product_num": 21903
         },
         {
          "Pct_of_Baskets": 6.243169195251913,
          "count": 213584,
          "index": "Organic Hass Avocado",
          "product_num": 47209
         },
         {
          "Pct_of_Baskets": 5.168392582115079,
          "count": 176815,
          "index": "Organic Avocado",
          "product_num": 47766
         },
         {
          "Pct_of_Baskets": 4.4622419274831975,
          "count": 152657,
          "index": "Large Lemon",
          "product_num": 47626
         },
         {
          "Pct_of_Baskets": 4.178530599812983,
          "count": 142951,
          "index": "Strawberries",
          "product_num": 16797
         },
         {
          "Pct_of_Baskets": 4.110598895145192,
          "count": 140627,
          "index": "Limes",
          "product_num": 26209
         },
         {
          "Pct_of_Baskets": 4.031033447595396,
          "count": 137905,
          "index": "Organic Whole Milk",
          "product_num": 27845
         },
         {
          "Pct_of_Baskets": 4.006245975324188,
          "count": 137057,
          "index": "Organic Raspberries",
          "product_num": 27966
         },
         {
          "Pct_of_Baskets": 3.3154997993325503,
          "count": 113426,
          "index": "Organic Yellow Onion",
          "product_num": 22935
         },
         {
          "Pct_of_Baskets": 3.2088668997507517,
          "count": 109778,
          "index": "Organic Garlic",
          "product_num": 24964
         },
         {
          "Pct_of_Baskets": 3.0640297239207586,
          "count": 104823,
          "index": "Organic Zucchini",
          "product_num": 45007
         },
         {
          "Pct_of_Baskets": 2.924804805963492,
          "count": 100060,
          "index": "Organic Blueberries",
          "product_num": 39275
         },
         {
          "Pct_of_Baskets": 2.844567056689358,
          "count": 97315,
          "index": "Cucumber Kirby",
          "product_num": 49683
         },
         {
          "Pct_of_Baskets": 2.6199890502510463,
          "count": 89632,
          "index": "Organic Fuji Apple",
          "product_num": 28204
         },
         {
          "Pct_of_Baskets": 2.5648603088554123,
          "count": 87746,
          "index": "Organic Lemon",
          "product_num": 5876
         },
         {
          "Pct_of_Baskets": 2.4851779392666007,
          "count": 85020,
          "index": "Apple Honeycrisp Organic",
          "product_num": 8277
         },
         {
          "Pct_of_Baskets": 2.462816599304957,
          "count": 84255,
          "index": "Organic Grape Tomatoes",
          "product_num": 40706
         },
         {
          "Pct_of_Baskets": 2.4170416210305334,
          "count": 82689,
          "index": "Seedless Red Grapes",
          "product_num": 4920
         },
         {
          "Pct_of_Baskets": 2.3498991401260945,
          "count": 80392,
          "index": "Organic Cucumber",
          "product_num": 30391
         },
         {
          "Pct_of_Baskets": 2.331688532549488,
          "count": 79769,
          "index": "Honeycrisp Apple",
          "product_num": 45066
         },
         {
          "Pct_of_Baskets": 2.2477092780268704,
          "count": 76896,
          "index": "Organic Baby Carrots",
          "product_num": 42265
         },
         {
          "Pct_of_Baskets": 2.232041724798843,
          "count": 76360,
          "index": "Organic Half & Half",
          "product_num": 49235
         },
         {
          "Pct_of_Baskets": 2.21818646317555,
          "count": 75886,
          "index": "Sparkling Water Grapefruit",
          "product_num": 44632
         },
         {
          "Pct_of_Baskets": 2.1971112656430725,
          "count": 75165,
          "index": "Organic Large Extra Fancy Fuji Apple",
          "product_num": 19057
         },
         {
          "Pct_of_Baskets": 2.138708707155015,
          "count": 73167,
          "index": "Yellow Onions",
          "product_num": 4605
         },
         {
          "Pct_of_Baskets": 2.1293257135240506,
          "count": 72846,
          "index": "Organic Gala Apples",
          "product_num": 37646
         },
         {
          "Pct_of_Baskets": 2.1288287948582365,
          "count": 72829,
          "index": "Organic Baby Arugula",
          "product_num": 21616
         }
        ]
       },
       "encoding": {
        "color": {
         "field": "count",
         "legend": null,
         "scale": {
          "scheme": "viridis"
         },
         "sort": "descending",
         "type": "quantitative"
        },
        "tooltip": [
         {
          "field": "index",
          "title": "Product",
          "type": "ordinal"
         },
         {
          "field": "count",
          "type": "quantitative"
         },
         {
          "field": "Pct_of_Baskets",
          "type": "quantitative"
         },
         {
          "field": "product_num",
          "type": "ordinal"
         }
        ],
        "x": {
         "bin": false,
         "field": "index",
         "sort": [
          "Banana",
          "Bag of Organic Bananas",
          "Organic Strawberries",
          "Organic Baby Spinach",
          "Organic Hass Avocado",
          "Organic Avocado",
          "Large Lemon",
          "Strawberries",
          "Limes",
          "Organic Whole Milk",
          "Organic Raspberries",
          "Organic Yellow Onion",
          "Organic Garlic",
          "Organic Zucchini",
          "Organic Blueberries",
          "Cucumber Kirby",
          "Organic Fuji Apple",
          "Organic Lemon",
          "Apple Honeycrisp Organic",
          "Organic Grape Tomatoes",
          "Seedless Red Grapes",
          "Organic Cucumber",
          "Honeycrisp Apple",
          "Organic Baby Carrots",
          "Organic Half & Half",
          "Sparkling Water Grapefruit",
          "Organic Large Extra Fancy Fuji Apple",
          "Yellow Onions",
          "Organic Gala Apples",
          "Organic Baby Arugula"
         ],
         "title": "",
         "type": "ordinal"
        },
        "y": {
         "field": "count",
         "title": "Total Orders",
         "type": "quantitative"
        }
       },
       "height": 400,
       "mark": "bar",
       "title": "Top 30 Products Ordered",
       "width": 700
      },
      "image/png": "[encoded data removed]",
      "text/plain": [
       "<VegaLite 2 object>\n",
       "\n",
       "If you see this message, it means the renderer has not been properly enabled\n",
       "for the frontend that you are using. For more information, see\n",
       "https://altair-viz.github.io/user_guide/troubleshooting.html\n"
      ]
     },
     "execution_count": 43,
     "metadata": {},
     "output_type": "execute_result"
    }
   ],
   "source": [
    "chart_title = \"Top 30 Products Ordered\"\n",
    "x_label = \"index:O\"\n",
    "y_label = 'count:Q'\n",
    "pct_of_baskets = 'Pct_of_Baskets:Q'\n",
    "product_num = 'product_num:O'\n",
    "\n",
    "top_30_chart = alt.Chart(top_prods).mark_bar().encode(\n",
    "    alt.X(x_label, bin=False, sort=top_prods_order_list, title=\"\"),\n",
    "    alt.Y(y_label, title=\"Total Orders\"),\n",
    "#     alt.ColorValue('darkorange'),\n",
    "#     color = alt.Color('order_hour_of_day', alt.ColorValue(\"blue\")),\n",
    "#     color='orange',\n",
    "    color = alt.Color(y_label, legend=None, sort=\"descending\", scale=alt.Scale(scheme='viridis')),\n",
    "    tooltip=[alt.Tooltip(x_label, title=\"Product\"), alt.Tooltip(y_label), alt.Tooltip(pct_of_baskets), alt.Tooltip(product_num)]\n",
    "    ).properties(title=chart_title, width=700, height=400)\n",
    "\n",
    "top_30_chart"
   ]
  },
  {
   "cell_type": "markdown",
   "metadata": {},
   "source": [
    "Regular bananas are ordered in a whopping 13% of baskets, while organic bananas are ordered in 11%. There's a significant dropoff by the time we reach the 30th most popular item (organic baby arugla), which is in 2% of baskets. Produce items dominate the top 30 products. "
   ]
  },
  {
   "cell_type": "code",
   "execution_count": 146,
   "metadata": {},
   "outputs": [],
   "source": [
    "# create dictionary for market basket % for every product\n",
    "\n",
    "all_prods = df['product_name'].value_counts()\n",
    "all_prods = pd.DataFrame(all_prods).reset_index()\n",
    "all_prods.columns = ['index', 'count']\n",
    "all_prods['product_id'] = all_prods['index'].map(product_dict)\n",
    "all_prods['pct_pop_orders'] = (all_prods['count'] / num_orders) * 100\n",
    "\n",
    "pct_order_dict = pd.Series(all_prods['pct_pop_orders'].values,index=all_prods['product_id']).to_dict()"
   ]
  },
  {
   "cell_type": "code",
   "execution_count": null,
   "metadata": {},
   "outputs": [],
   "source": []
  },
  {
   "cell_type": "markdown",
   "metadata": {},
   "source": [
    "## Item Order Frequency"
   ]
  },
  {
   "cell_type": "code",
   "execution_count": 45,
   "metadata": {},
   "outputs": [],
   "source": [
    "products['count'] = products['product_id'].map(product_count).fillna(0).astype('uint32')"
   ]
  },
  {
   "cell_type": "code",
   "execution_count": 46,
   "metadata": {},
   "outputs": [],
   "source": [
    "bin_labels = ['0-5', '6-20', '21-50','51-100','101-500','501-2500','2500-10000', '10001-50000', '50000+']\n",
    "bins = [0, 6, 21, 51, 101, 501, 2501,10001, 50001, 500000]\n",
    "\n",
    "products['count_bin'] = pd.cut(products['count'], bins, labels=bin_labels)"
   ]
  },
  {
   "cell_type": "code",
   "execution_count": 47,
   "metadata": {},
   "outputs": [
    {
     "data": {
      "text/html": [
       "<div>\n",
       "<style scoped>\n",
       "    .dataframe tbody tr th:only-of-type {\n",
       "        vertical-align: middle;\n",
       "    }\n",
       "\n",
       "    .dataframe tbody tr th {\n",
       "        vertical-align: top;\n",
       "    }\n",
       "\n",
       "    .dataframe thead th {\n",
       "        text-align: right;\n",
       "    }\n",
       "</style>\n",
       "<table border=\"1\" class=\"dataframe\">\n",
       "  <thead>\n",
       "    <tr style=\"text-align: right;\">\n",
       "      <th></th>\n",
       "      <th>bin</th>\n",
       "      <th>count</th>\n",
       "      <th>pct_total</th>\n",
       "    </tr>\n",
       "  </thead>\n",
       "  <tbody>\n",
       "    <tr>\n",
       "      <th>0</th>\n",
       "      <td>101-500</td>\n",
       "      <td>11614</td>\n",
       "      <td>23.38</td>\n",
       "    </tr>\n",
       "    <tr>\n",
       "      <th>1</th>\n",
       "      <td>6-20</td>\n",
       "      <td>10473</td>\n",
       "      <td>21.08</td>\n",
       "    </tr>\n",
       "    <tr>\n",
       "      <th>2</th>\n",
       "      <td>21-50</td>\n",
       "      <td>8689</td>\n",
       "      <td>17.49</td>\n",
       "    </tr>\n",
       "    <tr>\n",
       "      <th>3</th>\n",
       "      <td>51-100</td>\n",
       "      <td>6397</td>\n",
       "      <td>12.88</td>\n",
       "    </tr>\n",
       "    <tr>\n",
       "      <th>4</th>\n",
       "      <td>501-2500</td>\n",
       "      <td>5997</td>\n",
       "      <td>12.07</td>\n",
       "    </tr>\n",
       "    <tr>\n",
       "      <th>5</th>\n",
       "      <td>0-5</td>\n",
       "      <td>4234</td>\n",
       "      <td>8.52</td>\n",
       "    </tr>\n",
       "    <tr>\n",
       "      <th>6</th>\n",
       "      <td>2500-10000</td>\n",
       "      <td>1781</td>\n",
       "      <td>3.59</td>\n",
       "    </tr>\n",
       "    <tr>\n",
       "      <th>7</th>\n",
       "      <td>10001-50000</td>\n",
       "      <td>432</td>\n",
       "      <td>0.87</td>\n",
       "    </tr>\n",
       "    <tr>\n",
       "      <th>8</th>\n",
       "      <td>50000+</td>\n",
       "      <td>60</td>\n",
       "      <td>0.12</td>\n",
       "    </tr>\n",
       "  </tbody>\n",
       "</table>\n",
       "</div>"
      ],
      "text/plain": [
       "           bin  count  pct_total\n",
       "0      101-500  11614      23.38\n",
       "1         6-20  10473      21.08\n",
       "2        21-50   8689      17.49\n",
       "3       51-100   6397      12.88\n",
       "4     501-2500   5997      12.07\n",
       "5          0-5   4234       8.52\n",
       "6   2500-10000   1781       3.59\n",
       "7  10001-50000    432       0.87\n",
       "8       50000+     60       0.12"
      ]
     },
     "execution_count": 47,
     "metadata": {},
     "output_type": "execute_result"
    }
   ],
   "source": [
    "prod_count_bins = pd.DataFrame(products['count_bin'].value_counts())\n",
    "prod_count_bins = prod_count_bins.reset_index()\n",
    "prod_count_bins.columns = ['bin', 'count']\n",
    "prod_count_bins['pct_total'] = np.round((prod_count_bins['count'] / prod_count_bins['count'].sum()) * 100,2)\n",
    "prod_count_bins"
   ]
  },
  {
   "cell_type": "code",
   "execution_count": 48,
   "metadata": {},
   "outputs": [],
   "source": [
    "chart_title = \"Total Orders for Products (grouped by bins)\"\n",
    "x_label = \"bin:O\"\n",
    "y_label = 'count:Q'\n",
    "pct_total = 'pct_total:Q'\n",
    "\n",
    "\n",
    "bin_chart = alt.Chart(prod_count_bins).mark_bar().encode(\n",
    "    alt.X(x_label, title=\"Bin (Total Orders)\", sort=bin_labels),\n",
    "    alt.Y(y_label, title=\"Number of Products\"),\n",
    "    color = alt.Color(y_label, legend=None, sort=\"descending\", scale=alt.Scale(scheme='viridis')), \n",
    "    tooltip=[alt.Tooltip(x_label, title=\"Bin\"), alt.Tooltip(y_label), alt.Tooltip(pct_total)]\n",
    "    ).properties(title=chart_title, width=700, height=400)"
   ]
  },
  {
   "cell_type": "markdown",
   "metadata": {},
   "source": [
    "What this visualization tells us is that the majority of products are ordered between 0 - 100 times. Products ordered more than 10,000 times are rare (about 1% of total products) and even products ordered more than 2,500 times make up a small percentage (~ 5%) of the total number of products.\n",
    "\n",
    "Items ordered 5 or fewer times account for 8.5% of total products and products ordered fewer than 20 times account for roughly 30% of products. A sizable percentage (~ 23%) of products are ordered between 100 and 500 times. "
   ]
  },
  {
   "cell_type": "markdown",
   "metadata": {},
   "source": [
    "# Associations"
   ]
  },
  {
   "cell_type": "markdown",
   "metadata": {},
   "source": [
    "## Items Most Frequently Ordered with Organic Strawberries"
   ]
  },
  {
   "cell_type": "code",
   "execution_count": 161,
   "metadata": {},
   "outputs": [],
   "source": [
    "ords_org_strawberries = df[df['product_id'] == 21137]['order_id'].tolist()\n",
    "# ords_org_strawberries[:10]"
   ]
  },
  {
   "cell_type": "code",
   "execution_count": 162,
   "metadata": {},
   "outputs": [],
   "source": [
    "org_strawberry_df = df[df['order_id'].isin(ords_org_strawberries)]"
   ]
  },
  {
   "cell_type": "code",
   "execution_count": 163,
   "metadata": {},
   "outputs": [
    {
     "data": {
      "text/plain": [
       "Bag of Organic Bananas                  61628\n",
       "Banana                                  56156\n",
       "Organic Hass Avocado                    40794\n",
       "Organic Baby Spinach                    38134\n",
       "Organic Raspberries                     33863\n",
       "Organic Avocado                         23984\n",
       "Organic Whole Milk                      23813\n",
       "Organic Blueberries                     23756\n",
       "Limes                                   18999\n",
       "Organic Yellow Onion                    16651\n",
       "Organic Cucumber                        16555\n",
       "Large Lemon                             16305\n",
       "Apple Honeycrisp Organic                15870\n",
       "Organic Garlic                          15627\n",
       "Organic Grape Tomatoes                  15573\n",
       "Organic Zucchini                        15320\n",
       "Organic Lemon                           15152\n",
       "Organic Large Extra Fancy Fuji Apple    15113\n",
       "Seedless Red Grapes                     13935\n",
       "Organic Whole String Cheese             13513\n",
       "Organic Gala Apples                     13298\n",
       "Organic Baby Carrots                    13156\n",
       "Organic Kiwi                            12486\n",
       "Organic Blackberries                    12444\n",
       "Original Hummus                         12124\n",
       "Cucumber Kirby                          12045\n",
       "Organic Red Bell Pepper                 11913\n",
       "Organic Tomato Cluster                  11680\n",
       "Honeycrisp Apple                        11465\n",
       "Fresh Cauliflower                       10976\n",
       "Name: product_name, dtype: int64"
      ]
     },
     "execution_count": 163,
     "metadata": {},
     "output_type": "execute_result"
    }
   ],
   "source": [
    "# top 30 items ordered with organic strawberries\n",
    "num_org_strawb = org_strawberry_df['product_name'].value_counts()[0]\n",
    "top_items_org_strawb = org_strawberry_df['product_name'].value_counts()[1:31]\n",
    "top_items_org_strawb"
   ]
  },
  {
   "cell_type": "code",
   "execution_count": 166,
   "metadata": {},
   "outputs": [
    {
     "data": {
      "text/html": [
       "<div>\n",
       "<style scoped>\n",
       "    .dataframe tbody tr th:only-of-type {\n",
       "        vertical-align: middle;\n",
       "    }\n",
       "\n",
       "    .dataframe tbody tr th {\n",
       "        vertical-align: top;\n",
       "    }\n",
       "\n",
       "    .dataframe thead th {\n",
       "        text-align: right;\n",
       "    }\n",
       "</style>\n",
       "<table border=\"1\" class=\"dataframe\">\n",
       "  <thead>\n",
       "    <tr style=\"text-align: right;\">\n",
       "      <th></th>\n",
       "      <th>index</th>\n",
       "      <th>count</th>\n",
       "      <th>pct_orders</th>\n",
       "      <th>product_id</th>\n",
       "      <th>pop_pct_orders</th>\n",
       "      <th>purchase_ratio</th>\n",
       "    </tr>\n",
       "  </thead>\n",
       "  <tbody>\n",
       "    <tr>\n",
       "      <th>0</th>\n",
       "      <td>Bag of Organic Bananas</td>\n",
       "      <td>61628</td>\n",
       "      <td>23.28</td>\n",
       "      <td>13176</td>\n",
       "      <td>11.091517</td>\n",
       "      <td>2.10</td>\n",
       "    </tr>\n",
       "    <tr>\n",
       "      <th>1</th>\n",
       "      <td>Banana</td>\n",
       "      <td>56156</td>\n",
       "      <td>21.22</td>\n",
       "      <td>24852</td>\n",
       "      <td>13.813316</td>\n",
       "      <td>1.54</td>\n",
       "    </tr>\n",
       "    <tr>\n",
       "      <th>2</th>\n",
       "      <td>Organic Hass Avocado</td>\n",
       "      <td>40794</td>\n",
       "      <td>15.41</td>\n",
       "      <td>47209</td>\n",
       "      <td>6.243169</td>\n",
       "      <td>2.47</td>\n",
       "    </tr>\n",
       "    <tr>\n",
       "      <th>3</th>\n",
       "      <td>Organic Baby Spinach</td>\n",
       "      <td>38134</td>\n",
       "      <td>14.41</td>\n",
       "      <td>21903</td>\n",
       "      <td>7.071474</td>\n",
       "      <td>2.04</td>\n",
       "    </tr>\n",
       "    <tr>\n",
       "      <th>4</th>\n",
       "      <td>Organic Raspberries</td>\n",
       "      <td>33863</td>\n",
       "      <td>12.79</td>\n",
       "      <td>27966</td>\n",
       "      <td>4.006246</td>\n",
       "      <td>3.19</td>\n",
       "    </tr>\n",
       "    <tr>\n",
       "      <th>5</th>\n",
       "      <td>Organic Avocado</td>\n",
       "      <td>23984</td>\n",
       "      <td>9.06</td>\n",
       "      <td>47766</td>\n",
       "      <td>5.168393</td>\n",
       "      <td>1.75</td>\n",
       "    </tr>\n",
       "    <tr>\n",
       "      <th>6</th>\n",
       "      <td>Organic Whole Milk</td>\n",
       "      <td>23813</td>\n",
       "      <td>9.00</td>\n",
       "      <td>27845</td>\n",
       "      <td>4.031033</td>\n",
       "      <td>2.23</td>\n",
       "    </tr>\n",
       "    <tr>\n",
       "      <th>7</th>\n",
       "      <td>Organic Blueberries</td>\n",
       "      <td>23756</td>\n",
       "      <td>8.98</td>\n",
       "      <td>39275</td>\n",
       "      <td>2.924805</td>\n",
       "      <td>3.07</td>\n",
       "    </tr>\n",
       "    <tr>\n",
       "      <th>8</th>\n",
       "      <td>Limes</td>\n",
       "      <td>18999</td>\n",
       "      <td>7.18</td>\n",
       "      <td>26209</td>\n",
       "      <td>4.110599</td>\n",
       "      <td>1.75</td>\n",
       "    </tr>\n",
       "    <tr>\n",
       "      <th>9</th>\n",
       "      <td>Organic Yellow Onion</td>\n",
       "      <td>16651</td>\n",
       "      <td>6.29</td>\n",
       "      <td>22935</td>\n",
       "      <td>3.315500</td>\n",
       "      <td>1.90</td>\n",
       "    </tr>\n",
       "    <tr>\n",
       "      <th>10</th>\n",
       "      <td>Organic Cucumber</td>\n",
       "      <td>16555</td>\n",
       "      <td>6.25</td>\n",
       "      <td>30391</td>\n",
       "      <td>2.349899</td>\n",
       "      <td>2.66</td>\n",
       "    </tr>\n",
       "    <tr>\n",
       "      <th>11</th>\n",
       "      <td>Large Lemon</td>\n",
       "      <td>16305</td>\n",
       "      <td>6.16</td>\n",
       "      <td>47626</td>\n",
       "      <td>4.462242</td>\n",
       "      <td>1.38</td>\n",
       "    </tr>\n",
       "    <tr>\n",
       "      <th>12</th>\n",
       "      <td>Apple Honeycrisp Organic</td>\n",
       "      <td>15870</td>\n",
       "      <td>6.00</td>\n",
       "      <td>8277</td>\n",
       "      <td>2.485178</td>\n",
       "      <td>2.41</td>\n",
       "    </tr>\n",
       "    <tr>\n",
       "      <th>13</th>\n",
       "      <td>Organic Garlic</td>\n",
       "      <td>15627</td>\n",
       "      <td>5.90</td>\n",
       "      <td>24964</td>\n",
       "      <td>3.208867</td>\n",
       "      <td>1.84</td>\n",
       "    </tr>\n",
       "    <tr>\n",
       "      <th>14</th>\n",
       "      <td>Organic Grape Tomatoes</td>\n",
       "      <td>15573</td>\n",
       "      <td>5.88</td>\n",
       "      <td>40706</td>\n",
       "      <td>2.462817</td>\n",
       "      <td>2.39</td>\n",
       "    </tr>\n",
       "    <tr>\n",
       "      <th>15</th>\n",
       "      <td>Organic Zucchini</td>\n",
       "      <td>15320</td>\n",
       "      <td>5.79</td>\n",
       "      <td>45007</td>\n",
       "      <td>3.064030</td>\n",
       "      <td>1.89</td>\n",
       "    </tr>\n",
       "    <tr>\n",
       "      <th>16</th>\n",
       "      <td>Organic Lemon</td>\n",
       "      <td>15152</td>\n",
       "      <td>5.72</td>\n",
       "      <td>5876</td>\n",
       "      <td>2.564860</td>\n",
       "      <td>2.23</td>\n",
       "    </tr>\n",
       "    <tr>\n",
       "      <th>17</th>\n",
       "      <td>Organic Large Extra Fancy Fuji Apple</td>\n",
       "      <td>15113</td>\n",
       "      <td>5.71</td>\n",
       "      <td>19057</td>\n",
       "      <td>2.197111</td>\n",
       "      <td>2.60</td>\n",
       "    </tr>\n",
       "    <tr>\n",
       "      <th>18</th>\n",
       "      <td>Seedless Red Grapes</td>\n",
       "      <td>13935</td>\n",
       "      <td>5.26</td>\n",
       "      <td>4920</td>\n",
       "      <td>2.417042</td>\n",
       "      <td>2.18</td>\n",
       "    </tr>\n",
       "    <tr>\n",
       "      <th>19</th>\n",
       "      <td>Organic Whole String Cheese</td>\n",
       "      <td>13513</td>\n",
       "      <td>5.11</td>\n",
       "      <td>22035</td>\n",
       "      <td>1.744360</td>\n",
       "      <td>2.93</td>\n",
       "    </tr>\n",
       "  </tbody>\n",
       "</table>\n",
       "</div>"
      ],
      "text/plain": [
       "                                   index  count  pct_orders  product_id  \\\n",
       "0                 Bag of Organic Bananas  61628       23.28       13176   \n",
       "1                                 Banana  56156       21.22       24852   \n",
       "2                   Organic Hass Avocado  40794       15.41       47209   \n",
       "3                   Organic Baby Spinach  38134       14.41       21903   \n",
       "4                    Organic Raspberries  33863       12.79       27966   \n",
       "5                        Organic Avocado  23984        9.06       47766   \n",
       "6                     Organic Whole Milk  23813        9.00       27845   \n",
       "7                    Organic Blueberries  23756        8.98       39275   \n",
       "8                                  Limes  18999        7.18       26209   \n",
       "9                   Organic Yellow Onion  16651        6.29       22935   \n",
       "10                      Organic Cucumber  16555        6.25       30391   \n",
       "11                           Large Lemon  16305        6.16       47626   \n",
       "12              Apple Honeycrisp Organic  15870        6.00        8277   \n",
       "13                        Organic Garlic  15627        5.90       24964   \n",
       "14                Organic Grape Tomatoes  15573        5.88       40706   \n",
       "15                      Organic Zucchini  15320        5.79       45007   \n",
       "16                         Organic Lemon  15152        5.72        5876   \n",
       "17  Organic Large Extra Fancy Fuji Apple  15113        5.71       19057   \n",
       "18                   Seedless Red Grapes  13935        5.26        4920   \n",
       "19           Organic Whole String Cheese  13513        5.11       22035   \n",
       "\n",
       "    pop_pct_orders  purchase_ratio  \n",
       "0        11.091517            2.10  \n",
       "1        13.813316            1.54  \n",
       "2         6.243169            2.47  \n",
       "3         7.071474            2.04  \n",
       "4         4.006246            3.19  \n",
       "5         5.168393            1.75  \n",
       "6         4.031033            2.23  \n",
       "7         2.924805            3.07  \n",
       "8         4.110599            1.75  \n",
       "9         3.315500            1.90  \n",
       "10        2.349899            2.66  \n",
       "11        4.462242            1.38  \n",
       "12        2.485178            2.41  \n",
       "13        3.208867            1.84  \n",
       "14        2.462817            2.39  \n",
       "15        3.064030            1.89  \n",
       "16        2.564860            2.23  \n",
       "17        2.197111            2.60  \n",
       "18        2.417042            2.18  \n",
       "19        1.744360            2.93  "
      ]
     },
     "execution_count": 166,
     "metadata": {},
     "output_type": "execute_result"
    }
   ],
   "source": [
    "top_items_org_strawb_df = pd.DataFrame(top_items_org_strawb)\n",
    "top_items_org_strawb_df = top_items_org_strawb_df.reset_index()\n",
    "top_items_org_strawb_df.columns = ['index', 'count']\n",
    "top_items_org_strawb_df['pct_orders'] = np.round((top_items_org_strawb_df['count'] / num_org_strawb) * 100,2)\n",
    "top_items_org_strawb_df['product_id'] = top_items_org_strawb_df['index'].map(product_dict)\n",
    "top_items_org_strawb_df['pop_pct_orders'] = top_items_org_strawb_df['product_id'].map(pct_order_dict)\n",
    "top_items_org_strawb_df['purchase_ratio'] = np.round(top_items_org_strawb_df['pct_orders'] / top_items_org_strawb_df['pop_pct_orders'], 2)\n",
    "top_items_org_strawb_df.head(20)"
   ]
  },
  {
   "cell_type": "code",
   "execution_count": 168,
   "metadata": {},
   "outputs": [],
   "source": [
    "org_straw_order_list = top_items_org_strawb_df['index'].tolist()\n",
    "# org_straw_order_list"
   ]
  },
  {
   "cell_type": "code",
   "execution_count": 169,
   "metadata": {},
   "outputs": [
    {
     "data": {
      "application/vnd.vegalite.v2+json": {
       "$schema": "https://vega.github.io/schema/vega-lite/v2.6.0.json",
       "config": {
        "background": "white",
        "view": {
         "height": 300,
         "width": 400
        }
       },
       "data": {
        "name": "data-8636066cb806ae25372fabe9629aa11e"
       },
       "datasets": {
        "data-8636066cb806ae25372fabe9629aa11e": [
         {
          "count": 61628,
          "index": "Bag of Organic Bananas",
          "pct_orders": 23.28,
          "pop_pct_orders": 11.091516926072826,
          "product_id": 13176,
          "purchase_ratio": 2.1
         },
         {
          "count": 56156,
          "index": "Banana",
          "pct_orders": 21.22,
          "pop_pct_orders": 13.813315841796298,
          "product_id": 24852,
          "purchase_ratio": 1.54
         },
         {
          "count": 40794,
          "index": "Organic Hass Avocado",
          "pct_orders": 15.41,
          "pop_pct_orders": 6.243169195251913,
          "product_id": 47209,
          "purchase_ratio": 2.47
         },
         {
          "count": 38134,
          "index": "Organic Baby Spinach",
          "pct_orders": 14.41,
          "pop_pct_orders": 7.0714741501448515,
          "product_id": 21903,
          "purchase_ratio": 2.04
         },
         {
          "count": 33863,
          "index": "Organic Raspberries",
          "pct_orders": 12.79,
          "pop_pct_orders": 4.006245975324188,
          "product_id": 27966,
          "purchase_ratio": 3.19
         },
         {
          "count": 23984,
          "index": "Organic Avocado",
          "pct_orders": 9.06,
          "pop_pct_orders": 5.168392582115079,
          "product_id": 47766,
          "purchase_ratio": 1.75
         },
         {
          "count": 23813,
          "index": "Organic Whole Milk",
          "pct_orders": 9,
          "pop_pct_orders": 4.031033447595396,
          "product_id": 27845,
          "purchase_ratio": 2.23
         },
         {
          "count": 23756,
          "index": "Organic Blueberries",
          "pct_orders": 8.98,
          "pop_pct_orders": 2.924804805963492,
          "product_id": 39275,
          "purchase_ratio": 3.07
         },
         {
          "count": 18999,
          "index": "Limes",
          "pct_orders": 7.18,
          "pop_pct_orders": 4.110598895145192,
          "product_id": 26209,
          "purchase_ratio": 1.75
         },
         {
          "count": 16651,
          "index": "Organic Yellow Onion",
          "pct_orders": 6.29,
          "pop_pct_orders": 3.3154997993325503,
          "product_id": 22935,
          "purchase_ratio": 1.9
         },
         {
          "count": 16555,
          "index": "Organic Cucumber",
          "pct_orders": 6.25,
          "pop_pct_orders": 2.3498991401260945,
          "product_id": 30391,
          "purchase_ratio": 2.66
         },
         {
          "count": 16305,
          "index": "Large Lemon",
          "pct_orders": 6.16,
          "pop_pct_orders": 4.4622419274831975,
          "product_id": 47626,
          "purchase_ratio": 1.38
         },
         {
          "count": 15870,
          "index": "Apple Honeycrisp Organic",
          "pct_orders": 6,
          "pop_pct_orders": 2.4851779392666007,
          "product_id": 8277,
          "purchase_ratio": 2.41
         },
         {
          "count": 15627,
          "index": "Organic Garlic",
          "pct_orders": 5.9,
          "pop_pct_orders": 3.2088668997507517,
          "product_id": 24964,
          "purchase_ratio": 1.84
         },
         {
          "count": 15573,
          "index": "Organic Grape Tomatoes",
          "pct_orders": 5.88,
          "pop_pct_orders": 2.462816599304957,
          "product_id": 40706,
          "purchase_ratio": 2.39
         },
         {
          "count": 15320,
          "index": "Organic Zucchini",
          "pct_orders": 5.79,
          "pop_pct_orders": 3.0640297239207586,
          "product_id": 45007,
          "purchase_ratio": 1.89
         },
         {
          "count": 15152,
          "index": "Organic Lemon",
          "pct_orders": 5.72,
          "pop_pct_orders": 2.5648603088554123,
          "product_id": 5876,
          "purchase_ratio": 2.23
         },
         {
          "count": 15113,
          "index": "Organic Large Extra Fancy Fuji Apple",
          "pct_orders": 5.71,
          "pop_pct_orders": 2.1971112656430725,
          "product_id": 19057,
          "purchase_ratio": 2.6
         },
         {
          "count": 13935,
          "index": "Seedless Red Grapes",
          "pct_orders": 5.26,
          "pop_pct_orders": 2.4170416210305334,
          "product_id": 4920,
          "purchase_ratio": 2.18
         },
         {
          "count": 13513,
          "index": "Organic Whole String Cheese",
          "pct_orders": 5.11,
          "pop_pct_orders": 1.7443599000667331,
          "product_id": 22035,
          "purchase_ratio": 2.93
         },
         {
          "count": 13298,
          "index": "Organic Gala Apples",
          "pct_orders": 5.02,
          "pop_pct_orders": 2.1293257135240506,
          "product_id": 37646,
          "purchase_ratio": 2.36
         },
         {
          "count": 13156,
          "index": "Organic Baby Carrots",
          "pct_orders": 4.97,
          "pop_pct_orders": 2.2477092780268704,
          "product_id": 42265,
          "purchase_ratio": 2.21
         },
         {
          "count": 12486,
          "index": "Organic Kiwi",
          "pct_orders": 4.72,
          "pop_pct_orders": 1.4656469895644157,
          "product_id": 39928,
          "purchase_ratio": 3.22
         },
         {
          "count": 12444,
          "index": "Organic Blackberries",
          "pct_orders": 4.7,
          "pop_pct_orders": 1.8048670552570634,
          "product_id": 26604,
          "purchase_ratio": 2.6
         },
         {
          "count": 12124,
          "index": "Original Hummus",
          "pct_orders": 4.58,
          "pop_pct_orders": 2.0845445725812555,
          "product_id": 30489,
          "purchase_ratio": 2.2
         },
         {
          "count": 12045,
          "index": "Cucumber Kirby",
          "pct_orders": 4.55,
          "pop_pct_orders": 2.844567056689358,
          "product_id": 49683,
          "purchase_ratio": 1.6
         },
         {
          "count": 11913,
          "index": "Organic Red Bell Pepper",
          "pct_orders": 4.5,
          "pop_pct_orders": 1.6803158531961955,
          "product_id": 10749,
          "purchase_ratio": 2.68
         },
         {
          "count": 11680,
          "index": "Organic Tomato Cluster",
          "pct_orders": 4.41,
          "pop_pct_orders": 1.8792002415609326,
          "product_id": 41950,
          "purchase_ratio": 2.35
         },
         {
          "count": 11465,
          "index": "Honeycrisp Apple",
          "pct_orders": 4.33,
          "pop_pct_orders": 2.331688532549488,
          "product_id": 45066,
          "purchase_ratio": 1.86
         },
         {
          "count": 10976,
          "index": "Fresh Cauliflower",
          "pct_orders": 4.15,
          "pop_pct_orders": 2.0924368102147772,
          "product_id": 27104,
          "purchase_ratio": 1.98
         }
        ]
       },
       "encoding": {
        "color": {
         "field": "count",
         "legend": null,
         "scale": {
          "scheme": "viridis"
         },
         "sort": "descending",
         "type": "quantitative"
        },
        "tooltip": [
         {
          "field": "index",
          "title": "Item",
          "type": "ordinal"
         },
         {
          "field": "count",
          "type": "quantitative"
         },
         {
          "field": "pct_orders",
          "type": "quantitative"
         },
         {
          "field": "product_id",
          "type": "ordinal"
         },
         {
          "field": "purchase_ratio",
          "title": "purchase ratio",
          "type": "quantitative"
         }
        ],
        "x": {
         "bin": false,
         "field": "index",
         "sort": [
          "Bag of Organic Bananas",
          "Banana",
          "Organic Hass Avocado",
          "Organic Baby Spinach",
          "Organic Raspberries",
          "Organic Avocado",
          "Organic Whole Milk",
          "Organic Blueberries",
          "Limes",
          "Organic Yellow Onion",
          "Organic Cucumber",
          "Large Lemon",
          "Apple Honeycrisp Organic",
          "Organic Garlic",
          "Organic Grape Tomatoes",
          "Organic Zucchini",
          "Organic Lemon",
          "Organic Large Extra Fancy Fuji Apple",
          "Seedless Red Grapes",
          "Organic Whole String Cheese",
          "Organic Gala Apples",
          "Organic Baby Carrots",
          "Organic Kiwi",
          "Organic Blackberries",
          "Original Hummus",
          "Cucumber Kirby",
          "Organic Red Bell Pepper",
          "Organic Tomato Cluster",
          "Honeycrisp Apple",
          "Fresh Cauliflower"
         ],
         "title": "",
         "type": "ordinal"
        },
        "y": {
         "field": "count",
         "type": "quantitative"
        }
       },
       "height": 400,
       "mark": "bar",
       "title": "Top 30 Products Ordered with Organic Strawberries",
       "width": 800
      },
      "image/png": "[encoded data removed]",
      "text/plain": [
       "<VegaLite 2 object>\n",
       "\n",
       "If you see this message, it means the renderer has not been properly enabled\n",
       "for the frontend that you are using. For more information, see\n",
       "https://altair-viz.github.io/user_guide/troubleshooting.html\n"
      ]
     },
     "execution_count": 169,
     "metadata": {},
     "output_type": "execute_result"
    }
   ],
   "source": [
    "chart_title = \"Top 30 Products Ordered with Organic Strawberries\"\n",
    "x_label = \"index:O\"\n",
    "y_label = 'count:Q'\n",
    "pct_of_orders = 'pct_orders:Q'\n",
    "product_num = 'product_id:O'\n",
    "multiple = 'purchase_ratio:Q'\n",
    "\n",
    "strawberry_chart = alt.Chart(top_items_org_strawb_df).mark_bar().encode(\n",
    "    alt.X(x_label, bin=False, sort=org_straw_order_list, title=\"\"),\n",
    "    alt.Y(y_label),\n",
    "#     alt.ColorValue('darkorange'),\n",
    "#     color = alt.Color('order_hour_of_day', alt.ColorValue(\"blue\")),\n",
    "#     color='orange',\n",
    "    color = alt.Color(y_label, legend=None, sort=\"descending\", scale=alt.Scale(scheme='viridis')),\n",
    "    tooltip=[alt.Tooltip(x_label, title=\"Item\"), alt.Tooltip(y_label), alt.Tooltip(pct_of_orders), alt.Tooltip(product_num), alt.Tooltip(multiple, title=\"purchase ratio\")]\n",
    "    ).properties(title=chart_title, width=800, height=400)\n",
    "\n",
    "strawberry_chart"
   ]
  },
  {
   "cell_type": "code",
   "execution_count": 170,
   "metadata": {},
   "outputs": [],
   "source": [
    "strawberry_chart.save('strawberry.html')"
   ]
  },
  {
   "cell_type": "markdown",
   "metadata": {},
   "source": [
    "## Items Most Frequently Ordered with Honeycrisp Apples"
   ]
  },
  {
   "cell_type": "code",
   "execution_count": 142,
   "metadata": {},
   "outputs": [],
   "source": [
    "# find top n items ordered with any particular product by product_id\n",
    "def top_n_items(df, product_id, n):\n",
    "    orders = df[df['product_id'] == product_id]['order_id'].tolist()\n",
    "    orders_with_item = df[df['order_id'].isin(orders)]\n",
    "\n",
    "    # top 30 items ordered with organic strawberries\n",
    "    num_of_main_item = orders_with_item['product_name'].value_counts()[0]\n",
    "    top_items_with_item = orders_with_item['product_name'].value_counts()[1:n+1]\n",
    "\n",
    "    top_items_with_item = pd.DataFrame(top_items_with_item)\n",
    "    top_items_with_item = top_items_with_item.reset_index()\n",
    "    top_items_with_item.columns = ['index', 'count']\n",
    "    top_items_with_item['pct_orders'] = np.round((top_items_with_item['count'] / num_of_main_item) * 100, 2)\n",
    "    top_items_with_item['product_id'] = top_items_with_item['index'].map(product_dict)\n",
    "\n",
    "    top_items_order_list = top_items_with_item['index'].tolist()\n",
    "    \n",
    "    return top_items_with_item"
   ]
  },
  {
   "cell_type": "code",
   "execution_count": 157,
   "metadata": {},
   "outputs": [
    {
     "data": {
      "text/html": [
       "<div>\n",
       "<style scoped>\n",
       "    .dataframe tbody tr th:only-of-type {\n",
       "        vertical-align: middle;\n",
       "    }\n",
       "\n",
       "    .dataframe tbody tr th {\n",
       "        vertical-align: top;\n",
       "    }\n",
       "\n",
       "    .dataframe thead th {\n",
       "        text-align: right;\n",
       "    }\n",
       "</style>\n",
       "<table border=\"1\" class=\"dataframe\">\n",
       "  <thead>\n",
       "    <tr style=\"text-align: right;\">\n",
       "      <th></th>\n",
       "      <th>index</th>\n",
       "      <th>count</th>\n",
       "      <th>pct_orders</th>\n",
       "      <th>product_id</th>\n",
       "      <th>pop_pct_orders</th>\n",
       "      <th>purchase_ratio</th>\n",
       "    </tr>\n",
       "  </thead>\n",
       "  <tbody>\n",
       "    <tr>\n",
       "      <th>0</th>\n",
       "      <td>Banana</td>\n",
       "      <td>28408</td>\n",
       "      <td>35.61</td>\n",
       "      <td>24852</td>\n",
       "      <td>13.813316</td>\n",
       "      <td>2.58</td>\n",
       "    </tr>\n",
       "    <tr>\n",
       "      <th>1</th>\n",
       "      <td>Organic Strawberries</td>\n",
       "      <td>11465</td>\n",
       "      <td>14.37</td>\n",
       "      <td>21137</td>\n",
       "      <td>7.736819</td>\n",
       "      <td>1.86</td>\n",
       "    </tr>\n",
       "    <tr>\n",
       "      <th>2</th>\n",
       "      <td>Bag of Organic Bananas</td>\n",
       "      <td>11137</td>\n",
       "      <td>13.96</td>\n",
       "      <td>13176</td>\n",
       "      <td>11.091517</td>\n",
       "      <td>1.26</td>\n",
       "    </tr>\n",
       "    <tr>\n",
       "      <th>3</th>\n",
       "      <td>Organic Avocado</td>\n",
       "      <td>11046</td>\n",
       "      <td>13.85</td>\n",
       "      <td>47766</td>\n",
       "      <td>5.168393</td>\n",
       "      <td>2.68</td>\n",
       "    </tr>\n",
       "    <tr>\n",
       "      <th>4</th>\n",
       "      <td>Organic Baby Spinach</td>\n",
       "      <td>10170</td>\n",
       "      <td>12.75</td>\n",
       "      <td>21903</td>\n",
       "      <td>7.071474</td>\n",
       "      <td>1.80</td>\n",
       "    </tr>\n",
       "    <tr>\n",
       "      <th>5</th>\n",
       "      <td>Large Lemon</td>\n",
       "      <td>9485</td>\n",
       "      <td>11.89</td>\n",
       "      <td>47626</td>\n",
       "      <td>4.462242</td>\n",
       "      <td>2.66</td>\n",
       "    </tr>\n",
       "    <tr>\n",
       "      <th>6</th>\n",
       "      <td>Organic Hass Avocado</td>\n",
       "      <td>8100</td>\n",
       "      <td>10.15</td>\n",
       "      <td>47209</td>\n",
       "      <td>6.243169</td>\n",
       "      <td>1.63</td>\n",
       "    </tr>\n",
       "    <tr>\n",
       "      <th>7</th>\n",
       "      <td>Strawberries</td>\n",
       "      <td>7536</td>\n",
       "      <td>9.45</td>\n",
       "      <td>16797</td>\n",
       "      <td>4.178531</td>\n",
       "      <td>2.26</td>\n",
       "    </tr>\n",
       "    <tr>\n",
       "      <th>8</th>\n",
       "      <td>Limes</td>\n",
       "      <td>6993</td>\n",
       "      <td>8.77</td>\n",
       "      <td>26209</td>\n",
       "      <td>4.110599</td>\n",
       "      <td>2.13</td>\n",
       "    </tr>\n",
       "    <tr>\n",
       "      <th>9</th>\n",
       "      <td>Cucumber Kirby</td>\n",
       "      <td>6518</td>\n",
       "      <td>8.17</td>\n",
       "      <td>49683</td>\n",
       "      <td>2.844567</td>\n",
       "      <td>2.87</td>\n",
       "    </tr>\n",
       "    <tr>\n",
       "      <th>10</th>\n",
       "      <td>Seedless Red Grapes</td>\n",
       "      <td>6291</td>\n",
       "      <td>7.89</td>\n",
       "      <td>4920</td>\n",
       "      <td>2.417042</td>\n",
       "      <td>3.26</td>\n",
       "    </tr>\n",
       "    <tr>\n",
       "      <th>11</th>\n",
       "      <td>Organic Whole Milk</td>\n",
       "      <td>6162</td>\n",
       "      <td>7.72</td>\n",
       "      <td>27845</td>\n",
       "      <td>4.031033</td>\n",
       "      <td>1.92</td>\n",
       "    </tr>\n",
       "    <tr>\n",
       "      <th>12</th>\n",
       "      <td>Organic Raspberries</td>\n",
       "      <td>4941</td>\n",
       "      <td>6.19</td>\n",
       "      <td>27966</td>\n",
       "      <td>4.006246</td>\n",
       "      <td>1.55</td>\n",
       "    </tr>\n",
       "    <tr>\n",
       "      <th>13</th>\n",
       "      <td>Organic Baby Carrots</td>\n",
       "      <td>4782</td>\n",
       "      <td>5.99</td>\n",
       "      <td>42265</td>\n",
       "      <td>2.247709</td>\n",
       "      <td>2.66</td>\n",
       "    </tr>\n",
       "    <tr>\n",
       "      <th>14</th>\n",
       "      <td>Organic Garlic</td>\n",
       "      <td>4529</td>\n",
       "      <td>5.68</td>\n",
       "      <td>24964</td>\n",
       "      <td>3.208867</td>\n",
       "      <td>1.77</td>\n",
       "    </tr>\n",
       "    <tr>\n",
       "      <th>15</th>\n",
       "      <td>Organic Zucchini</td>\n",
       "      <td>4209</td>\n",
       "      <td>5.28</td>\n",
       "      <td>45007</td>\n",
       "      <td>3.064030</td>\n",
       "      <td>1.72</td>\n",
       "    </tr>\n",
       "    <tr>\n",
       "      <th>16</th>\n",
       "      <td>Organic Yellow Onion</td>\n",
       "      <td>4115</td>\n",
       "      <td>5.16</td>\n",
       "      <td>22935</td>\n",
       "      <td>3.315500</td>\n",
       "      <td>1.56</td>\n",
       "    </tr>\n",
       "    <tr>\n",
       "      <th>17</th>\n",
       "      <td>Original Hummus</td>\n",
       "      <td>4039</td>\n",
       "      <td>5.06</td>\n",
       "      <td>30489</td>\n",
       "      <td>2.084545</td>\n",
       "      <td>2.43</td>\n",
       "    </tr>\n",
       "    <tr>\n",
       "      <th>18</th>\n",
       "      <td>Yellow Onions</td>\n",
       "      <td>3926</td>\n",
       "      <td>4.92</td>\n",
       "      <td>4605</td>\n",
       "      <td>2.138709</td>\n",
       "      <td>2.30</td>\n",
       "    </tr>\n",
       "    <tr>\n",
       "      <th>19</th>\n",
       "      <td>Organic Blueberries</td>\n",
       "      <td>3852</td>\n",
       "      <td>4.83</td>\n",
       "      <td>39275</td>\n",
       "      <td>2.924805</td>\n",
       "      <td>1.65</td>\n",
       "    </tr>\n",
       "  </tbody>\n",
       "</table>\n",
       "</div>"
      ],
      "text/plain": [
       "                     index  count  pct_orders  product_id  pop_pct_orders  \\\n",
       "0                   Banana  28408       35.61       24852       13.813316   \n",
       "1     Organic Strawberries  11465       14.37       21137        7.736819   \n",
       "2   Bag of Organic Bananas  11137       13.96       13176       11.091517   \n",
       "3          Organic Avocado  11046       13.85       47766        5.168393   \n",
       "4     Organic Baby Spinach  10170       12.75       21903        7.071474   \n",
       "5              Large Lemon   9485       11.89       47626        4.462242   \n",
       "6     Organic Hass Avocado   8100       10.15       47209        6.243169   \n",
       "7             Strawberries   7536        9.45       16797        4.178531   \n",
       "8                    Limes   6993        8.77       26209        4.110599   \n",
       "9           Cucumber Kirby   6518        8.17       49683        2.844567   \n",
       "10     Seedless Red Grapes   6291        7.89        4920        2.417042   \n",
       "11      Organic Whole Milk   6162        7.72       27845        4.031033   \n",
       "12     Organic Raspberries   4941        6.19       27966        4.006246   \n",
       "13    Organic Baby Carrots   4782        5.99       42265        2.247709   \n",
       "14          Organic Garlic   4529        5.68       24964        3.208867   \n",
       "15        Organic Zucchini   4209        5.28       45007        3.064030   \n",
       "16    Organic Yellow Onion   4115        5.16       22935        3.315500   \n",
       "17         Original Hummus   4039        5.06       30489        2.084545   \n",
       "18           Yellow Onions   3926        4.92        4605        2.138709   \n",
       "19     Organic Blueberries   3852        4.83       39275        2.924805   \n",
       "\n",
       "    purchase_ratio  \n",
       "0             2.58  \n",
       "1             1.86  \n",
       "2             1.26  \n",
       "3             2.68  \n",
       "4             1.80  \n",
       "5             2.66  \n",
       "6             1.63  \n",
       "7             2.26  \n",
       "8             2.13  \n",
       "9             2.87  \n",
       "10            3.26  \n",
       "11            1.92  \n",
       "12            1.55  \n",
       "13            2.66  \n",
       "14            1.77  \n",
       "15            1.72  \n",
       "16            1.56  \n",
       "17            2.43  \n",
       "18            2.30  \n",
       "19            1.65  "
      ]
     },
     "execution_count": 157,
     "metadata": {},
     "output_type": "execute_result"
    }
   ],
   "source": [
    "# top 10 items ordered with honeycrisp apples\n",
    "honeycrisp_df = top_n_items(df, 45066, 20)\n",
    "honeycrisp_df['pop_pct_orders'] = honeycrisp_df['product_id'].map(pct_order_dict)\n",
    "honeycrisp_df['purchase_ratio'] = np.round(honeycrisp_df['pct_orders'] / honeycrisp_df['pop_pct_orders'], 2)\n",
    "honeycrisp_df"
   ]
  },
  {
   "cell_type": "code",
   "execution_count": 159,
   "metadata": {},
   "outputs": [
    {
     "data": {
      "application/vnd.vegalite.v2+json": {
       "$schema": "https://vega.github.io/schema/vega-lite/v2.6.0.json",
       "config": {
        "background": "white",
        "view": {
         "height": 300,
         "width": 400
        }
       },
       "data": {
        "name": "data-c4c71a8718cf0eaf597314313526ffb3"
       },
       "datasets": {
        "data-c4c71a8718cf0eaf597314313526ffb3": [
         {
          "count": 28408,
          "index": "Banana",
          "pct_orders": 35.61,
          "pop_pct_orders": 13.813315841796298,
          "product_id": 24852,
          "purchase_ratio": 2.58
         },
         {
          "count": 11465,
          "index": "Organic Strawberries",
          "pct_orders": 14.37,
          "pop_pct_orders": 7.736819013160452,
          "product_id": 21137,
          "purchase_ratio": 1.86
         },
         {
          "count": 11137,
          "index": "Bag of Organic Bananas",
          "pct_orders": 13.96,
          "pop_pct_orders": 11.091516926072826,
          "product_id": 13176,
          "purchase_ratio": 1.26
         },
         {
          "count": 11046,
          "index": "Organic Avocado",
          "pct_orders": 13.85,
          "pop_pct_orders": 5.168392582115079,
          "product_id": 47766,
          "purchase_ratio": 2.68
         },
         {
          "count": 10170,
          "index": "Organic Baby Spinach",
          "pct_orders": 12.75,
          "pop_pct_orders": 7.0714741501448515,
          "product_id": 21903,
          "purchase_ratio": 1.8
         },
         {
          "count": 9485,
          "index": "Large Lemon",
          "pct_orders": 11.89,
          "pop_pct_orders": 4.4622419274831975,
          "product_id": 47626,
          "purchase_ratio": 2.66
         },
         {
          "count": 8100,
          "index": "Organic Hass Avocado",
          "pct_orders": 10.15,
          "pop_pct_orders": 6.243169195251913,
          "product_id": 47209,
          "purchase_ratio": 1.63
         },
         {
          "count": 7536,
          "index": "Strawberries",
          "pct_orders": 9.45,
          "pop_pct_orders": 4.178530599812983,
          "product_id": 16797,
          "purchase_ratio": 2.26
         },
         {
          "count": 6993,
          "index": "Limes",
          "pct_orders": 8.77,
          "pop_pct_orders": 4.110598895145192,
          "product_id": 26209,
          "purchase_ratio": 2.13
         },
         {
          "count": 6518,
          "index": "Cucumber Kirby",
          "pct_orders": 8.17,
          "pop_pct_orders": 2.844567056689358,
          "product_id": 49683,
          "purchase_ratio": 2.87
         },
         {
          "count": 6291,
          "index": "Seedless Red Grapes",
          "pct_orders": 7.89,
          "pop_pct_orders": 2.4170416210305334,
          "product_id": 4920,
          "purchase_ratio": 3.26
         },
         {
          "count": 6162,
          "index": "Organic Whole Milk",
          "pct_orders": 7.72,
          "pop_pct_orders": 4.031033447595396,
          "product_id": 27845,
          "purchase_ratio": 1.92
         },
         {
          "count": 4941,
          "index": "Organic Raspberries",
          "pct_orders": 6.19,
          "pop_pct_orders": 4.006245975324188,
          "product_id": 27966,
          "purchase_ratio": 1.55
         },
         {
          "count": 4782,
          "index": "Organic Baby Carrots",
          "pct_orders": 5.99,
          "pop_pct_orders": 2.2477092780268704,
          "product_id": 42265,
          "purchase_ratio": 2.66
         },
         {
          "count": 4529,
          "index": "Organic Garlic",
          "pct_orders": 5.68,
          "pop_pct_orders": 3.2088668997507517,
          "product_id": 24964,
          "purchase_ratio": 1.77
         },
         {
          "count": 4209,
          "index": "Organic Zucchini",
          "pct_orders": 5.28,
          "pop_pct_orders": 3.0640297239207586,
          "product_id": 45007,
          "purchase_ratio": 1.72
         },
         {
          "count": 4115,
          "index": "Organic Yellow Onion",
          "pct_orders": 5.16,
          "pop_pct_orders": 3.3154997993325503,
          "product_id": 22935,
          "purchase_ratio": 1.56
         },
         {
          "count": 4039,
          "index": "Original Hummus",
          "pct_orders": 5.06,
          "pop_pct_orders": 2.0845445725812555,
          "product_id": 30489,
          "purchase_ratio": 2.43
         },
         {
          "count": 3926,
          "index": "Yellow Onions",
          "pct_orders": 4.92,
          "pop_pct_orders": 2.138708707155015,
          "product_id": 4605,
          "purchase_ratio": 2.3
         },
         {
          "count": 3852,
          "index": "Organic Blueberries",
          "pct_orders": 4.83,
          "pop_pct_orders": 2.924804805963492,
          "product_id": 39275,
          "purchase_ratio": 1.65
         }
        ]
       },
       "encoding": {
        "color": {
         "field": "count",
         "legend": null,
         "scale": {
          "scheme": "viridis"
         },
         "sort": "descending",
         "type": "quantitative"
        },
        "tooltip": [
         {
          "field": "index",
          "title": "Item",
          "type": "ordinal"
         },
         {
          "field": "count",
          "type": "quantitative"
         },
         {
          "field": "pct_orders",
          "type": "quantitative"
         },
         {
          "field": "product_id",
          "type": "ordinal"
         },
         {
          "field": "purchase_ratio",
          "title": "purchase ratio",
          "type": "quantitative"
         }
        ],
        "x": {
         "bin": false,
         "field": "index",
         "sort": [
          "Banana",
          "Organic Strawberries",
          "Bag of Organic Bananas",
          "Organic Avocado",
          "Organic Baby Spinach",
          "Large Lemon",
          "Organic Hass Avocado",
          "Strawberries",
          "Limes",
          "Cucumber Kirby",
          "Seedless Red Grapes",
          "Organic Whole Milk",
          "Organic Raspberries",
          "Organic Baby Carrots",
          "Organic Garlic",
          "Organic Zucchini",
          "Organic Yellow Onion",
          "Original Hummus",
          "Yellow Onions",
          "Organic Blueberries"
         ],
         "title": "",
         "type": "ordinal"
        },
        "y": {
         "field": "count",
         "title": "Total Orders",
         "type": "quantitative"
        }
       },
       "height": 400,
       "mark": "bar",
       "title": "Top 10 Products Ordered with Honeycrisp Apples",
       "width": 800
      },
      "image/png": "[encoded data removed]",
      "text/plain": [
       "<VegaLite 2 object>\n",
       "\n",
       "If you see this message, it means the renderer has not been properly enabled\n",
       "for the frontend that you are using. For more information, see\n",
       "https://altair-viz.github.io/user_guide/troubleshooting.html\n"
      ]
     },
     "execution_count": 159,
     "metadata": {},
     "output_type": "execute_result"
    }
   ],
   "source": [
    "chart_title = \"Top 10 Products Ordered with Honeycrisp Apples\"\n",
    "x_label = \"index:O\"\n",
    "y_label = 'count:Q'\n",
    "pct_of_orders = 'pct_orders:Q'\n",
    "product_num = 'product_id:O'\n",
    "multiple = 'purchase_ratio:Q'\n",
    "sort_list = honeycrisp_df['index'].tolist()\n",
    "\n",
    "\n",
    "honeycrisp_chart = alt.Chart(honeycrisp_df).mark_bar().encode(\n",
    "    alt.X(x_label, bin=False, sort=sort_list, title=\"\"),\n",
    "    alt.Y(y_label, title=\"Total Orders\"),\n",
    "    color = alt.Color(y_label, legend=None, sort=\"descending\", scale=alt.Scale(scheme='viridis')),\n",
    "    tooltip=[alt.Tooltip(x_label, title=\"Item\"), alt.Tooltip(y_label), alt.Tooltip(pct_of_orders), alt.Tooltip(product_num), alt.Tooltip(multiple, title=\"purchase ratio\")]\n",
    "    ).properties(title=chart_title, width=800, height=400)\n",
    "\n",
    "honeycrisp_chart"
   ]
  },
  {
   "cell_type": "code",
   "execution_count": 171,
   "metadata": {},
   "outputs": [],
   "source": [
    "honeycrisp_chart.save('honeycrisp.html')"
   ]
  },
  {
   "cell_type": "markdown",
   "metadata": {},
   "source": [
    "## Items Most Frequently Ordered with Organic Turkey Burgers"
   ]
  },
  {
   "cell_type": "code",
   "execution_count": 153,
   "metadata": {},
   "outputs": [
    {
     "data": {
      "text/html": [
       "<div>\n",
       "<style scoped>\n",
       "    .dataframe tbody tr th:only-of-type {\n",
       "        vertical-align: middle;\n",
       "    }\n",
       "\n",
       "    .dataframe tbody tr th {\n",
       "        vertical-align: top;\n",
       "    }\n",
       "\n",
       "    .dataframe thead th {\n",
       "        text-align: right;\n",
       "    }\n",
       "</style>\n",
       "<table border=\"1\" class=\"dataframe\">\n",
       "  <thead>\n",
       "    <tr style=\"text-align: right;\">\n",
       "      <th></th>\n",
       "      <th>index</th>\n",
       "      <th>count</th>\n",
       "      <th>pct_orders</th>\n",
       "      <th>product_id</th>\n",
       "      <th>pop_pct_orders</th>\n",
       "      <th>purchase_ratio</th>\n",
       "    </tr>\n",
       "  </thead>\n",
       "  <tbody>\n",
       "    <tr>\n",
       "      <th>0</th>\n",
       "      <td>Banana</td>\n",
       "      <td>179</td>\n",
       "      <td>16.76</td>\n",
       "      <td>24852</td>\n",
       "      <td>13.813316</td>\n",
       "      <td>1.21</td>\n",
       "    </tr>\n",
       "    <tr>\n",
       "      <th>1</th>\n",
       "      <td>Bag of Organic Bananas</td>\n",
       "      <td>172</td>\n",
       "      <td>16.10</td>\n",
       "      <td>13176</td>\n",
       "      <td>11.091517</td>\n",
       "      <td>1.45</td>\n",
       "    </tr>\n",
       "    <tr>\n",
       "      <th>2</th>\n",
       "      <td>Organic Strawberries</td>\n",
       "      <td>169</td>\n",
       "      <td>15.82</td>\n",
       "      <td>21137</td>\n",
       "      <td>7.736819</td>\n",
       "      <td>2.04</td>\n",
       "    </tr>\n",
       "    <tr>\n",
       "      <th>3</th>\n",
       "      <td>Organic Baby Spinach</td>\n",
       "      <td>151</td>\n",
       "      <td>14.14</td>\n",
       "      <td>21903</td>\n",
       "      <td>7.071474</td>\n",
       "      <td>2.00</td>\n",
       "    </tr>\n",
       "    <tr>\n",
       "      <th>4</th>\n",
       "      <td>Organic Hass Avocado</td>\n",
       "      <td>135</td>\n",
       "      <td>12.64</td>\n",
       "      <td>47209</td>\n",
       "      <td>6.243169</td>\n",
       "      <td>2.02</td>\n",
       "    </tr>\n",
       "    <tr>\n",
       "      <th>5</th>\n",
       "      <td>Organic Avocado</td>\n",
       "      <td>114</td>\n",
       "      <td>10.67</td>\n",
       "      <td>47766</td>\n",
       "      <td>5.168393</td>\n",
       "      <td>2.06</td>\n",
       "    </tr>\n",
       "    <tr>\n",
       "      <th>6</th>\n",
       "      <td>Organic Raspberries</td>\n",
       "      <td>101</td>\n",
       "      <td>9.46</td>\n",
       "      <td>27966</td>\n",
       "      <td>4.006246</td>\n",
       "      <td>2.36</td>\n",
       "    </tr>\n",
       "    <tr>\n",
       "      <th>7</th>\n",
       "      <td>Organic Baby Carrots</td>\n",
       "      <td>99</td>\n",
       "      <td>9.27</td>\n",
       "      <td>42265</td>\n",
       "      <td>2.247709</td>\n",
       "      <td>4.12</td>\n",
       "    </tr>\n",
       "    <tr>\n",
       "      <th>8</th>\n",
       "      <td>Organic Zucchini</td>\n",
       "      <td>82</td>\n",
       "      <td>7.68</td>\n",
       "      <td>45007</td>\n",
       "      <td>3.064030</td>\n",
       "      <td>2.51</td>\n",
       "    </tr>\n",
       "    <tr>\n",
       "      <th>9</th>\n",
       "      <td>Large Lemon</td>\n",
       "      <td>75</td>\n",
       "      <td>7.02</td>\n",
       "      <td>47626</td>\n",
       "      <td>4.462242</td>\n",
       "      <td>1.57</td>\n",
       "    </tr>\n",
       "    <tr>\n",
       "      <th>10</th>\n",
       "      <td>Original Hummus</td>\n",
       "      <td>73</td>\n",
       "      <td>6.84</td>\n",
       "      <td>30489</td>\n",
       "      <td>2.084545</td>\n",
       "      <td>3.28</td>\n",
       "    </tr>\n",
       "    <tr>\n",
       "      <th>11</th>\n",
       "      <td>Cucumber Kirby</td>\n",
       "      <td>70</td>\n",
       "      <td>6.55</td>\n",
       "      <td>49683</td>\n",
       "      <td>2.844567</td>\n",
       "      <td>2.30</td>\n",
       "    </tr>\n",
       "    <tr>\n",
       "      <th>12</th>\n",
       "      <td>Limes</td>\n",
       "      <td>70</td>\n",
       "      <td>6.55</td>\n",
       "      <td>26209</td>\n",
       "      <td>4.110599</td>\n",
       "      <td>1.59</td>\n",
       "    </tr>\n",
       "    <tr>\n",
       "      <th>13</th>\n",
       "      <td>Organic Red Bell Pepper</td>\n",
       "      <td>68</td>\n",
       "      <td>6.37</td>\n",
       "      <td>10749</td>\n",
       "      <td>1.680316</td>\n",
       "      <td>3.79</td>\n",
       "    </tr>\n",
       "    <tr>\n",
       "      <th>14</th>\n",
       "      <td>Organic Whole Milk</td>\n",
       "      <td>68</td>\n",
       "      <td>6.37</td>\n",
       "      <td>27845</td>\n",
       "      <td>4.031033</td>\n",
       "      <td>1.58</td>\n",
       "    </tr>\n",
       "    <tr>\n",
       "      <th>15</th>\n",
       "      <td>Organic Blueberries</td>\n",
       "      <td>68</td>\n",
       "      <td>6.37</td>\n",
       "      <td>39275</td>\n",
       "      <td>2.924805</td>\n",
       "      <td>2.18</td>\n",
       "    </tr>\n",
       "    <tr>\n",
       "      <th>16</th>\n",
       "      <td>Organic Grape Tomatoes</td>\n",
       "      <td>64</td>\n",
       "      <td>5.99</td>\n",
       "      <td>40706</td>\n",
       "      <td>2.462817</td>\n",
       "      <td>2.43</td>\n",
       "    </tr>\n",
       "    <tr>\n",
       "      <th>17</th>\n",
       "      <td>Organic Unsweetened Almond Milk</td>\n",
       "      <td>64</td>\n",
       "      <td>5.99</td>\n",
       "      <td>35951</td>\n",
       "      <td>1.692300</td>\n",
       "      <td>3.54</td>\n",
       "    </tr>\n",
       "    <tr>\n",
       "      <th>18</th>\n",
       "      <td>Honeycrisp Apple</td>\n",
       "      <td>61</td>\n",
       "      <td>5.71</td>\n",
       "      <td>45066</td>\n",
       "      <td>2.331689</td>\n",
       "      <td>2.45</td>\n",
       "    </tr>\n",
       "    <tr>\n",
       "      <th>19</th>\n",
       "      <td>Boneless Skinless Chicken Breasts</td>\n",
       "      <td>57</td>\n",
       "      <td>5.34</td>\n",
       "      <td>25890</td>\n",
       "      <td>1.469739</td>\n",
       "      <td>3.63</td>\n",
       "    </tr>\n",
       "  </tbody>\n",
       "</table>\n",
       "</div>"
      ],
      "text/plain": [
       "                                index  count  pct_orders  product_id  \\\n",
       "0                              Banana    179       16.76       24852   \n",
       "1              Bag of Organic Bananas    172       16.10       13176   \n",
       "2                Organic Strawberries    169       15.82       21137   \n",
       "3                Organic Baby Spinach    151       14.14       21903   \n",
       "4                Organic Hass Avocado    135       12.64       47209   \n",
       "5                     Organic Avocado    114       10.67       47766   \n",
       "6                 Organic Raspberries    101        9.46       27966   \n",
       "7                Organic Baby Carrots     99        9.27       42265   \n",
       "8                    Organic Zucchini     82        7.68       45007   \n",
       "9                         Large Lemon     75        7.02       47626   \n",
       "10                    Original Hummus     73        6.84       30489   \n",
       "11                     Cucumber Kirby     70        6.55       49683   \n",
       "12                              Limes     70        6.55       26209   \n",
       "13            Organic Red Bell Pepper     68        6.37       10749   \n",
       "14                 Organic Whole Milk     68        6.37       27845   \n",
       "15                Organic Blueberries     68        6.37       39275   \n",
       "16             Organic Grape Tomatoes     64        5.99       40706   \n",
       "17    Organic Unsweetened Almond Milk     64        5.99       35951   \n",
       "18                   Honeycrisp Apple     61        5.71       45066   \n",
       "19  Boneless Skinless Chicken Breasts     57        5.34       25890   \n",
       "\n",
       "    pop_pct_orders  purchase_ratio  \n",
       "0        13.813316            1.21  \n",
       "1        11.091517            1.45  \n",
       "2         7.736819            2.04  \n",
       "3         7.071474            2.00  \n",
       "4         6.243169            2.02  \n",
       "5         5.168393            2.06  \n",
       "6         4.006246            2.36  \n",
       "7         2.247709            4.12  \n",
       "8         3.064030            2.51  \n",
       "9         4.462242            1.57  \n",
       "10        2.084545            3.28  \n",
       "11        2.844567            2.30  \n",
       "12        4.110599            1.59  \n",
       "13        1.680316            3.79  \n",
       "14        4.031033            1.58  \n",
       "15        2.924805            2.18  \n",
       "16        2.462817            2.43  \n",
       "17        1.692300            3.54  \n",
       "18        2.331689            2.45  \n",
       "19        1.469739            3.63  "
      ]
     },
     "execution_count": 153,
     "metadata": {},
     "output_type": "execute_result"
    }
   ],
   "source": [
    "# top 20 items ordered with honeycrisp apples\n",
    "org_turkey_burger_df = top_n_items(df, 23, 20)\n",
    "org_turkey_burger_df['pop_pct_orders'] = org_turkey_burger_df['product_id'].map(pct_order_dict)\n",
    "org_turkey_burger_df['purchase_ratio'] = np.round(org_turkey_burger_df['pct_orders'] / org_turkey_burger_df['pop_pct_orders'],2)\n",
    "org_turkey_burger_df"
   ]
  },
  {
   "cell_type": "code",
   "execution_count": 155,
   "metadata": {},
   "outputs": [
    {
     "data": {
      "application/vnd.vegalite.v2+json": {
       "$schema": "https://vega.github.io/schema/vega-lite/v2.6.0.json",
       "config": {
        "background": "white",
        "view": {
         "height": 300,
         "width": 400
        }
       },
       "data": {
        "name": "data-c8de1eb45c822b0f0ae2f91c40c07ce3"
       },
       "datasets": {
        "data-c8de1eb45c822b0f0ae2f91c40c07ce3": [
         {
          "count": 179,
          "index": "Banana",
          "pct_orders": 16.76,
          "pop_pct_orders": 13.813315841796298,
          "product_id": 24852,
          "purchase_ratio": 1.21
         },
         {
          "count": 172,
          "index": "Bag of Organic Bananas",
          "pct_orders": 16.1,
          "pop_pct_orders": 11.091516926072826,
          "product_id": 13176,
          "purchase_ratio": 1.45
         },
         {
          "count": 169,
          "index": "Organic Strawberries",
          "pct_orders": 15.82,
          "pop_pct_orders": 7.736819013160452,
          "product_id": 21137,
          "purchase_ratio": 2.04
         },
         {
          "count": 151,
          "index": "Organic Baby Spinach",
          "pct_orders": 14.14,
          "pop_pct_orders": 7.0714741501448515,
          "product_id": 21903,
          "purchase_ratio": 2
         },
         {
          "count": 135,
          "index": "Organic Hass Avocado",
          "pct_orders": 12.64,
          "pop_pct_orders": 6.243169195251913,
          "product_id": 47209,
          "purchase_ratio": 2.02
         },
         {
          "count": 114,
          "index": "Organic Avocado",
          "pct_orders": 10.67,
          "pop_pct_orders": 5.168392582115079,
          "product_id": 47766,
          "purchase_ratio": 2.06
         },
         {
          "count": 101,
          "index": "Organic Raspberries",
          "pct_orders": 9.46,
          "pop_pct_orders": 4.006245975324188,
          "product_id": 27966,
          "purchase_ratio": 2.36
         },
         {
          "count": 99,
          "index": "Organic Baby Carrots",
          "pct_orders": 9.27,
          "pop_pct_orders": 2.2477092780268704,
          "product_id": 42265,
          "purchase_ratio": 4.12
         },
         {
          "count": 82,
          "index": "Organic Zucchini",
          "pct_orders": 7.68,
          "pop_pct_orders": 3.0640297239207586,
          "product_id": 45007,
          "purchase_ratio": 2.51
         },
         {
          "count": 75,
          "index": "Large Lemon",
          "pct_orders": 7.02,
          "pop_pct_orders": 4.4622419274831975,
          "product_id": 47626,
          "purchase_ratio": 1.57
         },
         {
          "count": 73,
          "index": "Original Hummus",
          "pct_orders": 6.84,
          "pop_pct_orders": 2.0845445725812555,
          "product_id": 30489,
          "purchase_ratio": 3.28
         },
         {
          "count": 70,
          "index": "Cucumber Kirby",
          "pct_orders": 6.55,
          "pop_pct_orders": 2.844567056689358,
          "product_id": 49683,
          "purchase_ratio": 2.3
         },
         {
          "count": 70,
          "index": "Limes",
          "pct_orders": 6.55,
          "pop_pct_orders": 4.110598895145192,
          "product_id": 26209,
          "purchase_ratio": 1.59
         },
         {
          "count": 68,
          "index": "Organic Red Bell Pepper",
          "pct_orders": 6.37,
          "pop_pct_orders": 1.6803158531961955,
          "product_id": 10749,
          "purchase_ratio": 3.79
         },
         {
          "count": 68,
          "index": "Organic Whole Milk",
          "pct_orders": 6.37,
          "pop_pct_orders": 4.031033447595396,
          "product_id": 27845,
          "purchase_ratio": 1.58
         },
         {
          "count": 68,
          "index": "Organic Blueberries",
          "pct_orders": 6.37,
          "pop_pct_orders": 2.924804805963492,
          "product_id": 39275,
          "purchase_ratio": 2.18
         },
         {
          "count": 64,
          "index": "Organic Grape Tomatoes",
          "pct_orders": 5.99,
          "pop_pct_orders": 2.462816599304957,
          "product_id": 40706,
          "purchase_ratio": 2.43
         },
         {
          "count": 64,
          "index": "Organic Unsweetened Almond Milk",
          "pct_orders": 5.99,
          "pop_pct_orders": 1.6923003621952464,
          "product_id": 35951,
          "purchase_ratio": 3.54
         },
         {
          "count": 61,
          "index": "Honeycrisp Apple",
          "pct_orders": 5.71,
          "pop_pct_orders": 2.331688532549488,
          "product_id": 45066,
          "purchase_ratio": 2.45
         },
         {
          "count": 57,
          "index": "Boneless Skinless Chicken Breasts",
          "pct_orders": 5.34,
          "pop_pct_orders": 1.4697392609299453,
          "product_id": 25890,
          "purchase_ratio": 3.63
         }
        ]
       },
       "encoding": {
        "color": {
         "field": "count",
         "legend": null,
         "scale": {
          "scheme": "viridis"
         },
         "sort": "descending",
         "type": "quantitative"
        },
        "tooltip": [
         {
          "field": "index",
          "title": "Item",
          "type": "ordinal"
         },
         {
          "field": "count",
          "type": "quantitative"
         },
         {
          "field": "pct_orders",
          "title": "% of Orders",
          "type": "quantitative"
         },
         {
          "field": "product_id",
          "type": "ordinal"
         },
         {
          "field": "purchase_ratio",
          "title": "purchase ratio",
          "type": "quantitative"
         }
        ],
        "x": {
         "bin": false,
         "field": "index",
         "sort": [
          "Banana",
          "Bag of Organic Bananas",
          "Organic Strawberries",
          "Organic Baby Spinach",
          "Organic Hass Avocado",
          "Organic Avocado",
          "Organic Raspberries",
          "Organic Baby Carrots",
          "Organic Zucchini",
          "Large Lemon",
          "Original Hummus",
          "Cucumber Kirby",
          "Limes",
          "Organic Red Bell Pepper",
          "Organic Whole Milk",
          "Organic Blueberries",
          "Organic Grape Tomatoes",
          "Organic Unsweetened Almond Milk",
          "Honeycrisp Apple",
          "Boneless Skinless Chicken Breasts"
         ],
         "title": "",
         "type": "ordinal"
        },
        "y": {
         "field": "count",
         "title": "Total Orders",
         "type": "quantitative"
        }
       },
       "height": 400,
       "mark": "bar",
       "title": "Top 20 Products Ordered with Organic Turkey Burgers",
       "width": 800
      },
      "image/png": "[encoded data removed]",
      "text/plain": [
       "<VegaLite 2 object>\n",
       "\n",
       "If you see this message, it means the renderer has not been properly enabled\n",
       "for the frontend that you are using. For more information, see\n",
       "https://altair-viz.github.io/user_guide/troubleshooting.html\n"
      ]
     },
     "execution_count": 155,
     "metadata": {},
     "output_type": "execute_result"
    }
   ],
   "source": [
    "chart_title = \"Top 20 Products Ordered with Organic Turkey Burgers\"\n",
    "x_label = \"index:O\"\n",
    "y_label = 'count:Q'\n",
    "pct_of_orders = 'pct_orders:Q'\n",
    "product_num = 'product_id:O'\n",
    "multiple = 'purchase_ratio:Q'\n",
    "sort_list = org_turkey_burger_df['index'].tolist()\n",
    "\n",
    "\n",
    "turkey_chart = alt.Chart(org_turkey_burger_df).mark_bar().encode(\n",
    "    alt.X(x_label, bin=False, sort=sort_list, title=\"\"),\n",
    "    alt.Y(y_label, title=\"Total Orders\"),\n",
    "    color = alt.Color(y_label, legend=None, sort=\"descending\", scale=alt.Scale(scheme='viridis')),\n",
    "    tooltip=[alt.Tooltip(x_label, title=\"Item\"), alt.Tooltip(y_label), alt.Tooltip(pct_of_orders, title=\"% of Orders\"), \n",
    "             alt.Tooltip(product_num), alt.Tooltip(multiple, title=\"purchase ratio\")]\n",
    "    ).properties(title=chart_title, width=800, height=400)\n",
    "\n",
    "turkey_chart"
   ]
  },
  {
   "cell_type": "code",
   "execution_count": 172,
   "metadata": {},
   "outputs": [],
   "source": [
    "turkey_chart.save('turkey.html')"
   ]
  },
  {
   "cell_type": "markdown",
   "metadata": {},
   "source": [
    "# Similar Products (Cosine Similarity)"
   ]
  },
  {
   "cell_type": "code",
   "execution_count": 86,
   "metadata": {},
   "outputs": [
    {
     "data": {
      "text/plain": [
       "(1038515, 4)"
      ]
     },
     "execution_count": 86,
     "metadata": {},
     "output_type": "execute_result"
    }
   ],
   "source": [
    "train.shape"
   ]
  },
  {
   "cell_type": "code",
   "execution_count": 18,
   "metadata": {},
   "outputs": [
    {
     "data": {
      "text/html": [
       "<div>\n",
       "<style scoped>\n",
       "    .dataframe tbody tr th:only-of-type {\n",
       "        vertical-align: middle;\n",
       "    }\n",
       "\n",
       "    .dataframe tbody tr th {\n",
       "        vertical-align: top;\n",
       "    }\n",
       "\n",
       "    .dataframe thead th {\n",
       "        text-align: right;\n",
       "    }\n",
       "</style>\n",
       "<table border=\"1\" class=\"dataframe\">\n",
       "  <thead>\n",
       "    <tr style=\"text-align: right;\">\n",
       "      <th></th>\n",
       "      <th>order_id</th>\n",
       "      <th>product_id</th>\n",
       "      <th>add_to_cart_order</th>\n",
       "      <th>reordered</th>\n",
       "    </tr>\n",
       "  </thead>\n",
       "  <tbody>\n",
       "    <tr>\n",
       "      <th>0</th>\n",
       "      <td>36</td>\n",
       "      <td>39612</td>\n",
       "      <td>1</td>\n",
       "      <td>0</td>\n",
       "    </tr>\n",
       "    <tr>\n",
       "      <th>1</th>\n",
       "      <td>36</td>\n",
       "      <td>19660</td>\n",
       "      <td>2</td>\n",
       "      <td>1</td>\n",
       "    </tr>\n",
       "    <tr>\n",
       "      <th>2</th>\n",
       "      <td>36</td>\n",
       "      <td>49235</td>\n",
       "      <td>3</td>\n",
       "      <td>0</td>\n",
       "    </tr>\n",
       "    <tr>\n",
       "      <th>3</th>\n",
       "      <td>36</td>\n",
       "      <td>43086</td>\n",
       "      <td>4</td>\n",
       "      <td>1</td>\n",
       "    </tr>\n",
       "    <tr>\n",
       "      <th>4</th>\n",
       "      <td>36</td>\n",
       "      <td>46620</td>\n",
       "      <td>5</td>\n",
       "      <td>1</td>\n",
       "    </tr>\n",
       "  </tbody>\n",
       "</table>\n",
       "</div>"
      ],
      "text/plain": [
       "   order_id  product_id  add_to_cart_order  reordered\n",
       "0        36       39612                  1          0\n",
       "1        36       19660                  2          1\n",
       "2        36       49235                  3          0\n",
       "3        36       43086                  4          1\n",
       "4        36       46620                  5          1"
      ]
     },
     "execution_count": 18,
     "metadata": {},
     "output_type": "execute_result"
    }
   ],
   "source": [
    "train_sm = train[:100000].copy()\n",
    "# train_sm['order'] = 1\n",
    "# train_sm['order'] = train_sm['order'].astype('uint8')\n",
    "train_sm.head()"
   ]
  },
  {
   "cell_type": "code",
   "execution_count": 19,
   "metadata": {},
   "outputs": [
    {
     "name": "stdout",
     "output_type": "stream",
     "text": [
      "<class 'pandas.core.frame.DataFrame'>\n",
      "RangeIndex: 100000 entries, 0 to 99999\n",
      "Data columns (total 4 columns):\n",
      "order_id             100000 non-null uint32\n",
      "product_id           100000 non-null uint16\n",
      "add_to_cart_order    100000 non-null uint8\n",
      "reordered            100000 non-null uint8\n",
      "dtypes: uint16(1), uint32(1), uint8(2)\n",
      "memory usage: 781.3 KB\n"
     ]
    }
   ],
   "source": [
    "train_sm.info()"
   ]
  },
  {
   "cell_type": "code",
   "execution_count": 53,
   "metadata": {},
   "outputs": [],
   "source": [
    "# train.pivot(index='product_id', columns='order_id', values='reordered')"
   ]
  },
  {
   "cell_type": "code",
   "execution_count": 20,
   "metadata": {},
   "outputs": [],
   "source": [
    "productPivot = train_sm.pivot(index='product_id', columns='order_id', values='reordered')"
   ]
  },
  {
   "cell_type": "code",
   "execution_count": 21,
   "metadata": {},
   "outputs": [],
   "source": [
    "productPivot[productPivot.notnull()] = 1\n",
    "productPivot[productPivot.isnull()] = 0"
   ]
  },
  {
   "cell_type": "code",
   "execution_count": 22,
   "metadata": {},
   "outputs": [
    {
     "data": {
      "text/html": [
       "<div>\n",
       "<style scoped>\n",
       "    .dataframe tbody tr th:only-of-type {\n",
       "        vertical-align: middle;\n",
       "    }\n",
       "\n",
       "    .dataframe tbody tr th {\n",
       "        vertical-align: top;\n",
       "    }\n",
       "\n",
       "    .dataframe thead th {\n",
       "        text-align: right;\n",
       "    }\n",
       "</style>\n",
       "<table border=\"1\" class=\"dataframe\">\n",
       "  <thead>\n",
       "    <tr style=\"text-align: right;\">\n",
       "      <th>order_id</th>\n",
       "      <th>36</th>\n",
       "      <th>38</th>\n",
       "      <th>170</th>\n",
       "      <th>226</th>\n",
       "      <th>349</th>\n",
       "      <th>456</th>\n",
       "      <th>719</th>\n",
       "      <th>762</th>\n",
       "      <th>844</th>\n",
       "      <th>878</th>\n",
       "      <th>...</th>\n",
       "      <th>325777</th>\n",
       "      <th>325802</th>\n",
       "      <th>325849</th>\n",
       "      <th>325885</th>\n",
       "      <th>325939</th>\n",
       "      <th>326057</th>\n",
       "      <th>326060</th>\n",
       "      <th>326138</th>\n",
       "      <th>326225</th>\n",
       "      <th>326238</th>\n",
       "    </tr>\n",
       "    <tr>\n",
       "      <th>product_id</th>\n",
       "      <th></th>\n",
       "      <th></th>\n",
       "      <th></th>\n",
       "      <th></th>\n",
       "      <th></th>\n",
       "      <th></th>\n",
       "      <th></th>\n",
       "      <th></th>\n",
       "      <th></th>\n",
       "      <th></th>\n",
       "      <th></th>\n",
       "      <th></th>\n",
       "      <th></th>\n",
       "      <th></th>\n",
       "      <th></th>\n",
       "      <th></th>\n",
       "      <th></th>\n",
       "      <th></th>\n",
       "      <th></th>\n",
       "      <th></th>\n",
       "      <th></th>\n",
       "    </tr>\n",
       "  </thead>\n",
       "  <tbody>\n",
       "    <tr>\n",
       "      <th>1</th>\n",
       "      <td>0.0</td>\n",
       "      <td>0.0</td>\n",
       "      <td>0.0</td>\n",
       "      <td>0.0</td>\n",
       "      <td>0.0</td>\n",
       "      <td>0.0</td>\n",
       "      <td>0.0</td>\n",
       "      <td>0.0</td>\n",
       "      <td>0.0</td>\n",
       "      <td>0.0</td>\n",
       "      <td>...</td>\n",
       "      <td>0.0</td>\n",
       "      <td>0.0</td>\n",
       "      <td>0.0</td>\n",
       "      <td>0.0</td>\n",
       "      <td>0.0</td>\n",
       "      <td>0.0</td>\n",
       "      <td>0.0</td>\n",
       "      <td>0.0</td>\n",
       "      <td>0.0</td>\n",
       "      <td>0.0</td>\n",
       "    </tr>\n",
       "    <tr>\n",
       "      <th>3</th>\n",
       "      <td>0.0</td>\n",
       "      <td>0.0</td>\n",
       "      <td>0.0</td>\n",
       "      <td>0.0</td>\n",
       "      <td>0.0</td>\n",
       "      <td>0.0</td>\n",
       "      <td>0.0</td>\n",
       "      <td>0.0</td>\n",
       "      <td>0.0</td>\n",
       "      <td>0.0</td>\n",
       "      <td>...</td>\n",
       "      <td>0.0</td>\n",
       "      <td>0.0</td>\n",
       "      <td>0.0</td>\n",
       "      <td>0.0</td>\n",
       "      <td>0.0</td>\n",
       "      <td>0.0</td>\n",
       "      <td>0.0</td>\n",
       "      <td>0.0</td>\n",
       "      <td>0.0</td>\n",
       "      <td>0.0</td>\n",
       "    </tr>\n",
       "    <tr>\n",
       "      <th>4</th>\n",
       "      <td>0.0</td>\n",
       "      <td>0.0</td>\n",
       "      <td>0.0</td>\n",
       "      <td>0.0</td>\n",
       "      <td>0.0</td>\n",
       "      <td>0.0</td>\n",
       "      <td>0.0</td>\n",
       "      <td>0.0</td>\n",
       "      <td>0.0</td>\n",
       "      <td>0.0</td>\n",
       "      <td>...</td>\n",
       "      <td>0.0</td>\n",
       "      <td>0.0</td>\n",
       "      <td>0.0</td>\n",
       "      <td>0.0</td>\n",
       "      <td>0.0</td>\n",
       "      <td>0.0</td>\n",
       "      <td>0.0</td>\n",
       "      <td>0.0</td>\n",
       "      <td>0.0</td>\n",
       "      <td>0.0</td>\n",
       "    </tr>\n",
       "    <tr>\n",
       "      <th>9</th>\n",
       "      <td>0.0</td>\n",
       "      <td>0.0</td>\n",
       "      <td>0.0</td>\n",
       "      <td>0.0</td>\n",
       "      <td>0.0</td>\n",
       "      <td>0.0</td>\n",
       "      <td>0.0</td>\n",
       "      <td>0.0</td>\n",
       "      <td>0.0</td>\n",
       "      <td>0.0</td>\n",
       "      <td>...</td>\n",
       "      <td>0.0</td>\n",
       "      <td>0.0</td>\n",
       "      <td>0.0</td>\n",
       "      <td>0.0</td>\n",
       "      <td>0.0</td>\n",
       "      <td>0.0</td>\n",
       "      <td>0.0</td>\n",
       "      <td>0.0</td>\n",
       "      <td>0.0</td>\n",
       "      <td>0.0</td>\n",
       "    </tr>\n",
       "    <tr>\n",
       "      <th>10</th>\n",
       "      <td>0.0</td>\n",
       "      <td>0.0</td>\n",
       "      <td>0.0</td>\n",
       "      <td>0.0</td>\n",
       "      <td>0.0</td>\n",
       "      <td>0.0</td>\n",
       "      <td>0.0</td>\n",
       "      <td>0.0</td>\n",
       "      <td>0.0</td>\n",
       "      <td>0.0</td>\n",
       "      <td>...</td>\n",
       "      <td>0.0</td>\n",
       "      <td>0.0</td>\n",
       "      <td>0.0</td>\n",
       "      <td>0.0</td>\n",
       "      <td>0.0</td>\n",
       "      <td>0.0</td>\n",
       "      <td>0.0</td>\n",
       "      <td>0.0</td>\n",
       "      <td>0.0</td>\n",
       "      <td>0.0</td>\n",
       "    </tr>\n",
       "  </tbody>\n",
       "</table>\n",
       "<p>5 rows × 9402 columns</p>\n",
       "</div>"
      ],
      "text/plain": [
       "order_id    36      38      170     226     349     456     719     762     \\\n",
       "product_id                                                                   \n",
       "1              0.0     0.0     0.0     0.0     0.0     0.0     0.0     0.0   \n",
       "3              0.0     0.0     0.0     0.0     0.0     0.0     0.0     0.0   \n",
       "4              0.0     0.0     0.0     0.0     0.0     0.0     0.0     0.0   \n",
       "9              0.0     0.0     0.0     0.0     0.0     0.0     0.0     0.0   \n",
       "10             0.0     0.0     0.0     0.0     0.0     0.0     0.0     0.0   \n",
       "\n",
       "order_id    844     878      ...    325777  325802  325849  325885  325939  \\\n",
       "product_id                   ...                                             \n",
       "1              0.0     0.0   ...       0.0     0.0     0.0     0.0     0.0   \n",
       "3              0.0     0.0   ...       0.0     0.0     0.0     0.0     0.0   \n",
       "4              0.0     0.0   ...       0.0     0.0     0.0     0.0     0.0   \n",
       "9              0.0     0.0   ...       0.0     0.0     0.0     0.0     0.0   \n",
       "10             0.0     0.0   ...       0.0     0.0     0.0     0.0     0.0   \n",
       "\n",
       "order_id    326057  326060  326138  326225  326238  \n",
       "product_id                                          \n",
       "1              0.0     0.0     0.0     0.0     0.0  \n",
       "3              0.0     0.0     0.0     0.0     0.0  \n",
       "4              0.0     0.0     0.0     0.0     0.0  \n",
       "9              0.0     0.0     0.0     0.0     0.0  \n",
       "10             0.0     0.0     0.0     0.0     0.0  \n",
       "\n",
       "[5 rows x 9402 columns]"
      ]
     },
     "execution_count": 22,
     "metadata": {},
     "output_type": "execute_result"
    }
   ],
   "source": [
    "productPivot.head()"
   ]
  },
  {
   "cell_type": "code",
   "execution_count": 23,
   "metadata": {},
   "outputs": [
    {
     "data": {
      "text/plain": [
       "(16635, 9402)"
      ]
     },
     "execution_count": 23,
     "metadata": {},
     "output_type": "execute_result"
    }
   ],
   "source": [
    "productPivot.shape"
   ]
  },
  {
   "cell_type": "code",
   "execution_count": 67,
   "metadata": {},
   "outputs": [
    {
     "data": {
      "text/plain": [
       "0"
      ]
     },
     "execution_count": 67,
     "metadata": {},
     "output_type": "execute_result"
    }
   ],
   "source": [
    "np.where(productPivot.index == 1)[0][0]"
   ]
  },
  {
   "cell_type": "code",
   "execution_count": 71,
   "metadata": {},
   "outputs": [
    {
     "data": {
      "text/plain": [
       "array([1., 0., 0., ..., 0., 0., 0.])"
      ]
     },
     "execution_count": 71,
     "metadata": {},
     "output_type": "execute_result"
    }
   ],
   "source": [
    "product_sim_matrix[0]"
   ]
  },
  {
   "cell_type": "code",
   "execution_count": 24,
   "metadata": {},
   "outputs": [],
   "source": [
    "product_sim_matrix = cosine_similarity(productPivot)"
   ]
  },
  {
   "cell_type": "code",
   "execution_count": 89,
   "metadata": {},
   "outputs": [],
   "source": [
    "def find_similar_items(prod_id, matrix, n):\n",
    "    \n",
    "    index_num = np.where(productPivot.index == prod_id)[0][0]\n",
    "    \n",
    "    match_list = []\n",
    "    score_list = []\n",
    "    \n",
    "    matrix = matrix[index_num]\n",
    "    \n",
    "    for i in range(len(matrix)):\n",
    "        if matrix[i] > 0.05 and matrix[i] < 0.99:\n",
    "            match_list.append(i)\n",
    "            score_list.append(matrix[i])\n",
    "            \n",
    "    order_match_list = productPivot[productPivot.reset_index().index.isin(match_list)].index.values.tolist()\n",
    "      \n",
    "    df = products[products['product_id'].isin(order_match_list)].copy()\n",
    "    df['sim_score'] = score_list\n",
    "    df = df.sort_values(by=['sim_score'], ascending=False)\n",
    "    df = df[:n]\n",
    "    \n",
    "    return df"
   ]
  },
  {
   "cell_type": "code",
   "execution_count": 75,
   "metadata": {},
   "outputs": [
    {
     "data": {
      "text/html": [
       "<div>\n",
       "<style scoped>\n",
       "    .dataframe tbody tr th:only-of-type {\n",
       "        vertical-align: middle;\n",
       "    }\n",
       "\n",
       "    .dataframe tbody tr th {\n",
       "        vertical-align: top;\n",
       "    }\n",
       "\n",
       "    .dataframe thead th {\n",
       "        text-align: right;\n",
       "    }\n",
       "</style>\n",
       "<table border=\"1\" class=\"dataframe\">\n",
       "  <thead>\n",
       "    <tr style=\"text-align: right;\">\n",
       "      <th>order_id</th>\n",
       "      <th>36</th>\n",
       "      <th>38</th>\n",
       "      <th>170</th>\n",
       "      <th>226</th>\n",
       "      <th>349</th>\n",
       "      <th>456</th>\n",
       "      <th>719</th>\n",
       "      <th>762</th>\n",
       "      <th>844</th>\n",
       "      <th>878</th>\n",
       "      <th>...</th>\n",
       "      <th>325777</th>\n",
       "      <th>325802</th>\n",
       "      <th>325849</th>\n",
       "      <th>325885</th>\n",
       "      <th>325939</th>\n",
       "      <th>326057</th>\n",
       "      <th>326060</th>\n",
       "      <th>326138</th>\n",
       "      <th>326225</th>\n",
       "      <th>326238</th>\n",
       "    </tr>\n",
       "    <tr>\n",
       "      <th>product_id</th>\n",
       "      <th></th>\n",
       "      <th></th>\n",
       "      <th></th>\n",
       "      <th></th>\n",
       "      <th></th>\n",
       "      <th></th>\n",
       "      <th></th>\n",
       "      <th></th>\n",
       "      <th></th>\n",
       "      <th></th>\n",
       "      <th></th>\n",
       "      <th></th>\n",
       "      <th></th>\n",
       "      <th></th>\n",
       "      <th></th>\n",
       "      <th></th>\n",
       "      <th></th>\n",
       "      <th></th>\n",
       "      <th></th>\n",
       "      <th></th>\n",
       "      <th></th>\n",
       "    </tr>\n",
       "  </thead>\n",
       "  <tbody>\n",
       "    <tr>\n",
       "      <th>1</th>\n",
       "      <td>0.0</td>\n",
       "      <td>0.0</td>\n",
       "      <td>0.0</td>\n",
       "      <td>0.0</td>\n",
       "      <td>0.0</td>\n",
       "      <td>0.0</td>\n",
       "      <td>0.0</td>\n",
       "      <td>0.0</td>\n",
       "      <td>0.0</td>\n",
       "      <td>0.0</td>\n",
       "      <td>...</td>\n",
       "      <td>0.0</td>\n",
       "      <td>0.0</td>\n",
       "      <td>0.0</td>\n",
       "      <td>0.0</td>\n",
       "      <td>0.0</td>\n",
       "      <td>0.0</td>\n",
       "      <td>0.0</td>\n",
       "      <td>0.0</td>\n",
       "      <td>0.0</td>\n",
       "      <td>0.0</td>\n",
       "    </tr>\n",
       "    <tr>\n",
       "      <th>3</th>\n",
       "      <td>0.0</td>\n",
       "      <td>0.0</td>\n",
       "      <td>0.0</td>\n",
       "      <td>0.0</td>\n",
       "      <td>0.0</td>\n",
       "      <td>0.0</td>\n",
       "      <td>0.0</td>\n",
       "      <td>0.0</td>\n",
       "      <td>0.0</td>\n",
       "      <td>0.0</td>\n",
       "      <td>...</td>\n",
       "      <td>0.0</td>\n",
       "      <td>0.0</td>\n",
       "      <td>0.0</td>\n",
       "      <td>0.0</td>\n",
       "      <td>0.0</td>\n",
       "      <td>0.0</td>\n",
       "      <td>0.0</td>\n",
       "      <td>0.0</td>\n",
       "      <td>0.0</td>\n",
       "      <td>0.0</td>\n",
       "    </tr>\n",
       "    <tr>\n",
       "      <th>4</th>\n",
       "      <td>0.0</td>\n",
       "      <td>0.0</td>\n",
       "      <td>0.0</td>\n",
       "      <td>0.0</td>\n",
       "      <td>0.0</td>\n",
       "      <td>0.0</td>\n",
       "      <td>0.0</td>\n",
       "      <td>0.0</td>\n",
       "      <td>0.0</td>\n",
       "      <td>0.0</td>\n",
       "      <td>...</td>\n",
       "      <td>0.0</td>\n",
       "      <td>0.0</td>\n",
       "      <td>0.0</td>\n",
       "      <td>0.0</td>\n",
       "      <td>0.0</td>\n",
       "      <td>0.0</td>\n",
       "      <td>0.0</td>\n",
       "      <td>0.0</td>\n",
       "      <td>0.0</td>\n",
       "      <td>0.0</td>\n",
       "    </tr>\n",
       "    <tr>\n",
       "      <th>9</th>\n",
       "      <td>0.0</td>\n",
       "      <td>0.0</td>\n",
       "      <td>0.0</td>\n",
       "      <td>0.0</td>\n",
       "      <td>0.0</td>\n",
       "      <td>0.0</td>\n",
       "      <td>0.0</td>\n",
       "      <td>0.0</td>\n",
       "      <td>0.0</td>\n",
       "      <td>0.0</td>\n",
       "      <td>...</td>\n",
       "      <td>0.0</td>\n",
       "      <td>0.0</td>\n",
       "      <td>0.0</td>\n",
       "      <td>0.0</td>\n",
       "      <td>0.0</td>\n",
       "      <td>0.0</td>\n",
       "      <td>0.0</td>\n",
       "      <td>0.0</td>\n",
       "      <td>0.0</td>\n",
       "      <td>0.0</td>\n",
       "    </tr>\n",
       "    <tr>\n",
       "      <th>10</th>\n",
       "      <td>0.0</td>\n",
       "      <td>0.0</td>\n",
       "      <td>0.0</td>\n",
       "      <td>0.0</td>\n",
       "      <td>0.0</td>\n",
       "      <td>0.0</td>\n",
       "      <td>0.0</td>\n",
       "      <td>0.0</td>\n",
       "      <td>0.0</td>\n",
       "      <td>0.0</td>\n",
       "      <td>...</td>\n",
       "      <td>0.0</td>\n",
       "      <td>0.0</td>\n",
       "      <td>0.0</td>\n",
       "      <td>0.0</td>\n",
       "      <td>0.0</td>\n",
       "      <td>0.0</td>\n",
       "      <td>0.0</td>\n",
       "      <td>0.0</td>\n",
       "      <td>0.0</td>\n",
       "      <td>0.0</td>\n",
       "    </tr>\n",
       "  </tbody>\n",
       "</table>\n",
       "<p>5 rows × 9402 columns</p>\n",
       "</div>"
      ],
      "text/plain": [
       "order_id    36      38      170     226     349     456     719     762     \\\n",
       "product_id                                                                   \n",
       "1              0.0     0.0     0.0     0.0     0.0     0.0     0.0     0.0   \n",
       "3              0.0     0.0     0.0     0.0     0.0     0.0     0.0     0.0   \n",
       "4              0.0     0.0     0.0     0.0     0.0     0.0     0.0     0.0   \n",
       "9              0.0     0.0     0.0     0.0     0.0     0.0     0.0     0.0   \n",
       "10             0.0     0.0     0.0     0.0     0.0     0.0     0.0     0.0   \n",
       "\n",
       "order_id    844     878      ...    325777  325802  325849  325885  325939  \\\n",
       "product_id                   ...                                             \n",
       "1              0.0     0.0   ...       0.0     0.0     0.0     0.0     0.0   \n",
       "3              0.0     0.0   ...       0.0     0.0     0.0     0.0     0.0   \n",
       "4              0.0     0.0   ...       0.0     0.0     0.0     0.0     0.0   \n",
       "9              0.0     0.0   ...       0.0     0.0     0.0     0.0     0.0   \n",
       "10             0.0     0.0   ...       0.0     0.0     0.0     0.0     0.0   \n",
       "\n",
       "order_id    326057  326060  326138  326225  326238  \n",
       "product_id                                          \n",
       "1              0.0     0.0     0.0     0.0     0.0  \n",
       "3              0.0     0.0     0.0     0.0     0.0  \n",
       "4              0.0     0.0     0.0     0.0     0.0  \n",
       "9              0.0     0.0     0.0     0.0     0.0  \n",
       "10             0.0     0.0     0.0     0.0     0.0  \n",
       "\n",
       "[5 rows x 9402 columns]"
      ]
     },
     "execution_count": 75,
     "metadata": {},
     "output_type": "execute_result"
    }
   ],
   "source": [
    "productPivot[:5]"
   ]
  },
  {
   "cell_type": "code",
   "execution_count": 80,
   "metadata": {},
   "outputs": [
    {
     "data": {
      "text/html": [
       "<div>\n",
       "<style scoped>\n",
       "    .dataframe tbody tr th:only-of-type {\n",
       "        vertical-align: middle;\n",
       "    }\n",
       "\n",
       "    .dataframe tbody tr th {\n",
       "        vertical-align: top;\n",
       "    }\n",
       "\n",
       "    .dataframe thead th {\n",
       "        text-align: right;\n",
       "    }\n",
       "</style>\n",
       "<table border=\"1\" class=\"dataframe\">\n",
       "  <thead>\n",
       "    <tr style=\"text-align: right;\">\n",
       "      <th></th>\n",
       "      <th>product_id</th>\n",
       "      <th>product_name</th>\n",
       "      <th>aisle_id</th>\n",
       "      <th>department_id</th>\n",
       "    </tr>\n",
       "  </thead>\n",
       "  <tbody>\n",
       "    <tr>\n",
       "      <th>0</th>\n",
       "      <td>1</td>\n",
       "      <td>Chocolate Sandwich Cookies</td>\n",
       "      <td>61</td>\n",
       "      <td>19</td>\n",
       "    </tr>\n",
       "  </tbody>\n",
       "</table>\n",
       "</div>"
      ],
      "text/plain": [
       "   product_id                product_name  aisle_id  department_id\n",
       "0           1  Chocolate Sandwich Cookies        61             19"
      ]
     },
     "execution_count": 80,
     "metadata": {},
     "output_type": "execute_result"
    }
   ],
   "source": [
    "products[products['product_id'] == 1]"
   ]
  },
  {
   "cell_type": "code",
   "execution_count": 85,
   "metadata": {},
   "outputs": [
    {
     "data": {
      "text/html": [
       "<div>\n",
       "<style scoped>\n",
       "    .dataframe tbody tr th:only-of-type {\n",
       "        vertical-align: middle;\n",
       "    }\n",
       "\n",
       "    .dataframe tbody tr th {\n",
       "        vertical-align: top;\n",
       "    }\n",
       "\n",
       "    .dataframe thead th {\n",
       "        text-align: right;\n",
       "    }\n",
       "</style>\n",
       "<table border=\"1\" class=\"dataframe\">\n",
       "  <thead>\n",
       "    <tr style=\"text-align: right;\">\n",
       "      <th></th>\n",
       "      <th>product_id</th>\n",
       "      <th>product_name</th>\n",
       "      <th>aisle_id</th>\n",
       "      <th>department_id</th>\n",
       "      <th>sim_score</th>\n",
       "    </tr>\n",
       "  </thead>\n",
       "  <tbody>\n",
       "    <tr>\n",
       "      <th>24069</th>\n",
       "      <td>24070</td>\n",
       "      <td>Spicy Homestyle Guacamole</td>\n",
       "      <td>1</td>\n",
       "      <td>20</td>\n",
       "      <td>0.333333</td>\n",
       "    </tr>\n",
       "    <tr>\n",
       "      <th>29872</th>\n",
       "      <td>29873</td>\n",
       "      <td>Morena Pure Cane Sugar</td>\n",
       "      <td>17</td>\n",
       "      <td>13</td>\n",
       "      <td>0.333333</td>\n",
       "    </tr>\n",
       "    <tr>\n",
       "      <th>39812</th>\n",
       "      <td>39813</td>\n",
       "      <td>Rice Sea Salt &amp; Pepper Snacks</td>\n",
       "      <td>78</td>\n",
       "      <td>19</td>\n",
       "      <td>0.333333</td>\n",
       "    </tr>\n",
       "    <tr>\n",
       "      <th>10961</th>\n",
       "      <td>10962</td>\n",
       "      <td>Extra Strength Energy Shot</td>\n",
       "      <td>64</td>\n",
       "      <td>7</td>\n",
       "      <td>0.333333</td>\n",
       "    </tr>\n",
       "    <tr>\n",
       "      <th>11303</th>\n",
       "      <td>11304</td>\n",
       "      <td>Ground Black Silk Dark Coffee</td>\n",
       "      <td>26</td>\n",
       "      <td>7</td>\n",
       "      <td>0.333333</td>\n",
       "    </tr>\n",
       "    <tr>\n",
       "      <th>13819</th>\n",
       "      <td>13820</td>\n",
       "      <td>Peanut Butter Cookies</td>\n",
       "      <td>8</td>\n",
       "      <td>3</td>\n",
       "      <td>0.333333</td>\n",
       "    </tr>\n",
       "    <tr>\n",
       "      <th>16304</th>\n",
       "      <td>16305</td>\n",
       "      <td>Ritz Crackers</td>\n",
       "      <td>78</td>\n",
       "      <td>19</td>\n",
       "      <td>0.333333</td>\n",
       "    </tr>\n",
       "    <tr>\n",
       "      <th>33739</th>\n",
       "      <td>33740</td>\n",
       "      <td>Cara Cara Oranges, Bag</td>\n",
       "      <td>24</td>\n",
       "      <td>4</td>\n",
       "      <td>0.333333</td>\n",
       "    </tr>\n",
       "    <tr>\n",
       "      <th>33637</th>\n",
       "      <td>33638</td>\n",
       "      <td>Mint Rolls</td>\n",
       "      <td>46</td>\n",
       "      <td>19</td>\n",
       "      <td>0.333333</td>\n",
       "    </tr>\n",
       "    <tr>\n",
       "      <th>43961</th>\n",
       "      <td>43962</td>\n",
       "      <td>Coleslaw</td>\n",
       "      <td>123</td>\n",
       "      <td>4</td>\n",
       "      <td>0.235702</td>\n",
       "    </tr>\n",
       "  </tbody>\n",
       "</table>\n",
       "</div>"
      ],
      "text/plain": [
       "       product_id                   product_name  aisle_id  department_id  \\\n",
       "24069       24070      Spicy Homestyle Guacamole         1             20   \n",
       "29872       29873         Morena Pure Cane Sugar        17             13   \n",
       "39812       39813  Rice Sea Salt & Pepper Snacks        78             19   \n",
       "10961       10962     Extra Strength Energy Shot        64              7   \n",
       "11303       11304  Ground Black Silk Dark Coffee        26              7   \n",
       "13819       13820          Peanut Butter Cookies         8              3   \n",
       "16304       16305                  Ritz Crackers        78             19   \n",
       "33739       33740         Cara Cara Oranges, Bag        24              4   \n",
       "33637       33638                     Mint Rolls        46             19   \n",
       "43961       43962                       Coleslaw       123              4   \n",
       "\n",
       "       sim_score  \n",
       "24069   0.333333  \n",
       "29872   0.333333  \n",
       "39812   0.333333  \n",
       "10961   0.333333  \n",
       "11303   0.333333  \n",
       "13819   0.333333  \n",
       "16304   0.333333  \n",
       "33739   0.333333  \n",
       "33637   0.333333  \n",
       "43961   0.235702  "
      ]
     },
     "execution_count": 85,
     "metadata": {},
     "output_type": "execute_result"
    }
   ],
   "source": [
    "# similarity to chocolate sandwich cookies\n",
    "find_similar_items(1, product_sim_matrix, 10)"
   ]
  },
  {
   "cell_type": "code",
   "execution_count": 90,
   "metadata": {},
   "outputs": [
    {
     "data": {
      "text/html": [
       "<div>\n",
       "<style scoped>\n",
       "    .dataframe tbody tr th:only-of-type {\n",
       "        vertical-align: middle;\n",
       "    }\n",
       "\n",
       "    .dataframe tbody tr th {\n",
       "        vertical-align: top;\n",
       "    }\n",
       "\n",
       "    .dataframe thead th {\n",
       "        text-align: right;\n",
       "    }\n",
       "</style>\n",
       "<table border=\"1\" class=\"dataframe\">\n",
       "  <thead>\n",
       "    <tr style=\"text-align: right;\">\n",
       "      <th></th>\n",
       "      <th>product_id</th>\n",
       "      <th>product_name</th>\n",
       "      <th>aisle_id</th>\n",
       "      <th>department_id</th>\n",
       "      <th>sim_score</th>\n",
       "    </tr>\n",
       "  </thead>\n",
       "  <tbody>\n",
       "    <tr>\n",
       "      <th>32332</th>\n",
       "      <td>32333</td>\n",
       "      <td>Apple + Banana Fruit Bar</td>\n",
       "      <td>3</td>\n",
       "      <td>19</td>\n",
       "      <td>0.577350</td>\n",
       "    </tr>\n",
       "    <tr>\n",
       "      <th>24582</th>\n",
       "      <td>24583</td>\n",
       "      <td>Organic  Unsweetened &amp; Salt Free Sunflower See...</td>\n",
       "      <td>88</td>\n",
       "      <td>13</td>\n",
       "      <td>0.577350</td>\n",
       "    </tr>\n",
       "    <tr>\n",
       "      <th>43634</th>\n",
       "      <td>43635</td>\n",
       "      <td>Whole Milk Greek Plain</td>\n",
       "      <td>120</td>\n",
       "      <td>16</td>\n",
       "      <td>0.408248</td>\n",
       "    </tr>\n",
       "    <tr>\n",
       "      <th>35126</th>\n",
       "      <td>35127</td>\n",
       "      <td>Matcha Almondmilk</td>\n",
       "      <td>31</td>\n",
       "      <td>7</td>\n",
       "      <td>0.333333</td>\n",
       "    </tr>\n",
       "    <tr>\n",
       "      <th>46324</th>\n",
       "      <td>46325</td>\n",
       "      <td>Original Sparkling Water</td>\n",
       "      <td>115</td>\n",
       "      <td>7</td>\n",
       "      <td>0.333333</td>\n",
       "    </tr>\n",
       "    <tr>\n",
       "      <th>29573</th>\n",
       "      <td>29574</td>\n",
       "      <td>Tempt Unsweetened Vanilla Hemp Milk</td>\n",
       "      <td>91</td>\n",
       "      <td>16</td>\n",
       "      <td>0.288675</td>\n",
       "    </tr>\n",
       "    <tr>\n",
       "      <th>25019</th>\n",
       "      <td>25020</td>\n",
       "      <td>Organic Banana Chips</td>\n",
       "      <td>50</td>\n",
       "      <td>19</td>\n",
       "      <td>0.288675</td>\n",
       "    </tr>\n",
       "    <tr>\n",
       "      <th>275</th>\n",
       "      <td>276</td>\n",
       "      <td>French Vanilla Ice Cream</td>\n",
       "      <td>37</td>\n",
       "      <td>1</td>\n",
       "      <td>0.258199</td>\n",
       "    </tr>\n",
       "    <tr>\n",
       "      <th>20167</th>\n",
       "      <td>20168</td>\n",
       "      <td>Organic Sunflower Seed Spread</td>\n",
       "      <td>88</td>\n",
       "      <td>13</td>\n",
       "      <td>0.235702</td>\n",
       "    </tr>\n",
       "    <tr>\n",
       "      <th>22720</th>\n",
       "      <td>22721</td>\n",
       "      <td>Creamy Peanut Butter Dark Roasted</td>\n",
       "      <td>88</td>\n",
       "      <td>13</td>\n",
       "      <td>0.218218</td>\n",
       "    </tr>\n",
       "  </tbody>\n",
       "</table>\n",
       "</div>"
      ],
      "text/plain": [
       "       product_id                                       product_name  \\\n",
       "32332       32333                           Apple + Banana Fruit Bar   \n",
       "24582       24583  Organic  Unsweetened & Salt Free Sunflower See...   \n",
       "43634       43635                             Whole Milk Greek Plain   \n",
       "35126       35127                                  Matcha Almondmilk   \n",
       "46324       46325                           Original Sparkling Water   \n",
       "29573       29574                Tempt Unsweetened Vanilla Hemp Milk   \n",
       "25019       25020                               Organic Banana Chips   \n",
       "275           276                           French Vanilla Ice Cream   \n",
       "20167       20168                      Organic Sunflower Seed Spread   \n",
       "22720       22721                  Creamy Peanut Butter Dark Roasted   \n",
       "\n",
       "       aisle_id  department_id  sim_score  \n",
       "32332         3             19   0.577350  \n",
       "24582        88             13   0.577350  \n",
       "43634       120             16   0.408248  \n",
       "35126        31              7   0.333333  \n",
       "46324       115              7   0.333333  \n",
       "29573        91             16   0.288675  \n",
       "25019        50             19   0.288675  \n",
       "275          37              1   0.258199  \n",
       "20167        88             13   0.235702  \n",
       "22720        88             13   0.218218  "
      ]
     },
     "execution_count": 90,
     "metadata": {},
     "output_type": "execute_result"
    }
   ],
   "source": [
    "# organic turkey burgers\n",
    "find_similar_items(23, product_sim_matrix, 10)"
   ]
  },
  {
   "cell_type": "code",
   "execution_count": 91,
   "metadata": {},
   "outputs": [
    {
     "data": {
      "text/html": [
       "<div>\n",
       "<style scoped>\n",
       "    .dataframe tbody tr th:only-of-type {\n",
       "        vertical-align: middle;\n",
       "    }\n",
       "\n",
       "    .dataframe tbody tr th {\n",
       "        vertical-align: top;\n",
       "    }\n",
       "\n",
       "    .dataframe thead th {\n",
       "        text-align: right;\n",
       "    }\n",
       "</style>\n",
       "<table border=\"1\" class=\"dataframe\">\n",
       "  <thead>\n",
       "    <tr style=\"text-align: right;\">\n",
       "      <th></th>\n",
       "      <th>product_id</th>\n",
       "      <th>product_name</th>\n",
       "      <th>aisle_id</th>\n",
       "      <th>department_id</th>\n",
       "      <th>sim_score</th>\n",
       "    </tr>\n",
       "  </thead>\n",
       "  <tbody>\n",
       "    <tr>\n",
       "      <th>24851</th>\n",
       "      <td>24852</td>\n",
       "      <td>Banana</td>\n",
       "      <td>24</td>\n",
       "      <td>4</td>\n",
       "      <td>0.114097</td>\n",
       "    </tr>\n",
       "    <tr>\n",
       "      <th>21680</th>\n",
       "      <td>21681</td>\n",
       "      <td>Sriracha Sauce</td>\n",
       "      <td>72</td>\n",
       "      <td>13</td>\n",
       "      <td>0.100000</td>\n",
       "    </tr>\n",
       "    <tr>\n",
       "      <th>47765</th>\n",
       "      <td>47766</td>\n",
       "      <td>Organic Avocado</td>\n",
       "      <td>24</td>\n",
       "      <td>4</td>\n",
       "      <td>0.097219</td>\n",
       "    </tr>\n",
       "    <tr>\n",
       "      <th>13995</th>\n",
       "      <td>13996</td>\n",
       "      <td>Giant Peach</td>\n",
       "      <td>94</td>\n",
       "      <td>7</td>\n",
       "      <td>0.094281</td>\n",
       "    </tr>\n",
       "    <tr>\n",
       "      <th>40344</th>\n",
       "      <td>40345</td>\n",
       "      <td>Gluten-Free Smart Puffs Real Wisconsin Cheddar...</td>\n",
       "      <td>107</td>\n",
       "      <td>19</td>\n",
       "      <td>0.094281</td>\n",
       "    </tr>\n",
       "    <tr>\n",
       "      <th>40724</th>\n",
       "      <td>40725</td>\n",
       "      <td>Gluten Free Fusilli Brown Rice Pasta</td>\n",
       "      <td>131</td>\n",
       "      <td>9</td>\n",
       "      <td>0.094281</td>\n",
       "    </tr>\n",
       "    <tr>\n",
       "      <th>1823</th>\n",
       "      <td>1824</td>\n",
       "      <td>Frozen Desserts, Cookies and Cream</td>\n",
       "      <td>37</td>\n",
       "      <td>1</td>\n",
       "      <td>0.094281</td>\n",
       "    </tr>\n",
       "    <tr>\n",
       "      <th>13197</th>\n",
       "      <td>13198</td>\n",
       "      <td>85% Lean Ground Beef</td>\n",
       "      <td>122</td>\n",
       "      <td>12</td>\n",
       "      <td>0.093314</td>\n",
       "    </tr>\n",
       "    <tr>\n",
       "      <th>49682</th>\n",
       "      <td>49683</td>\n",
       "      <td>Cucumber Kirby</td>\n",
       "      <td>83</td>\n",
       "      <td>4</td>\n",
       "      <td>0.091035</td>\n",
       "    </tr>\n",
       "    <tr>\n",
       "      <th>12871</th>\n",
       "      <td>12872</td>\n",
       "      <td>Penne Rigate</td>\n",
       "      <td>131</td>\n",
       "      <td>9</td>\n",
       "      <td>0.090972</td>\n",
       "    </tr>\n",
       "  </tbody>\n",
       "</table>\n",
       "</div>"
      ],
      "text/plain": [
       "       product_id                                       product_name  \\\n",
       "24851       24852                                             Banana   \n",
       "21680       21681                                     Sriracha Sauce   \n",
       "47765       47766                                    Organic Avocado   \n",
       "13995       13996                                        Giant Peach   \n",
       "40344       40345  Gluten-Free Smart Puffs Real Wisconsin Cheddar...   \n",
       "40724       40725               Gluten Free Fusilli Brown Rice Pasta   \n",
       "1823         1824                 Frozen Desserts, Cookies and Cream   \n",
       "13197       13198                               85% Lean Ground Beef   \n",
       "49682       49683                                     Cucumber Kirby   \n",
       "12871       12872                                       Penne Rigate   \n",
       "\n",
       "       aisle_id  department_id  sim_score  \n",
       "24851        24              4   0.114097  \n",
       "21680        72             13   0.100000  \n",
       "47765        24              4   0.097219  \n",
       "13995        94              7   0.094281  \n",
       "40344       107             19   0.094281  \n",
       "40724       131              9   0.094281  \n",
       "1823         37              1   0.094281  \n",
       "13197       122             12   0.093314  \n",
       "49682        83              4   0.091035  \n",
       "12871       131              9   0.090972  "
      ]
     },
     "execution_count": 91,
     "metadata": {},
     "output_type": "execute_result"
    }
   ],
   "source": [
    "# boneless skinless chicken breasts\n",
    "find_similar_items(25890, product_sim_matrix, 10)"
   ]
  },
  {
   "cell_type": "code",
   "execution_count": 92,
   "metadata": {},
   "outputs": [
    {
     "data": {
      "text/html": [
       "<div>\n",
       "<style scoped>\n",
       "    .dataframe tbody tr th:only-of-type {\n",
       "        vertical-align: middle;\n",
       "    }\n",
       "\n",
       "    .dataframe tbody tr th {\n",
       "        vertical-align: top;\n",
       "    }\n",
       "\n",
       "    .dataframe thead th {\n",
       "        text-align: right;\n",
       "    }\n",
       "</style>\n",
       "<table border=\"1\" class=\"dataframe\">\n",
       "  <thead>\n",
       "    <tr style=\"text-align: right;\">\n",
       "      <th></th>\n",
       "      <th>product_id</th>\n",
       "      <th>product_name</th>\n",
       "      <th>aisle_id</th>\n",
       "      <th>department_id</th>\n",
       "      <th>sim_score</th>\n",
       "    </tr>\n",
       "  </thead>\n",
       "  <tbody>\n",
       "    <tr>\n",
       "      <th>24851</th>\n",
       "      <td>24852</td>\n",
       "      <td>Banana</td>\n",
       "      <td>24</td>\n",
       "      <td>4</td>\n",
       "      <td>0.161047</td>\n",
       "    </tr>\n",
       "    <tr>\n",
       "      <th>47625</th>\n",
       "      <td>47626</td>\n",
       "      <td>Large Lemon</td>\n",
       "      <td>24</td>\n",
       "      <td>4</td>\n",
       "      <td>0.119579</td>\n",
       "    </tr>\n",
       "    <tr>\n",
       "      <th>36286</th>\n",
       "      <td>36287</td>\n",
       "      <td>Smooth Operator Natural Peanut Butter</td>\n",
       "      <td>88</td>\n",
       "      <td>13</td>\n",
       "      <td>0.099960</td>\n",
       "    </tr>\n",
       "    <tr>\n",
       "      <th>21136</th>\n",
       "      <td>21137</td>\n",
       "      <td>Organic Strawberries</td>\n",
       "      <td>24</td>\n",
       "      <td>4</td>\n",
       "      <td>0.091123</td>\n",
       "    </tr>\n",
       "    <tr>\n",
       "      <th>13175</th>\n",
       "      <td>13176</td>\n",
       "      <td>Bag of Organic Bananas</td>\n",
       "      <td>24</td>\n",
       "      <td>4</td>\n",
       "      <td>0.083088</td>\n",
       "    </tr>\n",
       "    <tr>\n",
       "      <th>8423</th>\n",
       "      <td>8424</td>\n",
       "      <td>Broccoli Crown</td>\n",
       "      <td>83</td>\n",
       "      <td>4</td>\n",
       "      <td>0.082190</td>\n",
       "    </tr>\n",
       "    <tr>\n",
       "      <th>47765</th>\n",
       "      <td>47766</td>\n",
       "      <td>Organic Avocado</td>\n",
       "      <td>24</td>\n",
       "      <td>4</td>\n",
       "      <td>0.081614</td>\n",
       "    </tr>\n",
       "    <tr>\n",
       "      <th>47208</th>\n",
       "      <td>47209</td>\n",
       "      <td>Organic Hass Avocado</td>\n",
       "      <td>24</td>\n",
       "      <td>4</td>\n",
       "      <td>0.081300</td>\n",
       "    </tr>\n",
       "    <tr>\n",
       "      <th>16796</th>\n",
       "      <td>16797</td>\n",
       "      <td>Strawberries</td>\n",
       "      <td>24</td>\n",
       "      <td>4</td>\n",
       "      <td>0.080572</td>\n",
       "    </tr>\n",
       "    <tr>\n",
       "      <th>21902</th>\n",
       "      <td>21903</td>\n",
       "      <td>Organic Baby Spinach</td>\n",
       "      <td>123</td>\n",
       "      <td>4</td>\n",
       "      <td>0.080244</td>\n",
       "    </tr>\n",
       "  </tbody>\n",
       "</table>\n",
       "</div>"
      ],
      "text/plain": [
       "       product_id                           product_name  aisle_id  \\\n",
       "24851       24852                                 Banana        24   \n",
       "47625       47626                            Large Lemon        24   \n",
       "36286       36287  Smooth Operator Natural Peanut Butter        88   \n",
       "21136       21137                   Organic Strawberries        24   \n",
       "13175       13176                 Bag of Organic Bananas        24   \n",
       "8423         8424                         Broccoli Crown        83   \n",
       "47765       47766                        Organic Avocado        24   \n",
       "47208       47209                   Organic Hass Avocado        24   \n",
       "16796       16797                           Strawberries        24   \n",
       "21902       21903                   Organic Baby Spinach       123   \n",
       "\n",
       "       department_id  sim_score  \n",
       "24851              4   0.161047  \n",
       "47625              4   0.119579  \n",
       "36286             13   0.099960  \n",
       "21136              4   0.091123  \n",
       "13175              4   0.083088  \n",
       "8423               4   0.082190  \n",
       "47765              4   0.081614  \n",
       "47208              4   0.081300  \n",
       "16796              4   0.080572  \n",
       "21902              4   0.080244  "
      ]
     },
     "execution_count": 92,
     "metadata": {},
     "output_type": "execute_result"
    }
   ],
   "source": [
    "# honeycrisp apples\n",
    "find_similar_items(45066, product_sim_matrix, 10)"
   ]
  },
  {
   "cell_type": "markdown",
   "metadata": {},
   "source": [
    "# Similar Baskets (Cosine Similiarity)"
   ]
  },
  {
   "cell_type": "code",
   "execution_count": 108,
   "metadata": {},
   "outputs": [],
   "source": [
    "train_200k = train[:200000].copy()"
   ]
  },
  {
   "cell_type": "code",
   "execution_count": 109,
   "metadata": {},
   "outputs": [],
   "source": [
    "orderPivot = train_200k.pivot(index='order_id', columns='product_id', values='reordered')"
   ]
  },
  {
   "cell_type": "code",
   "execution_count": 110,
   "metadata": {},
   "outputs": [],
   "source": [
    "orderPivot[orderPivot.notnull()] = 1\n",
    "orderPivot[orderPivot.isnull()] = 0"
   ]
  },
  {
   "cell_type": "code",
   "execution_count": 111,
   "metadata": {},
   "outputs": [
    {
     "data": {
      "text/plain": [
       "(18874, 22376)"
      ]
     },
     "execution_count": 111,
     "metadata": {},
     "output_type": "execute_result"
    }
   ],
   "source": [
    "orderPivot.shape"
   ]
  },
  {
   "cell_type": "code",
   "execution_count": 112,
   "metadata": {},
   "outputs": [],
   "source": [
    "order_sim_matrix = cosine_similarity(orderPivot)"
   ]
  },
  {
   "cell_type": "code",
   "execution_count": null,
   "metadata": {},
   "outputs": [],
   "source": []
  },
  {
   "cell_type": "code",
   "execution_count": 134,
   "metadata": {},
   "outputs": [],
   "source": [
    "def find_similar_baskets(matrix):\n",
    "    match_list = []\n",
    "\n",
    "    for i in range(len(matrix)):\n",
    "        if matrix[i] > 0.1 and matrix[i] < 0.99:\n",
    "            match_list.append(i)\n",
    "            \n",
    "    order_match_list = orderPivot[orderPivot.reset_index().index.isin(match_list)].index.values.tolist()\n",
    "    \n",
    "    return order_match_list"
   ]
  },
  {
   "cell_type": "code",
   "execution_count": null,
   "metadata": {},
   "outputs": [],
   "source": [
    "# def find_similar_baskets(order_id):\n",
    "#     match_list = []\n",
    "\n",
    "#     for i in range(len(matrix)):\n",
    "#         if matrix[i] > 0.2 and matrix[i] < 0.99:\n",
    "#             match_list.append(i)\n",
    "            \n",
    "#     order_match_list = orderPivot[orderPivot.reset_index().index.isin(match_list)].index.values.tolist()\n",
    "    \n",
    "#     return order_match_list"
   ]
  },
  {
   "cell_type": "code",
   "execution_count": 122,
   "metadata": {},
   "outputs": [],
   "source": [
    "matched_baskets = find_similar_baskets(order_sim_matrix[0])"
   ]
  },
  {
   "cell_type": "code",
   "execution_count": 104,
   "metadata": {},
   "outputs": [
    {
     "data": {
      "text/html": [
       "<div>\n",
       "<style scoped>\n",
       "    .dataframe tbody tr th:only-of-type {\n",
       "        vertical-align: middle;\n",
       "    }\n",
       "\n",
       "    .dataframe tbody tr th {\n",
       "        vertical-align: top;\n",
       "    }\n",
       "\n",
       "    .dataframe thead th {\n",
       "        text-align: right;\n",
       "    }\n",
       "</style>\n",
       "<table border=\"1\" class=\"dataframe\">\n",
       "  <thead>\n",
       "    <tr style=\"text-align: right;\">\n",
       "      <th></th>\n",
       "      <th>order_id</th>\n",
       "      <th>product_id</th>\n",
       "      <th>add_to_cart_order</th>\n",
       "      <th>reordered</th>\n",
       "      <th>product_name</th>\n",
       "    </tr>\n",
       "  </thead>\n",
       "  <tbody>\n",
       "    <tr>\n",
       "      <th>0</th>\n",
       "      <td>36</td>\n",
       "      <td>39612</td>\n",
       "      <td>1</td>\n",
       "      <td>0</td>\n",
       "      <td>Grated Pecorino Romano Cheese</td>\n",
       "    </tr>\n",
       "    <tr>\n",
       "      <th>1</th>\n",
       "      <td>36</td>\n",
       "      <td>19660</td>\n",
       "      <td>2</td>\n",
       "      <td>1</td>\n",
       "      <td>Spring Water</td>\n",
       "    </tr>\n",
       "    <tr>\n",
       "      <th>2</th>\n",
       "      <td>36</td>\n",
       "      <td>49235</td>\n",
       "      <td>3</td>\n",
       "      <td>0</td>\n",
       "      <td>Organic Half &amp; Half</td>\n",
       "    </tr>\n",
       "    <tr>\n",
       "      <th>3</th>\n",
       "      <td>36</td>\n",
       "      <td>43086</td>\n",
       "      <td>4</td>\n",
       "      <td>1</td>\n",
       "      <td>Super Greens Salad</td>\n",
       "    </tr>\n",
       "    <tr>\n",
       "      <th>4</th>\n",
       "      <td>36</td>\n",
       "      <td>46620</td>\n",
       "      <td>5</td>\n",
       "      <td>1</td>\n",
       "      <td>Cage Free Extra Large Grade AA Eggs</td>\n",
       "    </tr>\n",
       "    <tr>\n",
       "      <th>5</th>\n",
       "      <td>36</td>\n",
       "      <td>34497</td>\n",
       "      <td>6</td>\n",
       "      <td>1</td>\n",
       "      <td>Prosciutto, Americano</td>\n",
       "    </tr>\n",
       "    <tr>\n",
       "      <th>6</th>\n",
       "      <td>36</td>\n",
       "      <td>48679</td>\n",
       "      <td>7</td>\n",
       "      <td>1</td>\n",
       "      <td>Organic Garnet Sweet Potato (Yam)</td>\n",
       "    </tr>\n",
       "    <tr>\n",
       "      <th>7</th>\n",
       "      <td>36</td>\n",
       "      <td>46979</td>\n",
       "      <td>8</td>\n",
       "      <td>1</td>\n",
       "      <td>Asparagus</td>\n",
       "    </tr>\n",
       "  </tbody>\n",
       "</table>\n",
       "</div>"
      ],
      "text/plain": [
       "   order_id  product_id  add_to_cart_order  reordered  \\\n",
       "0        36       39612                  1          0   \n",
       "1        36       19660                  2          1   \n",
       "2        36       49235                  3          0   \n",
       "3        36       43086                  4          1   \n",
       "4        36       46620                  5          1   \n",
       "5        36       34497                  6          1   \n",
       "6        36       48679                  7          1   \n",
       "7        36       46979                  8          1   \n",
       "\n",
       "                          product_name  \n",
       "0        Grated Pecorino Romano Cheese  \n",
       "1                         Spring Water  \n",
       "2                  Organic Half & Half  \n",
       "3                   Super Greens Salad  \n",
       "4  Cage Free Extra Large Grade AA Eggs  \n",
       "5                Prosciutto, Americano  \n",
       "6    Organic Garnet Sweet Potato (Yam)  \n",
       "7                            Asparagus  "
      ]
     },
     "execution_count": 104,
     "metadata": {},
     "output_type": "execute_result"
    }
   ],
   "source": [
    "sample_order = train_sm[train_sm['order_id']==36].copy()\n",
    "sample_order['product_name'] = sample_order['product_id'].map(product_dict_inv)\n",
    "sample_order"
   ]
  },
  {
   "cell_type": "code",
   "execution_count": 105,
   "metadata": {},
   "outputs": [
    {
     "data": {
      "text/plain": [
       "[39612, 19660, 49235, 43086, 46620, 34497, 48679, 46979]"
      ]
     },
     "execution_count": 105,
     "metadata": {},
     "output_type": "execute_result"
    }
   ],
   "source": [
    "sample_order_list = sample_order['product_id'].tolist()\n",
    "sample_order_list"
   ]
  },
  {
   "cell_type": "code",
   "execution_count": 125,
   "metadata": {},
   "outputs": [
    {
     "data": {
      "text/html": [
       "<div>\n",
       "<style scoped>\n",
       "    .dataframe tbody tr th:only-of-type {\n",
       "        vertical-align: middle;\n",
       "    }\n",
       "\n",
       "    .dataframe tbody tr th {\n",
       "        vertical-align: top;\n",
       "    }\n",
       "\n",
       "    .dataframe thead th {\n",
       "        text-align: right;\n",
       "    }\n",
       "</style>\n",
       "<table border=\"1\" class=\"dataframe\">\n",
       "  <thead>\n",
       "    <tr style=\"text-align: right;\">\n",
       "      <th></th>\n",
       "      <th>product_id</th>\n",
       "      <th>count</th>\n",
       "      <th>product_name</th>\n",
       "    </tr>\n",
       "  </thead>\n",
       "  <tbody>\n",
       "    <tr>\n",
       "      <th>5</th>\n",
       "      <td>21137</td>\n",
       "      <td>3</td>\n",
       "      <td>Organic Strawberries</td>\n",
       "    </tr>\n",
       "    <tr>\n",
       "      <th>6</th>\n",
       "      <td>47766</td>\n",
       "      <td>2</td>\n",
       "      <td>Organic Avocado</td>\n",
       "    </tr>\n",
       "    <tr>\n",
       "      <th>7</th>\n",
       "      <td>2078</td>\n",
       "      <td>2</td>\n",
       "      <td>Unsalted Pure Irish Butter</td>\n",
       "    </tr>\n",
       "    <tr>\n",
       "      <th>8</th>\n",
       "      <td>22935</td>\n",
       "      <td>2</td>\n",
       "      <td>Organic Yellow Onion</td>\n",
       "    </tr>\n",
       "    <tr>\n",
       "      <th>9</th>\n",
       "      <td>47626</td>\n",
       "      <td>2</td>\n",
       "      <td>Large Lemon</td>\n",
       "    </tr>\n",
       "    <tr>\n",
       "      <th>10</th>\n",
       "      <td>21903</td>\n",
       "      <td>2</td>\n",
       "      <td>Organic Baby Spinach</td>\n",
       "    </tr>\n",
       "    <tr>\n",
       "      <th>11</th>\n",
       "      <td>45007</td>\n",
       "      <td>2</td>\n",
       "      <td>Organic Zucchini</td>\n",
       "    </tr>\n",
       "    <tr>\n",
       "      <th>12</th>\n",
       "      <td>14999</td>\n",
       "      <td>2</td>\n",
       "      <td>Grade A Large Brown Eggs</td>\n",
       "    </tr>\n",
       "    <tr>\n",
       "      <th>13</th>\n",
       "      <td>8424</td>\n",
       "      <td>2</td>\n",
       "      <td>Broccoli Crown</td>\n",
       "    </tr>\n",
       "    <tr>\n",
       "      <th>14</th>\n",
       "      <td>47209</td>\n",
       "      <td>2</td>\n",
       "      <td>Organic Hass Avocado</td>\n",
       "    </tr>\n",
       "  </tbody>\n",
       "</table>\n",
       "</div>"
      ],
      "text/plain": [
       "    product_id  count                product_name\n",
       "5        21137      3        Organic Strawberries\n",
       "6        47766      2             Organic Avocado\n",
       "7         2078      2  Unsalted Pure Irish Butter\n",
       "8        22935      2        Organic Yellow Onion\n",
       "9        47626      2                 Large Lemon\n",
       "10       21903      2        Organic Baby Spinach\n",
       "11       45007      2            Organic Zucchini\n",
       "12       14999      2    Grade A Large Brown Eggs\n",
       "13        8424      2              Broccoli Crown\n",
       "14       47209      2        Organic Hass Avocado"
      ]
     },
     "execution_count": 125,
     "metadata": {},
     "output_type": "execute_result"
    }
   ],
   "source": [
    "matching_vals = pd.DataFrame(train_sm[train_sm['order_id'].isin(matched_baskets)]['product_id'].value_counts())\n",
    "matching_vals = matching_vals.reset_index()\n",
    "matching_vals.columns = ['product_id', 'count']\n",
    "matching_vals['product_name'] = matching_vals['product_id'].map(product_dict_inv)\n",
    "matching_vals[matching_vals['product_id'].isin(sample_order_list) == False][:10]"
   ]
  },
  {
   "cell_type": "markdown",
   "metadata": {},
   "source": [
    "### Another Sample"
   ]
  },
  {
   "cell_type": "code",
   "execution_count": 135,
   "metadata": {},
   "outputs": [],
   "source": [
    "matched_baskets2 = find_similar_baskets(order_sim_matrix[10])"
   ]
  },
  {
   "cell_type": "code",
   "execution_count": 136,
   "metadata": {},
   "outputs": [
    {
     "data": {
      "text/html": [
       "<div>\n",
       "<style scoped>\n",
       "    .dataframe tbody tr th:only-of-type {\n",
       "        vertical-align: middle;\n",
       "    }\n",
       "\n",
       "    .dataframe tbody tr th {\n",
       "        vertical-align: top;\n",
       "    }\n",
       "\n",
       "    .dataframe thead th {\n",
       "        text-align: right;\n",
       "    }\n",
       "</style>\n",
       "<table border=\"1\" class=\"dataframe\">\n",
       "  <thead>\n",
       "    <tr style=\"text-align: right;\">\n",
       "      <th></th>\n",
       "      <th>order_id</th>\n",
       "      <th>product_id</th>\n",
       "      <th>add_to_cart_order</th>\n",
       "      <th>reordered</th>\n",
       "      <th>product_name</th>\n",
       "    </tr>\n",
       "  </thead>\n",
       "  <tbody>\n",
       "    <tr>\n",
       "      <th>79</th>\n",
       "      <td>878</td>\n",
       "      <td>48070</td>\n",
       "      <td>1</td>\n",
       "      <td>1</td>\n",
       "      <td>Chocolate Mint Crisp Protein Bar</td>\n",
       "    </tr>\n",
       "    <tr>\n",
       "      <th>80</th>\n",
       "      <td>878</td>\n",
       "      <td>24852</td>\n",
       "      <td>2</td>\n",
       "      <td>1</td>\n",
       "      <td>Banana</td>\n",
       "    </tr>\n",
       "    <tr>\n",
       "      <th>81</th>\n",
       "      <td>878</td>\n",
       "      <td>23044</td>\n",
       "      <td>3</td>\n",
       "      <td>0</td>\n",
       "      <td>Cream Top Smooth &amp; Creamy Vanilla Yogurt</td>\n",
       "    </tr>\n",
       "    <tr>\n",
       "      <th>82</th>\n",
       "      <td>878</td>\n",
       "      <td>45066</td>\n",
       "      <td>4</td>\n",
       "      <td>1</td>\n",
       "      <td>Honeycrisp Apple</td>\n",
       "    </tr>\n",
       "    <tr>\n",
       "      <th>83</th>\n",
       "      <td>878</td>\n",
       "      <td>21903</td>\n",
       "      <td>5</td>\n",
       "      <td>1</td>\n",
       "      <td>Organic Baby Spinach</td>\n",
       "    </tr>\n",
       "    <tr>\n",
       "      <th>84</th>\n",
       "      <td>878</td>\n",
       "      <td>24964</td>\n",
       "      <td>6</td>\n",
       "      <td>0</td>\n",
       "      <td>Organic Garlic</td>\n",
       "    </tr>\n",
       "    <tr>\n",
       "      <th>85</th>\n",
       "      <td>878</td>\n",
       "      <td>47209</td>\n",
       "      <td>7</td>\n",
       "      <td>1</td>\n",
       "      <td>Organic Hass Avocado</td>\n",
       "    </tr>\n",
       "    <tr>\n",
       "      <th>86</th>\n",
       "      <td>878</td>\n",
       "      <td>40706</td>\n",
       "      <td>8</td>\n",
       "      <td>0</td>\n",
       "      <td>Organic Grape Tomatoes</td>\n",
       "    </tr>\n",
       "    <tr>\n",
       "      <th>87</th>\n",
       "      <td>878</td>\n",
       "      <td>21616</td>\n",
       "      <td>9</td>\n",
       "      <td>0</td>\n",
       "      <td>Organic Baby Arugula</td>\n",
       "    </tr>\n",
       "    <tr>\n",
       "      <th>88</th>\n",
       "      <td>878</td>\n",
       "      <td>10305</td>\n",
       "      <td>10</td>\n",
       "      <td>0</td>\n",
       "      <td>Black Plum</td>\n",
       "    </tr>\n",
       "    <tr>\n",
       "      <th>89</th>\n",
       "      <td>878</td>\n",
       "      <td>21137</td>\n",
       "      <td>11</td>\n",
       "      <td>1</td>\n",
       "      <td>Organic Strawberries</td>\n",
       "    </tr>\n",
       "    <tr>\n",
       "      <th>90</th>\n",
       "      <td>878</td>\n",
       "      <td>9076</td>\n",
       "      <td>12</td>\n",
       "      <td>0</td>\n",
       "      <td>Blueberries</td>\n",
       "    </tr>\n",
       "    <tr>\n",
       "      <th>91</th>\n",
       "      <td>878</td>\n",
       "      <td>27104</td>\n",
       "      <td>13</td>\n",
       "      <td>1</td>\n",
       "      <td>Fresh Cauliflower</td>\n",
       "    </tr>\n",
       "    <tr>\n",
       "      <th>92</th>\n",
       "      <td>878</td>\n",
       "      <td>48679</td>\n",
       "      <td>14</td>\n",
       "      <td>0</td>\n",
       "      <td>Organic Garnet Sweet Potato (Yam)</td>\n",
       "    </tr>\n",
       "    <tr>\n",
       "      <th>93</th>\n",
       "      <td>878</td>\n",
       "      <td>10749</td>\n",
       "      <td>15</td>\n",
       "      <td>1</td>\n",
       "      <td>Organic Red Bell Pepper</td>\n",
       "    </tr>\n",
       "    <tr>\n",
       "      <th>94</th>\n",
       "      <td>878</td>\n",
       "      <td>31717</td>\n",
       "      <td>16</td>\n",
       "      <td>1</td>\n",
       "      <td>Organic Cilantro</td>\n",
       "    </tr>\n",
       "    <tr>\n",
       "      <th>95</th>\n",
       "      <td>878</td>\n",
       "      <td>30720</td>\n",
       "      <td>17</td>\n",
       "      <td>1</td>\n",
       "      <td>Sugar Snap Peas</td>\n",
       "    </tr>\n",
       "    <tr>\n",
       "      <th>96</th>\n",
       "      <td>878</td>\n",
       "      <td>16759</td>\n",
       "      <td>18</td>\n",
       "      <td>0</td>\n",
       "      <td>Organic Carrot Bunch</td>\n",
       "    </tr>\n",
       "    <tr>\n",
       "      <th>97</th>\n",
       "      <td>878</td>\n",
       "      <td>5876</td>\n",
       "      <td>19</td>\n",
       "      <td>0</td>\n",
       "      <td>Organic Lemon</td>\n",
       "    </tr>\n",
       "    <tr>\n",
       "      <th>98</th>\n",
       "      <td>878</td>\n",
       "      <td>8193</td>\n",
       "      <td>20</td>\n",
       "      <td>0</td>\n",
       "      <td>Russet Potato</td>\n",
       "    </tr>\n",
       "    <tr>\n",
       "      <th>99</th>\n",
       "      <td>878</td>\n",
       "      <td>43789</td>\n",
       "      <td>21</td>\n",
       "      <td>0</td>\n",
       "      <td>Organic Basil</td>\n",
       "    </tr>\n",
       "    <tr>\n",
       "      <th>100</th>\n",
       "      <td>878</td>\n",
       "      <td>26209</td>\n",
       "      <td>22</td>\n",
       "      <td>0</td>\n",
       "      <td>Limes</td>\n",
       "    </tr>\n",
       "    <tr>\n",
       "      <th>101</th>\n",
       "      <td>878</td>\n",
       "      <td>11262</td>\n",
       "      <td>23</td>\n",
       "      <td>0</td>\n",
       "      <td>Extra Thick Whole Grain Rolled Oats</td>\n",
       "    </tr>\n",
       "    <tr>\n",
       "      <th>102</th>\n",
       "      <td>878</td>\n",
       "      <td>17652</td>\n",
       "      <td>24</td>\n",
       "      <td>0</td>\n",
       "      <td>Air Chilled Breaded Chicken Breast Nuggets</td>\n",
       "    </tr>\n",
       "    <tr>\n",
       "      <th>103</th>\n",
       "      <td>878</td>\n",
       "      <td>34913</td>\n",
       "      <td>25</td>\n",
       "      <td>0</td>\n",
       "      <td>Ground Beef 85% Lean</td>\n",
       "    </tr>\n",
       "    <tr>\n",
       "      <th>104</th>\n",
       "      <td>878</td>\n",
       "      <td>47156</td>\n",
       "      <td>26</td>\n",
       "      <td>0</td>\n",
       "      <td>Coconut Almond Unsweetened Creamer Blend</td>\n",
       "    </tr>\n",
       "    <tr>\n",
       "      <th>105</th>\n",
       "      <td>878</td>\n",
       "      <td>40174</td>\n",
       "      <td>27</td>\n",
       "      <td>0</td>\n",
       "      <td>2% Reduced Fat Organic Milk</td>\n",
       "    </tr>\n",
       "    <tr>\n",
       "      <th>106</th>\n",
       "      <td>878</td>\n",
       "      <td>31343</td>\n",
       "      <td>28</td>\n",
       "      <td>0</td>\n",
       "      <td>Shredded Mild Cheddar Cheese</td>\n",
       "    </tr>\n",
       "  </tbody>\n",
       "</table>\n",
       "</div>"
      ],
      "text/plain": [
       "     order_id  product_id  add_to_cart_order  reordered  \\\n",
       "79        878       48070                  1          1   \n",
       "80        878       24852                  2          1   \n",
       "81        878       23044                  3          0   \n",
       "82        878       45066                  4          1   \n",
       "83        878       21903                  5          1   \n",
       "84        878       24964                  6          0   \n",
       "85        878       47209                  7          1   \n",
       "86        878       40706                  8          0   \n",
       "87        878       21616                  9          0   \n",
       "88        878       10305                 10          0   \n",
       "89        878       21137                 11          1   \n",
       "90        878        9076                 12          0   \n",
       "91        878       27104                 13          1   \n",
       "92        878       48679                 14          0   \n",
       "93        878       10749                 15          1   \n",
       "94        878       31717                 16          1   \n",
       "95        878       30720                 17          1   \n",
       "96        878       16759                 18          0   \n",
       "97        878        5876                 19          0   \n",
       "98        878        8193                 20          0   \n",
       "99        878       43789                 21          0   \n",
       "100       878       26209                 22          0   \n",
       "101       878       11262                 23          0   \n",
       "102       878       17652                 24          0   \n",
       "103       878       34913                 25          0   \n",
       "104       878       47156                 26          0   \n",
       "105       878       40174                 27          0   \n",
       "106       878       31343                 28          0   \n",
       "\n",
       "                                   product_name  \n",
       "79             Chocolate Mint Crisp Protein Bar  \n",
       "80                                       Banana  \n",
       "81     Cream Top Smooth & Creamy Vanilla Yogurt  \n",
       "82                             Honeycrisp Apple  \n",
       "83                         Organic Baby Spinach  \n",
       "84                               Organic Garlic  \n",
       "85                         Organic Hass Avocado  \n",
       "86                       Organic Grape Tomatoes  \n",
       "87                         Organic Baby Arugula  \n",
       "88                                   Black Plum  \n",
       "89                         Organic Strawberries  \n",
       "90                                  Blueberries  \n",
       "91                            Fresh Cauliflower  \n",
       "92            Organic Garnet Sweet Potato (Yam)  \n",
       "93                      Organic Red Bell Pepper  \n",
       "94                             Organic Cilantro  \n",
       "95                              Sugar Snap Peas  \n",
       "96                         Organic Carrot Bunch  \n",
       "97                                Organic Lemon  \n",
       "98                                Russet Potato  \n",
       "99                                Organic Basil  \n",
       "100                                       Limes  \n",
       "101         Extra Thick Whole Grain Rolled Oats  \n",
       "102  Air Chilled Breaded Chicken Breast Nuggets  \n",
       "103                        Ground Beef 85% Lean  \n",
       "104    Coconut Almond Unsweetened Creamer Blend  \n",
       "105                 2% Reduced Fat Organic Milk  \n",
       "106                Shredded Mild Cheddar Cheese  "
      ]
     },
     "execution_count": 136,
     "metadata": {},
     "output_type": "execute_result"
    }
   ],
   "source": [
    "sample_order2 = train_sm[train_sm['order_id']==878].copy()\n",
    "sample_order2['product_name'] = sample_order2['product_id'].map(product_dict_inv)\n",
    "sample_order2"
   ]
  },
  {
   "cell_type": "code",
   "execution_count": 137,
   "metadata": {},
   "outputs": [],
   "source": [
    "sample_order_list2 = sample_order2['product_id'].tolist()\n",
    "# sample_order_list2"
   ]
  },
  {
   "cell_type": "code",
   "execution_count": 140,
   "metadata": {},
   "outputs": [
    {
     "data": {
      "text/html": [
       "<div>\n",
       "<style scoped>\n",
       "    .dataframe tbody tr th:only-of-type {\n",
       "        vertical-align: middle;\n",
       "    }\n",
       "\n",
       "    .dataframe tbody tr th {\n",
       "        vertical-align: top;\n",
       "    }\n",
       "\n",
       "    .dataframe thead th {\n",
       "        text-align: right;\n",
       "    }\n",
       "</style>\n",
       "<table border=\"1\" class=\"dataframe\">\n",
       "  <thead>\n",
       "    <tr style=\"text-align: right;\">\n",
       "      <th></th>\n",
       "      <th>product_id</th>\n",
       "      <th>count</th>\n",
       "      <th>product_name</th>\n",
       "    </tr>\n",
       "  </thead>\n",
       "  <tbody>\n",
       "    <tr>\n",
       "      <th>0</th>\n",
       "      <td>196</td>\n",
       "      <td>72</td>\n",
       "      <td>Soda</td>\n",
       "    </tr>\n",
       "    <tr>\n",
       "      <th>1</th>\n",
       "      <td>43352</td>\n",
       "      <td>6</td>\n",
       "      <td>Raspberries</td>\n",
       "    </tr>\n",
       "    <tr>\n",
       "      <th>2</th>\n",
       "      <td>46149</td>\n",
       "      <td>4</td>\n",
       "      <td>Zero Calorie Cola</td>\n",
       "    </tr>\n",
       "    <tr>\n",
       "      <th>3</th>\n",
       "      <td>37710</td>\n",
       "      <td>4</td>\n",
       "      <td>Trail Mix</td>\n",
       "    </tr>\n",
       "    <tr>\n",
       "      <th>4</th>\n",
       "      <td>40939</td>\n",
       "      <td>4</td>\n",
       "      <td>Drinking Water</td>\n",
       "    </tr>\n",
       "    <tr>\n",
       "      <th>5</th>\n",
       "      <td>41400</td>\n",
       "      <td>4</td>\n",
       "      <td>Crunchy Oats 'n Honey Granola Bars</td>\n",
       "    </tr>\n",
       "    <tr>\n",
       "      <th>6</th>\n",
       "      <td>13966</td>\n",
       "      <td>3</td>\n",
       "      <td>Chicken Pot Pie</td>\n",
       "    </tr>\n",
       "    <tr>\n",
       "      <th>7</th>\n",
       "      <td>22395</td>\n",
       "      <td>3</td>\n",
       "      <td>Tomato Sauce</td>\n",
       "    </tr>\n",
       "    <tr>\n",
       "      <th>8</th>\n",
       "      <td>29529</td>\n",
       "      <td>3</td>\n",
       "      <td>Lemon-Lime Soda</td>\n",
       "    </tr>\n",
       "    <tr>\n",
       "      <th>9</th>\n",
       "      <td>6184</td>\n",
       "      <td>3</td>\n",
       "      <td>Clementines</td>\n",
       "    </tr>\n",
       "  </tbody>\n",
       "</table>\n",
       "</div>"
      ],
      "text/plain": [
       "   product_id  count                        product_name\n",
       "0         196     72                                Soda\n",
       "1       43352      6                         Raspberries\n",
       "2       46149      4                   Zero Calorie Cola\n",
       "3       37710      4                           Trail Mix\n",
       "4       40939      4                      Drinking Water\n",
       "5       41400      4  Crunchy Oats 'n Honey Granola Bars\n",
       "6       13966      3                     Chicken Pot Pie\n",
       "7       22395      3                        Tomato Sauce\n",
       "8       29529      3                     Lemon-Lime Soda\n",
       "9        6184      3                         Clementines"
      ]
     },
     "execution_count": 140,
     "metadata": {},
     "output_type": "execute_result"
    }
   ],
   "source": [
    "matching_vals2 = pd.DataFrame(train_sm[train_sm['order_id'].isin(matched_baskets2)]['product_id'].value_counts())\n",
    "matching_vals2 = matching_vals2.reset_index()\n",
    "matching_vals2.columns = ['product_id', 'count']\n",
    "matching_vals2['product_name'] = matching_vals2['product_id'].map(product_dict_inv)\n",
    "matching_vals2[matching_vals2['product_id'].isin(sample_order_list2) == False][:10]\n",
    "# matching_vals2"
   ]
  },
  {
   "cell_type": "code",
   "execution_count": null,
   "metadata": {},
   "outputs": [],
   "source": []
  },
  {
   "cell_type": "code",
   "execution_count": null,
   "metadata": {},
   "outputs": [],
   "source": []
  },
  {
   "cell_type": "code",
   "execution_count": null,
   "metadata": {},
   "outputs": [],
   "source": []
  },
  {
   "cell_type": "markdown",
   "metadata": {},
   "source": [
    "# Old Code --- Ignore"
   ]
  },
  {
   "cell_type": "code",
   "execution_count": 218,
   "metadata": {},
   "outputs": [],
   "source": [
    "sample_matrix = cosine_similarity(productPivot)[0]"
   ]
  },
  {
   "cell_type": "code",
   "execution_count": 239,
   "metadata": {},
   "outputs": [
    {
     "data": {
      "text/plain": [
       "array([1., 0., 0., ..., 0., 0., 0.])"
      ]
     },
     "execution_count": 239,
     "metadata": {},
     "output_type": "execute_result"
    }
   ],
   "source": [
    "sample_matrix"
   ]
  },
  {
   "cell_type": "code",
   "execution_count": 270,
   "metadata": {},
   "outputs": [],
   "source": [
    "match_list = []\n",
    "\n",
    "for i in range(len(sample_matrix)):\n",
    "    if sample_matrix[i] > 0.3:\n",
    "        match_list.append(i)\n",
    "        \n",
    "# match_list.pop(0)"
   ]
  },
  {
   "cell_type": "code",
   "execution_count": 271,
   "metadata": {},
   "outputs": [
    {
     "data": {
      "text/plain": [
       "[0, 436, 1709, 1766, 2024, 2052, 2787, 2865, 3056, 3334]"
      ]
     },
     "execution_count": 271,
     "metadata": {},
     "output_type": "execute_result"
    }
   ],
   "source": [
    "match_list[:10]"
   ]
  },
  {
   "cell_type": "code",
   "execution_count": 282,
   "metadata": {},
   "outputs": [
    {
     "data": {
      "text/plain": [
       "36"
      ]
     },
     "execution_count": 282,
     "metadata": {},
     "output_type": "execute_result"
    }
   ],
   "source": [
    "order_match_list = productPivot[productPivot.reset_index().index.isin(match_list)].index.values.tolist()\n",
    "order_match_list.pop(0)"
   ]
  },
  {
   "cell_type": "code",
   "execution_count": 283,
   "metadata": {},
   "outputs": [
    {
     "data": {
      "text/plain": [
       "[15462,\n",
       " 59410,\n",
       " 61237,\n",
       " 70422,\n",
       " 71360,\n",
       " 97360,\n",
       " 99543,\n",
       " 107203,\n",
       " 116215,\n",
       " 124424,\n",
       " 127086,\n",
       " 129823,\n",
       " 132320,\n",
       " 144837,\n",
       " 150605,\n",
       " 150721,\n",
       " 153794,\n",
       " 158030,\n",
       " 294266,\n",
       " 303380]"
      ]
     },
     "execution_count": 283,
     "metadata": {},
     "output_type": "execute_result"
    }
   ],
   "source": [
    "order_match_list"
   ]
  },
  {
   "cell_type": "code",
   "execution_count": 265,
   "metadata": {},
   "outputs": [
    {
     "data": {
      "text/plain": [
       "19660    13\n",
       "49235     6\n",
       "46979     2\n",
       "30557     1\n",
       "19354     1\n",
       "49401     1\n",
       "21137     1\n",
       "27086     1\n",
       "48679     1\n",
       "31717     1\n",
       "44449     1\n",
       "Name: product_id, dtype: int64"
      ]
     },
     "execution_count": 265,
     "metadata": {},
     "output_type": "execute_result"
    }
   ],
   "source": [
    "train_sm[train_sm['order_id'].isin(order_match_list)]['product_id'].value_counts()"
   ]
  },
  {
   "cell_type": "code",
   "execution_count": 278,
   "metadata": {},
   "outputs": [
    {
     "data": {
      "text/html": [
       "<div>\n",
       "<style scoped>\n",
       "    .dataframe tbody tr th:only-of-type {\n",
       "        vertical-align: middle;\n",
       "    }\n",
       "\n",
       "    .dataframe tbody tr th {\n",
       "        vertical-align: top;\n",
       "    }\n",
       "\n",
       "    .dataframe thead th {\n",
       "        text-align: right;\n",
       "    }\n",
       "</style>\n",
       "<table border=\"1\" class=\"dataframe\">\n",
       "  <thead>\n",
       "    <tr style=\"text-align: right;\">\n",
       "      <th></th>\n",
       "      <th>order_id</th>\n",
       "      <th>product_id</th>\n",
       "      <th>add_to_cart_order</th>\n",
       "      <th>reordered</th>\n",
       "      <th>product_name</th>\n",
       "    </tr>\n",
       "  </thead>\n",
       "  <tbody>\n",
       "    <tr>\n",
       "      <th>0</th>\n",
       "      <td>36</td>\n",
       "      <td>39612</td>\n",
       "      <td>1</td>\n",
       "      <td>0</td>\n",
       "      <td>Grated Pecorino Romano Cheese</td>\n",
       "    </tr>\n",
       "    <tr>\n",
       "      <th>1</th>\n",
       "      <td>36</td>\n",
       "      <td>19660</td>\n",
       "      <td>2</td>\n",
       "      <td>1</td>\n",
       "      <td>Spring Water</td>\n",
       "    </tr>\n",
       "    <tr>\n",
       "      <th>2</th>\n",
       "      <td>36</td>\n",
       "      <td>49235</td>\n",
       "      <td>3</td>\n",
       "      <td>0</td>\n",
       "      <td>Organic Half &amp; Half</td>\n",
       "    </tr>\n",
       "    <tr>\n",
       "      <th>3</th>\n",
       "      <td>36</td>\n",
       "      <td>43086</td>\n",
       "      <td>4</td>\n",
       "      <td>1</td>\n",
       "      <td>Super Greens Salad</td>\n",
       "    </tr>\n",
       "    <tr>\n",
       "      <th>4</th>\n",
       "      <td>36</td>\n",
       "      <td>46620</td>\n",
       "      <td>5</td>\n",
       "      <td>1</td>\n",
       "      <td>Cage Free Extra Large Grade AA Eggs</td>\n",
       "    </tr>\n",
       "    <tr>\n",
       "      <th>5</th>\n",
       "      <td>36</td>\n",
       "      <td>34497</td>\n",
       "      <td>6</td>\n",
       "      <td>1</td>\n",
       "      <td>Prosciutto, Americano</td>\n",
       "    </tr>\n",
       "    <tr>\n",
       "      <th>6</th>\n",
       "      <td>36</td>\n",
       "      <td>48679</td>\n",
       "      <td>7</td>\n",
       "      <td>1</td>\n",
       "      <td>Organic Garnet Sweet Potato (Yam)</td>\n",
       "    </tr>\n",
       "    <tr>\n",
       "      <th>7</th>\n",
       "      <td>36</td>\n",
       "      <td>46979</td>\n",
       "      <td>8</td>\n",
       "      <td>1</td>\n",
       "      <td>Asparagus</td>\n",
       "    </tr>\n",
       "  </tbody>\n",
       "</table>\n",
       "</div>"
      ],
      "text/plain": [
       "   order_id  product_id  add_to_cart_order  reordered  \\\n",
       "0        36       39612                  1          0   \n",
       "1        36       19660                  2          1   \n",
       "2        36       49235                  3          0   \n",
       "3        36       43086                  4          1   \n",
       "4        36       46620                  5          1   \n",
       "5        36       34497                  6          1   \n",
       "6        36       48679                  7          1   \n",
       "7        36       46979                  8          1   \n",
       "\n",
       "                          product_name  \n",
       "0        Grated Pecorino Romano Cheese  \n",
       "1                         Spring Water  \n",
       "2                  Organic Half & Half  \n",
       "3                   Super Greens Salad  \n",
       "4  Cage Free Extra Large Grade AA Eggs  \n",
       "5                Prosciutto, Americano  \n",
       "6    Organic Garnet Sweet Potato (Yam)  \n",
       "7                            Asparagus  "
      ]
     },
     "execution_count": 278,
     "metadata": {},
     "output_type": "execute_result"
    }
   ],
   "source": [
    "sample_order = train_sm[train_sm['order_id']==36].copy()\n",
    "sample_order['product_name'] = sample_order['product_id'].map(product_dict_inv)\n",
    "sample_order"
   ]
  },
  {
   "cell_type": "code",
   "execution_count": 284,
   "metadata": {},
   "outputs": [
    {
     "data": {
      "text/html": [
       "<div>\n",
       "<style scoped>\n",
       "    .dataframe tbody tr th:only-of-type {\n",
       "        vertical-align: middle;\n",
       "    }\n",
       "\n",
       "    .dataframe tbody tr th {\n",
       "        vertical-align: top;\n",
       "    }\n",
       "\n",
       "    .dataframe thead th {\n",
       "        text-align: right;\n",
       "    }\n",
       "</style>\n",
       "<table border=\"1\" class=\"dataframe\">\n",
       "  <thead>\n",
       "    <tr style=\"text-align: right;\">\n",
       "      <th></th>\n",
       "      <th>index</th>\n",
       "      <th>count</th>\n",
       "      <th>product_name</th>\n",
       "    </tr>\n",
       "  </thead>\n",
       "  <tbody>\n",
       "    <tr>\n",
       "      <th>0</th>\n",
       "      <td>19660</td>\n",
       "      <td>13</td>\n",
       "      <td>Spring Water</td>\n",
       "    </tr>\n",
       "    <tr>\n",
       "      <th>1</th>\n",
       "      <td>49235</td>\n",
       "      <td>6</td>\n",
       "      <td>Organic Half &amp; Half</td>\n",
       "    </tr>\n",
       "    <tr>\n",
       "      <th>2</th>\n",
       "      <td>46979</td>\n",
       "      <td>2</td>\n",
       "      <td>Asparagus</td>\n",
       "    </tr>\n",
       "    <tr>\n",
       "      <th>3</th>\n",
       "      <td>30557</td>\n",
       "      <td>1</td>\n",
       "      <td>Manzano Banana</td>\n",
       "    </tr>\n",
       "    <tr>\n",
       "      <th>4</th>\n",
       "      <td>19354</td>\n",
       "      <td>1</td>\n",
       "      <td>Yo Baby Organic Vanilla Yogurt</td>\n",
       "    </tr>\n",
       "    <tr>\n",
       "      <th>5</th>\n",
       "      <td>49401</td>\n",
       "      <td>1</td>\n",
       "      <td>Chicken Base, Organic</td>\n",
       "    </tr>\n",
       "    <tr>\n",
       "      <th>6</th>\n",
       "      <td>21137</td>\n",
       "      <td>1</td>\n",
       "      <td>Organic Strawberries</td>\n",
       "    </tr>\n",
       "    <tr>\n",
       "      <th>7</th>\n",
       "      <td>27086</td>\n",
       "      <td>1</td>\n",
       "      <td>Half &amp; Half</td>\n",
       "    </tr>\n",
       "    <tr>\n",
       "      <th>8</th>\n",
       "      <td>48679</td>\n",
       "      <td>1</td>\n",
       "      <td>Organic Garnet Sweet Potato (Yam)</td>\n",
       "    </tr>\n",
       "    <tr>\n",
       "      <th>9</th>\n",
       "      <td>31717</td>\n",
       "      <td>1</td>\n",
       "      <td>Organic Cilantro</td>\n",
       "    </tr>\n",
       "    <tr>\n",
       "      <th>10</th>\n",
       "      <td>44449</td>\n",
       "      <td>1</td>\n",
       "      <td>Organic Tomato Sauce</td>\n",
       "    </tr>\n",
       "  </tbody>\n",
       "</table>\n",
       "</div>"
      ],
      "text/plain": [
       "    index  count                       product_name\n",
       "0   19660     13                       Spring Water\n",
       "1   49235      6                Organic Half & Half\n",
       "2   46979      2                          Asparagus\n",
       "3   30557      1                     Manzano Banana\n",
       "4   19354      1     Yo Baby Organic Vanilla Yogurt\n",
       "5   49401      1              Chicken Base, Organic\n",
       "6   21137      1               Organic Strawberries\n",
       "7   27086      1                        Half & Half\n",
       "8   48679      1  Organic Garnet Sweet Potato (Yam)\n",
       "9   31717      1                   Organic Cilantro\n",
       "10  44449      1               Organic Tomato Sauce"
      ]
     },
     "execution_count": 284,
     "metadata": {},
     "output_type": "execute_result"
    }
   ],
   "source": [
    "matching_vals = pd.DataFrame(train_sm[train_sm['order_id'].isin(order_match_list)]['product_id'].value_counts())\n",
    "matching_vals = matching_vals.reset_index()\n",
    "matching_vals.columns = ['index', 'count']\n",
    "matching_vals['product_name'] = matching_vals['index'].map(product_dict_inv)\n",
    "matching_vals"
   ]
  },
  {
   "cell_type": "code",
   "execution_count": 208,
   "metadata": {},
   "outputs": [
    {
     "data": {
      "text/plain": [
       "0.35355339059327373"
      ]
     },
     "execution_count": 208,
     "metadata": {},
     "output_type": "execute_result"
    }
   ],
   "source": [
    "cosine_similarity(productPivot[:500])[0][436]"
   ]
  },
  {
   "cell_type": "code",
   "execution_count": 205,
   "metadata": {},
   "outputs": [
    {
     "data": {
      "text/plain": [
       "500"
      ]
     },
     "execution_count": 205,
     "metadata": {},
     "output_type": "execute_result"
    }
   ],
   "source": [
    "len(cosine_similarity(productPivot[:500])[0])"
   ]
  },
  {
   "cell_type": "code",
   "execution_count": 194,
   "metadata": {},
   "outputs": [
    {
     "data": {
      "text/html": [
       "<div>\n",
       "<style scoped>\n",
       "    .dataframe tbody tr th:only-of-type {\n",
       "        vertical-align: middle;\n",
       "    }\n",
       "\n",
       "    .dataframe tbody tr th {\n",
       "        vertical-align: top;\n",
       "    }\n",
       "\n",
       "    .dataframe thead th {\n",
       "        text-align: right;\n",
       "    }\n",
       "</style>\n",
       "<table border=\"1\" class=\"dataframe\">\n",
       "  <thead>\n",
       "    <tr style=\"text-align: right;\">\n",
       "      <th>product_id</th>\n",
       "      <th>1</th>\n",
       "      <th>3</th>\n",
       "      <th>4</th>\n",
       "      <th>9</th>\n",
       "      <th>10</th>\n",
       "      <th>23</th>\n",
       "      <th>25</th>\n",
       "      <th>28</th>\n",
       "      <th>29</th>\n",
       "      <th>30</th>\n",
       "      <th>...</th>\n",
       "      <th>49644</th>\n",
       "      <th>49652</th>\n",
       "      <th>49653</th>\n",
       "      <th>49667</th>\n",
       "      <th>49668</th>\n",
       "      <th>49670</th>\n",
       "      <th>49678</th>\n",
       "      <th>49680</th>\n",
       "      <th>49683</th>\n",
       "      <th>49686</th>\n",
       "    </tr>\n",
       "    <tr>\n",
       "      <th>order_id</th>\n",
       "      <th></th>\n",
       "      <th></th>\n",
       "      <th></th>\n",
       "      <th></th>\n",
       "      <th></th>\n",
       "      <th></th>\n",
       "      <th></th>\n",
       "      <th></th>\n",
       "      <th></th>\n",
       "      <th></th>\n",
       "      <th></th>\n",
       "      <th></th>\n",
       "      <th></th>\n",
       "      <th></th>\n",
       "      <th></th>\n",
       "      <th></th>\n",
       "      <th></th>\n",
       "      <th></th>\n",
       "      <th></th>\n",
       "      <th></th>\n",
       "      <th></th>\n",
       "    </tr>\n",
       "  </thead>\n",
       "  <tbody>\n",
       "    <tr>\n",
       "      <th>1275</th>\n",
       "      <td>0.0</td>\n",
       "      <td>0.0</td>\n",
       "      <td>0.0</td>\n",
       "      <td>0.0</td>\n",
       "      <td>0.0</td>\n",
       "      <td>0.0</td>\n",
       "      <td>0.0</td>\n",
       "      <td>0.0</td>\n",
       "      <td>0.0</td>\n",
       "      <td>0.0</td>\n",
       "      <td>...</td>\n",
       "      <td>0.0</td>\n",
       "      <td>0.0</td>\n",
       "      <td>0.0</td>\n",
       "      <td>0.0</td>\n",
       "      <td>0.0</td>\n",
       "      <td>0.0</td>\n",
       "      <td>0.0</td>\n",
       "      <td>0.0</td>\n",
       "      <td>0.0</td>\n",
       "      <td>0.0</td>\n",
       "    </tr>\n",
       "  </tbody>\n",
       "</table>\n",
       "<p>1 rows × 16635 columns</p>\n",
       "</div>"
      ],
      "text/plain": [
       "product_id  1      3      4      9      10     23     25     28     29     \\\n",
       "order_id                                                                    \n",
       "1275          0.0    0.0    0.0    0.0    0.0    0.0    0.0    0.0    0.0   \n",
       "\n",
       "product_id  30     ...    49644  49652  49653  49667  49668  49670  49678  \\\n",
       "order_id           ...                                                      \n",
       "1275          0.0  ...      0.0    0.0    0.0    0.0    0.0    0.0    0.0   \n",
       "\n",
       "product_id  49680  49683  49686  \n",
       "order_id                         \n",
       "1275          0.0    0.0    0.0  \n",
       "\n",
       "[1 rows x 16635 columns]"
      ]
     },
     "execution_count": 194,
     "metadata": {},
     "output_type": "execute_result"
    }
   ],
   "source": [
    "productPivot[22:23]"
   ]
  },
  {
   "cell_type": "code",
   "execution_count": 197,
   "metadata": {},
   "outputs": [
    {
     "data": {
      "text/html": [
       "<div>\n",
       "<style scoped>\n",
       "    .dataframe tbody tr th:only-of-type {\n",
       "        vertical-align: middle;\n",
       "    }\n",
       "\n",
       "    .dataframe tbody tr th {\n",
       "        vertical-align: top;\n",
       "    }\n",
       "\n",
       "    .dataframe thead th {\n",
       "        text-align: right;\n",
       "    }\n",
       "</style>\n",
       "<table border=\"1\" class=\"dataframe\">\n",
       "  <thead>\n",
       "    <tr style=\"text-align: right;\">\n",
       "      <th>product_id</th>\n",
       "      <th>1</th>\n",
       "      <th>3</th>\n",
       "      <th>4</th>\n",
       "      <th>9</th>\n",
       "      <th>10</th>\n",
       "      <th>23</th>\n",
       "      <th>25</th>\n",
       "      <th>28</th>\n",
       "      <th>29</th>\n",
       "      <th>30</th>\n",
       "      <th>...</th>\n",
       "      <th>49644</th>\n",
       "      <th>49652</th>\n",
       "      <th>49653</th>\n",
       "      <th>49667</th>\n",
       "      <th>49668</th>\n",
       "      <th>49670</th>\n",
       "      <th>49678</th>\n",
       "      <th>49680</th>\n",
       "      <th>49683</th>\n",
       "      <th>49686</th>\n",
       "    </tr>\n",
       "    <tr>\n",
       "      <th>order_id</th>\n",
       "      <th></th>\n",
       "      <th></th>\n",
       "      <th></th>\n",
       "      <th></th>\n",
       "      <th></th>\n",
       "      <th></th>\n",
       "      <th></th>\n",
       "      <th></th>\n",
       "      <th></th>\n",
       "      <th></th>\n",
       "      <th></th>\n",
       "      <th></th>\n",
       "      <th></th>\n",
       "      <th></th>\n",
       "      <th></th>\n",
       "      <th></th>\n",
       "      <th></th>\n",
       "      <th></th>\n",
       "      <th></th>\n",
       "      <th></th>\n",
       "      <th></th>\n",
       "    </tr>\n",
       "  </thead>\n",
       "  <tbody>\n",
       "    <tr>\n",
       "      <th>15462</th>\n",
       "      <td>0.0</td>\n",
       "      <td>0.0</td>\n",
       "      <td>0.0</td>\n",
       "      <td>0.0</td>\n",
       "      <td>0.0</td>\n",
       "      <td>0.0</td>\n",
       "      <td>0.0</td>\n",
       "      <td>0.0</td>\n",
       "      <td>0.0</td>\n",
       "      <td>0.0</td>\n",
       "      <td>...</td>\n",
       "      <td>0.0</td>\n",
       "      <td>0.0</td>\n",
       "      <td>0.0</td>\n",
       "      <td>0.0</td>\n",
       "      <td>0.0</td>\n",
       "      <td>0.0</td>\n",
       "      <td>0.0</td>\n",
       "      <td>0.0</td>\n",
       "      <td>0.0</td>\n",
       "      <td>0.0</td>\n",
       "    </tr>\n",
       "  </tbody>\n",
       "</table>\n",
       "<p>1 rows × 16635 columns</p>\n",
       "</div>"
      ],
      "text/plain": [
       "product_id  1      3      4      9      10     23     25     28     29     \\\n",
       "order_id                                                                    \n",
       "15462         0.0    0.0    0.0    0.0    0.0    0.0    0.0    0.0    0.0   \n",
       "\n",
       "product_id  30     ...    49644  49652  49653  49667  49668  49670  49678  \\\n",
       "order_id           ...                                                      \n",
       "15462         0.0  ...      0.0    0.0    0.0    0.0    0.0    0.0    0.0   \n",
       "\n",
       "product_id  49680  49683  49686  \n",
       "order_id                         \n",
       "15462         0.0    0.0    0.0  \n",
       "\n",
       "[1 rows x 16635 columns]"
      ]
     },
     "execution_count": 197,
     "metadata": {},
     "output_type": "execute_result"
    }
   ],
   "source": [
    "productPivot[436:437]"
   ]
  },
  {
   "cell_type": "code",
   "execution_count": 195,
   "metadata": {},
   "outputs": [
    {
     "data": {
      "text/plain": [
       "product_id\n",
       "5450     1.0\n",
       "6046     1.0\n",
       "18761    1.0\n",
       "31506    1.0\n",
       "48679    1.0\n",
       "Name: 1275, dtype: float64"
      ]
     },
     "execution_count": 195,
     "metadata": {},
     "output_type": "execute_result"
    }
   ],
   "source": [
    "productPivot.loc[1275][productPivot.loc[1275] == 1]"
   ]
  },
  {
   "cell_type": "code",
   "execution_count": 198,
   "metadata": {},
   "outputs": [
    {
     "data": {
      "text/plain": [
       "product_id\n",
       "19660    1.0\n",
       "Name: 15462, dtype: float64"
      ]
     },
     "execution_count": 198,
     "metadata": {},
     "output_type": "execute_result"
    }
   ],
   "source": [
    "productPivot.loc[15462][productPivot.loc[15462] == 1]"
   ]
  },
  {
   "cell_type": "code",
   "execution_count": null,
   "metadata": {},
   "outputs": [],
   "source": []
  },
  {
   "cell_type": "code",
   "execution_count": 48,
   "metadata": {},
   "outputs": [
    {
     "data": {
      "text/plain": [
       "order_id\n",
       "36      0.0\n",
       "38      0.0\n",
       "170     0.0\n",
       "226     0.0\n",
       "349     0.0\n",
       "456     0.0\n",
       "719     0.0\n",
       "762     0.0\n",
       "844     0.0\n",
       "878     1.0\n",
       "915     0.0\n",
       "988     0.0\n",
       "1001    0.0\n",
       "1032    0.0\n",
       "1042    0.0\n",
       "Name: 45066, dtype: float64"
      ]
     },
     "execution_count": 48,
     "metadata": {},
     "output_type": "execute_result"
    }
   ],
   "source": [
    "productPivot[45066].head(15)"
   ]
  },
  {
   "cell_type": "code",
   "execution_count": 49,
   "metadata": {},
   "outputs": [],
   "source": [
    "# bananas\n",
    "bananas = productPivot[24852]\n",
    "honeycrisp = productPivot[45066]"
   ]
  },
  {
   "cell_type": "code",
   "execution_count": 54,
   "metadata": {},
   "outputs": [
    {
     "data": {
      "text/plain": [
       "24852    1332\n",
       "13176    1151\n",
       "21137     801\n",
       "21903     724\n",
       "47626     604\n",
       "47766     553\n",
       "47209     523\n",
       "16797     466\n",
       "26209     407\n",
       "27966     383\n",
       "27845     374\n",
       "39275     351\n",
       "30391     347\n",
       "45007     320\n",
       "22935     303\n",
       "4920      295\n",
       "8518      291\n",
       "40706     291\n",
       "24964     285\n",
       "42265     284\n",
       "Name: product_id, dtype: int64"
      ]
     },
     "execution_count": 54,
     "metadata": {},
     "output_type": "execute_result"
    }
   ],
   "source": [
    "train_sm['product_id'].value_counts()[:20]"
   ]
  },
  {
   "cell_type": "code",
   "execution_count": 50,
   "metadata": {},
   "outputs": [
    {
     "data": {
      "text/plain": [
       "product_id\n",
       "1          9\n",
       "3          1\n",
       "4          1\n",
       "9          1\n",
       "10        14\n",
       "23         3\n",
       "25         4\n",
       "28         1\n",
       "29         1\n",
       "30         1\n",
       "32         2\n",
       "34        20\n",
       "36         2\n",
       "37         3\n",
       "40         1\n",
       "41         1\n",
       "43         1\n",
       "45        51\n",
       "47         3\n",
       "48         1\n",
       "49        13\n",
       "54         5\n",
       "55         1\n",
       "58         2\n",
       "62         1\n",
       "63         5\n",
       "70         2\n",
       "77         1\n",
       "79        10\n",
       "83         2\n",
       "        ... \n",
       "49593      1\n",
       "49597      1\n",
       "49600      2\n",
       "49602      1\n",
       "49604      1\n",
       "49605     24\n",
       "49608      5\n",
       "49609      3\n",
       "49610     27\n",
       "49611      1\n",
       "49615      5\n",
       "49618      2\n",
       "49621     11\n",
       "49622      1\n",
       "49628     16\n",
       "49633      1\n",
       "49636      1\n",
       "49637      3\n",
       "49638      1\n",
       "49640      1\n",
       "49644      2\n",
       "49652      2\n",
       "49653      1\n",
       "49667      7\n",
       "49668      2\n",
       "49670      1\n",
       "49678      1\n",
       "49680      3\n",
       "49683    181\n",
       "49686      1\n",
       "Length: 16635, dtype: int64"
      ]
     },
     "execution_count": 50,
     "metadata": {},
     "output_type": "execute_result"
    }
   ],
   "source": [
    "train_sm.groupby('product_id').size()"
   ]
  },
  {
   "cell_type": "code",
   "execution_count": 55,
   "metadata": {},
   "outputs": [],
   "source": [
    "# items similar to honeycrisp apples\n",
    "similarItems = productPivot.corrwith(honeycrisp)\n",
    "# similarItems\n",
    "# similarItems.shape\n",
    "similarItems = similarItems.dropna()\n",
    "similarItemsDF = pd.DataFrame(similarItems)\n",
    "similarItemsDF = pd.merge(similarItemsDF, products, on=\"product_id\", how=\"inner\")\n",
    "similarItemsDF.columns = ['product_id', 'corr', 'product_name', 'aisle_id', 'department_id']\n",
    "# similarItemsDF['count'] = df.groupby('product_id')['order'].size()\n",
    "# similarItemsDF['count'] = train_sm.groupby('product_id').size()"
   ]
  },
  {
   "cell_type": "code",
   "execution_count": 56,
   "metadata": {},
   "outputs": [
    {
     "data": {
      "text/html": [
       "<div>\n",
       "<style scoped>\n",
       "    .dataframe tbody tr th:only-of-type {\n",
       "        vertical-align: middle;\n",
       "    }\n",
       "\n",
       "    .dataframe tbody tr th {\n",
       "        vertical-align: top;\n",
       "    }\n",
       "\n",
       "    .dataframe thead th {\n",
       "        text-align: right;\n",
       "    }\n",
       "</style>\n",
       "<table border=\"1\" class=\"dataframe\">\n",
       "  <thead>\n",
       "    <tr style=\"text-align: right;\">\n",
       "      <th></th>\n",
       "      <th>product_id</th>\n",
       "      <th>corr</th>\n",
       "      <th>product_name</th>\n",
       "      <th>aisle_id</th>\n",
       "      <th>department_id</th>\n",
       "    </tr>\n",
       "  </thead>\n",
       "  <tbody>\n",
       "    <tr>\n",
       "      <th>30</th>\n",
       "      <td>93</td>\n",
       "      <td>-0.003601</td>\n",
       "      <td>Uncured Cracked Pepper Beef</td>\n",
       "      <td>23</td>\n",
       "      <td>19</td>\n",
       "    </tr>\n",
       "    <tr>\n",
       "      <th>31</th>\n",
       "      <td>95</td>\n",
       "      <td>-0.004411</td>\n",
       "      <td>Organic Rice Vinegar</td>\n",
       "      <td>66</td>\n",
       "      <td>6</td>\n",
       "    </tr>\n",
       "    <tr>\n",
       "      <th>32</th>\n",
       "      <td>99</td>\n",
       "      <td>-0.003119</td>\n",
       "      <td>Local Living Butter Lettuce</td>\n",
       "      <td>83</td>\n",
       "      <td>4</td>\n",
       "    </tr>\n",
       "    <tr>\n",
       "      <th>33</th>\n",
       "      <td>100</td>\n",
       "      <td>-0.001800</td>\n",
       "      <td>Peanut Butter &amp; Strawberry Jam Sandwich</td>\n",
       "      <td>38</td>\n",
       "      <td>1</td>\n",
       "    </tr>\n",
       "    <tr>\n",
       "      <th>34</th>\n",
       "      <td>106</td>\n",
       "      <td>-0.003601</td>\n",
       "      <td>Organic Yummy Tummy Maple &amp; Brown Sugar Instan...</td>\n",
       "      <td>92</td>\n",
       "      <td>18</td>\n",
       "    </tr>\n",
       "    <tr>\n",
       "      <th>35</th>\n",
       "      <td>113</td>\n",
       "      <td>-0.002546</td>\n",
       "      <td>Infant's Blend Probiotic</td>\n",
       "      <td>70</td>\n",
       "      <td>11</td>\n",
       "    </tr>\n",
       "    <tr>\n",
       "      <th>36</th>\n",
       "      <td>115</td>\n",
       "      <td>-0.002546</td>\n",
       "      <td>Scooby-Doo! Fruit Flavored Snacks</td>\n",
       "      <td>50</td>\n",
       "      <td>19</td>\n",
       "    </tr>\n",
       "    <tr>\n",
       "      <th>37</th>\n",
       "      <td>116</td>\n",
       "      <td>-0.004765</td>\n",
       "      <td>English Muffins</td>\n",
       "      <td>93</td>\n",
       "      <td>3</td>\n",
       "    </tr>\n",
       "    <tr>\n",
       "      <th>38</th>\n",
       "      <td>117</td>\n",
       "      <td>-0.006978</td>\n",
       "      <td>Petit Suisse Fruit</td>\n",
       "      <td>2</td>\n",
       "      <td>16</td>\n",
       "    </tr>\n",
       "    <tr>\n",
       "      <th>39</th>\n",
       "      <td>118</td>\n",
       "      <td>-0.001800</td>\n",
       "      <td>Ground Turkey Chub</td>\n",
       "      <td>34</td>\n",
       "      <td>1</td>\n",
       "    </tr>\n",
       "  </tbody>\n",
       "</table>\n",
       "</div>"
      ],
      "text/plain": [
       "    product_id      corr                                       product_name  \\\n",
       "30          93 -0.003601                        Uncured Cracked Pepper Beef   \n",
       "31          95 -0.004411                               Organic Rice Vinegar   \n",
       "32          99 -0.003119                        Local Living Butter Lettuce   \n",
       "33         100 -0.001800            Peanut Butter & Strawberry Jam Sandwich   \n",
       "34         106 -0.003601  Organic Yummy Tummy Maple & Brown Sugar Instan...   \n",
       "35         113 -0.002546                           Infant's Blend Probiotic   \n",
       "36         115 -0.002546                  Scooby-Doo! Fruit Flavored Snacks   \n",
       "37         116 -0.004765                                    English Muffins   \n",
       "38         117 -0.006978                                 Petit Suisse Fruit   \n",
       "39         118 -0.001800                                 Ground Turkey Chub   \n",
       "\n",
       "    aisle_id  department_id  \n",
       "30        23             19  \n",
       "31        66              6  \n",
       "32        83              4  \n",
       "33        38              1  \n",
       "34        92             18  \n",
       "35        70             11  \n",
       "36        50             19  \n",
       "37        93              3  \n",
       "38         2             16  \n",
       "39        34              1  "
      ]
     },
     "execution_count": 56,
     "metadata": {},
     "output_type": "execute_result"
    }
   ],
   "source": [
    "similarItemsDF[30:40]"
   ]
  },
  {
   "cell_type": "code",
   "execution_count": 59,
   "metadata": {},
   "outputs": [
    {
     "data": {
      "text/html": [
       "<div>\n",
       "<style scoped>\n",
       "    .dataframe tbody tr th:only-of-type {\n",
       "        vertical-align: middle;\n",
       "    }\n",
       "\n",
       "    .dataframe tbody tr th {\n",
       "        vertical-align: top;\n",
       "    }\n",
       "\n",
       "    .dataframe thead th {\n",
       "        text-align: right;\n",
       "    }\n",
       "</style>\n",
       "<table border=\"1\" class=\"dataframe\">\n",
       "  <thead>\n",
       "    <tr style=\"text-align: right;\">\n",
       "      <th></th>\n",
       "      <th>product_id</th>\n",
       "      <th>corr</th>\n",
       "      <th>product_name</th>\n",
       "      <th>aisle_id</th>\n",
       "      <th>department_id</th>\n",
       "    </tr>\n",
       "  </thead>\n",
       "  <tbody>\n",
       "    <tr>\n",
       "      <th>15047</th>\n",
       "      <td>45066</td>\n",
       "      <td>1.000000</td>\n",
       "      <td>Honeycrisp Apple</td>\n",
       "      <td>24</td>\n",
       "      <td>4</td>\n",
       "    </tr>\n",
       "    <tr>\n",
       "      <th>8318</th>\n",
       "      <td>24852</td>\n",
       "      <td>0.105542</td>\n",
       "      <td>Banana</td>\n",
       "      <td>24</td>\n",
       "      <td>4</td>\n",
       "    </tr>\n",
       "    <tr>\n",
       "      <th>12170</th>\n",
       "      <td>36287</td>\n",
       "      <td>0.096117</td>\n",
       "      <td>Smooth Operator Natural Peanut Butter</td>\n",
       "      <td>88</td>\n",
       "      <td>13</td>\n",
       "    </tr>\n",
       "    <tr>\n",
       "      <th>15934</th>\n",
       "      <td>47626</td>\n",
       "      <td>0.079749</td>\n",
       "      <td>Large Lemon</td>\n",
       "      <td>24</td>\n",
       "      <td>4</td>\n",
       "    </tr>\n",
       "    <tr>\n",
       "      <th>5012</th>\n",
       "      <td>14917</td>\n",
       "      <td>0.070179</td>\n",
       "      <td>Blackberry Yogurt</td>\n",
       "      <td>120</td>\n",
       "      <td>16</td>\n",
       "    </tr>\n",
       "    <tr>\n",
       "      <th>11776</th>\n",
       "      <td>35147</td>\n",
       "      <td>0.067194</td>\n",
       "      <td>Medium Roast Whole Bean Coffee</td>\n",
       "      <td>26</td>\n",
       "      <td>7</td>\n",
       "    </tr>\n",
       "    <tr>\n",
       "      <th>9937</th>\n",
       "      <td>29691</td>\n",
       "      <td>0.067194</td>\n",
       "      <td>Petite Butter Croissant</td>\n",
       "      <td>43</td>\n",
       "      <td>3</td>\n",
       "    </tr>\n",
       "    <tr>\n",
       "      <th>1086</th>\n",
       "      <td>3283</td>\n",
       "      <td>0.067194</td>\n",
       "      <td>Peanut Butter Creme Cookies</td>\n",
       "      <td>61</td>\n",
       "      <td>19</td>\n",
       "    </tr>\n",
       "    <tr>\n",
       "      <th>13566</th>\n",
       "      <td>40530</td>\n",
       "      <td>0.067194</td>\n",
       "      <td>Soothing Caramel Bedtime Tea</td>\n",
       "      <td>94</td>\n",
       "      <td>7</td>\n",
       "    </tr>\n",
       "    <tr>\n",
       "      <th>5346</th>\n",
       "      <td>15925</td>\n",
       "      <td>0.067194</td>\n",
       "      <td>Macaroni and Cheese</td>\n",
       "      <td>38</td>\n",
       "      <td>1</td>\n",
       "    </tr>\n",
       "  </tbody>\n",
       "</table>\n",
       "</div>"
      ],
      "text/plain": [
       "       product_id      corr                           product_name  aisle_id  \\\n",
       "15047       45066  1.000000                       Honeycrisp Apple        24   \n",
       "8318        24852  0.105542                                 Banana        24   \n",
       "12170       36287  0.096117  Smooth Operator Natural Peanut Butter        88   \n",
       "15934       47626  0.079749                            Large Lemon        24   \n",
       "5012        14917  0.070179                      Blackberry Yogurt       120   \n",
       "11776       35147  0.067194         Medium Roast Whole Bean Coffee        26   \n",
       "9937        29691  0.067194                Petite Butter Croissant        43   \n",
       "1086         3283  0.067194            Peanut Butter Creme Cookies        61   \n",
       "13566       40530  0.067194           Soothing Caramel Bedtime Tea        94   \n",
       "5346        15925  0.067194                    Macaroni and Cheese        38   \n",
       "\n",
       "       department_id  \n",
       "15047              4  \n",
       "8318               4  \n",
       "12170             13  \n",
       "15934              4  \n",
       "5012              16  \n",
       "11776              7  \n",
       "9937               3  \n",
       "1086              19  \n",
       "13566              7  \n",
       "5346               1  "
      ]
     },
     "execution_count": 59,
     "metadata": {},
     "output_type": "execute_result"
    }
   ],
   "source": [
    "similarItemsDF.sort_values(by=['corr'], ascending=False)[:10]"
   ]
  },
  {
   "cell_type": "code",
   "execution_count": 114,
   "metadata": {},
   "outputs": [],
   "source": [
    "# df.groupby('product_id').agg({'reordered': {np.size}})"
   ]
  },
  {
   "cell_type": "code",
   "execution_count": 113,
   "metadata": {},
   "outputs": [
    {
     "data": {
      "text/html": [
       "<div>\n",
       "<style scoped>\n",
       "    .dataframe tbody tr th:only-of-type {\n",
       "        vertical-align: middle;\n",
       "    }\n",
       "\n",
       "    .dataframe tbody tr th {\n",
       "        vertical-align: top;\n",
       "    }\n",
       "\n",
       "    .dataframe thead tr th {\n",
       "        text-align: left;\n",
       "    }\n",
       "\n",
       "    .dataframe thead tr:last-of-type th {\n",
       "        text-align: right;\n",
       "    }\n",
       "</style>\n",
       "<table border=\"1\" class=\"dataframe\">\n",
       "  <thead>\n",
       "    <tr>\n",
       "      <th></th>\n",
       "      <th>reordered</th>\n",
       "    </tr>\n",
       "    <tr>\n",
       "      <th></th>\n",
       "      <th>size</th>\n",
       "    </tr>\n",
       "    <tr>\n",
       "      <th>product_id</th>\n",
       "      <th></th>\n",
       "    </tr>\n",
       "  </thead>\n",
       "  <tbody>\n",
       "    <tr>\n",
       "      <th>1</th>\n",
       "      <td>1852</td>\n",
       "    </tr>\n",
       "    <tr>\n",
       "      <th>2</th>\n",
       "      <td>90</td>\n",
       "    </tr>\n",
       "    <tr>\n",
       "      <th>3</th>\n",
       "      <td>277</td>\n",
       "    </tr>\n",
       "    <tr>\n",
       "      <th>4</th>\n",
       "      <td>329</td>\n",
       "    </tr>\n",
       "    <tr>\n",
       "      <th>5</th>\n",
       "      <td>15</td>\n",
       "    </tr>\n",
       "    <tr>\n",
       "      <th>6</th>\n",
       "      <td>8</td>\n",
       "    </tr>\n",
       "    <tr>\n",
       "      <th>7</th>\n",
       "      <td>30</td>\n",
       "    </tr>\n",
       "    <tr>\n",
       "      <th>8</th>\n",
       "      <td>165</td>\n",
       "    </tr>\n",
       "    <tr>\n",
       "      <th>9</th>\n",
       "      <td>156</td>\n",
       "    </tr>\n",
       "    <tr>\n",
       "      <th>10</th>\n",
       "      <td>2572</td>\n",
       "    </tr>\n",
       "    <tr>\n",
       "      <th>11</th>\n",
       "      <td>104</td>\n",
       "    </tr>\n",
       "    <tr>\n",
       "      <th>12</th>\n",
       "      <td>246</td>\n",
       "    </tr>\n",
       "    <tr>\n",
       "      <th>13</th>\n",
       "      <td>9</td>\n",
       "    </tr>\n",
       "    <tr>\n",
       "      <th>14</th>\n",
       "      <td>17</td>\n",
       "    </tr>\n",
       "    <tr>\n",
       "      <th>15</th>\n",
       "      <td>4</td>\n",
       "    </tr>\n",
       "    <tr>\n",
       "      <th>16</th>\n",
       "      <td>19</td>\n",
       "    </tr>\n",
       "    <tr>\n",
       "      <th>17</th>\n",
       "      <td>18</td>\n",
       "    </tr>\n",
       "    <tr>\n",
       "      <th>18</th>\n",
       "      <td>137</td>\n",
       "    </tr>\n",
       "    <tr>\n",
       "      <th>19</th>\n",
       "      <td>4</td>\n",
       "    </tr>\n",
       "    <tr>\n",
       "      <th>20</th>\n",
       "      <td>6</td>\n",
       "    </tr>\n",
       "  </tbody>\n",
       "</table>\n",
       "</div>"
      ],
      "text/plain": [
       "           reordered\n",
       "                size\n",
       "product_id          \n",
       "1               1852\n",
       "2                 90\n",
       "3                277\n",
       "4                329\n",
       "5                 15\n",
       "6                  8\n",
       "7                 30\n",
       "8                165\n",
       "9                156\n",
       "10              2572\n",
       "11               104\n",
       "12               246\n",
       "13                 9\n",
       "14                17\n",
       "15                 4\n",
       "16                19\n",
       "17                18\n",
       "18               137\n",
       "19                 4\n",
       "20                 6"
      ]
     },
     "execution_count": 113,
     "metadata": {},
     "output_type": "execute_result"
    }
   ],
   "source": [
    "counts = df.groupby('product_id').agg({'reordered': {np.size}})\n",
    "counts[:20]"
   ]
  },
  {
   "cell_type": "code",
   "execution_count": 144,
   "metadata": {},
   "outputs": [
    {
     "data": {
      "text/plain": [
       "product_id\n",
       "1      2\n",
       "3      1\n",
       "9      1\n",
       "10     8\n",
       "23     2\n",
       "25     1\n",
       "29     1\n",
       "34    10\n",
       "36     1\n",
       "37     2\n",
       "dtype: int64"
      ]
     },
     "execution_count": 144,
     "metadata": {},
     "output_type": "execute_result"
    }
   ],
   "source": [
    "count = train_sm.groupby('product_id').size()\n",
    "count_dict = count.to_dict()\n",
    "count[:10]"
   ]
  },
  {
   "cell_type": "code",
   "execution_count": 147,
   "metadata": {},
   "outputs": [
    {
     "data": {
      "text/plain": [
       "count    11971.000000\n",
       "mean         4.176761\n",
       "std         14.267705\n",
       "min          1.000000\n",
       "25%          1.000000\n",
       "50%          1.000000\n",
       "75%          3.000000\n",
       "max        668.000000\n",
       "dtype: float64"
      ]
     },
     "execution_count": 147,
     "metadata": {},
     "output_type": "execute_result"
    }
   ],
   "source": [
    "count.describe()"
   ]
  },
  {
   "cell_type": "code",
   "execution_count": 148,
   "metadata": {},
   "outputs": [],
   "source": [
    "similarItemsDF['total_count'] = similarItemsDF['product_id'].map(count_dict).astype('int')"
   ]
  },
  {
   "cell_type": "code",
   "execution_count": 149,
   "metadata": {},
   "outputs": [
    {
     "data": {
      "text/html": [
       "<div>\n",
       "<style scoped>\n",
       "    .dataframe tbody tr th:only-of-type {\n",
       "        vertical-align: middle;\n",
       "    }\n",
       "\n",
       "    .dataframe tbody tr th {\n",
       "        vertical-align: top;\n",
       "    }\n",
       "\n",
       "    .dataframe thead th {\n",
       "        text-align: right;\n",
       "    }\n",
       "</style>\n",
       "<table border=\"1\" class=\"dataframe\">\n",
       "  <thead>\n",
       "    <tr style=\"text-align: right;\">\n",
       "      <th></th>\n",
       "      <th>product_id</th>\n",
       "      <th>corr</th>\n",
       "      <th>product_name</th>\n",
       "      <th>aisle_id</th>\n",
       "      <th>department_id</th>\n",
       "      <th>count</th>\n",
       "      <th>total_count</th>\n",
       "    </tr>\n",
       "  </thead>\n",
       "  <tbody>\n",
       "    <tr>\n",
       "      <th>0</th>\n",
       "      <td>45</td>\n",
       "      <td>0.447214</td>\n",
       "      <td>European Cucumber</td>\n",
       "      <td>83</td>\n",
       "      <td>4</td>\n",
       "      <td>NaN</td>\n",
       "      <td>25</td>\n",
       "    </tr>\n",
       "    <tr>\n",
       "      <th>1</th>\n",
       "      <td>432</td>\n",
       "      <td>-0.500000</td>\n",
       "      <td>Vanilla Almond Breeze Almond Milk</td>\n",
       "      <td>91</td>\n",
       "      <td>16</td>\n",
       "      <td>1852.0</td>\n",
       "      <td>42</td>\n",
       "    </tr>\n",
       "    <tr>\n",
       "      <th>2</th>\n",
       "      <td>1158</td>\n",
       "      <td>0.408248</td>\n",
       "      <td>Mango Chunks</td>\n",
       "      <td>116</td>\n",
       "      <td>1</td>\n",
       "      <td>90.0</td>\n",
       "      <td>29</td>\n",
       "    </tr>\n",
       "    <tr>\n",
       "      <th>3</th>\n",
       "      <td>1999</td>\n",
       "      <td>-1.000000</td>\n",
       "      <td>Organic Chicken Broth</td>\n",
       "      <td>69</td>\n",
       "      <td>15</td>\n",
       "      <td>277.0</td>\n",
       "      <td>24</td>\n",
       "    </tr>\n",
       "    <tr>\n",
       "      <th>4</th>\n",
       "      <td>2078</td>\n",
       "      <td>0.500000</td>\n",
       "      <td>Unsalted Pure Irish Butter</td>\n",
       "      <td>36</td>\n",
       "      <td>16</td>\n",
       "      <td>329.0</td>\n",
       "      <td>25</td>\n",
       "    </tr>\n",
       "  </tbody>\n",
       "</table>\n",
       "</div>"
      ],
      "text/plain": [
       "   product_id      corr                       product_name  aisle_id  \\\n",
       "0          45  0.447214                  European Cucumber        83   \n",
       "1         432 -0.500000  Vanilla Almond Breeze Almond Milk        91   \n",
       "2        1158  0.408248                       Mango Chunks       116   \n",
       "3        1999 -1.000000              Organic Chicken Broth        69   \n",
       "4        2078  0.500000         Unsalted Pure Irish Butter        36   \n",
       "\n",
       "   department_id   count  total_count  \n",
       "0              4     NaN           25  \n",
       "1             16  1852.0           42  \n",
       "2              1    90.0           29  \n",
       "3             15   277.0           24  \n",
       "4             16   329.0           25  "
      ]
     },
     "execution_count": 149,
     "metadata": {},
     "output_type": "execute_result"
    }
   ],
   "source": [
    "similarItemsDF.head()"
   ]
  },
  {
   "cell_type": "code",
   "execution_count": 153,
   "metadata": {},
   "outputs": [],
   "source": [
    "popularItems = similarItemsDF[similarItemsDF['total_count'] >= 20]"
   ]
  },
  {
   "cell_type": "code",
   "execution_count": 156,
   "metadata": {},
   "outputs": [
    {
     "data": {
      "text/html": [
       "<div>\n",
       "<style scoped>\n",
       "    .dataframe tbody tr th:only-of-type {\n",
       "        vertical-align: middle;\n",
       "    }\n",
       "\n",
       "    .dataframe tbody tr th {\n",
       "        vertical-align: top;\n",
       "    }\n",
       "\n",
       "    .dataframe thead th {\n",
       "        text-align: right;\n",
       "    }\n",
       "</style>\n",
       "<table border=\"1\" class=\"dataframe\">\n",
       "  <thead>\n",
       "    <tr style=\"text-align: right;\">\n",
       "      <th></th>\n",
       "      <th>product_id</th>\n",
       "      <th>corr</th>\n",
       "      <th>product_name</th>\n",
       "      <th>aisle_id</th>\n",
       "      <th>department_id</th>\n",
       "      <th>count</th>\n",
       "      <th>total_count</th>\n",
       "    </tr>\n",
       "  </thead>\n",
       "  <tbody>\n",
       "    <tr>\n",
       "      <th>96</th>\n",
       "      <td>45066</td>\n",
       "      <td>1.0</td>\n",
       "      <td>Honeycrisp Apple</td>\n",
       "      <td>24</td>\n",
       "      <td>4</td>\n",
       "      <td>198.0</td>\n",
       "      <td>138</td>\n",
       "    </tr>\n",
       "    <tr>\n",
       "      <th>43</th>\n",
       "      <td>22825</td>\n",
       "      <td>1.0</td>\n",
       "      <td>Organic D'Anjou Pears</td>\n",
       "      <td>24</td>\n",
       "      <td>4</td>\n",
       "      <td>221.0</td>\n",
       "      <td>68</td>\n",
       "    </tr>\n",
       "    <tr>\n",
       "      <th>86</th>\n",
       "      <td>41950</td>\n",
       "      <td>1.0</td>\n",
       "      <td>Organic Tomato Cluster</td>\n",
       "      <td>83</td>\n",
       "      <td>4</td>\n",
       "      <td>130.0</td>\n",
       "      <td>97</td>\n",
       "    </tr>\n",
       "    <tr>\n",
       "      <th>36</th>\n",
       "      <td>17794</td>\n",
       "      <td>1.0</td>\n",
       "      <td>Carrots</td>\n",
       "      <td>83</td>\n",
       "      <td>4</td>\n",
       "      <td>129.0</td>\n",
       "      <td>103</td>\n",
       "    </tr>\n",
       "    <tr>\n",
       "      <th>59</th>\n",
       "      <td>30720</td>\n",
       "      <td>1.0</td>\n",
       "      <td>Sugar Snap Peas</td>\n",
       "      <td>83</td>\n",
       "      <td>4</td>\n",
       "      <td>28.0</td>\n",
       "      <td>29</td>\n",
       "    </tr>\n",
       "    <tr>\n",
       "      <th>33</th>\n",
       "      <td>16185</td>\n",
       "      <td>1.0</td>\n",
       "      <td>Sharp Cheddar Cheese</td>\n",
       "      <td>21</td>\n",
       "      <td>16</td>\n",
       "      <td>32.0</td>\n",
       "      <td>36</td>\n",
       "    </tr>\n",
       "    <tr>\n",
       "      <th>38</th>\n",
       "      <td>19348</td>\n",
       "      <td>1.0</td>\n",
       "      <td>Fat Free Milk</td>\n",
       "      <td>84</td>\n",
       "      <td>16</td>\n",
       "      <td>17.0</td>\n",
       "      <td>38</td>\n",
       "    </tr>\n",
       "    <tr>\n",
       "      <th>23</th>\n",
       "      <td>10749</td>\n",
       "      <td>1.0</td>\n",
       "      <td>Organic Red Bell Pepper</td>\n",
       "      <td>83</td>\n",
       "      <td>4</td>\n",
       "      <td>1068.0</td>\n",
       "      <td>99</td>\n",
       "    </tr>\n",
       "    <tr>\n",
       "      <th>97</th>\n",
       "      <td>45603</td>\n",
       "      <td>1.0</td>\n",
       "      <td>Trilogy Kombucha Drink</td>\n",
       "      <td>31</td>\n",
       "      <td>7</td>\n",
       "      <td>168.0</td>\n",
       "      <td>23</td>\n",
       "    </tr>\n",
       "    <tr>\n",
       "      <th>98</th>\n",
       "      <td>46654</td>\n",
       "      <td>1.0</td>\n",
       "      <td>Organic Grade A Large Brown Eggs</td>\n",
       "      <td>86</td>\n",
       "      <td>16</td>\n",
       "      <td>39.0</td>\n",
       "      <td>41</td>\n",
       "    </tr>\n",
       "    <tr>\n",
       "      <th>84</th>\n",
       "      <td>40723</td>\n",
       "      <td>1.0</td>\n",
       "      <td>Organic Cripps Pink Apples</td>\n",
       "      <td>24</td>\n",
       "      <td>4</td>\n",
       "      <td>124.0</td>\n",
       "      <td>32</td>\n",
       "    </tr>\n",
       "    <tr>\n",
       "      <th>72</th>\n",
       "      <td>38159</td>\n",
       "      <td>1.0</td>\n",
       "      <td>Organic Yellow Peaches</td>\n",
       "      <td>24</td>\n",
       "      <td>4</td>\n",
       "      <td>13.0</td>\n",
       "      <td>25</td>\n",
       "    </tr>\n",
       "    <tr>\n",
       "      <th>82</th>\n",
       "      <td>40545</td>\n",
       "      <td>1.0</td>\n",
       "      <td>Berry Medley</td>\n",
       "      <td>116</td>\n",
       "      <td>1</td>\n",
       "      <td>35.0</td>\n",
       "      <td>27</td>\n",
       "    </tr>\n",
       "    <tr>\n",
       "      <th>28</th>\n",
       "      <td>13984</td>\n",
       "      <td>1.0</td>\n",
       "      <td>Organic Mint</td>\n",
       "      <td>16</td>\n",
       "      <td>4</td>\n",
       "      <td>706.0</td>\n",
       "      <td>28</td>\n",
       "    </tr>\n",
       "    <tr>\n",
       "      <th>94</th>\n",
       "      <td>44910</td>\n",
       "      <td>1.0</td>\n",
       "      <td>Organic Spring Mix Salad</td>\n",
       "      <td>123</td>\n",
       "      <td>4</td>\n",
       "      <td>879.0</td>\n",
       "      <td>32</td>\n",
       "    </tr>\n",
       "    <tr>\n",
       "      <th>92</th>\n",
       "      <td>44449</td>\n",
       "      <td>1.0</td>\n",
       "      <td>Organic Tomato Sauce</td>\n",
       "      <td>81</td>\n",
       "      <td>15</td>\n",
       "      <td>5.0</td>\n",
       "      <td>21</td>\n",
       "    </tr>\n",
       "    <tr>\n",
       "      <th>14</th>\n",
       "      <td>6187</td>\n",
       "      <td>1.0</td>\n",
       "      <td>Raisin Bran Cereal</td>\n",
       "      <td>121</td>\n",
       "      <td>14</td>\n",
       "      <td>17.0</td>\n",
       "      <td>23</td>\n",
       "    </tr>\n",
       "    <tr>\n",
       "      <th>68</th>\n",
       "      <td>37067</td>\n",
       "      <td>1.0</td>\n",
       "      <td>Organic Banana</td>\n",
       "      <td>24</td>\n",
       "      <td>4</td>\n",
       "      <td>62.0</td>\n",
       "      <td>77</td>\n",
       "    </tr>\n",
       "    <tr>\n",
       "      <th>24</th>\n",
       "      <td>11182</td>\n",
       "      <td>1.0</td>\n",
       "      <td>Baby Spinach</td>\n",
       "      <td>123</td>\n",
       "      <td>4</td>\n",
       "      <td>13.0</td>\n",
       "      <td>52</td>\n",
       "    </tr>\n",
       "    <tr>\n",
       "      <th>101</th>\n",
       "      <td>46969</td>\n",
       "      <td>1.0</td>\n",
       "      <td>Organic Bosc Pear</td>\n",
       "      <td>24</td>\n",
       "      <td>4</td>\n",
       "      <td>177.0</td>\n",
       "      <td>23</td>\n",
       "    </tr>\n",
       "  </tbody>\n",
       "</table>\n",
       "</div>"
      ],
      "text/plain": [
       "     product_id  corr                      product_name  aisle_id  \\\n",
       "96        45066   1.0                  Honeycrisp Apple        24   \n",
       "43        22825   1.0             Organic D'Anjou Pears        24   \n",
       "86        41950   1.0            Organic Tomato Cluster        83   \n",
       "36        17794   1.0                           Carrots        83   \n",
       "59        30720   1.0                   Sugar Snap Peas        83   \n",
       "33        16185   1.0              Sharp Cheddar Cheese        21   \n",
       "38        19348   1.0                     Fat Free Milk        84   \n",
       "23        10749   1.0           Organic Red Bell Pepper        83   \n",
       "97        45603   1.0            Trilogy Kombucha Drink        31   \n",
       "98        46654   1.0  Organic Grade A Large Brown Eggs        86   \n",
       "84        40723   1.0        Organic Cripps Pink Apples        24   \n",
       "72        38159   1.0            Organic Yellow Peaches        24   \n",
       "82        40545   1.0                      Berry Medley       116   \n",
       "28        13984   1.0                      Organic Mint        16   \n",
       "94        44910   1.0          Organic Spring Mix Salad       123   \n",
       "92        44449   1.0              Organic Tomato Sauce        81   \n",
       "14         6187   1.0                Raisin Bran Cereal       121   \n",
       "68        37067   1.0                    Organic Banana        24   \n",
       "24        11182   1.0                      Baby Spinach       123   \n",
       "101       46969   1.0                 Organic Bosc Pear        24   \n",
       "\n",
       "     department_id   count  total_count  \n",
       "96               4   198.0          138  \n",
       "43               4   221.0           68  \n",
       "86               4   130.0           97  \n",
       "36               4   129.0          103  \n",
       "59               4    28.0           29  \n",
       "33              16    32.0           36  \n",
       "38              16    17.0           38  \n",
       "23               4  1068.0           99  \n",
       "97               7   168.0           23  \n",
       "98              16    39.0           41  \n",
       "84               4   124.0           32  \n",
       "72               4    13.0           25  \n",
       "82               1    35.0           27  \n",
       "28               4   706.0           28  \n",
       "94               4   879.0           32  \n",
       "92              15     5.0           21  \n",
       "14              14    17.0           23  \n",
       "68               4    62.0           77  \n",
       "24               4    13.0           52  \n",
       "101              4   177.0           23  "
      ]
     },
     "execution_count": 156,
     "metadata": {},
     "output_type": "execute_result"
    }
   ],
   "source": [
    "popularItems.sort_values(by=['corr'], ascending=False)[:20]"
   ]
  },
  {
   "cell_type": "code",
   "execution_count": 165,
   "metadata": {},
   "outputs": [
    {
     "data": {
      "text/plain": [
       "(346102, 2)"
      ]
     },
     "execution_count": 165,
     "metadata": {},
     "output_type": "execute_result"
    }
   ],
   "source": [
    "test.shape"
   ]
  },
  {
   "cell_type": "code",
   "execution_count": null,
   "metadata": {},
   "outputs": [],
   "source": []
  },
  {
   "cell_type": "code",
   "execution_count": null,
   "metadata": {},
   "outputs": [],
   "source": []
  },
  {
   "cell_type": "code",
   "execution_count": null,
   "metadata": {},
   "outputs": [],
   "source": []
  },
  {
   "cell_type": "code",
   "execution_count": null,
   "metadata": {},
   "outputs": [],
   "source": []
  },
  {
   "cell_type": "code",
   "execution_count": null,
   "metadata": {},
   "outputs": [],
   "source": []
  }
 ],
 "metadata": {
  "kernelspec": {
   "display_name": "Python 3",
   "language": "python",
   "name": "python3"
  },
  "language_info": {
   "codemirror_mode": {
    "name": "ipython",
    "version": 3
   },
   "file_extension": ".py",
   "mimetype": "text/x-python",
   "name": "python",
   "nbconvert_exporter": "python",
   "pygments_lexer": "ipython3",
   "version": "3.7.1"
  }
 },
 "nbformat": 4,
 "nbformat_minor": 2
}
