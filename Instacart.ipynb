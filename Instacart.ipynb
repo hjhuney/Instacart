{
 "cells": [
  {
   "cell_type": "code",
   "execution_count": null,
   "metadata": {},
   "outputs": [],
   "source": []
  },
  {
   "cell_type": "code",
   "execution_count": 1,
   "metadata": {},
   "outputs": [],
   "source": [
    "import pandas as pd\n",
    "import numpy as np\n",
    "import altair as alt"
   ]
  },
  {
   "cell_type": "code",
   "execution_count": 12,
   "metadata": {},
   "outputs": [
    {
     "data": {
      "text/plain": [
       "ThemeRegistry.enable('opaque')"
      ]
     },
     "execution_count": 12,
     "metadata": {},
     "output_type": "execute_result"
    }
   ],
   "source": [
    "# enable altair visualizations\n",
    "alt.renderers.enable()\n",
    "\n",
    "# opaque background\n",
    "alt.themes.enable('opaque')"
   ]
  },
  {
   "cell_type": "code",
   "execution_count": null,
   "metadata": {},
   "outputs": [],
   "source": []
  },
  {
   "cell_type": "code",
   "execution_count": 31,
   "metadata": {},
   "outputs": [],
   "source": [
    "# function to reduce size of dataframes\n",
    "def downcast_df(file):\n",
    "    df = pd.read_csv(file)\n",
    "    \n",
    "    # isolate data types\n",
    "    df_int = df.select_dtypes(include=['int64'])\n",
    "    df_float = df.select_dtypes(include=['float64'])\n",
    "    df_obj = df.select_dtypes(include=['object'])\n",
    "    \n",
    "    # downcast ints and floats\n",
    "    df_int = df_int.apply(pd.to_numeric, downcast='integer')\n",
    "    df_float = df_float.apply(pd.to_numeric, downcast='float')\n",
    "    \n",
    "    # recombine into single dataframe\n",
    "    optimized_df = df.copy()\n",
    "    optimized_df[df_int.columns] = df_int\n",
    "    optimized_df[df_float.columns] = df_float\n",
    "    \n",
    "    # return statement    \n",
    "    return optimized_df"
   ]
  },
  {
   "cell_type": "code",
   "execution_count": 52,
   "metadata": {},
   "outputs": [],
   "source": [
    "# function to print out df.info() and df.head() cleanly\n",
    "def print_info(df):\n",
    "    print((\"=\" * 10) + \" Info \" + (\"=\" * 10) + \"\\n\")\n",
    "    print(df.info())\n",
    "    print(\"\\n\" + (\"=\" * 10) + \" First 5 Rows \" + (\"=\" * 10) + \"\\n\")\n",
    "    print(df.head())"
   ]
  },
  {
   "cell_type": "code",
   "execution_count": 53,
   "metadata": {},
   "outputs": [
    {
     "name": "stdout",
     "output_type": "stream",
     "text": [
      "========== Info ==========\n",
      "\n",
      "<class 'pandas.core.frame.DataFrame'>\n",
      "RangeIndex: 49688 entries, 0 to 49687\n",
      "Data columns (total 4 columns):\n",
      "product_id       49688 non-null int32\n",
      "product_name     49688 non-null object\n",
      "aisle_id         49688 non-null int16\n",
      "department_id    49688 non-null int8\n",
      "dtypes: int16(1), int32(1), int8(1), object(1)\n",
      "memory usage: 727.9+ KB\n",
      "None\n",
      "\n",
      "========== First 5 Rows ==========\n",
      "\n",
      "   product_id                                       product_name  aisle_id  \\\n",
      "0           1                         Chocolate Sandwich Cookies        61   \n",
      "1           2                                   All-Seasons Salt       104   \n",
      "2           3               Robust Golden Unsweetened Oolong Tea        94   \n",
      "3           4  Smart Ones Classic Favorites Mini Rigatoni Wit...        38   \n",
      "4           5                          Green Chile Anytime Sauce         5   \n",
      "\n",
      "   department_id  \n",
      "0             19  \n",
      "1             13  \n",
      "2              7  \n",
      "3              1  \n",
      "4             13  \n"
     ]
    }
   ],
   "source": [
    "products = downcast_df('products.csv')\n",
    "print_info(products)"
   ]
  },
  {
   "cell_type": "code",
   "execution_count": 54,
   "metadata": {},
   "outputs": [
    {
     "name": "stdout",
     "output_type": "stream",
     "text": [
      "========== Info ==========\n",
      "\n",
      "<class 'pandas.core.frame.DataFrame'>\n",
      "RangeIndex: 3421083 entries, 0 to 3421082\n",
      "Data columns (total 7 columns):\n",
      "order_id                  int32\n",
      "user_id                   int32\n",
      "eval_set                  object\n",
      "order_number              int8\n",
      "order_dow                 int8\n",
      "order_hour_of_day         int8\n",
      "days_since_prior_order    float32\n",
      "dtypes: float32(1), int32(2), int8(3), object(1)\n",
      "memory usage: 75.0+ MB\n",
      "None\n",
      "\n",
      "========== First 5 Rows ==========\n",
      "\n",
      "   order_id  user_id eval_set  order_number  order_dow  order_hour_of_day  \\\n",
      "0   2539329        1    prior             1          2                  8   \n",
      "1   2398795        1    prior             2          3                  7   \n",
      "2    473747        1    prior             3          3                 12   \n",
      "3   2254736        1    prior             4          4                  7   \n",
      "4    431534        1    prior             5          4                 15   \n",
      "\n",
      "   days_since_prior_order  \n",
      "0                     NaN  \n",
      "1                    15.0  \n",
      "2                    21.0  \n",
      "3                    29.0  \n",
      "4                    28.0  \n"
     ]
    }
   ],
   "source": [
    "orders = downcast_df('orders.csv')\n",
    "print_info(orders)"
   ]
  },
  {
   "cell_type": "code",
   "execution_count": 55,
   "metadata": {},
   "outputs": [
    {
     "name": "stdout",
     "output_type": "stream",
     "text": [
      "========== Info ==========\n",
      "\n",
      "<class 'pandas.core.frame.DataFrame'>\n",
      "RangeIndex: 134 entries, 0 to 133\n",
      "Data columns (total 2 columns):\n",
      "aisle_id    134 non-null int16\n",
      "aisle       134 non-null object\n",
      "dtypes: int16(1), object(1)\n",
      "memory usage: 1.4+ KB\n",
      "None\n",
      "\n",
      "========== First 5 Rows ==========\n",
      "\n",
      "   aisle_id                       aisle\n",
      "0         1       prepared soups salads\n",
      "1         2           specialty cheeses\n",
      "2         3         energy granola bars\n",
      "3         4               instant foods\n",
      "4         5  marinades meat preparation\n"
     ]
    }
   ],
   "source": [
    "aisles = downcast_df('aisles.csv')\n",
    "print_info(aisles)"
   ]
  },
  {
   "cell_type": "code",
   "execution_count": 56,
   "metadata": {},
   "outputs": [
    {
     "name": "stdout",
     "output_type": "stream",
     "text": [
      "========== Info ==========\n",
      "\n",
      "<class 'pandas.core.frame.DataFrame'>\n",
      "RangeIndex: 21 entries, 0 to 20\n",
      "Data columns (total 2 columns):\n",
      "department_id    21 non-null int8\n",
      "department       21 non-null object\n",
      "dtypes: int8(1), object(1)\n",
      "memory usage: 269.0+ bytes\n",
      "None\n",
      "\n",
      "========== First 5 Rows ==========\n",
      "\n",
      "   department_id department\n",
      "0              1     frozen\n",
      "1              2      other\n",
      "2              3     bakery\n",
      "3              4    produce\n",
      "4              5    alcohol\n"
     ]
    }
   ],
   "source": [
    "departments = downcast_df('departments.csv')\n",
    "print_info(departments)"
   ]
  },
  {
   "cell_type": "code",
   "execution_count": 57,
   "metadata": {},
   "outputs": [
    {
     "name": "stdout",
     "output_type": "stream",
     "text": [
      "========== Info ==========\n",
      "\n",
      "<class 'pandas.core.frame.DataFrame'>\n",
      "RangeIndex: 32434489 entries, 0 to 32434488\n",
      "Data columns (total 4 columns):\n",
      "order_id             int32\n",
      "product_id           int32\n",
      "add_to_cart_order    int16\n",
      "reordered            int8\n",
      "dtypes: int16(1), int32(2), int8(1)\n",
      "memory usage: 340.3 MB\n",
      "None\n",
      "\n",
      "========== First 5 Rows ==========\n",
      "\n",
      "   order_id  product_id  add_to_cart_order  reordered\n",
      "0         2       33120                  1          1\n",
      "1         2       28985                  2          1\n",
      "2         2        9327                  3          0\n",
      "3         2       45918                  4          1\n",
      "4         2       30035                  5          0\n"
     ]
    }
   ],
   "source": [
    "prior = downcast_df('order_products__prior.csv')\n",
    "print_info(prior)"
   ]
  },
  {
   "cell_type": "code",
   "execution_count": 58,
   "metadata": {},
   "outputs": [
    {
     "name": "stdout",
     "output_type": "stream",
     "text": [
      "========== Info ==========\n",
      "\n",
      "<class 'pandas.core.frame.DataFrame'>\n",
      "RangeIndex: 1384617 entries, 0 to 1384616\n",
      "Data columns (total 4 columns):\n",
      "order_id             1384617 non-null int32\n",
      "product_id           1384617 non-null int32\n",
      "add_to_cart_order    1384617 non-null int8\n",
      "reordered            1384617 non-null int8\n",
      "dtypes: int32(2), int8(2)\n",
      "memory usage: 13.2 MB\n",
      "None\n",
      "\n",
      "========== First 5 Rows ==========\n",
      "\n",
      "   order_id  product_id  add_to_cart_order  reordered\n",
      "0         1       49302                  1          1\n",
      "1         1       11109                  2          1\n",
      "2         1       10246                  3          0\n",
      "3         1       49683                  4          0\n",
      "4         1       43633                  5          1\n"
     ]
    }
   ],
   "source": [
    "train = downcast_df('order_products__train.csv')\n",
    "print_info(train)"
   ]
  },
  {
   "cell_type": "code",
   "execution_count": null,
   "metadata": {},
   "outputs": [],
   "source": []
  }
 ],
 "metadata": {
  "kernelspec": {
   "display_name": "Python 3",
   "language": "python",
   "name": "python3"
  },
  "language_info": {
   "codemirror_mode": {
    "name": "ipython",
    "version": 3
   },
   "file_extension": ".py",
   "mimetype": "text/x-python",
   "name": "python",
   "nbconvert_exporter": "python",
   "pygments_lexer": "ipython3",
   "version": "3.7.1"
  }
 },
 "nbformat": 4,
 "nbformat_minor": 2
}
