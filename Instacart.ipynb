{
 "cells": [
  {
   "cell_type": "markdown",
   "metadata": {},
   "source": [
    "# Imports"
   ]
  },
  {
   "cell_type": "code",
   "execution_count": 1,
   "metadata": {},
   "outputs": [],
   "source": [
    "import pandas as pd\n",
    "import numpy as np\n",
    "import altair as alt"
   ]
  },
  {
   "cell_type": "code",
   "execution_count": 2,
   "metadata": {},
   "outputs": [
    {
     "data": {
      "text/plain": [
       "ThemeRegistry.enable('opaque')"
      ]
     },
     "execution_count": 2,
     "metadata": {},
     "output_type": "execute_result"
    }
   ],
   "source": [
    "# enable altair visualizations\n",
    "alt.renderers.enable()\n",
    "\n",
    "# opaque background\n",
    "alt.themes.enable('opaque')"
   ]
  },
  {
   "cell_type": "markdown",
   "metadata": {},
   "source": [
    "# Load Data Functions"
   ]
  },
  {
   "cell_type": "code",
   "execution_count": 3,
   "metadata": {},
   "outputs": [],
   "source": [
    "# function to reduce size of dataframes\n",
    "def downcast_df(file):\n",
    "    df = pd.read_csv(file)\n",
    "    \n",
    "    # isolate data types\n",
    "    df_int = df.select_dtypes(include=['int64'])\n",
    "    df_float = df.select_dtypes(include=['float64'])\n",
    "    df_obj = df.select_dtypes(include=['object'])\n",
    "    \n",
    "    # downcast ints and floats\n",
    "    df_int = df_int.apply(pd.to_numeric, downcast='unsigned')\n",
    "    df_float = df_float.apply(pd.to_numeric, downcast='float')\n",
    "    \n",
    "    # recombine into single dataframe\n",
    "    optimized_df = df.copy()\n",
    "    optimized_df[df_int.columns] = df_int\n",
    "    optimized_df[df_float.columns] = df_float\n",
    "    \n",
    "    # return statement    \n",
    "    return optimized_df"
   ]
  },
  {
   "cell_type": "code",
   "execution_count": 4,
   "metadata": {},
   "outputs": [],
   "source": [
    "# function to print out df.info() and df.head() cleanly\n",
    "def print_info(df):\n",
    "    print((\"=\" * 10) + \" Info \" + (\"=\" * 10) + \"\\n\")\n",
    "    print(df.info())\n",
    "    print(\"\\n\" + (\"=\" * 10) + \" First 5 Rows \" + (\"=\" * 10) + \"\\n\")\n",
    "    print(df.head())"
   ]
  },
  {
   "cell_type": "markdown",
   "metadata": {},
   "source": [
    "# DataFrames"
   ]
  },
  {
   "cell_type": "markdown",
   "metadata": {},
   "source": [
    "## Products"
   ]
  },
  {
   "cell_type": "code",
   "execution_count": 5,
   "metadata": {},
   "outputs": [
    {
     "name": "stdout",
     "output_type": "stream",
     "text": [
      "========== Info ==========\n",
      "\n",
      "<class 'pandas.core.frame.DataFrame'>\n",
      "RangeIndex: 49688 entries, 0 to 49687\n",
      "Data columns (total 4 columns):\n",
      "product_id       49688 non-null uint16\n",
      "product_name     49688 non-null object\n",
      "aisle_id         49688 non-null uint8\n",
      "department_id    49688 non-null uint8\n",
      "dtypes: object(1), uint16(1), uint8(2)\n",
      "memory usage: 582.4+ KB\n",
      "None\n",
      "\n",
      "========== First 5 Rows ==========\n",
      "\n",
      "   product_id                                       product_name  aisle_id  \\\n",
      "0           1                         Chocolate Sandwich Cookies        61   \n",
      "1           2                                   All-Seasons Salt       104   \n",
      "2           3               Robust Golden Unsweetened Oolong Tea        94   \n",
      "3           4  Smart Ones Classic Favorites Mini Rigatoni Wit...        38   \n",
      "4           5                          Green Chile Anytime Sauce         5   \n",
      "\n",
      "   department_id  \n",
      "0             19  \n",
      "1             13  \n",
      "2              7  \n",
      "3              1  \n",
      "4             13  \n"
     ]
    }
   ],
   "source": [
    "products = downcast_df('products.csv')\n",
    "print_info(products)"
   ]
  },
  {
   "cell_type": "markdown",
   "metadata": {},
   "source": [
    "## Orders"
   ]
  },
  {
   "cell_type": "code",
   "execution_count": 17,
   "metadata": {},
   "outputs": [
    {
     "name": "stdout",
     "output_type": "stream",
     "text": [
      "========== Info ==========\n",
      "\n",
      "<class 'pandas.core.frame.DataFrame'>\n",
      "RangeIndex: 3421083 entries, 0 to 3421082\n",
      "Data columns (total 7 columns):\n",
      "order_id                  uint32\n",
      "user_id                   uint32\n",
      "eval_set                  object\n",
      "order_number              uint8\n",
      "order_dow                 uint8\n",
      "order_hour_of_day         uint8\n",
      "days_since_prior_order    int16\n",
      "dtypes: int16(1), object(1), uint32(2), uint8(3)\n",
      "memory usage: 68.5+ MB\n",
      "None\n",
      "\n",
      "========== First 5 Rows ==========\n",
      "\n",
      "   order_id  user_id eval_set  order_number  order_dow  order_hour_of_day  \\\n",
      "0   2539329        1    prior             1          2                  8   \n",
      "1   2398795        1    prior             2          3                  7   \n",
      "2    473747        1    prior             3          3                 12   \n",
      "3   2254736        1    prior             4          4                  7   \n",
      "4    431534        1    prior             5          4                 15   \n",
      "\n",
      "   days_since_prior_order  \n",
      "0                     -99  \n",
      "1                      15  \n",
      "2                      21  \n",
      "3                      29  \n",
      "4                      28  \n"
     ]
    }
   ],
   "source": [
    "orders = downcast_df('orders.csv')\n",
    "orders['days_since_prior_order'] = orders['days_since_prior_order'].fillna(-99)\n",
    "orders['days_since_prior_order'] = orders['days_since_prior_order'].astype('int16')\n",
    "print_info(orders)"
   ]
  },
  {
   "cell_type": "markdown",
   "metadata": {},
   "source": [
    "## Aisles"
   ]
  },
  {
   "cell_type": "code",
   "execution_count": 7,
   "metadata": {},
   "outputs": [
    {
     "name": "stdout",
     "output_type": "stream",
     "text": [
      "========== Info ==========\n",
      "\n",
      "<class 'pandas.core.frame.DataFrame'>\n",
      "RangeIndex: 134 entries, 0 to 133\n",
      "Data columns (total 2 columns):\n",
      "aisle_id    134 non-null uint8\n",
      "aisle       134 non-null object\n",
      "dtypes: object(1), uint8(1)\n",
      "memory usage: 1.3+ KB\n",
      "None\n",
      "\n",
      "========== First 5 Rows ==========\n",
      "\n",
      "   aisle_id                       aisle\n",
      "0         1       prepared soups salads\n",
      "1         2           specialty cheeses\n",
      "2         3         energy granola bars\n",
      "3         4               instant foods\n",
      "4         5  marinades meat preparation\n"
     ]
    }
   ],
   "source": [
    "aisles = downcast_df('aisles.csv')\n",
    "print_info(aisles)"
   ]
  },
  {
   "cell_type": "markdown",
   "metadata": {},
   "source": [
    "## Departments"
   ]
  },
  {
   "cell_type": "code",
   "execution_count": 8,
   "metadata": {},
   "outputs": [
    {
     "name": "stdout",
     "output_type": "stream",
     "text": [
      "========== Info ==========\n",
      "\n",
      "<class 'pandas.core.frame.DataFrame'>\n",
      "RangeIndex: 21 entries, 0 to 20\n",
      "Data columns (total 2 columns):\n",
      "department_id    21 non-null uint8\n",
      "department       21 non-null object\n",
      "dtypes: object(1), uint8(1)\n",
      "memory usage: 269.0+ bytes\n",
      "None\n",
      "\n",
      "========== First 5 Rows ==========\n",
      "\n",
      "   department_id department\n",
      "0              1     frozen\n",
      "1              2      other\n",
      "2              3     bakery\n",
      "3              4    produce\n",
      "4              5    alcohol\n"
     ]
    }
   ],
   "source": [
    "departments = downcast_df('departments.csv')\n",
    "print_info(departments)"
   ]
  },
  {
   "cell_type": "markdown",
   "metadata": {},
   "source": [
    "## Prior Order Info"
   ]
  },
  {
   "cell_type": "code",
   "execution_count": 9,
   "metadata": {},
   "outputs": [
    {
     "name": "stdout",
     "output_type": "stream",
     "text": [
      "========== Info ==========\n",
      "\n",
      "<class 'pandas.core.frame.DataFrame'>\n",
      "RangeIndex: 32434489 entries, 0 to 32434488\n",
      "Data columns (total 4 columns):\n",
      "order_id             uint32\n",
      "product_id           uint16\n",
      "add_to_cart_order    uint8\n",
      "reordered            uint8\n",
      "dtypes: uint16(1), uint32(1), uint8(2)\n",
      "memory usage: 247.5 MB\n",
      "None\n",
      "\n",
      "========== First 5 Rows ==========\n",
      "\n",
      "   order_id  product_id  add_to_cart_order  reordered\n",
      "0         2       33120                  1          1\n",
      "1         2       28985                  2          1\n",
      "2         2        9327                  3          0\n",
      "3         2       45918                  4          1\n",
      "4         2       30035                  5          0\n"
     ]
    }
   ],
   "source": [
    "prior = downcast_df('order_products__prior.csv')\n",
    "print_info(prior)"
   ]
  },
  {
   "cell_type": "markdown",
   "metadata": {},
   "source": [
    "## Training Data"
   ]
  },
  {
   "cell_type": "code",
   "execution_count": 10,
   "metadata": {},
   "outputs": [
    {
     "name": "stdout",
     "output_type": "stream",
     "text": [
      "========== Info ==========\n",
      "\n",
      "<class 'pandas.core.frame.DataFrame'>\n",
      "RangeIndex: 1038515 entries, 0 to 1038514\n",
      "Data columns (total 4 columns):\n",
      "order_id             1038515 non-null uint32\n",
      "product_id           1038515 non-null uint16\n",
      "add_to_cart_order    1038515 non-null uint8\n",
      "reordered            1038515 non-null uint8\n",
      "dtypes: uint16(1), uint32(1), uint8(2)\n",
      "memory usage: 7.9 MB\n",
      "None\n",
      "\n",
      "========== First 5 Rows ==========\n",
      "\n",
      "   order_id  product_id  add_to_cart_order  reordered\n",
      "0        36       39612                  1          0\n",
      "1        36       19660                  2          1\n",
      "2        36       49235                  3          0\n",
      "3        36       43086                  4          1\n",
      "4        36       46620                  5          1\n"
     ]
    }
   ],
   "source": [
    "train = downcast_df('order_products__train_cap.csv')\n",
    "print_info(train)"
   ]
  },
  {
   "cell_type": "markdown",
   "metadata": {},
   "source": [
    "## Test Data"
   ]
  },
  {
   "cell_type": "code",
   "execution_count": 11,
   "metadata": {},
   "outputs": [
    {
     "name": "stdout",
     "output_type": "stream",
     "text": [
      "========== Info ==========\n",
      "\n",
      "<class 'pandas.core.frame.DataFrame'>\n",
      "RangeIndex: 346102 entries, 0 to 346101\n",
      "Data columns (total 2 columns):\n",
      "order_id      346102 non-null uint32\n",
      "product_id    346102 non-null uint16\n",
      "dtypes: uint16(1), uint32(1)\n",
      "memory usage: 2.0 MB\n",
      "None\n",
      "\n",
      "========== First 5 Rows ==========\n",
      "\n",
      "   order_id  product_id\n",
      "0         1       49302\n",
      "1         1       11109\n",
      "2         1       10246\n",
      "3         1       49683\n",
      "4         1       43633\n"
     ]
    }
   ],
   "source": [
    "test = downcast_df('order_products__test_cap.csv')\n",
    "print_info(test)"
   ]
  },
  {
   "cell_type": "code",
   "execution_count": null,
   "metadata": {},
   "outputs": [],
   "source": []
  },
  {
   "cell_type": "code",
   "execution_count": null,
   "metadata": {},
   "outputs": [],
   "source": []
  },
  {
   "cell_type": "code",
   "execution_count": 73,
   "metadata": {},
   "outputs": [],
   "source": [
    "# from scipy.sparse import coo_matrix\n",
    "# p_mtx = coo_matrix((prior.order_id.values, (prior.product_id.values, prior.reordered.values)))"
   ]
  },
  {
   "cell_type": "code",
   "execution_count": null,
   "metadata": {},
   "outputs": [],
   "source": []
  },
  {
   "cell_type": "markdown",
   "metadata": {},
   "source": [
    "# Merge DFs"
   ]
  },
  {
   "cell_type": "code",
   "execution_count": 12,
   "metadata": {},
   "outputs": [
    {
     "data": {
      "text/html": [
       "<div>\n",
       "<style scoped>\n",
       "    .dataframe tbody tr th:only-of-type {\n",
       "        vertical-align: middle;\n",
       "    }\n",
       "\n",
       "    .dataframe tbody tr th {\n",
       "        vertical-align: top;\n",
       "    }\n",
       "\n",
       "    .dataframe thead th {\n",
       "        text-align: right;\n",
       "    }\n",
       "</style>\n",
       "<table border=\"1\" class=\"dataframe\">\n",
       "  <thead>\n",
       "    <tr style=\"text-align: right;\">\n",
       "      <th></th>\n",
       "      <th>order_id</th>\n",
       "      <th>product_id</th>\n",
       "      <th>add_to_cart_order</th>\n",
       "      <th>reordered</th>\n",
       "      <th>product_name</th>\n",
       "      <th>aisle_id</th>\n",
       "      <th>department_id</th>\n",
       "      <th>user_id</th>\n",
       "      <th>order_number</th>\n",
       "      <th>order_dow</th>\n",
       "      <th>order_hour_of_day</th>\n",
       "      <th>days_since_prior_order</th>\n",
       "    </tr>\n",
       "  </thead>\n",
       "  <tbody>\n",
       "    <tr>\n",
       "      <th>0</th>\n",
       "      <td>2</td>\n",
       "      <td>33120</td>\n",
       "      <td>1</td>\n",
       "      <td>1</td>\n",
       "      <td>Organic Egg Whites</td>\n",
       "      <td>86</td>\n",
       "      <td>16</td>\n",
       "      <td>202279</td>\n",
       "      <td>3</td>\n",
       "      <td>5</td>\n",
       "      <td>9</td>\n",
       "      <td>8</td>\n",
       "    </tr>\n",
       "    <tr>\n",
       "      <th>1</th>\n",
       "      <td>2</td>\n",
       "      <td>28985</td>\n",
       "      <td>2</td>\n",
       "      <td>1</td>\n",
       "      <td>Michigan Organic Kale</td>\n",
       "      <td>83</td>\n",
       "      <td>4</td>\n",
       "      <td>202279</td>\n",
       "      <td>3</td>\n",
       "      <td>5</td>\n",
       "      <td>9</td>\n",
       "      <td>8</td>\n",
       "    </tr>\n",
       "    <tr>\n",
       "      <th>2</th>\n",
       "      <td>2</td>\n",
       "      <td>9327</td>\n",
       "      <td>3</td>\n",
       "      <td>0</td>\n",
       "      <td>Garlic Powder</td>\n",
       "      <td>104</td>\n",
       "      <td>13</td>\n",
       "      <td>202279</td>\n",
       "      <td>3</td>\n",
       "      <td>5</td>\n",
       "      <td>9</td>\n",
       "      <td>8</td>\n",
       "    </tr>\n",
       "    <tr>\n",
       "      <th>3</th>\n",
       "      <td>2</td>\n",
       "      <td>45918</td>\n",
       "      <td>4</td>\n",
       "      <td>1</td>\n",
       "      <td>Coconut Butter</td>\n",
       "      <td>19</td>\n",
       "      <td>13</td>\n",
       "      <td>202279</td>\n",
       "      <td>3</td>\n",
       "      <td>5</td>\n",
       "      <td>9</td>\n",
       "      <td>8</td>\n",
       "    </tr>\n",
       "    <tr>\n",
       "      <th>4</th>\n",
       "      <td>2</td>\n",
       "      <td>30035</td>\n",
       "      <td>5</td>\n",
       "      <td>0</td>\n",
       "      <td>Natural Sweetener</td>\n",
       "      <td>17</td>\n",
       "      <td>13</td>\n",
       "      <td>202279</td>\n",
       "      <td>3</td>\n",
       "      <td>5</td>\n",
       "      <td>9</td>\n",
       "      <td>8</td>\n",
       "    </tr>\n",
       "  </tbody>\n",
       "</table>\n",
       "</div>"
      ],
      "text/plain": [
       "   order_id  product_id  add_to_cart_order  reordered           product_name  \\\n",
       "0         2       33120                  1          1     Organic Egg Whites   \n",
       "1         2       28985                  2          1  Michigan Organic Kale   \n",
       "2         2        9327                  3          0          Garlic Powder   \n",
       "3         2       45918                  4          1         Coconut Butter   \n",
       "4         2       30035                  5          0      Natural Sweetener   \n",
       "\n",
       "   aisle_id  department_id  user_id  order_number  order_dow  \\\n",
       "0        86             16   202279             3          5   \n",
       "1        83              4   202279             3          5   \n",
       "2       104             13   202279             3          5   \n",
       "3        19             13   202279             3          5   \n",
       "4        17             13   202279             3          5   \n",
       "\n",
       "   order_hour_of_day  days_since_prior_order  \n",
       "0                  9                       8  \n",
       "1                  9                       8  \n",
       "2                  9                       8  \n",
       "3                  9                       8  \n",
       "4                  9                       8  "
      ]
     },
     "execution_count": 12,
     "metadata": {},
     "output_type": "execute_result"
    }
   ],
   "source": [
    "prior_merge1 = pd.merge(prior, products, on=\"product_id\", how=\"left\")\n",
    "df = pd.merge(prior_merge1, orders, on=\"order_id\", how=\"left\")\n",
    "df = df.drop(['eval_set'], axis=1)\n",
    "df['days_since_prior_order'] = df['days_since_prior_order'].fillna(-1).astype('int16')\n",
    "df.head()"
   ]
  },
  {
   "cell_type": "code",
   "execution_count": 13,
   "metadata": {},
   "outputs": [],
   "source": [
    "# df['count'] = df.groupby('product_id')['reordered'].size()\n",
    "# df.head()"
   ]
  },
  {
   "cell_type": "code",
   "execution_count": 14,
   "metadata": {},
   "outputs": [
    {
     "name": "stdout",
     "output_type": "stream",
     "text": [
      "<class 'pandas.core.frame.DataFrame'>\n",
      "Int64Index: 32434489 entries, 0 to 32434488\n",
      "Data columns (total 12 columns):\n",
      "order_id                  uint32\n",
      "product_id                uint16\n",
      "add_to_cart_order         uint8\n",
      "reordered                 uint8\n",
      "product_name              object\n",
      "aisle_id                  uint8\n",
      "department_id             uint8\n",
      "user_id                   uint32\n",
      "order_number              uint8\n",
      "order_dow                 uint8\n",
      "order_hour_of_day         uint8\n",
      "days_since_prior_order    int16\n",
      "dtypes: int16(1), object(1), uint16(1), uint32(2), uint8(7)\n",
      "memory usage: 3.3 GB\n"
     ]
    }
   ],
   "source": [
    "df.info(memory_usage='deep')"
   ]
  },
  {
   "cell_type": "markdown",
   "metadata": {},
   "source": [
    "# Data Exploration"
   ]
  },
  {
   "cell_type": "code",
   "execution_count": null,
   "metadata": {},
   "outputs": [],
   "source": [
    "# source = pd.DataFrame({\n",
    "#     'a': ['A', 'B', 'C', 'D', 'E', 'F', 'G', 'H', 'I'],\n",
    "#     'b': [28, 55, 43, 91, 81, 53, 19, 87, 52]\n",
    "# })\n",
    "\n",
    "alt.Chart(orders).mark_bar().encode(\n",
    "    x='a',\n",
    "    y='b'\n",
    ")"
   ]
  },
  {
   "cell_type": "code",
   "execution_count": 189,
   "metadata": {},
   "outputs": [
    {
     "name": "stdout",
     "output_type": "stream",
     "text": [
      "<class 'pandas.core.frame.DataFrame'>\n",
      "RangeIndex: 3421083 entries, 0 to 3421082\n",
      "Data columns (total 7 columns):\n",
      "order_id                  uint32\n",
      "user_id                   uint32\n",
      "eval_set                  object\n",
      "order_number              uint8\n",
      "order_dow                 uint8\n",
      "order_hour_of_day         uint8\n",
      "days_since_prior_order    float32\n",
      "dtypes: float32(1), object(1), uint32(2), uint8(3)\n",
      "memory usage: 75.0+ MB\n"
     ]
    }
   ],
   "source": [
    "orders.info()"
   ]
  },
  {
   "cell_type": "code",
   "execution_count": 118,
   "metadata": {},
   "outputs": [
    {
     "data": {
      "text/html": [
       "<div>\n",
       "<style scoped>\n",
       "    .dataframe tbody tr th:only-of-type {\n",
       "        vertical-align: middle;\n",
       "    }\n",
       "\n",
       "    .dataframe tbody tr th {\n",
       "        vertical-align: top;\n",
       "    }\n",
       "\n",
       "    .dataframe thead th {\n",
       "        text-align: right;\n",
       "    }\n",
       "</style>\n",
       "<table border=\"1\" class=\"dataframe\">\n",
       "  <thead>\n",
       "    <tr style=\"text-align: right;\">\n",
       "      <th></th>\n",
       "      <th>index</th>\n",
       "      <th>order_hour_of_day</th>\n",
       "      <th>pct_of_total</th>\n",
       "    </tr>\n",
       "  </thead>\n",
       "  <tbody>\n",
       "    <tr>\n",
       "      <th>0</th>\n",
       "      <td>10</td>\n",
       "      <td>288418</td>\n",
       "      <td>8.43</td>\n",
       "    </tr>\n",
       "    <tr>\n",
       "      <th>1</th>\n",
       "      <td>11</td>\n",
       "      <td>284728</td>\n",
       "      <td>8.32</td>\n",
       "    </tr>\n",
       "    <tr>\n",
       "      <th>2</th>\n",
       "      <td>15</td>\n",
       "      <td>283639</td>\n",
       "      <td>8.29</td>\n",
       "    </tr>\n",
       "    <tr>\n",
       "      <th>3</th>\n",
       "      <td>14</td>\n",
       "      <td>283042</td>\n",
       "      <td>8.27</td>\n",
       "    </tr>\n",
       "    <tr>\n",
       "      <th>4</th>\n",
       "      <td>13</td>\n",
       "      <td>277999</td>\n",
       "      <td>8.13</td>\n",
       "    </tr>\n",
       "  </tbody>\n",
       "</table>\n",
       "</div>"
      ],
      "text/plain": [
       "   index  order_hour_of_day  pct_of_total\n",
       "0     10             288418          8.43\n",
       "1     11             284728          8.32\n",
       "2     15             283639          8.29\n",
       "3     14             283042          8.27\n",
       "4     13             277999          8.13"
      ]
     },
     "execution_count": 118,
     "metadata": {},
     "output_type": "execute_result"
    }
   ],
   "source": [
    "time_of_day = orders['order_hour_of_day'].value_counts()\n",
    "time_of_day = time_of_day.reset_index()\n",
    "time_of_day['pct_of_total'] = np.round((time_of_day['order_hour_of_day'] / time_of_day['order_hour_of_day'].sum()*100), 2)\n",
    "time_of_day.head()"
   ]
  },
  {
   "cell_type": "code",
   "execution_count": 165,
   "metadata": {},
   "outputs": [
    {
     "data": {
      "application/vnd.vegalite.v2+json": {
       "$schema": "https://vega.github.io/schema/vega-lite/v2.6.0.json",
       "config": {
        "background": "white",
        "view": {
         "height": 300,
         "width": 400
        }
       },
       "data": {
        "name": "data-014e0a7dab42df99afd0375749910c16"
       },
       "datasets": {
        "data-014e0a7dab42df99afd0375749910c16": [
         {
          "index": 10,
          "order_hour_of_day": 288418,
          "pct_of_total": 8.43
         },
         {
          "index": 11,
          "order_hour_of_day": 284728,
          "pct_of_total": 8.32
         },
         {
          "index": 15,
          "order_hour_of_day": 283639,
          "pct_of_total": 8.29
         },
         {
          "index": 14,
          "order_hour_of_day": 283042,
          "pct_of_total": 8.27
         },
         {
          "index": 13,
          "order_hour_of_day": 277999,
          "pct_of_total": 8.13
         },
         {
          "index": 12,
          "order_hour_of_day": 272841,
          "pct_of_total": 7.98
         },
         {
          "index": 16,
          "order_hour_of_day": 272553,
          "pct_of_total": 7.97
         },
         {
          "index": 9,
          "order_hour_of_day": 257812,
          "pct_of_total": 7.54
         },
         {
          "index": 17,
          "order_hour_of_day": 228795,
          "pct_of_total": 6.69
         },
         {
          "index": 18,
          "order_hour_of_day": 182912,
          "pct_of_total": 5.35
         },
         {
          "index": 8,
          "order_hour_of_day": 178201,
          "pct_of_total": 5.21
         },
         {
          "index": 19,
          "order_hour_of_day": 140569,
          "pct_of_total": 4.11
         },
         {
          "index": 20,
          "order_hour_of_day": 104292,
          "pct_of_total": 3.05
         },
         {
          "index": 7,
          "order_hour_of_day": 91868,
          "pct_of_total": 2.69
         },
         {
          "index": 21,
          "order_hour_of_day": 78109,
          "pct_of_total": 2.28
         },
         {
          "index": 22,
          "order_hour_of_day": 61468,
          "pct_of_total": 1.8
         },
         {
          "index": 23,
          "order_hour_of_day": 40043,
          "pct_of_total": 1.17
         },
         {
          "index": 6,
          "order_hour_of_day": 30529,
          "pct_of_total": 0.89
         },
         {
          "index": 0,
          "order_hour_of_day": 22758,
          "pct_of_total": 0.67
         },
         {
          "index": 1,
          "order_hour_of_day": 12398,
          "pct_of_total": 0.36
         },
         {
          "index": 5,
          "order_hour_of_day": 9569,
          "pct_of_total": 0.28
         },
         {
          "index": 2,
          "order_hour_of_day": 7539,
          "pct_of_total": 0.22
         },
         {
          "index": 4,
          "order_hour_of_day": 5527,
          "pct_of_total": 0.16
         },
         {
          "index": 3,
          "order_hour_of_day": 5474,
          "pct_of_total": 0.16
         }
        ]
       },
       "encoding": {
        "color": {
         "field": "order_hour_of_day",
         "legend": null,
         "scale": {
          "scheme": "viridis"
         },
         "sort": "descending",
         "type": "quantitative"
        },
        "tooltip": [
         {
          "field": "index",
          "title": "Hour of Day",
          "type": "ordinal"
         },
         {
          "field": "order_hour_of_day",
          "type": "quantitative"
         },
         {
          "field": "pct_of_total",
          "type": "quantitative"
         }
        ],
        "x": {
         "bin": false,
         "field": "index",
         "type": "ordinal"
        },
        "y": {
         "field": "order_hour_of_day",
         "type": "quantitative"
        }
       },
       "height": 400,
       "mark": "bar",
       "title": "Order Frequency by Hour of Day",
       "width": 700
      },
      "image/png": "[encoded data removed]",
      "text/plain": [
       "<VegaLite 2 object>\n",
       "\n",
       "If you see this message, it means the renderer has not been properly enabled\n",
       "for the frontend that you are using. For more information, see\n",
       "https://altair-viz.github.io/user_guide/troubleshooting.html\n"
      ]
     },
     "execution_count": 165,
     "metadata": {},
     "output_type": "execute_result"
    }
   ],
   "source": [
    "alt.Chart(time_of_day).mark_bar().encode(\n",
    "    alt.X(\"index:O\", bin=False),\n",
    "    alt.Y('order_hour_of_day:Q'),\n",
    "#     alt.ColorValue('darkorange'),\n",
    "#     color = alt.Color('order_hour_of_day', alt.ColorValue(\"blue\")),\n",
    "#     color='orange',\n",
    "    color = alt.Color('order_hour_of_day', legend=None, sort=\"descending\", scale=alt.Scale(scheme='viridis')),\n",
    "    tooltip=[alt.Tooltip('index:O', title=\"Hour of Day\"), alt.Tooltip('order_hour_of_day:Q'), alt.Tooltip('pct_of_total:Q')]\n",
    "    ).properties(title=\"Order Frequency by Hour of Day\", width=700, height=400)"
   ]
  },
  {
   "cell_type": "code",
   "execution_count": 73,
   "metadata": {},
   "outputs": [],
   "source": [
    "dayofweek_dict = {'Monday': 1, 'Tuesday': 2, 'Wednesday': 3, 'Thursday': 4, 'Friday': 5, 'Saturday': 6, 'Sunday': 0}\n",
    "\n",
    "inv_dayofweek_dict = {v: k for k, v in dayofweek_dict.items()}\n",
    "\n",
    "dayofweek_list = ['Sunday', 'Monday', 'Tuesday', 'Wednesday', 'Thursday', 'Friday', 'Saturday']"
   ]
  },
  {
   "cell_type": "code",
   "execution_count": null,
   "metadata": {},
   "outputs": [],
   "source": []
  },
  {
   "cell_type": "code",
   "execution_count": 71,
   "metadata": {},
   "outputs": [
    {
     "data": {
      "text/html": [
       "<div>\n",
       "<style scoped>\n",
       "    .dataframe tbody tr th:only-of-type {\n",
       "        vertical-align: middle;\n",
       "    }\n",
       "\n",
       "    .dataframe tbody tr th {\n",
       "        vertical-align: top;\n",
       "    }\n",
       "\n",
       "    .dataframe thead th {\n",
       "        text-align: right;\n",
       "    }\n",
       "</style>\n",
       "<table border=\"1\" class=\"dataframe\">\n",
       "  <thead>\n",
       "    <tr style=\"text-align: right;\">\n",
       "      <th></th>\n",
       "      <th>index</th>\n",
       "      <th>order_dow</th>\n",
       "      <th>pct_of_total</th>\n",
       "      <th>day</th>\n",
       "    </tr>\n",
       "  </thead>\n",
       "  <tbody>\n",
       "    <tr>\n",
       "      <th>0</th>\n",
       "      <td>0</td>\n",
       "      <td>600905</td>\n",
       "      <td>17.56</td>\n",
       "      <td>Sunday</td>\n",
       "    </tr>\n",
       "    <tr>\n",
       "      <th>1</th>\n",
       "      <td>1</td>\n",
       "      <td>587478</td>\n",
       "      <td>17.17</td>\n",
       "      <td>Monday</td>\n",
       "    </tr>\n",
       "    <tr>\n",
       "      <th>2</th>\n",
       "      <td>2</td>\n",
       "      <td>467260</td>\n",
       "      <td>13.66</td>\n",
       "      <td>Tuesday</td>\n",
       "    </tr>\n",
       "    <tr>\n",
       "      <th>3</th>\n",
       "      <td>5</td>\n",
       "      <td>453368</td>\n",
       "      <td>13.25</td>\n",
       "      <td>Friday</td>\n",
       "    </tr>\n",
       "    <tr>\n",
       "      <th>4</th>\n",
       "      <td>6</td>\n",
       "      <td>448761</td>\n",
       "      <td>13.12</td>\n",
       "      <td>Saturday</td>\n",
       "    </tr>\n",
       "  </tbody>\n",
       "</table>\n",
       "</div>"
      ],
      "text/plain": [
       "   index  order_dow  pct_of_total       day\n",
       "0      0     600905         17.56    Sunday\n",
       "1      1     587478         17.17    Monday\n",
       "2      2     467260         13.66   Tuesday\n",
       "3      5     453368         13.25    Friday\n",
       "4      6     448761         13.12  Saturday"
      ]
     },
     "execution_count": 71,
     "metadata": {},
     "output_type": "execute_result"
    }
   ],
   "source": [
    "dow = orders['order_dow'].value_counts()\n",
    "dow = dow.reset_index()\n",
    "dow['pct_of_total'] = np.round((dow['order_dow'] / dow['order_dow'].sum()*100), 2)\n",
    "dow['day'] = dow['index'].map(inv_dayofweek_dict)\n",
    "dow.head()"
   ]
  },
  {
   "cell_type": "code",
   "execution_count": 74,
   "metadata": {},
   "outputs": [
    {
     "data": {
      "application/vnd.vegalite.v2+json": {
       "$schema": "https://vega.github.io/schema/vega-lite/v2.6.0.json",
       "config": {
        "background": "white",
        "view": {
         "height": 300,
         "width": 400
        }
       },
       "data": {
        "name": "data-2eeb425273c1a7fa247c8560553e9073"
       },
       "datasets": {
        "data-2eeb425273c1a7fa247c8560553e9073": [
         {
          "day": "Sunday",
          "index": 0,
          "order_dow": 600905,
          "pct_of_total": 17.56
         },
         {
          "day": "Monday",
          "index": 1,
          "order_dow": 587478,
          "pct_of_total": 17.17
         },
         {
          "day": "Tuesday",
          "index": 2,
          "order_dow": 467260,
          "pct_of_total": 13.66
         },
         {
          "day": "Friday",
          "index": 5,
          "order_dow": 453368,
          "pct_of_total": 13.25
         },
         {
          "day": "Saturday",
          "index": 6,
          "order_dow": 448761,
          "pct_of_total": 13.12
         },
         {
          "day": "Wednesday",
          "index": 3,
          "order_dow": 436972,
          "pct_of_total": 12.77
         },
         {
          "day": "Thursday",
          "index": 4,
          "order_dow": 426339,
          "pct_of_total": 12.46
         }
        ]
       },
       "encoding": {
        "color": {
         "field": "order_dow",
         "legend": null,
         "scale": {
          "scheme": "viridis"
         },
         "sort": "descending",
         "type": "quantitative"
        },
        "tooltip": [
         {
          "field": "day",
          "title": "Day of Week",
          "type": "ordinal"
         },
         {
          "field": "order_dow",
          "type": "quantitative"
         },
         {
          "field": "pct_of_total",
          "type": "quantitative"
         }
        ],
        "x": {
         "bin": false,
         "field": "day",
         "sort": [
          "Sunday",
          "Monday",
          "Tuesday",
          "Wednesday",
          "Thursday",
          "Friday",
          "Saturday"
         ],
         "type": "ordinal"
        },
        "y": {
         "field": "order_dow",
         "type": "quantitative"
        }
       },
       "height": 400,
       "mark": "bar",
       "title": "Order Frequency by Day of Week",
       "width": 700
      },
      "image/png": "[encoded data removed]",
      "text/plain": [
       "<VegaLite 2 object>\n",
       "\n",
       "If you see this message, it means the renderer has not been properly enabled\n",
       "for the frontend that you are using. For more information, see\n",
       "https://altair-viz.github.io/user_guide/troubleshooting.html\n"
      ]
     },
     "execution_count": 74,
     "metadata": {},
     "output_type": "execute_result"
    }
   ],
   "source": [
    "alt.Chart(dow).mark_bar().encode(\n",
    "    alt.X(\"day:O\", bin=False, sort=dayofweek_list),\n",
    "    alt.Y('order_dow:Q'),\n",
    "#     alt.ColorValue('darkorange'),\n",
    "#     color = alt.Color('order_hour_of_day', alt.ColorValue(\"blue\")),\n",
    "#     color='orange',\n",
    "    color = alt.Color('order_dow', legend=None, sort=\"descending\", scale=alt.Scale(scheme='viridis')),\n",
    "    tooltip=[alt.Tooltip('day:O', title=\"Day of Week\"), alt.Tooltip('order_dow:Q'), alt.Tooltip('pct_of_total:Q')]\n",
    "    ).properties(title=\"Order Frequency by Day of Week\", width=700, height=400)"
   ]
  },
  {
   "cell_type": "code",
   "execution_count": null,
   "metadata": {},
   "outputs": [],
   "source": []
  },
  {
   "cell_type": "code",
   "execution_count": 32,
   "metadata": {},
   "outputs": [
    {
     "data": {
      "text/html": [
       "<div>\n",
       "<style scoped>\n",
       "    .dataframe tbody tr th:only-of-type {\n",
       "        vertical-align: middle;\n",
       "    }\n",
       "\n",
       "    .dataframe tbody tr th {\n",
       "        vertical-align: top;\n",
       "    }\n",
       "\n",
       "    .dataframe thead th {\n",
       "        text-align: right;\n",
       "    }\n",
       "</style>\n",
       "<table border=\"1\" class=\"dataframe\">\n",
       "  <thead>\n",
       "    <tr style=\"text-align: right;\">\n",
       "      <th></th>\n",
       "      <th>days_since_prior_order</th>\n",
       "      <th>count</th>\n",
       "      <th>pct_of_total</th>\n",
       "    </tr>\n",
       "  </thead>\n",
       "  <tbody>\n",
       "    <tr>\n",
       "      <th>0</th>\n",
       "      <td>0</td>\n",
       "      <td>67755</td>\n",
       "      <td>2.11</td>\n",
       "    </tr>\n",
       "    <tr>\n",
       "      <th>1</th>\n",
       "      <td>1</td>\n",
       "      <td>145247</td>\n",
       "      <td>4.52</td>\n",
       "    </tr>\n",
       "    <tr>\n",
       "      <th>2</th>\n",
       "      <td>2</td>\n",
       "      <td>193206</td>\n",
       "      <td>6.01</td>\n",
       "    </tr>\n",
       "    <tr>\n",
       "      <th>3</th>\n",
       "      <td>3</td>\n",
       "      <td>217005</td>\n",
       "      <td>6.75</td>\n",
       "    </tr>\n",
       "    <tr>\n",
       "      <th>4</th>\n",
       "      <td>4</td>\n",
       "      <td>221696</td>\n",
       "      <td>6.90</td>\n",
       "    </tr>\n",
       "  </tbody>\n",
       "</table>\n",
       "</div>"
      ],
      "text/plain": [
       "   days_since_prior_order   count  pct_of_total\n",
       "0                       0   67755          2.11\n",
       "1                       1  145247          4.52\n",
       "2                       2  193206          6.01\n",
       "3                       3  217005          6.75\n",
       "4                       4  221696          6.90"
      ]
     },
     "execution_count": 32,
     "metadata": {},
     "output_type": "execute_result"
    }
   ],
   "source": [
    "days_since_prior = orders['days_since_prior_order'].value_counts()\n",
    "days_since_prior = days_since_prior.reset_index()\n",
    "days_since_prior.columns = ['days_since_prior_order', 'count']\n",
    "days_since_prior = days_since_prior.sort_values(by=['days_since_prior_order'])\n",
    "days_since_prior = days_since_prior.drop(6, axis=0)\n",
    "days_since_prior = days_since_prior.reset_index(drop=True)\n",
    "# days_since_prior = days_since_prior.drop('index', axis=1)\n",
    "# days_since_prior = days_since_prior.reset_index()\n",
    "days_since_prior['pct_of_total'] = np.round((days_since_prior['count'] / days_since_prior['count'].sum()*100), 2)\n",
    "days_since_prior.head()"
   ]
  },
  {
   "cell_type": "code",
   "execution_count": null,
   "metadata": {},
   "outputs": [],
   "source": []
  },
  {
   "cell_type": "code",
   "execution_count": 36,
   "metadata": {},
   "outputs": [
    {
     "data": {
      "application/vnd.vegalite.v2+json": {
       "$schema": "https://vega.github.io/schema/vega-lite/v2.6.0.json",
       "config": {
        "background": "white",
        "view": {
         "height": 300,
         "width": 400
        }
       },
       "data": {
        "name": "data-3db4bc69f8a7856b0194699416cd89c2"
       },
       "datasets": {
        "data-3db4bc69f8a7856b0194699416cd89c2": [
         {
          "count": 67755,
          "days_since_prior_order": 0,
          "pct_of_total": 2.11
         },
         {
          "count": 145247,
          "days_since_prior_order": 1,
          "pct_of_total": 4.52
         },
         {
          "count": 193206,
          "days_since_prior_order": 2,
          "pct_of_total": 6.01
         },
         {
          "count": 217005,
          "days_since_prior_order": 3,
          "pct_of_total": 6.75
         },
         {
          "count": 221696,
          "days_since_prior_order": 4,
          "pct_of_total": 6.9
         },
         {
          "count": 214503,
          "days_since_prior_order": 5,
          "pct_of_total": 6.67
         },
         {
          "count": 240013,
          "days_since_prior_order": 6,
          "pct_of_total": 7.47
         },
         {
          "count": 320608,
          "days_since_prior_order": 7,
          "pct_of_total": 9.97
         },
         {
          "count": 181717,
          "days_since_prior_order": 8,
          "pct_of_total": 5.65
         },
         {
          "count": 118188,
          "days_since_prior_order": 9,
          "pct_of_total": 3.68
         },
         {
          "count": 95186,
          "days_since_prior_order": 10,
          "pct_of_total": 2.96
         },
         {
          "count": 80970,
          "days_since_prior_order": 11,
          "pct_of_total": 2.52
         },
         {
          "count": 76146,
          "days_since_prior_order": 12,
          "pct_of_total": 2.37
         },
         {
          "count": 83214,
          "days_since_prior_order": 13,
          "pct_of_total": 2.59
         },
         {
          "count": 100230,
          "days_since_prior_order": 14,
          "pct_of_total": 3.12
         },
         {
          "count": 66579,
          "days_since_prior_order": 15,
          "pct_of_total": 2.07
         },
         {
          "count": 46941,
          "days_since_prior_order": 16,
          "pct_of_total": 1.46
         },
         {
          "count": 39245,
          "days_since_prior_order": 17,
          "pct_of_total": 1.22
         },
         {
          "count": 35881,
          "days_since_prior_order": 18,
          "pct_of_total": 1.12
         },
         {
          "count": 34384,
          "days_since_prior_order": 19,
          "pct_of_total": 1.07
         },
         {
          "count": 38527,
          "days_since_prior_order": 20,
          "pct_of_total": 1.2
         },
         {
          "count": 45470,
          "days_since_prior_order": 21,
          "pct_of_total": 1.41
         },
         {
          "count": 32012,
          "days_since_prior_order": 22,
          "pct_of_total": 1
         },
         {
          "count": 23885,
          "days_since_prior_order": 23,
          "pct_of_total": 0.74
         },
         {
          "count": 20712,
          "days_since_prior_order": 24,
          "pct_of_total": 0.64
         },
         {
          "count": 19234,
          "days_since_prior_order": 25,
          "pct_of_total": 0.6
         },
         {
          "count": 19016,
          "days_since_prior_order": 26,
          "pct_of_total": 0.59
         },
         {
          "count": 22013,
          "days_since_prior_order": 27,
          "pct_of_total": 0.68
         },
         {
          "count": 26777,
          "days_since_prior_order": 28,
          "pct_of_total": 0.83
         },
         {
          "count": 19191,
          "days_since_prior_order": 29,
          "pct_of_total": 0.6
         },
         {
          "count": 369323,
          "days_since_prior_order": 30,
          "pct_of_total": 11.49
         }
        ]
       },
       "encoding": {
        "color": {
         "field": "count",
         "legend": null,
         "scale": {
          "scheme": "viridis"
         },
         "sort": "descending",
         "type": "quantitative"
        },
        "tooltip": [
         {
          "field": "days_since_prior_order",
          "title": "Days since Prior Order",
          "type": "quantitative"
         },
         {
          "field": "count",
          "type": "quantitative"
         },
         {
          "field": "pct_of_total",
          "type": "quantitative"
         }
        ],
        "x": {
         "bin": false,
         "field": "days_since_prior_order",
         "type": "ordinal"
        },
        "y": {
         "field": "count",
         "type": "quantitative"
        }
       },
       "height": 400,
       "mark": "bar",
       "title": "Days Since Prior Order",
       "width": 700
      },
      "image/png": "[encoded data removed]",
      "text/plain": [
       "<VegaLite 2 object>\n",
       "\n",
       "If you see this message, it means the renderer has not been properly enabled\n",
       "for the frontend that you are using. For more information, see\n",
       "https://altair-viz.github.io/user_guide/troubleshooting.html\n"
      ]
     },
     "execution_count": 36,
     "metadata": {},
     "output_type": "execute_result"
    }
   ],
   "source": [
    "alt.Chart(days_since_prior).mark_bar().encode(\n",
    "    alt.X(\"days_since_prior_order:O\", bin=False),\n",
    "    alt.Y('count:Q'),\n",
    "#     alt.ColorValue('darkorange'),\n",
    "#     color = alt.Color('order_hour_of_day', alt.ColorValue(\"blue\")),\n",
    "#     color='orange',\n",
    "    color = alt.Color('count', legend=None, sort=\"descending\", scale=alt.Scale(scheme='viridis')),\n",
    "    tooltip=[alt.Tooltip('days_since_prior_order:Q', title=\"Days since Prior Order\"), alt.Tooltip('count:Q'), alt.Tooltip('pct_of_total:Q')]\n",
    "    ).properties(title=\"Days Since Prior Order\", width=700, height=400)"
   ]
  },
  {
   "cell_type": "code",
   "execution_count": 55,
   "metadata": {},
   "outputs": [
    {
     "data": {
      "text/plain": [
       "(3421083, 7)"
      ]
     },
     "execution_count": 55,
     "metadata": {},
     "output_type": "execute_result"
    }
   ],
   "source": [
    "orders.shape"
   ]
  },
  {
   "cell_type": "code",
   "execution_count": 162,
   "metadata": {},
   "outputs": [
    {
     "data": {
      "text/html": [
       "<div>\n",
       "<style scoped>\n",
       "    .dataframe tbody tr th:only-of-type {\n",
       "        vertical-align: middle;\n",
       "    }\n",
       "\n",
       "    .dataframe tbody tr th {\n",
       "        vertical-align: top;\n",
       "    }\n",
       "\n",
       "    .dataframe thead th {\n",
       "        text-align: right;\n",
       "    }\n",
       "</style>\n",
       "<table border=\"1\" class=\"dataframe\">\n",
       "  <thead>\n",
       "    <tr style=\"text-align: right;\">\n",
       "      <th></th>\n",
       "      <th>department_id</th>\n",
       "      <th>freq</th>\n",
       "      <th>department</th>\n",
       "      <th>pct_orders</th>\n",
       "    </tr>\n",
       "  </thead>\n",
       "  <tbody>\n",
       "    <tr>\n",
       "      <th>0</th>\n",
       "      <td>4</td>\n",
       "      <td>9479291</td>\n",
       "      <td>produce</td>\n",
       "      <td>29.23</td>\n",
       "    </tr>\n",
       "    <tr>\n",
       "      <th>1</th>\n",
       "      <td>16</td>\n",
       "      <td>5414016</td>\n",
       "      <td>dairy eggs</td>\n",
       "      <td>16.69</td>\n",
       "    </tr>\n",
       "    <tr>\n",
       "      <th>2</th>\n",
       "      <td>19</td>\n",
       "      <td>2887550</td>\n",
       "      <td>snacks</td>\n",
       "      <td>8.90</td>\n",
       "    </tr>\n",
       "    <tr>\n",
       "      <th>3</th>\n",
       "      <td>7</td>\n",
       "      <td>2690129</td>\n",
       "      <td>beverages</td>\n",
       "      <td>8.29</td>\n",
       "    </tr>\n",
       "    <tr>\n",
       "      <th>4</th>\n",
       "      <td>1</td>\n",
       "      <td>2236432</td>\n",
       "      <td>frozen</td>\n",
       "      <td>6.90</td>\n",
       "    </tr>\n",
       "    <tr>\n",
       "      <th>5</th>\n",
       "      <td>13</td>\n",
       "      <td>1875577</td>\n",
       "      <td>pantry</td>\n",
       "      <td>5.78</td>\n",
       "    </tr>\n",
       "    <tr>\n",
       "      <th>6</th>\n",
       "      <td>3</td>\n",
       "      <td>1176787</td>\n",
       "      <td>bakery</td>\n",
       "      <td>3.63</td>\n",
       "    </tr>\n",
       "    <tr>\n",
       "      <th>7</th>\n",
       "      <td>15</td>\n",
       "      <td>1068058</td>\n",
       "      <td>canned goods</td>\n",
       "      <td>3.29</td>\n",
       "    </tr>\n",
       "    <tr>\n",
       "      <th>8</th>\n",
       "      <td>20</td>\n",
       "      <td>1051249</td>\n",
       "      <td>deli</td>\n",
       "      <td>3.24</td>\n",
       "    </tr>\n",
       "    <tr>\n",
       "      <th>9</th>\n",
       "      <td>9</td>\n",
       "      <td>866627</td>\n",
       "      <td>dry goods pasta</td>\n",
       "      <td>2.67</td>\n",
       "    </tr>\n",
       "    <tr>\n",
       "      <th>10</th>\n",
       "      <td>17</td>\n",
       "      <td>738666</td>\n",
       "      <td>household</td>\n",
       "      <td>2.28</td>\n",
       "    </tr>\n",
       "    <tr>\n",
       "      <th>11</th>\n",
       "      <td>14</td>\n",
       "      <td>709569</td>\n",
       "      <td>breakfast</td>\n",
       "      <td>2.19</td>\n",
       "    </tr>\n",
       "    <tr>\n",
       "      <th>12</th>\n",
       "      <td>12</td>\n",
       "      <td>708931</td>\n",
       "      <td>meat seafood</td>\n",
       "      <td>2.19</td>\n",
       "    </tr>\n",
       "    <tr>\n",
       "      <th>13</th>\n",
       "      <td>11</td>\n",
       "      <td>447123</td>\n",
       "      <td>personal care</td>\n",
       "      <td>1.38</td>\n",
       "    </tr>\n",
       "    <tr>\n",
       "      <th>14</th>\n",
       "      <td>18</td>\n",
       "      <td>423802</td>\n",
       "      <td>babies</td>\n",
       "      <td>1.31</td>\n",
       "    </tr>\n",
       "    <tr>\n",
       "      <th>15</th>\n",
       "      <td>6</td>\n",
       "      <td>269253</td>\n",
       "      <td>international</td>\n",
       "      <td>0.83</td>\n",
       "    </tr>\n",
       "    <tr>\n",
       "      <th>16</th>\n",
       "      <td>5</td>\n",
       "      <td>153696</td>\n",
       "      <td>alcohol</td>\n",
       "      <td>0.47</td>\n",
       "    </tr>\n",
       "    <tr>\n",
       "      <th>17</th>\n",
       "      <td>8</td>\n",
       "      <td>97724</td>\n",
       "      <td>pets</td>\n",
       "      <td>0.30</td>\n",
       "    </tr>\n",
       "    <tr>\n",
       "      <th>18</th>\n",
       "      <td>21</td>\n",
       "      <td>69145</td>\n",
       "      <td>missing</td>\n",
       "      <td>0.21</td>\n",
       "    </tr>\n",
       "    <tr>\n",
       "      <th>19</th>\n",
       "      <td>2</td>\n",
       "      <td>36291</td>\n",
       "      <td>other</td>\n",
       "      <td>0.11</td>\n",
       "    </tr>\n",
       "    <tr>\n",
       "      <th>20</th>\n",
       "      <td>10</td>\n",
       "      <td>34573</td>\n",
       "      <td>bulk</td>\n",
       "      <td>0.11</td>\n",
       "    </tr>\n",
       "  </tbody>\n",
       "</table>\n",
       "</div>"
      ],
      "text/plain": [
       "    department_id     freq       department  pct_orders\n",
       "0               4  9479291          produce       29.23\n",
       "1              16  5414016       dairy eggs       16.69\n",
       "2              19  2887550           snacks        8.90\n",
       "3               7  2690129        beverages        8.29\n",
       "4               1  2236432           frozen        6.90\n",
       "5              13  1875577           pantry        5.78\n",
       "6               3  1176787           bakery        3.63\n",
       "7              15  1068058     canned goods        3.29\n",
       "8              20  1051249             deli        3.24\n",
       "9               9   866627  dry goods pasta        2.67\n",
       "10             17   738666        household        2.28\n",
       "11             14   709569        breakfast        2.19\n",
       "12             12   708931     meat seafood        2.19\n",
       "13             11   447123    personal care        1.38\n",
       "14             18   423802           babies        1.31\n",
       "15              6   269253    international        0.83\n",
       "16              5   153696          alcohol        0.47\n",
       "17              8    97724             pets        0.30\n",
       "18             21    69145          missing        0.21\n",
       "19              2    36291            other        0.11\n",
       "20             10    34573             bulk        0.11"
      ]
     },
     "execution_count": 162,
     "metadata": {},
     "output_type": "execute_result"
    }
   ],
   "source": [
    "dept_stats = df['department_id'].value_counts().reset_index()\n",
    "dept_stats.columns = ['department_id', 'freq']\n",
    "dept_stats = pd.merge(dept_stats, departments, on='department_id', how='left')\n",
    "dept_stats['pct_orders'] = np.round((dept_stats['freq'] / dept_stats['freq'].sum()) * 100,2)\n",
    "dept_stats"
   ]
  },
  {
   "cell_type": "code",
   "execution_count": 163,
   "metadata": {},
   "outputs": [
    {
     "data": {
      "application/vnd.vegalite.v2+json": {
       "$schema": "https://vega.github.io/schema/vega-lite/v2.6.0.json",
       "config": {
        "background": "white",
        "view": {
         "height": 300,
         "width": 400
        }
       },
       "data": {
        "name": "data-3e73da957ef4674121d9f2932c31a7b2"
       },
       "datasets": {
        "data-3e73da957ef4674121d9f2932c31a7b2": [
         {
          "department": "produce",
          "department_id": 4,
          "freq": 9479291,
          "pct_orders": 29.23
         },
         {
          "department": "dairy eggs",
          "department_id": 16,
          "freq": 5414016,
          "pct_orders": 16.69
         },
         {
          "department": "snacks",
          "department_id": 19,
          "freq": 2887550,
          "pct_orders": 8.9
         },
         {
          "department": "beverages",
          "department_id": 7,
          "freq": 2690129,
          "pct_orders": 8.29
         },
         {
          "department": "frozen",
          "department_id": 1,
          "freq": 2236432,
          "pct_orders": 6.9
         },
         {
          "department": "pantry",
          "department_id": 13,
          "freq": 1875577,
          "pct_orders": 5.78
         },
         {
          "department": "bakery",
          "department_id": 3,
          "freq": 1176787,
          "pct_orders": 3.63
         },
         {
          "department": "canned goods",
          "department_id": 15,
          "freq": 1068058,
          "pct_orders": 3.29
         },
         {
          "department": "deli",
          "department_id": 20,
          "freq": 1051249,
          "pct_orders": 3.24
         },
         {
          "department": "dry goods pasta",
          "department_id": 9,
          "freq": 866627,
          "pct_orders": 2.67
         },
         {
          "department": "household",
          "department_id": 17,
          "freq": 738666,
          "pct_orders": 2.28
         },
         {
          "department": "breakfast",
          "department_id": 14,
          "freq": 709569,
          "pct_orders": 2.19
         },
         {
          "department": "meat seafood",
          "department_id": 12,
          "freq": 708931,
          "pct_orders": 2.19
         },
         {
          "department": "personal care",
          "department_id": 11,
          "freq": 447123,
          "pct_orders": 1.38
         },
         {
          "department": "babies",
          "department_id": 18,
          "freq": 423802,
          "pct_orders": 1.31
         },
         {
          "department": "international",
          "department_id": 6,
          "freq": 269253,
          "pct_orders": 0.83
         },
         {
          "department": "alcohol",
          "department_id": 5,
          "freq": 153696,
          "pct_orders": 0.47
         },
         {
          "department": "pets",
          "department_id": 8,
          "freq": 97724,
          "pct_orders": 0.3
         },
         {
          "department": "missing",
          "department_id": 21,
          "freq": 69145,
          "pct_orders": 0.21
         },
         {
          "department": "other",
          "department_id": 2,
          "freq": 36291,
          "pct_orders": 0.11
         },
         {
          "department": "bulk",
          "department_id": 10,
          "freq": 34573,
          "pct_orders": 0.11
         }
        ]
       },
       "encoding": {
        "color": {
         "field": "freq",
         "legend": null,
         "scale": {
          "scheme": "viridis"
         },
         "sort": "descending",
         "type": "quantitative"
        },
        "tooltip": [
         {
          "field": "department",
          "title": "Department",
          "type": "ordinal"
         },
         {
          "field": "freq",
          "type": "quantitative"
         },
         {
          "field": "pct_orders",
          "type": "quantitative"
         }
        ],
        "x": {
         "bin": false,
         "field": "department",
         "type": "ordinal"
        },
        "y": {
         "field": "freq",
         "type": "quantitative"
        }
       },
       "height": 400,
       "mark": "bar",
       "title": "Orders by Department",
       "width": 700
      },
      "image/png": "[encoded data removed]",
      "text/plain": [
       "<VegaLite 2 object>\n",
       "\n",
       "If you see this message, it means the renderer has not been properly enabled\n",
       "for the frontend that you are using. For more information, see\n",
       "https://altair-viz.github.io/user_guide/troubleshooting.html\n"
      ]
     },
     "execution_count": 163,
     "metadata": {},
     "output_type": "execute_result"
    }
   ],
   "source": [
    "chart_title = \"Orders by Department\"\n",
    "x_label = \"department:O\"\n",
    "y_label = 'freq:Q'\n",
    "pct_of_orders = 'pct_orders:Q'\n",
    "# sort_list = honeycrisp_df['index'].tolist()\n",
    "\n",
    "\n",
    "alt.Chart(dept_stats).mark_bar().encode(\n",
    "    alt.X(x_label, bin=False),\n",
    "    alt.Y(y_label),\n",
    "    color = alt.Color(y_label, legend=None, sort=\"descending\", scale=alt.Scale(scheme='viridis')),\n",
    "    tooltip=[alt.Tooltip(x_label, title=\"Department\"), alt.Tooltip(y_label), alt.Tooltip(pct_of_orders)]\n",
    "    ).properties(title=chart_title, width=700, height=400)"
   ]
  },
  {
   "cell_type": "code",
   "execution_count": null,
   "metadata": {},
   "outputs": [],
   "source": []
  },
  {
   "cell_type": "code",
   "execution_count": 60,
   "metadata": {},
   "outputs": [
    {
     "data": {
      "text/plain": [
       "24852    472565\n",
       "13176    379450\n",
       "21137    264683\n",
       "21903    241921\n",
       "47209    213584\n",
       "47766    176815\n",
       "47626    152657\n",
       "16797    142951\n",
       "26209    140627\n",
       "27845    137905\n",
       "Name: product_id, dtype: int64"
      ]
     },
     "execution_count": 60,
     "metadata": {},
     "output_type": "execute_result"
    }
   ],
   "source": [
    "df['product_id'].value_counts()[:10]"
   ]
  },
  {
   "cell_type": "code",
   "execution_count": 168,
   "metadata": {},
   "outputs": [
    {
     "data": {
      "text/plain": [
       "Banana                                  472565\n",
       "Bag of Organic Bananas                  379450\n",
       "Organic Strawberries                    264683\n",
       "Organic Baby Spinach                    241921\n",
       "Organic Hass Avocado                    213584\n",
       "Organic Avocado                         176815\n",
       "Large Lemon                             152657\n",
       "Strawberries                            142951\n",
       "Limes                                   140627\n",
       "Organic Whole Milk                      137905\n",
       "Organic Raspberries                     137057\n",
       "Organic Yellow Onion                    113426\n",
       "Organic Garlic                          109778\n",
       "Organic Zucchini                        104823\n",
       "Organic Blueberries                     100060\n",
       "Cucumber Kirby                           97315\n",
       "Organic Fuji Apple                       89632\n",
       "Organic Lemon                            87746\n",
       "Apple Honeycrisp Organic                 85020\n",
       "Organic Grape Tomatoes                   84255\n",
       "Seedless Red Grapes                      82689\n",
       "Organic Cucumber                         80392\n",
       "Honeycrisp Apple                         79769\n",
       "Organic Baby Carrots                     76896\n",
       "Organic Half & Half                      76360\n",
       "Sparkling Water Grapefruit               75886\n",
       "Organic Large Extra Fancy Fuji Apple     75165\n",
       "Yellow Onions                            73167\n",
       "Organic Gala Apples                      72846\n",
       "Organic Baby Arugula                     72829\n",
       "Carrots                                  72736\n",
       "Fresh Cauliflower                        71584\n",
       "Original Hummus                          71314\n",
       "Organic Cilantro                         69524\n",
       "Half & Half                              69217\n",
       "Organic Small Bunch Celery               68091\n",
       "Michigan Organic Kale                    67449\n",
       "Asparagus                                67283\n",
       "Organic Red Onion                        66986\n",
       "Organic Tomato Cluster                   64289\n",
       "Name: product_name, dtype: int64"
      ]
     },
     "execution_count": 168,
     "metadata": {},
     "output_type": "execute_result"
    }
   ],
   "source": [
    "df['product_name'].value_counts()[:40]"
   ]
  },
  {
   "cell_type": "code",
   "execution_count": null,
   "metadata": {},
   "outputs": [],
   "source": []
  },
  {
   "cell_type": "code",
   "execution_count": 77,
   "metadata": {},
   "outputs": [
    {
     "data": {
      "text/html": [
       "<div>\n",
       "<style scoped>\n",
       "    .dataframe tbody tr th:only-of-type {\n",
       "        vertical-align: middle;\n",
       "    }\n",
       "\n",
       "    .dataframe tbody tr th {\n",
       "        vertical-align: top;\n",
       "    }\n",
       "\n",
       "    .dataframe thead th {\n",
       "        text-align: right;\n",
       "    }\n",
       "</style>\n",
       "<table border=\"1\" class=\"dataframe\">\n",
       "  <thead>\n",
       "    <tr style=\"text-align: right;\">\n",
       "      <th></th>\n",
       "      <th>product_id</th>\n",
       "      <th>product_name</th>\n",
       "      <th>aisle_id</th>\n",
       "      <th>department_id</th>\n",
       "    </tr>\n",
       "  </thead>\n",
       "  <tbody>\n",
       "    <tr>\n",
       "      <th>0</th>\n",
       "      <td>1</td>\n",
       "      <td>Chocolate Sandwich Cookies</td>\n",
       "      <td>61</td>\n",
       "      <td>19</td>\n",
       "    </tr>\n",
       "    <tr>\n",
       "      <th>1</th>\n",
       "      <td>2</td>\n",
       "      <td>All-Seasons Salt</td>\n",
       "      <td>104</td>\n",
       "      <td>13</td>\n",
       "    </tr>\n",
       "    <tr>\n",
       "      <th>2</th>\n",
       "      <td>3</td>\n",
       "      <td>Robust Golden Unsweetened Oolong Tea</td>\n",
       "      <td>94</td>\n",
       "      <td>7</td>\n",
       "    </tr>\n",
       "    <tr>\n",
       "      <th>3</th>\n",
       "      <td>4</td>\n",
       "      <td>Smart Ones Classic Favorites Mini Rigatoni Wit...</td>\n",
       "      <td>38</td>\n",
       "      <td>1</td>\n",
       "    </tr>\n",
       "    <tr>\n",
       "      <th>4</th>\n",
       "      <td>5</td>\n",
       "      <td>Green Chile Anytime Sauce</td>\n",
       "      <td>5</td>\n",
       "      <td>13</td>\n",
       "    </tr>\n",
       "  </tbody>\n",
       "</table>\n",
       "</div>"
      ],
      "text/plain": [
       "   product_id                                       product_name  aisle_id  \\\n",
       "0           1                         Chocolate Sandwich Cookies        61   \n",
       "1           2                                   All-Seasons Salt       104   \n",
       "2           3               Robust Golden Unsweetened Oolong Tea        94   \n",
       "3           4  Smart Ones Classic Favorites Mini Rigatoni Wit...        38   \n",
       "4           5                          Green Chile Anytime Sauce         5   \n",
       "\n",
       "   department_id  \n",
       "0             19  \n",
       "1             13  \n",
       "2              7  \n",
       "3              1  \n",
       "4             13  "
      ]
     },
     "execution_count": 77,
     "metadata": {},
     "output_type": "execute_result"
    }
   ],
   "source": [
    "products.head()"
   ]
  },
  {
   "cell_type": "code",
   "execution_count": 83,
   "metadata": {},
   "outputs": [],
   "source": [
    "product_dict = dict(zip(products['product_name'], products['product_id']))"
   ]
  },
  {
   "cell_type": "code",
   "execution_count": 104,
   "metadata": {},
   "outputs": [],
   "source": [
    "num_orders = orders.shape[0]\n",
    "\n",
    "top_prods = df['product_name'].value_counts()[:30]\n",
    "top_prods = pd.DataFrame(top_prods).reset_index()\n",
    "top_prods.columns = ['index', 'count']\n",
    "top_prods['product_num'] = top_prods['index'].map(product_dict)\n",
    "top_prods['Pct_of_Baskets'] = (top_prods['count'] / num_orders) * 100"
   ]
  },
  {
   "cell_type": "code",
   "execution_count": 105,
   "metadata": {},
   "outputs": [
    {
     "data": {
      "text/html": [
       "<div>\n",
       "<style scoped>\n",
       "    .dataframe tbody tr th:only-of-type {\n",
       "        vertical-align: middle;\n",
       "    }\n",
       "\n",
       "    .dataframe tbody tr th {\n",
       "        vertical-align: top;\n",
       "    }\n",
       "\n",
       "    .dataframe thead th {\n",
       "        text-align: right;\n",
       "    }\n",
       "</style>\n",
       "<table border=\"1\" class=\"dataframe\">\n",
       "  <thead>\n",
       "    <tr style=\"text-align: right;\">\n",
       "      <th></th>\n",
       "      <th>index</th>\n",
       "      <th>count</th>\n",
       "      <th>product_num</th>\n",
       "      <th>Pct_of_Baskets</th>\n",
       "    </tr>\n",
       "  </thead>\n",
       "  <tbody>\n",
       "    <tr>\n",
       "      <th>0</th>\n",
       "      <td>Banana</td>\n",
       "      <td>472565</td>\n",
       "      <td>24852</td>\n",
       "      <td>13.813316</td>\n",
       "    </tr>\n",
       "    <tr>\n",
       "      <th>1</th>\n",
       "      <td>Bag of Organic Bananas</td>\n",
       "      <td>379450</td>\n",
       "      <td>13176</td>\n",
       "      <td>11.091517</td>\n",
       "    </tr>\n",
       "    <tr>\n",
       "      <th>2</th>\n",
       "      <td>Organic Strawberries</td>\n",
       "      <td>264683</td>\n",
       "      <td>21137</td>\n",
       "      <td>7.736819</td>\n",
       "    </tr>\n",
       "    <tr>\n",
       "      <th>3</th>\n",
       "      <td>Organic Baby Spinach</td>\n",
       "      <td>241921</td>\n",
       "      <td>21903</td>\n",
       "      <td>7.071474</td>\n",
       "    </tr>\n",
       "    <tr>\n",
       "      <th>4</th>\n",
       "      <td>Organic Hass Avocado</td>\n",
       "      <td>213584</td>\n",
       "      <td>47209</td>\n",
       "      <td>6.243169</td>\n",
       "    </tr>\n",
       "  </tbody>\n",
       "</table>\n",
       "</div>"
      ],
      "text/plain": [
       "                    index   count  product_num  Pct_of_Baskets\n",
       "0                  Banana  472565        24852       13.813316\n",
       "1  Bag of Organic Bananas  379450        13176       11.091517\n",
       "2    Organic Strawberries  264683        21137        7.736819\n",
       "3    Organic Baby Spinach  241921        21903        7.071474\n",
       "4    Organic Hass Avocado  213584        47209        6.243169"
      ]
     },
     "execution_count": 105,
     "metadata": {},
     "output_type": "execute_result"
    }
   ],
   "source": [
    "top_prods.head()"
   ]
  },
  {
   "cell_type": "code",
   "execution_count": 65,
   "metadata": {},
   "outputs": [],
   "source": [
    "top_prods_order_list = top_prods['index'].tolist()"
   ]
  },
  {
   "cell_type": "code",
   "execution_count": 156,
   "metadata": {},
   "outputs": [
    {
     "data": {
      "application/vnd.vegalite.v2+json": {
       "$schema": "https://vega.github.io/schema/vega-lite/v2.6.0.json",
       "config": {
        "background": "white",
        "view": {
         "height": 300,
         "width": 400
        }
       },
       "data": {
        "name": "data-3a0821f4cb5de9e9e16552b2c8814d1b"
       },
       "datasets": {
        "data-3a0821f4cb5de9e9e16552b2c8814d1b": [
         {
          "Pct_of_Baskets": 13.813315841796298,
          "count": 472565,
          "index": "Banana",
          "product_num": 24852
         },
         {
          "Pct_of_Baskets": 11.091516926072826,
          "count": 379450,
          "index": "Bag of Organic Bananas",
          "product_num": 13176
         },
         {
          "Pct_of_Baskets": 7.736819013160452,
          "count": 264683,
          "index": "Organic Strawberries",
          "product_num": 21137
         },
         {
          "Pct_of_Baskets": 7.0714741501448515,
          "count": 241921,
          "index": "Organic Baby Spinach",
          "product_num": 21903
         },
         {
          "Pct_of_Baskets": 6.243169195251913,
          "count": 213584,
          "index": "Organic Hass Avocado",
          "product_num": 47209
         },
         {
          "Pct_of_Baskets": 5.168392582115079,
          "count": 176815,
          "index": "Organic Avocado",
          "product_num": 47766
         },
         {
          "Pct_of_Baskets": 4.4622419274831975,
          "count": 152657,
          "index": "Large Lemon",
          "product_num": 47626
         },
         {
          "Pct_of_Baskets": 4.178530599812983,
          "count": 142951,
          "index": "Strawberries",
          "product_num": 16797
         },
         {
          "Pct_of_Baskets": 4.110598895145192,
          "count": 140627,
          "index": "Limes",
          "product_num": 26209
         },
         {
          "Pct_of_Baskets": 4.031033447595396,
          "count": 137905,
          "index": "Organic Whole Milk",
          "product_num": 27845
         },
         {
          "Pct_of_Baskets": 4.006245975324188,
          "count": 137057,
          "index": "Organic Raspberries",
          "product_num": 27966
         },
         {
          "Pct_of_Baskets": 3.3154997993325503,
          "count": 113426,
          "index": "Organic Yellow Onion",
          "product_num": 22935
         },
         {
          "Pct_of_Baskets": 3.2088668997507517,
          "count": 109778,
          "index": "Organic Garlic",
          "product_num": 24964
         },
         {
          "Pct_of_Baskets": 3.0640297239207586,
          "count": 104823,
          "index": "Organic Zucchini",
          "product_num": 45007
         },
         {
          "Pct_of_Baskets": 2.924804805963492,
          "count": 100060,
          "index": "Organic Blueberries",
          "product_num": 39275
         },
         {
          "Pct_of_Baskets": 2.844567056689358,
          "count": 97315,
          "index": "Cucumber Kirby",
          "product_num": 49683
         },
         {
          "Pct_of_Baskets": 2.6199890502510463,
          "count": 89632,
          "index": "Organic Fuji Apple",
          "product_num": 28204
         },
         {
          "Pct_of_Baskets": 2.5648603088554123,
          "count": 87746,
          "index": "Organic Lemon",
          "product_num": 5876
         },
         {
          "Pct_of_Baskets": 2.4851779392666007,
          "count": 85020,
          "index": "Apple Honeycrisp Organic",
          "product_num": 8277
         },
         {
          "Pct_of_Baskets": 2.462816599304957,
          "count": 84255,
          "index": "Organic Grape Tomatoes",
          "product_num": 40706
         },
         {
          "Pct_of_Baskets": 2.4170416210305334,
          "count": 82689,
          "index": "Seedless Red Grapes",
          "product_num": 4920
         },
         {
          "Pct_of_Baskets": 2.3498991401260945,
          "count": 80392,
          "index": "Organic Cucumber",
          "product_num": 30391
         },
         {
          "Pct_of_Baskets": 2.331688532549488,
          "count": 79769,
          "index": "Honeycrisp Apple",
          "product_num": 45066
         },
         {
          "Pct_of_Baskets": 2.2477092780268704,
          "count": 76896,
          "index": "Organic Baby Carrots",
          "product_num": 42265
         },
         {
          "Pct_of_Baskets": 2.232041724798843,
          "count": 76360,
          "index": "Organic Half & Half",
          "product_num": 49235
         },
         {
          "Pct_of_Baskets": 2.21818646317555,
          "count": 75886,
          "index": "Sparkling Water Grapefruit",
          "product_num": 44632
         },
         {
          "Pct_of_Baskets": 2.1971112656430725,
          "count": 75165,
          "index": "Organic Large Extra Fancy Fuji Apple",
          "product_num": 19057
         },
         {
          "Pct_of_Baskets": 2.138708707155015,
          "count": 73167,
          "index": "Yellow Onions",
          "product_num": 4605
         },
         {
          "Pct_of_Baskets": 2.1293257135240506,
          "count": 72846,
          "index": "Organic Gala Apples",
          "product_num": 37646
         },
         {
          "Pct_of_Baskets": 2.1288287948582365,
          "count": 72829,
          "index": "Organic Baby Arugula",
          "product_num": 21616
         }
        ]
       },
       "encoding": {
        "color": {
         "field": "count",
         "legend": null,
         "scale": {
          "scheme": "viridis"
         },
         "sort": "descending",
         "type": "quantitative"
        },
        "tooltip": [
         {
          "field": "index",
          "title": "Product",
          "type": "ordinal"
         },
         {
          "field": "count",
          "type": "quantitative"
         },
         {
          "field": "Pct_of_Baskets",
          "type": "quantitative"
         },
         {
          "field": "product_num",
          "type": "ordinal"
         }
        ],
        "x": {
         "bin": false,
         "field": "index",
         "sort": [
          "Banana",
          "Bag of Organic Bananas",
          "Organic Strawberries",
          "Organic Baby Spinach",
          "Organic Hass Avocado",
          "Organic Avocado",
          "Large Lemon",
          "Strawberries",
          "Limes",
          "Organic Whole Milk",
          "Organic Raspberries",
          "Organic Yellow Onion",
          "Organic Garlic",
          "Organic Zucchini",
          "Organic Blueberries",
          "Cucumber Kirby",
          "Organic Fuji Apple",
          "Organic Lemon",
          "Apple Honeycrisp Organic",
          "Organic Grape Tomatoes",
          "Seedless Red Grapes",
          "Organic Cucumber",
          "Honeycrisp Apple",
          "Organic Baby Carrots",
          "Organic Half & Half",
          "Sparkling Water Grapefruit",
          "Organic Large Extra Fancy Fuji Apple",
          "Yellow Onions",
          "Organic Gala Apples",
          "Organic Baby Arugula"
         ],
         "type": "ordinal"
        },
        "y": {
         "field": "count",
         "type": "quantitative"
        }
       },
       "height": 400,
       "mark": "bar",
       "title": "Top 30 Products Ordered",
       "width": 700
      },
      "image/png": "[encoded data removed]",
      "text/plain": [
       "<VegaLite 2 object>\n",
       "\n",
       "If you see this message, it means the renderer has not been properly enabled\n",
       "for the frontend that you are using. For more information, see\n",
       "https://altair-viz.github.io/user_guide/troubleshooting.html\n"
      ]
     },
     "execution_count": 156,
     "metadata": {},
     "output_type": "execute_result"
    }
   ],
   "source": [
    "chart_title = \"Top 30 Products Ordered\"\n",
    "x_label = \"index:O\"\n",
    "y_label = 'count:Q'\n",
    "pct_of_baskets = 'Pct_of_Baskets:Q'\n",
    "product_num = 'product_num:O'\n",
    "\n",
    "\n",
    "\n",
    "alt.Chart(top_prods).mark_bar().encode(\n",
    "    alt.X(x_label, bin=False, sort=top_prods_order_list),\n",
    "    alt.Y(y_label),\n",
    "#     alt.ColorValue('darkorange'),\n",
    "#     color = alt.Color('order_hour_of_day', alt.ColorValue(\"blue\")),\n",
    "#     color='orange',\n",
    "    color = alt.Color(y_label, legend=None, sort=\"descending\", scale=alt.Scale(scheme='viridis')),\n",
    "    tooltip=[alt.Tooltip(x_label, title=\"Product\"), alt.Tooltip(y_label), alt.Tooltip(pct_of_baskets), alt.Tooltip(product_num)]\n",
    "    ).properties(title=chart_title, width=700, height=400)"
   ]
  },
  {
   "cell_type": "markdown",
   "metadata": {},
   "source": [
    "## Items Most Frequently Ordered with Organic Strawberries"
   ]
  },
  {
   "cell_type": "code",
   "execution_count": 94,
   "metadata": {},
   "outputs": [
    {
     "data": {
      "text/plain": [
       "[10, 57, 81, 88, 92, 95, 160, 196, 197, 212]"
      ]
     },
     "execution_count": 94,
     "metadata": {},
     "output_type": "execute_result"
    }
   ],
   "source": [
    "ords_org_strawberries = df[df['product_id'] == 21137]['order_id'].tolist()\n",
    "ords_org_strawberries[:10]"
   ]
  },
  {
   "cell_type": "code",
   "execution_count": 99,
   "metadata": {},
   "outputs": [],
   "source": [
    "org_strawberry_df = df[df['order_id'].isin(ords_org_strawberries)]"
   ]
  },
  {
   "cell_type": "code",
   "execution_count": 101,
   "metadata": {},
   "outputs": [
    {
     "data": {
      "text/plain": [
       "(4017483, 12)"
      ]
     },
     "execution_count": 101,
     "metadata": {},
     "output_type": "execute_result"
    }
   ],
   "source": [
    "org_strawberry_df.shape"
   ]
  },
  {
   "cell_type": "code",
   "execution_count": 114,
   "metadata": {},
   "outputs": [
    {
     "data": {
      "text/html": [
       "<div>\n",
       "<style scoped>\n",
       "    .dataframe tbody tr th:only-of-type {\n",
       "        vertical-align: middle;\n",
       "    }\n",
       "\n",
       "    .dataframe tbody tr th {\n",
       "        vertical-align: top;\n",
       "    }\n",
       "\n",
       "    .dataframe thead th {\n",
       "        text-align: right;\n",
       "    }\n",
       "</style>\n",
       "<table border=\"1\" class=\"dataframe\">\n",
       "  <thead>\n",
       "    <tr style=\"text-align: right;\">\n",
       "      <th></th>\n",
       "      <th>order_id</th>\n",
       "      <th>product_id</th>\n",
       "      <th>add_to_cart_order</th>\n",
       "      <th>reordered</th>\n",
       "      <th>product_name</th>\n",
       "      <th>aisle_id</th>\n",
       "      <th>department_id</th>\n",
       "      <th>user_id</th>\n",
       "      <th>order_number</th>\n",
       "      <th>order_dow</th>\n",
       "      <th>order_hour_of_day</th>\n",
       "      <th>days_since_prior_order</th>\n",
       "    </tr>\n",
       "  </thead>\n",
       "  <tbody>\n",
       "    <tr>\n",
       "      <th>77</th>\n",
       "      <td>10</td>\n",
       "      <td>24852</td>\n",
       "      <td>1</td>\n",
       "      <td>1</td>\n",
       "      <td>Banana</td>\n",
       "      <td>24</td>\n",
       "      <td>4</td>\n",
       "      <td>135442</td>\n",
       "      <td>4</td>\n",
       "      <td>6</td>\n",
       "      <td>8</td>\n",
       "      <td>8</td>\n",
       "    </tr>\n",
       "    <tr>\n",
       "      <th>78</th>\n",
       "      <td>10</td>\n",
       "      <td>4796</td>\n",
       "      <td>2</td>\n",
       "      <td>1</td>\n",
       "      <td>Baby Portabella Mushrooms</td>\n",
       "      <td>83</td>\n",
       "      <td>4</td>\n",
       "      <td>135442</td>\n",
       "      <td>4</td>\n",
       "      <td>6</td>\n",
       "      <td>8</td>\n",
       "      <td>8</td>\n",
       "    </tr>\n",
       "    <tr>\n",
       "      <th>79</th>\n",
       "      <td>10</td>\n",
       "      <td>31717</td>\n",
       "      <td>3</td>\n",
       "      <td>0</td>\n",
       "      <td>Organic Cilantro</td>\n",
       "      <td>16</td>\n",
       "      <td>4</td>\n",
       "      <td>135442</td>\n",
       "      <td>4</td>\n",
       "      <td>6</td>\n",
       "      <td>8</td>\n",
       "      <td>8</td>\n",
       "    </tr>\n",
       "    <tr>\n",
       "      <th>80</th>\n",
       "      <td>10</td>\n",
       "      <td>47766</td>\n",
       "      <td>4</td>\n",
       "      <td>1</td>\n",
       "      <td>Organic Avocado</td>\n",
       "      <td>24</td>\n",
       "      <td>4</td>\n",
       "      <td>135442</td>\n",
       "      <td>4</td>\n",
       "      <td>6</td>\n",
       "      <td>8</td>\n",
       "      <td>8</td>\n",
       "    </tr>\n",
       "    <tr>\n",
       "      <th>81</th>\n",
       "      <td>10</td>\n",
       "      <td>4605</td>\n",
       "      <td>5</td>\n",
       "      <td>1</td>\n",
       "      <td>Yellow Onions</td>\n",
       "      <td>83</td>\n",
       "      <td>4</td>\n",
       "      <td>135442</td>\n",
       "      <td>4</td>\n",
       "      <td>6</td>\n",
       "      <td>8</td>\n",
       "      <td>8</td>\n",
       "    </tr>\n",
       "    <tr>\n",
       "      <th>82</th>\n",
       "      <td>10</td>\n",
       "      <td>1529</td>\n",
       "      <td>6</td>\n",
       "      <td>0</td>\n",
       "      <td>Parsley, Italian (Flat), New England Grown</td>\n",
       "      <td>16</td>\n",
       "      <td>4</td>\n",
       "      <td>135442</td>\n",
       "      <td>4</td>\n",
       "      <td>6</td>\n",
       "      <td>8</td>\n",
       "      <td>8</td>\n",
       "    </tr>\n",
       "    <tr>\n",
       "      <th>83</th>\n",
       "      <td>10</td>\n",
       "      <td>21137</td>\n",
       "      <td>7</td>\n",
       "      <td>1</td>\n",
       "      <td>Organic Strawberries</td>\n",
       "      <td>24</td>\n",
       "      <td>4</td>\n",
       "      <td>135442</td>\n",
       "      <td>4</td>\n",
       "      <td>6</td>\n",
       "      <td>8</td>\n",
       "      <td>8</td>\n",
       "    </tr>\n",
       "    <tr>\n",
       "      <th>84</th>\n",
       "      <td>10</td>\n",
       "      <td>22122</td>\n",
       "      <td>8</td>\n",
       "      <td>1</td>\n",
       "      <td>Stage 2 Green Bean Pear Greek Yogurt Baby Food</td>\n",
       "      <td>92</td>\n",
       "      <td>18</td>\n",
       "      <td>135442</td>\n",
       "      <td>4</td>\n",
       "      <td>6</td>\n",
       "      <td>8</td>\n",
       "      <td>8</td>\n",
       "    </tr>\n",
       "    <tr>\n",
       "      <th>85</th>\n",
       "      <td>10</td>\n",
       "      <td>34134</td>\n",
       "      <td>9</td>\n",
       "      <td>1</td>\n",
       "      <td>Spinach Peas &amp; Pear Stage 2 Baby Food</td>\n",
       "      <td>92</td>\n",
       "      <td>18</td>\n",
       "      <td>135442</td>\n",
       "      <td>4</td>\n",
       "      <td>6</td>\n",
       "      <td>8</td>\n",
       "      <td>8</td>\n",
       "    </tr>\n",
       "    <tr>\n",
       "      <th>86</th>\n",
       "      <td>10</td>\n",
       "      <td>27156</td>\n",
       "      <td>10</td>\n",
       "      <td>0</td>\n",
       "      <td>Organic Black Beans</td>\n",
       "      <td>59</td>\n",
       "      <td>15</td>\n",
       "      <td>135442</td>\n",
       "      <td>4</td>\n",
       "      <td>6</td>\n",
       "      <td>8</td>\n",
       "      <td>8</td>\n",
       "    </tr>\n",
       "    <tr>\n",
       "      <th>87</th>\n",
       "      <td>10</td>\n",
       "      <td>14992</td>\n",
       "      <td>11</td>\n",
       "      <td>0</td>\n",
       "      <td>Green Beans</td>\n",
       "      <td>83</td>\n",
       "      <td>4</td>\n",
       "      <td>135442</td>\n",
       "      <td>4</td>\n",
       "      <td>6</td>\n",
       "      <td>8</td>\n",
       "      <td>8</td>\n",
       "    </tr>\n",
       "    <tr>\n",
       "      <th>88</th>\n",
       "      <td>10</td>\n",
       "      <td>49235</td>\n",
       "      <td>12</td>\n",
       "      <td>1</td>\n",
       "      <td>Organic Half &amp; Half</td>\n",
       "      <td>53</td>\n",
       "      <td>16</td>\n",
       "      <td>135442</td>\n",
       "      <td>4</td>\n",
       "      <td>6</td>\n",
       "      <td>8</td>\n",
       "      <td>8</td>\n",
       "    </tr>\n",
       "    <tr>\n",
       "      <th>89</th>\n",
       "      <td>10</td>\n",
       "      <td>26842</td>\n",
       "      <td>13</td>\n",
       "      <td>0</td>\n",
       "      <td>Boneless Beef Sirloin Steak</td>\n",
       "      <td>122</td>\n",
       "      <td>12</td>\n",
       "      <td>135442</td>\n",
       "      <td>4</td>\n",
       "      <td>6</td>\n",
       "      <td>8</td>\n",
       "      <td>8</td>\n",
       "    </tr>\n",
       "    <tr>\n",
       "      <th>90</th>\n",
       "      <td>10</td>\n",
       "      <td>3464</td>\n",
       "      <td>14</td>\n",
       "      <td>0</td>\n",
       "      <td>Organic Butterhead (Boston, Butter, Bibb) Lettuce</td>\n",
       "      <td>83</td>\n",
       "      <td>4</td>\n",
       "      <td>135442</td>\n",
       "      <td>4</td>\n",
       "      <td>6</td>\n",
       "      <td>8</td>\n",
       "      <td>8</td>\n",
       "    </tr>\n",
       "    <tr>\n",
       "      <th>91</th>\n",
       "      <td>10</td>\n",
       "      <td>25720</td>\n",
       "      <td>15</td>\n",
       "      <td>0</td>\n",
       "      <td>Organic Sunchoke</td>\n",
       "      <td>83</td>\n",
       "      <td>4</td>\n",
       "      <td>135442</td>\n",
       "      <td>4</td>\n",
       "      <td>6</td>\n",
       "      <td>8</td>\n",
       "      <td>8</td>\n",
       "    </tr>\n",
       "    <tr>\n",
       "      <th>472</th>\n",
       "      <td>57</td>\n",
       "      <td>21903</td>\n",
       "      <td>1</td>\n",
       "      <td>0</td>\n",
       "      <td>Organic Baby Spinach</td>\n",
       "      <td>123</td>\n",
       "      <td>4</td>\n",
       "      <td>34016</td>\n",
       "      <td>1</td>\n",
       "      <td>6</td>\n",
       "      <td>8</td>\n",
       "      <td>-1</td>\n",
       "    </tr>\n",
       "    <tr>\n",
       "      <th>473</th>\n",
       "      <td>57</td>\n",
       "      <td>47231</td>\n",
       "      <td>2</td>\n",
       "      <td>0</td>\n",
       "      <td>Ultra-Purified Water</td>\n",
       "      <td>115</td>\n",
       "      <td>7</td>\n",
       "      <td>34016</td>\n",
       "      <td>1</td>\n",
       "      <td>6</td>\n",
       "      <td>8</td>\n",
       "      <td>-1</td>\n",
       "    </tr>\n",
       "    <tr>\n",
       "      <th>474</th>\n",
       "      <td>57</td>\n",
       "      <td>21137</td>\n",
       "      <td>3</td>\n",
       "      <td>0</td>\n",
       "      <td>Organic Strawberries</td>\n",
       "      <td>24</td>\n",
       "      <td>4</td>\n",
       "      <td>34016</td>\n",
       "      <td>1</td>\n",
       "      <td>6</td>\n",
       "      <td>8</td>\n",
       "      <td>-1</td>\n",
       "    </tr>\n",
       "    <tr>\n",
       "      <th>475</th>\n",
       "      <td>57</td>\n",
       "      <td>43122</td>\n",
       "      <td>4</td>\n",
       "      <td>0</td>\n",
       "      <td>Organic Bartlett Pear</td>\n",
       "      <td>24</td>\n",
       "      <td>4</td>\n",
       "      <td>34016</td>\n",
       "      <td>1</td>\n",
       "      <td>6</td>\n",
       "      <td>8</td>\n",
       "      <td>-1</td>\n",
       "    </tr>\n",
       "    <tr>\n",
       "      <th>476</th>\n",
       "      <td>57</td>\n",
       "      <td>19057</td>\n",
       "      <td>5</td>\n",
       "      <td>0</td>\n",
       "      <td>Organic Large Extra Fancy Fuji Apple</td>\n",
       "      <td>24</td>\n",
       "      <td>4</td>\n",
       "      <td>34016</td>\n",
       "      <td>1</td>\n",
       "      <td>6</td>\n",
       "      <td>8</td>\n",
       "      <td>-1</td>\n",
       "    </tr>\n",
       "  </tbody>\n",
       "</table>\n",
       "</div>"
      ],
      "text/plain": [
       "     order_id  product_id  add_to_cart_order  reordered  \\\n",
       "77         10       24852                  1          1   \n",
       "78         10        4796                  2          1   \n",
       "79         10       31717                  3          0   \n",
       "80         10       47766                  4          1   \n",
       "81         10        4605                  5          1   \n",
       "82         10        1529                  6          0   \n",
       "83         10       21137                  7          1   \n",
       "84         10       22122                  8          1   \n",
       "85         10       34134                  9          1   \n",
       "86         10       27156                 10          0   \n",
       "87         10       14992                 11          0   \n",
       "88         10       49235                 12          1   \n",
       "89         10       26842                 13          0   \n",
       "90         10        3464                 14          0   \n",
       "91         10       25720                 15          0   \n",
       "472        57       21903                  1          0   \n",
       "473        57       47231                  2          0   \n",
       "474        57       21137                  3          0   \n",
       "475        57       43122                  4          0   \n",
       "476        57       19057                  5          0   \n",
       "\n",
       "                                          product_name  aisle_id  \\\n",
       "77                                              Banana        24   \n",
       "78                           Baby Portabella Mushrooms        83   \n",
       "79                                    Organic Cilantro        16   \n",
       "80                                     Organic Avocado        24   \n",
       "81                                       Yellow Onions        83   \n",
       "82          Parsley, Italian (Flat), New England Grown        16   \n",
       "83                                Organic Strawberries        24   \n",
       "84      Stage 2 Green Bean Pear Greek Yogurt Baby Food        92   \n",
       "85               Spinach Peas & Pear Stage 2 Baby Food        92   \n",
       "86                                 Organic Black Beans        59   \n",
       "87                                         Green Beans        83   \n",
       "88                                 Organic Half & Half        53   \n",
       "89                         Boneless Beef Sirloin Steak       122   \n",
       "90   Organic Butterhead (Boston, Butter, Bibb) Lettuce        83   \n",
       "91                                    Organic Sunchoke        83   \n",
       "472                               Organic Baby Spinach       123   \n",
       "473                               Ultra-Purified Water       115   \n",
       "474                               Organic Strawberries        24   \n",
       "475                              Organic Bartlett Pear        24   \n",
       "476               Organic Large Extra Fancy Fuji Apple        24   \n",
       "\n",
       "     department_id  user_id  order_number  order_dow  order_hour_of_day  \\\n",
       "77               4   135442             4          6                  8   \n",
       "78               4   135442             4          6                  8   \n",
       "79               4   135442             4          6                  8   \n",
       "80               4   135442             4          6                  8   \n",
       "81               4   135442             4          6                  8   \n",
       "82               4   135442             4          6                  8   \n",
       "83               4   135442             4          6                  8   \n",
       "84              18   135442             4          6                  8   \n",
       "85              18   135442             4          6                  8   \n",
       "86              15   135442             4          6                  8   \n",
       "87               4   135442             4          6                  8   \n",
       "88              16   135442             4          6                  8   \n",
       "89              12   135442             4          6                  8   \n",
       "90               4   135442             4          6                  8   \n",
       "91               4   135442             4          6                  8   \n",
       "472              4    34016             1          6                  8   \n",
       "473              7    34016             1          6                  8   \n",
       "474              4    34016             1          6                  8   \n",
       "475              4    34016             1          6                  8   \n",
       "476              4    34016             1          6                  8   \n",
       "\n",
       "     days_since_prior_order  \n",
       "77                        8  \n",
       "78                        8  \n",
       "79                        8  \n",
       "80                        8  \n",
       "81                        8  \n",
       "82                        8  \n",
       "83                        8  \n",
       "84                        8  \n",
       "85                        8  \n",
       "86                        8  \n",
       "87                        8  \n",
       "88                        8  \n",
       "89                        8  \n",
       "90                        8  \n",
       "91                        8  \n",
       "472                      -1  \n",
       "473                      -1  \n",
       "474                      -1  \n",
       "475                      -1  \n",
       "476                      -1  "
      ]
     },
     "execution_count": 114,
     "metadata": {},
     "output_type": "execute_result"
    }
   ],
   "source": [
    "org_strawberry_df.head(20)"
   ]
  },
  {
   "cell_type": "code",
   "execution_count": 119,
   "metadata": {},
   "outputs": [
    {
     "data": {
      "text/plain": [
       "Bag of Organic Bananas                  61628\n",
       "Banana                                  56156\n",
       "Organic Hass Avocado                    40794\n",
       "Organic Baby Spinach                    38134\n",
       "Organic Raspberries                     33863\n",
       "Organic Avocado                         23984\n",
       "Organic Whole Milk                      23813\n",
       "Organic Blueberries                     23756\n",
       "Limes                                   18999\n",
       "Organic Yellow Onion                    16651\n",
       "Organic Cucumber                        16555\n",
       "Large Lemon                             16305\n",
       "Apple Honeycrisp Organic                15870\n",
       "Organic Garlic                          15627\n",
       "Organic Grape Tomatoes                  15573\n",
       "Organic Zucchini                        15320\n",
       "Organic Lemon                           15152\n",
       "Organic Large Extra Fancy Fuji Apple    15113\n",
       "Seedless Red Grapes                     13935\n",
       "Organic Whole String Cheese             13513\n",
       "Organic Gala Apples                     13298\n",
       "Organic Baby Carrots                    13156\n",
       "Organic Kiwi                            12486\n",
       "Organic Blackberries                    12444\n",
       "Original Hummus                         12124\n",
       "Cucumber Kirby                          12045\n",
       "Organic Red Bell Pepper                 11913\n",
       "Organic Tomato Cluster                  11680\n",
       "Honeycrisp Apple                        11465\n",
       "Fresh Cauliflower                       10976\n",
       "Name: product_name, dtype: int64"
      ]
     },
     "execution_count": 119,
     "metadata": {},
     "output_type": "execute_result"
    }
   ],
   "source": [
    "# top 30 items ordered with organic strawberries\n",
    "num_org_strawb = org_strawberry_df['product_name'].value_counts()[0]\n",
    "top_items_org_strawb = org_strawberry_df['product_name'].value_counts()[1:31]\n",
    "top_items_org_strawb"
   ]
  },
  {
   "cell_type": "code",
   "execution_count": 120,
   "metadata": {},
   "outputs": [
    {
     "data": {
      "text/html": [
       "<div>\n",
       "<style scoped>\n",
       "    .dataframe tbody tr th:only-of-type {\n",
       "        vertical-align: middle;\n",
       "    }\n",
       "\n",
       "    .dataframe tbody tr th {\n",
       "        vertical-align: top;\n",
       "    }\n",
       "\n",
       "    .dataframe thead th {\n",
       "        text-align: right;\n",
       "    }\n",
       "</style>\n",
       "<table border=\"1\" class=\"dataframe\">\n",
       "  <thead>\n",
       "    <tr style=\"text-align: right;\">\n",
       "      <th></th>\n",
       "      <th>index</th>\n",
       "      <th>count</th>\n",
       "      <th>pct_orders</th>\n",
       "      <th>product_num</th>\n",
       "    </tr>\n",
       "  </thead>\n",
       "  <tbody>\n",
       "    <tr>\n",
       "      <th>0</th>\n",
       "      <td>Bag of Organic Bananas</td>\n",
       "      <td>61628</td>\n",
       "      <td>23.283702</td>\n",
       "      <td>13176</td>\n",
       "    </tr>\n",
       "    <tr>\n",
       "      <th>1</th>\n",
       "      <td>Banana</td>\n",
       "      <td>56156</td>\n",
       "      <td>21.216323</td>\n",
       "      <td>24852</td>\n",
       "    </tr>\n",
       "    <tr>\n",
       "      <th>2</th>\n",
       "      <td>Organic Hass Avocado</td>\n",
       "      <td>40794</td>\n",
       "      <td>15.412399</td>\n",
       "      <td>47209</td>\n",
       "    </tr>\n",
       "    <tr>\n",
       "      <th>3</th>\n",
       "      <td>Organic Baby Spinach</td>\n",
       "      <td>38134</td>\n",
       "      <td>14.407423</td>\n",
       "      <td>21903</td>\n",
       "    </tr>\n",
       "    <tr>\n",
       "      <th>4</th>\n",
       "      <td>Organic Raspberries</td>\n",
       "      <td>33863</td>\n",
       "      <td>12.793795</td>\n",
       "      <td>27966</td>\n",
       "    </tr>\n",
       "  </tbody>\n",
       "</table>\n",
       "</div>"
      ],
      "text/plain": [
       "                    index  count  pct_orders  product_num\n",
       "0  Bag of Organic Bananas  61628   23.283702        13176\n",
       "1                  Banana  56156   21.216323        24852\n",
       "2    Organic Hass Avocado  40794   15.412399        47209\n",
       "3    Organic Baby Spinach  38134   14.407423        21903\n",
       "4     Organic Raspberries  33863   12.793795        27966"
      ]
     },
     "execution_count": 120,
     "metadata": {},
     "output_type": "execute_result"
    }
   ],
   "source": [
    "top_items_org_strawb = pd.DataFrame(top_items_org_strawb)\n",
    "top_items_org_strawb = top_items_org_strawb.reset_index()\n",
    "top_items_org_strawb.columns = ['index', 'count']\n",
    "top_items_org_strawb['pct_orders'] = (top_items_org_strawb['count'] / num_org_strawb) * 100\n",
    "top_items_org_strawb['product_num'] = top_items_org_strawb['index'].map(product_dict)\n",
    "top_items_org_strawb.head()"
   ]
  },
  {
   "cell_type": "code",
   "execution_count": 136,
   "metadata": {},
   "outputs": [],
   "source": [
    "org_straw_order_list = top_items_org_strawb['index'].tolist()\n",
    "# org_straw_order_list"
   ]
  },
  {
   "cell_type": "code",
   "execution_count": 155,
   "metadata": {},
   "outputs": [
    {
     "data": {
      "application/vnd.vegalite.v2+json": {
       "$schema": "https://vega.github.io/schema/vega-lite/v2.6.0.json",
       "config": {
        "background": "white",
        "view": {
         "height": 300,
         "width": 400
        }
       },
       "data": {
        "name": "data-f2633522d2a9dcf5b31551030df3f3fd"
       },
       "datasets": {
        "data-f2633522d2a9dcf5b31551030df3f3fd": [
         {
          "count": 61628,
          "index": "Bag of Organic Bananas",
          "pct_orders": 23.283701635541384,
          "product_num": 13176
         },
         {
          "count": 56156,
          "index": "Banana",
          "pct_orders": 21.216322922137046,
          "product_num": 24852
         },
         {
          "count": 40794,
          "index": "Organic Hass Avocado",
          "pct_orders": 15.412398982934302,
          "product_num": 47209
         },
         {
          "count": 38134,
          "index": "Organic Baby Spinach",
          "pct_orders": 14.407423219473861,
          "product_num": 21903
         },
         {
          "count": 33863,
          "index": "Organic Raspberries",
          "pct_orders": 12.793794841376288,
          "product_num": 27966
         },
         {
          "count": 23984,
          "index": "Organic Avocado",
          "pct_orders": 9.061405530389182,
          "product_num": 47766
         },
         {
          "count": 23813,
          "index": "Organic Whole Milk",
          "pct_orders": 8.996799945595297,
          "product_num": 27845
         },
         {
          "count": 23756,
          "index": "Organic Blueberries",
          "pct_orders": 8.975264750664001,
          "product_num": 39275
         },
         {
          "count": 18999,
          "index": "Limes",
          "pct_orders": 7.178020499994332,
          "product_num": 26209
         },
         {
          "count": 16651,
          "index": "Organic Yellow Onion",
          "pct_orders": 6.290921592999927,
          "product_num": 22935
         },
         {
          "count": 16555,
          "index": "Organic Cucumber",
          "pct_orders": 6.254651791010378,
          "product_num": 30391
         },
         {
          "count": 16305,
          "index": "Large Lemon",
          "pct_orders": 6.160199181662593,
          "product_num": 47626
         },
         {
          "count": 15870,
          "index": "Apple Honeycrisp Organic",
          "pct_orders": 5.995851641397445,
          "product_num": 8277
         },
         {
          "count": 15627,
          "index": "Organic Garlic",
          "pct_orders": 5.904043705111397,
          "product_num": 24964
         },
         {
          "count": 15573,
          "index": "Organic Grape Tomatoes",
          "pct_orders": 5.883641941492276,
          "product_num": 40706
         },
         {
          "count": 15320,
          "index": "Organic Zucchini",
          "pct_orders": 5.788055900832316,
          "product_num": 45007
         },
         {
          "count": 15152,
          "index": "Organic Lemon",
          "pct_orders": 5.7245837473506045,
          "product_num": 5876
         },
         {
          "count": 15113,
          "index": "Organic Large Extra Fancy Fuji Apple",
          "pct_orders": 5.7098491402923495,
          "product_num": 19057
         },
         {
          "count": 13935,
          "index": "Seedless Red Grapes",
          "pct_orders": 5.264788445045583,
          "product_num": 4920
         },
         {
          "count": 13513,
          "index": "Organic Whole String Cheese",
          "pct_orders": 5.10535244046652,
          "product_num": 22035
         },
         {
          "count": 13298,
          "index": "Organic Gala Apples",
          "pct_orders": 5.024123196427425,
          "product_num": 37646
         },
         {
          "count": 13156,
          "index": "Organic Baby Carrots",
          "pct_orders": 4.970474114317882,
          "product_num": 42265
         },
         {
          "count": 12486,
          "index": "Organic Kiwi",
          "pct_orders": 4.717341121265816,
          "product_num": 39928
         },
         {
          "count": 12444,
          "index": "Organic Blackberries",
          "pct_orders": 4.701473082895388,
          "product_num": 26604
         },
         {
          "count": 12124,
          "index": "Original Hummus",
          "pct_orders": 4.5805737429302225,
          "product_num": 30489
         },
         {
          "count": 12045,
          "index": "Cucumber Kirby",
          "pct_orders": 4.550726718376322,
          "product_num": 49683
         },
         {
          "count": 11913,
          "index": "Organic Red Bell Pepper",
          "pct_orders": 4.5008557406406915,
          "product_num": 10749
         },
         {
          "count": 11680,
          "index": "Organic Tomato Cluster",
          "pct_orders": 4.412825908728554,
          "product_num": 41950
         },
         {
          "count": 11465,
          "index": "Honeycrisp Apple",
          "pct_orders": 4.331596664689458,
          "product_num": 45066
         },
         {
          "count": 10976,
          "index": "Fresh Cauliflower",
          "pct_orders": 4.14684736080519,
          "product_num": 27104
         }
        ]
       },
       "encoding": {
        "color": {
         "field": "count",
         "legend": null,
         "scale": {
          "scheme": "viridis"
         },
         "sort": "descending",
         "type": "quantitative"
        },
        "tooltip": [
         {
          "field": "index",
          "title": "Item",
          "type": "ordinal"
         },
         {
          "field": "count",
          "type": "quantitative"
         },
         {
          "field": "pct_orders",
          "type": "quantitative"
         },
         {
          "field": "product_num",
          "type": "ordinal"
         }
        ],
        "x": {
         "bin": false,
         "field": "index",
         "sort": [
          "Bag of Organic Bananas",
          "Banana",
          "Organic Hass Avocado",
          "Organic Baby Spinach",
          "Organic Raspberries",
          "Organic Avocado",
          "Organic Whole Milk",
          "Organic Blueberries",
          "Limes",
          "Organic Yellow Onion",
          "Organic Cucumber",
          "Large Lemon",
          "Apple Honeycrisp Organic",
          "Organic Garlic",
          "Organic Grape Tomatoes",
          "Organic Zucchini",
          "Organic Lemon",
          "Organic Large Extra Fancy Fuji Apple",
          "Seedless Red Grapes",
          "Organic Whole String Cheese",
          "Organic Gala Apples",
          "Organic Baby Carrots",
          "Organic Kiwi",
          "Organic Blackberries",
          "Original Hummus",
          "Cucumber Kirby",
          "Organic Red Bell Pepper",
          "Organic Tomato Cluster",
          "Honeycrisp Apple",
          "Fresh Cauliflower"
         ],
         "type": "ordinal"
        },
        "y": {
         "field": "count",
         "type": "quantitative"
        }
       },
       "height": 400,
       "mark": "bar",
       "title": "Top 30 Products Ordered with Organic Strawberries",
       "width": 700
      },
      "image/png": "[encoded data removed]",
      "text/plain": [
       "<VegaLite 2 object>\n",
       "\n",
       "If you see this message, it means the renderer has not been properly enabled\n",
       "for the frontend that you are using. For more information, see\n",
       "https://altair-viz.github.io/user_guide/troubleshooting.html\n"
      ]
     },
     "execution_count": 155,
     "metadata": {},
     "output_type": "execute_result"
    }
   ],
   "source": [
    "chart_title = \"Top 30 Products Ordered with Organic Strawberries\"\n",
    "x_label = \"index:O\"\n",
    "y_label = 'count:Q'\n",
    "pct_of_orders = 'pct_orders:Q'\n",
    "product_num = 'product_num:O'\n",
    "\n",
    "\n",
    "\n",
    "alt.Chart(top_items_org_strawb).mark_bar().encode(\n",
    "    alt.X(x_label, bin=False, sort=org_straw_order_list),\n",
    "    alt.Y(y_label),\n",
    "#     alt.ColorValue('darkorange'),\n",
    "#     color = alt.Color('order_hour_of_day', alt.ColorValue(\"blue\")),\n",
    "#     color='orange',\n",
    "    color = alt.Color(y_label, legend=None, sort=\"descending\", scale=alt.Scale(scheme='viridis')),\n",
    "    tooltip=[alt.Tooltip(x_label, title=\"Item\"), alt.Tooltip(y_label), alt.Tooltip(pct_of_orders), alt.Tooltip(product_num)]\n",
    "    ).properties(title=chart_title, width=700, height=400)"
   ]
  },
  {
   "cell_type": "code",
   "execution_count": null,
   "metadata": {},
   "outputs": [],
   "source": []
  },
  {
   "cell_type": "code",
   "execution_count": null,
   "metadata": {},
   "outputs": [],
   "source": []
  },
  {
   "cell_type": "markdown",
   "metadata": {},
   "source": [
    "## Items Most Frequently Ordered with Honeycrisp Apples"
   ]
  },
  {
   "cell_type": "code",
   "execution_count": 148,
   "metadata": {},
   "outputs": [],
   "source": [
    "# find top n items ordered with any particular product by product_id\n",
    "def top_n_items(df, product_id, n):\n",
    "    orders = df[df['product_id'] == product_id]['order_id'].tolist()\n",
    "    orders_with_item = df[df['order_id'].isin(orders)]\n",
    "\n",
    "    # top 30 items ordered with organic strawberries\n",
    "    num_of_main_item = orders_with_item['product_name'].value_counts()[0]\n",
    "    top_items_with_item = orders_with_item['product_name'].value_counts()[1:n+1]\n",
    "\n",
    "    top_items_with_item = pd.DataFrame(top_items_with_item)\n",
    "    top_items_with_item = top_items_with_item.reset_index()\n",
    "    top_items_with_item.columns = ['index', 'count']\n",
    "    top_items_with_item['pct_orders'] = np.round((top_items_with_item['count'] / num_of_main_item) * 100, 2)\n",
    "    top_items_with_item['product_num'] = top_items_with_item['index'].map(product_dict)\n",
    "\n",
    "    top_items_order_list = top_items_with_item['index'].tolist()\n",
    "    \n",
    "    return top_items_with_item"
   ]
  },
  {
   "cell_type": "code",
   "execution_count": 149,
   "metadata": {},
   "outputs": [
    {
     "data": {
      "text/html": [
       "<div>\n",
       "<style scoped>\n",
       "    .dataframe tbody tr th:only-of-type {\n",
       "        vertical-align: middle;\n",
       "    }\n",
       "\n",
       "    .dataframe tbody tr th {\n",
       "        vertical-align: top;\n",
       "    }\n",
       "\n",
       "    .dataframe thead th {\n",
       "        text-align: right;\n",
       "    }\n",
       "</style>\n",
       "<table border=\"1\" class=\"dataframe\">\n",
       "  <thead>\n",
       "    <tr style=\"text-align: right;\">\n",
       "      <th></th>\n",
       "      <th>index</th>\n",
       "      <th>count</th>\n",
       "      <th>pct_orders</th>\n",
       "      <th>product_num</th>\n",
       "    </tr>\n",
       "  </thead>\n",
       "  <tbody>\n",
       "    <tr>\n",
       "      <th>0</th>\n",
       "      <td>Banana</td>\n",
       "      <td>28408</td>\n",
       "      <td>35.61</td>\n",
       "      <td>24852</td>\n",
       "    </tr>\n",
       "    <tr>\n",
       "      <th>1</th>\n",
       "      <td>Organic Strawberries</td>\n",
       "      <td>11465</td>\n",
       "      <td>14.37</td>\n",
       "      <td>21137</td>\n",
       "    </tr>\n",
       "    <tr>\n",
       "      <th>2</th>\n",
       "      <td>Bag of Organic Bananas</td>\n",
       "      <td>11137</td>\n",
       "      <td>13.96</td>\n",
       "      <td>13176</td>\n",
       "    </tr>\n",
       "    <tr>\n",
       "      <th>3</th>\n",
       "      <td>Organic Avocado</td>\n",
       "      <td>11046</td>\n",
       "      <td>13.85</td>\n",
       "      <td>47766</td>\n",
       "    </tr>\n",
       "    <tr>\n",
       "      <th>4</th>\n",
       "      <td>Organic Baby Spinach</td>\n",
       "      <td>10170</td>\n",
       "      <td>12.75</td>\n",
       "      <td>21903</td>\n",
       "    </tr>\n",
       "    <tr>\n",
       "      <th>5</th>\n",
       "      <td>Large Lemon</td>\n",
       "      <td>9485</td>\n",
       "      <td>11.89</td>\n",
       "      <td>47626</td>\n",
       "    </tr>\n",
       "    <tr>\n",
       "      <th>6</th>\n",
       "      <td>Organic Hass Avocado</td>\n",
       "      <td>8100</td>\n",
       "      <td>10.15</td>\n",
       "      <td>47209</td>\n",
       "    </tr>\n",
       "    <tr>\n",
       "      <th>7</th>\n",
       "      <td>Strawberries</td>\n",
       "      <td>7536</td>\n",
       "      <td>9.45</td>\n",
       "      <td>16797</td>\n",
       "    </tr>\n",
       "    <tr>\n",
       "      <th>8</th>\n",
       "      <td>Limes</td>\n",
       "      <td>6993</td>\n",
       "      <td>8.77</td>\n",
       "      <td>26209</td>\n",
       "    </tr>\n",
       "    <tr>\n",
       "      <th>9</th>\n",
       "      <td>Cucumber Kirby</td>\n",
       "      <td>6518</td>\n",
       "      <td>8.17</td>\n",
       "      <td>49683</td>\n",
       "    </tr>\n",
       "  </tbody>\n",
       "</table>\n",
       "</div>"
      ],
      "text/plain": [
       "                    index  count  pct_orders  product_num\n",
       "0                  Banana  28408       35.61        24852\n",
       "1    Organic Strawberries  11465       14.37        21137\n",
       "2  Bag of Organic Bananas  11137       13.96        13176\n",
       "3         Organic Avocado  11046       13.85        47766\n",
       "4    Organic Baby Spinach  10170       12.75        21903\n",
       "5             Large Lemon   9485       11.89        47626\n",
       "6    Organic Hass Avocado   8100       10.15        47209\n",
       "7            Strawberries   7536        9.45        16797\n",
       "8                   Limes   6993        8.77        26209\n",
       "9          Cucumber Kirby   6518        8.17        49683"
      ]
     },
     "execution_count": 149,
     "metadata": {},
     "output_type": "execute_result"
    }
   ],
   "source": [
    "# top 10 items ordered with honeycrisp apples\n",
    "honeycrisp_df = top_n_items(df, 45066, 10)\n",
    "honeycrisp_df"
   ]
  },
  {
   "cell_type": "code",
   "execution_count": null,
   "metadata": {},
   "outputs": [],
   "source": []
  },
  {
   "cell_type": "code",
   "execution_count": 154,
   "metadata": {},
   "outputs": [
    {
     "data": {
      "application/vnd.vegalite.v2+json": {
       "$schema": "https://vega.github.io/schema/vega-lite/v2.6.0.json",
       "config": {
        "background": "white",
        "view": {
         "height": 300,
         "width": 400
        }
       },
       "data": {
        "name": "data-a9baa478648e0985cf7d473037226368"
       },
       "datasets": {
        "data-a9baa478648e0985cf7d473037226368": [
         {
          "count": 28408,
          "index": "Banana",
          "pct_orders": 35.61,
          "product_num": 24852
         },
         {
          "count": 11465,
          "index": "Organic Strawberries",
          "pct_orders": 14.37,
          "product_num": 21137
         },
         {
          "count": 11137,
          "index": "Bag of Organic Bananas",
          "pct_orders": 13.96,
          "product_num": 13176
         },
         {
          "count": 11046,
          "index": "Organic Avocado",
          "pct_orders": 13.85,
          "product_num": 47766
         },
         {
          "count": 10170,
          "index": "Organic Baby Spinach",
          "pct_orders": 12.75,
          "product_num": 21903
         },
         {
          "count": 9485,
          "index": "Large Lemon",
          "pct_orders": 11.89,
          "product_num": 47626
         },
         {
          "count": 8100,
          "index": "Organic Hass Avocado",
          "pct_orders": 10.15,
          "product_num": 47209
         },
         {
          "count": 7536,
          "index": "Strawberries",
          "pct_orders": 9.45,
          "product_num": 16797
         },
         {
          "count": 6993,
          "index": "Limes",
          "pct_orders": 8.77,
          "product_num": 26209
         },
         {
          "count": 6518,
          "index": "Cucumber Kirby",
          "pct_orders": 8.17,
          "product_num": 49683
         }
        ]
       },
       "encoding": {
        "color": {
         "field": "count",
         "legend": null,
         "scale": {
          "scheme": "viridis"
         },
         "sort": "descending",
         "type": "quantitative"
        },
        "tooltip": [
         {
          "field": "index",
          "title": "Item",
          "type": "ordinal"
         },
         {
          "field": "count",
          "type": "quantitative"
         },
         {
          "field": "pct_orders",
          "type": "quantitative"
         },
         {
          "field": "product_num",
          "type": "ordinal"
         }
        ],
        "x": {
         "bin": false,
         "field": "index",
         "sort": [
          "Banana",
          "Organic Strawberries",
          "Bag of Organic Bananas",
          "Organic Avocado",
          "Organic Baby Spinach",
          "Large Lemon",
          "Organic Hass Avocado",
          "Strawberries",
          "Limes",
          "Cucumber Kirby"
         ],
         "type": "ordinal"
        },
        "y": {
         "field": "count",
         "type": "quantitative"
        }
       },
       "height": 400,
       "mark": "bar",
       "title": "Top 10 Products Ordered with Honeycrisp Apples",
       "width": 700
      },
      "image/png": "[encoded data removed]",
      "text/plain": [
       "<VegaLite 2 object>\n",
       "\n",
       "If you see this message, it means the renderer has not been properly enabled\n",
       "for the frontend that you are using. For more information, see\n",
       "https://altair-viz.github.io/user_guide/troubleshooting.html\n"
      ]
     },
     "execution_count": 154,
     "metadata": {},
     "output_type": "execute_result"
    }
   ],
   "source": [
    "chart_title = \"Top 10 Products Ordered with Honeycrisp Apples\"\n",
    "x_label = \"index:O\"\n",
    "y_label = 'count:Q'\n",
    "pct_of_orders = 'pct_orders:Q'\n",
    "product_num = 'product_num:O'\n",
    "sort_list = honeycrisp_df['index'].tolist()\n",
    "\n",
    "\n",
    "alt.Chart(honeycrisp_df).mark_bar().encode(\n",
    "    alt.X(x_label, bin=False, sort=sort_list),\n",
    "    alt.Y(y_label),\n",
    "    color = alt.Color(y_label, legend=None, sort=\"descending\", scale=alt.Scale(scheme='viridis')),\n",
    "    tooltip=[alt.Tooltip(x_label, title=\"Item\"), alt.Tooltip(y_label), alt.Tooltip(pct_of_orders), alt.Tooltip(product_num)]\n",
    "    ).properties(title=chart_title, width=700, height=400)"
   ]
  },
  {
   "cell_type": "markdown",
   "metadata": {},
   "source": [
    "## Items Most Frequently Ordered with Organic Turkey Burgers"
   ]
  },
  {
   "cell_type": "code",
   "execution_count": 152,
   "metadata": {},
   "outputs": [
    {
     "data": {
      "text/html": [
       "<div>\n",
       "<style scoped>\n",
       "    .dataframe tbody tr th:only-of-type {\n",
       "        vertical-align: middle;\n",
       "    }\n",
       "\n",
       "    .dataframe tbody tr th {\n",
       "        vertical-align: top;\n",
       "    }\n",
       "\n",
       "    .dataframe thead th {\n",
       "        text-align: right;\n",
       "    }\n",
       "</style>\n",
       "<table border=\"1\" class=\"dataframe\">\n",
       "  <thead>\n",
       "    <tr style=\"text-align: right;\">\n",
       "      <th></th>\n",
       "      <th>index</th>\n",
       "      <th>count</th>\n",
       "      <th>pct_orders</th>\n",
       "      <th>product_num</th>\n",
       "    </tr>\n",
       "  </thead>\n",
       "  <tbody>\n",
       "    <tr>\n",
       "      <th>0</th>\n",
       "      <td>Banana</td>\n",
       "      <td>179</td>\n",
       "      <td>16.76</td>\n",
       "      <td>24852</td>\n",
       "    </tr>\n",
       "    <tr>\n",
       "      <th>1</th>\n",
       "      <td>Bag of Organic Bananas</td>\n",
       "      <td>172</td>\n",
       "      <td>16.10</td>\n",
       "      <td>13176</td>\n",
       "    </tr>\n",
       "    <tr>\n",
       "      <th>2</th>\n",
       "      <td>Organic Strawberries</td>\n",
       "      <td>169</td>\n",
       "      <td>15.82</td>\n",
       "      <td>21137</td>\n",
       "    </tr>\n",
       "    <tr>\n",
       "      <th>3</th>\n",
       "      <td>Organic Baby Spinach</td>\n",
       "      <td>151</td>\n",
       "      <td>14.14</td>\n",
       "      <td>21903</td>\n",
       "    </tr>\n",
       "    <tr>\n",
       "      <th>4</th>\n",
       "      <td>Organic Hass Avocado</td>\n",
       "      <td>135</td>\n",
       "      <td>12.64</td>\n",
       "      <td>47209</td>\n",
       "    </tr>\n",
       "    <tr>\n",
       "      <th>5</th>\n",
       "      <td>Organic Avocado</td>\n",
       "      <td>114</td>\n",
       "      <td>10.67</td>\n",
       "      <td>47766</td>\n",
       "    </tr>\n",
       "    <tr>\n",
       "      <th>6</th>\n",
       "      <td>Organic Raspberries</td>\n",
       "      <td>101</td>\n",
       "      <td>9.46</td>\n",
       "      <td>27966</td>\n",
       "    </tr>\n",
       "    <tr>\n",
       "      <th>7</th>\n",
       "      <td>Organic Baby Carrots</td>\n",
       "      <td>99</td>\n",
       "      <td>9.27</td>\n",
       "      <td>42265</td>\n",
       "    </tr>\n",
       "    <tr>\n",
       "      <th>8</th>\n",
       "      <td>Organic Zucchini</td>\n",
       "      <td>82</td>\n",
       "      <td>7.68</td>\n",
       "      <td>45007</td>\n",
       "    </tr>\n",
       "    <tr>\n",
       "      <th>9</th>\n",
       "      <td>Large Lemon</td>\n",
       "      <td>75</td>\n",
       "      <td>7.02</td>\n",
       "      <td>47626</td>\n",
       "    </tr>\n",
       "    <tr>\n",
       "      <th>10</th>\n",
       "      <td>Original Hummus</td>\n",
       "      <td>73</td>\n",
       "      <td>6.84</td>\n",
       "      <td>30489</td>\n",
       "    </tr>\n",
       "    <tr>\n",
       "      <th>11</th>\n",
       "      <td>Cucumber Kirby</td>\n",
       "      <td>70</td>\n",
       "      <td>6.55</td>\n",
       "      <td>49683</td>\n",
       "    </tr>\n",
       "    <tr>\n",
       "      <th>12</th>\n",
       "      <td>Limes</td>\n",
       "      <td>70</td>\n",
       "      <td>6.55</td>\n",
       "      <td>26209</td>\n",
       "    </tr>\n",
       "    <tr>\n",
       "      <th>13</th>\n",
       "      <td>Organic Red Bell Pepper</td>\n",
       "      <td>68</td>\n",
       "      <td>6.37</td>\n",
       "      <td>10749</td>\n",
       "    </tr>\n",
       "    <tr>\n",
       "      <th>14</th>\n",
       "      <td>Organic Whole Milk</td>\n",
       "      <td>68</td>\n",
       "      <td>6.37</td>\n",
       "      <td>27845</td>\n",
       "    </tr>\n",
       "    <tr>\n",
       "      <th>15</th>\n",
       "      <td>Organic Blueberries</td>\n",
       "      <td>68</td>\n",
       "      <td>6.37</td>\n",
       "      <td>39275</td>\n",
       "    </tr>\n",
       "    <tr>\n",
       "      <th>16</th>\n",
       "      <td>Organic Unsweetened Almond Milk</td>\n",
       "      <td>64</td>\n",
       "      <td>5.99</td>\n",
       "      <td>35951</td>\n",
       "    </tr>\n",
       "    <tr>\n",
       "      <th>17</th>\n",
       "      <td>Organic Grape Tomatoes</td>\n",
       "      <td>64</td>\n",
       "      <td>5.99</td>\n",
       "      <td>40706</td>\n",
       "    </tr>\n",
       "    <tr>\n",
       "      <th>18</th>\n",
       "      <td>Honeycrisp Apple</td>\n",
       "      <td>61</td>\n",
       "      <td>5.71</td>\n",
       "      <td>45066</td>\n",
       "    </tr>\n",
       "    <tr>\n",
       "      <th>19</th>\n",
       "      <td>Boneless Skinless Chicken Breasts</td>\n",
       "      <td>57</td>\n",
       "      <td>5.34</td>\n",
       "      <td>25890</td>\n",
       "    </tr>\n",
       "  </tbody>\n",
       "</table>\n",
       "</div>"
      ],
      "text/plain": [
       "                                index  count  pct_orders  product_num\n",
       "0                              Banana    179       16.76        24852\n",
       "1              Bag of Organic Bananas    172       16.10        13176\n",
       "2                Organic Strawberries    169       15.82        21137\n",
       "3                Organic Baby Spinach    151       14.14        21903\n",
       "4                Organic Hass Avocado    135       12.64        47209\n",
       "5                     Organic Avocado    114       10.67        47766\n",
       "6                 Organic Raspberries    101        9.46        27966\n",
       "7                Organic Baby Carrots     99        9.27        42265\n",
       "8                    Organic Zucchini     82        7.68        45007\n",
       "9                         Large Lemon     75        7.02        47626\n",
       "10                    Original Hummus     73        6.84        30489\n",
       "11                     Cucumber Kirby     70        6.55        49683\n",
       "12                              Limes     70        6.55        26209\n",
       "13            Organic Red Bell Pepper     68        6.37        10749\n",
       "14                 Organic Whole Milk     68        6.37        27845\n",
       "15                Organic Blueberries     68        6.37        39275\n",
       "16    Organic Unsweetened Almond Milk     64        5.99        35951\n",
       "17             Organic Grape Tomatoes     64        5.99        40706\n",
       "18                   Honeycrisp Apple     61        5.71        45066\n",
       "19  Boneless Skinless Chicken Breasts     57        5.34        25890"
      ]
     },
     "execution_count": 152,
     "metadata": {},
     "output_type": "execute_result"
    }
   ],
   "source": [
    "# top 20 items ordered with honeycrisp apples\n",
    "org_turkey_burger_df = top_n_items(df, 23, 20)\n",
    "org_turkey_burger_df"
   ]
  },
  {
   "cell_type": "code",
   "execution_count": 153,
   "metadata": {},
   "outputs": [
    {
     "data": {
      "application/vnd.vegalite.v2+json": {
       "$schema": "https://vega.github.io/schema/vega-lite/v2.6.0.json",
       "config": {
        "background": "white",
        "view": {
         "height": 300,
         "width": 400
        }
       },
       "data": {
        "name": "data-5af16c094534db9b4e4494db490663b7"
       },
       "datasets": {
        "data-5af16c094534db9b4e4494db490663b7": [
         {
          "count": 179,
          "index": "Banana",
          "pct_orders": 16.76,
          "product_num": 24852
         },
         {
          "count": 172,
          "index": "Bag of Organic Bananas",
          "pct_orders": 16.1,
          "product_num": 13176
         },
         {
          "count": 169,
          "index": "Organic Strawberries",
          "pct_orders": 15.82,
          "product_num": 21137
         },
         {
          "count": 151,
          "index": "Organic Baby Spinach",
          "pct_orders": 14.14,
          "product_num": 21903
         },
         {
          "count": 135,
          "index": "Organic Hass Avocado",
          "pct_orders": 12.64,
          "product_num": 47209
         },
         {
          "count": 114,
          "index": "Organic Avocado",
          "pct_orders": 10.67,
          "product_num": 47766
         },
         {
          "count": 101,
          "index": "Organic Raspberries",
          "pct_orders": 9.46,
          "product_num": 27966
         },
         {
          "count": 99,
          "index": "Organic Baby Carrots",
          "pct_orders": 9.27,
          "product_num": 42265
         },
         {
          "count": 82,
          "index": "Organic Zucchini",
          "pct_orders": 7.68,
          "product_num": 45007
         },
         {
          "count": 75,
          "index": "Large Lemon",
          "pct_orders": 7.02,
          "product_num": 47626
         },
         {
          "count": 73,
          "index": "Original Hummus",
          "pct_orders": 6.84,
          "product_num": 30489
         },
         {
          "count": 70,
          "index": "Cucumber Kirby",
          "pct_orders": 6.55,
          "product_num": 49683
         },
         {
          "count": 70,
          "index": "Limes",
          "pct_orders": 6.55,
          "product_num": 26209
         },
         {
          "count": 68,
          "index": "Organic Red Bell Pepper",
          "pct_orders": 6.37,
          "product_num": 10749
         },
         {
          "count": 68,
          "index": "Organic Whole Milk",
          "pct_orders": 6.37,
          "product_num": 27845
         },
         {
          "count": 68,
          "index": "Organic Blueberries",
          "pct_orders": 6.37,
          "product_num": 39275
         },
         {
          "count": 64,
          "index": "Organic Unsweetened Almond Milk",
          "pct_orders": 5.99,
          "product_num": 35951
         },
         {
          "count": 64,
          "index": "Organic Grape Tomatoes",
          "pct_orders": 5.99,
          "product_num": 40706
         },
         {
          "count": 61,
          "index": "Honeycrisp Apple",
          "pct_orders": 5.71,
          "product_num": 45066
         },
         {
          "count": 57,
          "index": "Boneless Skinless Chicken Breasts",
          "pct_orders": 5.34,
          "product_num": 25890
         }
        ]
       },
       "encoding": {
        "color": {
         "field": "count",
         "legend": null,
         "scale": {
          "scheme": "viridis"
         },
         "sort": "descending",
         "type": "quantitative"
        },
        "tooltip": [
         {
          "field": "index",
          "title": "Days since Prior Order",
          "type": "ordinal"
         },
         {
          "field": "count",
          "type": "quantitative"
         },
         {
          "field": "pct_orders",
          "type": "quantitative"
         },
         {
          "field": "product_num",
          "type": "ordinal"
         }
        ],
        "x": {
         "bin": false,
         "field": "index",
         "sort": [
          "Banana",
          "Bag of Organic Bananas",
          "Organic Strawberries",
          "Organic Baby Spinach",
          "Organic Hass Avocado",
          "Organic Avocado",
          "Organic Raspberries",
          "Organic Baby Carrots",
          "Organic Zucchini",
          "Large Lemon",
          "Original Hummus",
          "Cucumber Kirby",
          "Limes",
          "Organic Red Bell Pepper",
          "Organic Whole Milk",
          "Organic Blueberries",
          "Organic Unsweetened Almond Milk",
          "Organic Grape Tomatoes",
          "Honeycrisp Apple",
          "Boneless Skinless Chicken Breasts"
         ],
         "type": "ordinal"
        },
        "y": {
         "field": "count",
         "type": "quantitative"
        }
       },
       "height": 400,
       "mark": "bar",
       "title": "Top 20 Products Ordered with Organic Turkey Burgers",
       "width": 700
      },
      "image/png": "[encoded data removed]",
      "text/plain": [
       "<VegaLite 2 object>\n",
       "\n",
       "If you see this message, it means the renderer has not been properly enabled\n",
       "for the frontend that you are using. For more information, see\n",
       "https://altair-viz.github.io/user_guide/troubleshooting.html\n"
      ]
     },
     "execution_count": 153,
     "metadata": {},
     "output_type": "execute_result"
    }
   ],
   "source": [
    "chart_title = \"Top 20 Products Ordered with Organic Turkey Burgers\"\n",
    "x_label = \"index:O\"\n",
    "y_label = 'count:Q'\n",
    "pct_of_orders = 'pct_orders:Q'\n",
    "product_num = 'product_num:O'\n",
    "sort_list = org_turkey_burger_df['index'].tolist()\n",
    "\n",
    "\n",
    "alt.Chart(org_turkey_burger_df).mark_bar().encode(\n",
    "    alt.X(x_label, bin=False, sort=sort_list),\n",
    "    alt.Y(y_label),\n",
    "    color = alt.Color(y_label, legend=None, sort=\"descending\", scale=alt.Scale(scheme='viridis')),\n",
    "    tooltip=[alt.Tooltip(x_label, title=\"Days since Prior Order\"), alt.Tooltip(y_label), alt.Tooltip(pct_of_orders), alt.Tooltip(product_num)]\n",
    "    ).properties(title=chart_title, width=700, height=400)"
   ]
  },
  {
   "cell_type": "code",
   "execution_count": null,
   "metadata": {},
   "outputs": [],
   "source": []
  },
  {
   "cell_type": "code",
   "execution_count": null,
   "metadata": {},
   "outputs": [],
   "source": []
  },
  {
   "cell_type": "code",
   "execution_count": null,
   "metadata": {},
   "outputs": [],
   "source": []
  },
  {
   "cell_type": "code",
   "execution_count": null,
   "metadata": {},
   "outputs": [],
   "source": []
  },
  {
   "cell_type": "code",
   "execution_count": null,
   "metadata": {},
   "outputs": [],
   "source": []
  },
  {
   "cell_type": "code",
   "execution_count": null,
   "metadata": {},
   "outputs": [],
   "source": []
  },
  {
   "cell_type": "code",
   "execution_count": null,
   "metadata": {},
   "outputs": [],
   "source": []
  },
  {
   "cell_type": "code",
   "execution_count": null,
   "metadata": {},
   "outputs": [],
   "source": []
  },
  {
   "cell_type": "markdown",
   "metadata": {},
   "source": [
    "# Model"
   ]
  },
  {
   "cell_type": "code",
   "execution_count": 20,
   "metadata": {},
   "outputs": [
    {
     "data": {
      "text/html": [
       "<div>\n",
       "<style scoped>\n",
       "    .dataframe tbody tr th:only-of-type {\n",
       "        vertical-align: middle;\n",
       "    }\n",
       "\n",
       "    .dataframe tbody tr th {\n",
       "        vertical-align: top;\n",
       "    }\n",
       "\n",
       "    .dataframe thead th {\n",
       "        text-align: right;\n",
       "    }\n",
       "</style>\n",
       "<table border=\"1\" class=\"dataframe\">\n",
       "  <thead>\n",
       "    <tr style=\"text-align: right;\">\n",
       "      <th></th>\n",
       "      <th>order_id</th>\n",
       "      <th>product_id</th>\n",
       "      <th>add_to_cart_order</th>\n",
       "      <th>reordered</th>\n",
       "    </tr>\n",
       "  </thead>\n",
       "  <tbody>\n",
       "    <tr>\n",
       "      <th>0</th>\n",
       "      <td>36</td>\n",
       "      <td>39612</td>\n",
       "      <td>1</td>\n",
       "      <td>0</td>\n",
       "    </tr>\n",
       "    <tr>\n",
       "      <th>1</th>\n",
       "      <td>36</td>\n",
       "      <td>19660</td>\n",
       "      <td>2</td>\n",
       "      <td>1</td>\n",
       "    </tr>\n",
       "    <tr>\n",
       "      <th>2</th>\n",
       "      <td>36</td>\n",
       "      <td>49235</td>\n",
       "      <td>3</td>\n",
       "      <td>0</td>\n",
       "    </tr>\n",
       "    <tr>\n",
       "      <th>3</th>\n",
       "      <td>36</td>\n",
       "      <td>43086</td>\n",
       "      <td>4</td>\n",
       "      <td>1</td>\n",
       "    </tr>\n",
       "    <tr>\n",
       "      <th>4</th>\n",
       "      <td>36</td>\n",
       "      <td>46620</td>\n",
       "      <td>5</td>\n",
       "      <td>1</td>\n",
       "    </tr>\n",
       "  </tbody>\n",
       "</table>\n",
       "</div>"
      ],
      "text/plain": [
       "   order_id  product_id  add_to_cart_order  reordered\n",
       "0        36       39612                  1          0\n",
       "1        36       19660                  2          1\n",
       "2        36       49235                  3          0\n",
       "3        36       43086                  4          1\n",
       "4        36       46620                  5          1"
      ]
     },
     "execution_count": 20,
     "metadata": {},
     "output_type": "execute_result"
    }
   ],
   "source": [
    "train.head()"
   ]
  },
  {
   "cell_type": "code",
   "execution_count": 22,
   "metadata": {},
   "outputs": [
    {
     "data": {
      "text/plain": [
       "(1038515, 4)"
      ]
     },
     "execution_count": 22,
     "metadata": {},
     "output_type": "execute_result"
    }
   ],
   "source": [
    "train.shape"
   ]
  },
  {
   "cell_type": "code",
   "execution_count": 25,
   "metadata": {},
   "outputs": [
    {
     "data": {
      "text/plain": [
       "31.231603780397972"
      ]
     },
     "execution_count": 25,
     "metadata": {},
     "output_type": "execute_result"
    }
   ],
   "source": [
    "prior.shape[0] / train.shape[0]"
   ]
  },
  {
   "cell_type": "code",
   "execution_count": 167,
   "metadata": {},
   "outputs": [
    {
     "data": {
      "text/html": [
       "<div>\n",
       "<style scoped>\n",
       "    .dataframe tbody tr th:only-of-type {\n",
       "        vertical-align: middle;\n",
       "    }\n",
       "\n",
       "    .dataframe tbody tr th {\n",
       "        vertical-align: top;\n",
       "    }\n",
       "\n",
       "    .dataframe thead th {\n",
       "        text-align: right;\n",
       "    }\n",
       "</style>\n",
       "<table border=\"1\" class=\"dataframe\">\n",
       "  <thead>\n",
       "    <tr style=\"text-align: right;\">\n",
       "      <th></th>\n",
       "      <th>order_id</th>\n",
       "      <th>product_id</th>\n",
       "      <th>add_to_cart_order</th>\n",
       "      <th>reordered</th>\n",
       "    </tr>\n",
       "  </thead>\n",
       "  <tbody>\n",
       "    <tr>\n",
       "      <th>0</th>\n",
       "      <td>36</td>\n",
       "      <td>39612</td>\n",
       "      <td>1</td>\n",
       "      <td>0</td>\n",
       "    </tr>\n",
       "    <tr>\n",
       "      <th>1</th>\n",
       "      <td>36</td>\n",
       "      <td>19660</td>\n",
       "      <td>2</td>\n",
       "      <td>1</td>\n",
       "    </tr>\n",
       "    <tr>\n",
       "      <th>2</th>\n",
       "      <td>36</td>\n",
       "      <td>49235</td>\n",
       "      <td>3</td>\n",
       "      <td>0</td>\n",
       "    </tr>\n",
       "    <tr>\n",
       "      <th>3</th>\n",
       "      <td>36</td>\n",
       "      <td>43086</td>\n",
       "      <td>4</td>\n",
       "      <td>1</td>\n",
       "    </tr>\n",
       "    <tr>\n",
       "      <th>4</th>\n",
       "      <td>36</td>\n",
       "      <td>46620</td>\n",
       "      <td>5</td>\n",
       "      <td>1</td>\n",
       "    </tr>\n",
       "  </tbody>\n",
       "</table>\n",
       "</div>"
      ],
      "text/plain": [
       "   order_id  product_id  add_to_cart_order  reordered\n",
       "0        36       39612                  1          0\n",
       "1        36       19660                  2          1\n",
       "2        36       49235                  3          0\n",
       "3        36       43086                  4          1\n",
       "4        36       46620                  5          1"
      ]
     },
     "execution_count": 167,
     "metadata": {},
     "output_type": "execute_result"
    }
   ],
   "source": [
    "train_sm = train[:100000].copy()\n",
    "# train_sm['order'] = 1\n",
    "# train_sm['order'] = train_sm['order'].astype('uint8')\n",
    "train_sm.head()"
   ]
  },
  {
   "cell_type": "code",
   "execution_count": 168,
   "metadata": {},
   "outputs": [
    {
     "name": "stdout",
     "output_type": "stream",
     "text": [
      "<class 'pandas.core.frame.DataFrame'>\n",
      "RangeIndex: 100000 entries, 0 to 99999\n",
      "Data columns (total 4 columns):\n",
      "order_id             100000 non-null uint32\n",
      "product_id           100000 non-null uint16\n",
      "add_to_cart_order    100000 non-null uint8\n",
      "reordered            100000 non-null uint8\n",
      "dtypes: uint16(1), uint32(1), uint8(2)\n",
      "memory usage: 781.3 KB\n"
     ]
    }
   ],
   "source": [
    "train_sm.info()"
   ]
  },
  {
   "cell_type": "code",
   "execution_count": 53,
   "metadata": {},
   "outputs": [],
   "source": [
    "# train.pivot(index='product_id', columns='order_id', values='reordered')"
   ]
  },
  {
   "cell_type": "code",
   "execution_count": 169,
   "metadata": {},
   "outputs": [],
   "source": [
    "productPivot = train_sm.pivot(index='order_id', columns='product_id', values='reordered')\n",
    "# productPivot.loc[~productPivot.isnull()] = 1  # not nan\n",
    "# productPivot.loc[productPivot.isnull()]\n",
    "# productPivot\n",
    "# productPivot = train_sm.pivot(index='order_id', columns='product_id', values='order')"
   ]
  },
  {
   "cell_type": "code",
   "execution_count": 170,
   "metadata": {},
   "outputs": [],
   "source": [
    "productPivot[productPivot.notnull()] = 1\n",
    "productPivot[productPivot.isnull()] = 0"
   ]
  },
  {
   "cell_type": "code",
   "execution_count": 171,
   "metadata": {},
   "outputs": [
    {
     "data": {
      "text/html": [
       "<div>\n",
       "<style scoped>\n",
       "    .dataframe tbody tr th:only-of-type {\n",
       "        vertical-align: middle;\n",
       "    }\n",
       "\n",
       "    .dataframe tbody tr th {\n",
       "        vertical-align: top;\n",
       "    }\n",
       "\n",
       "    .dataframe thead th {\n",
       "        text-align: right;\n",
       "    }\n",
       "</style>\n",
       "<table border=\"1\" class=\"dataframe\">\n",
       "  <thead>\n",
       "    <tr style=\"text-align: right;\">\n",
       "      <th>product_id</th>\n",
       "      <th>1</th>\n",
       "      <th>3</th>\n",
       "      <th>4</th>\n",
       "      <th>9</th>\n",
       "      <th>10</th>\n",
       "      <th>23</th>\n",
       "      <th>25</th>\n",
       "      <th>28</th>\n",
       "      <th>29</th>\n",
       "      <th>30</th>\n",
       "      <th>...</th>\n",
       "      <th>49644</th>\n",
       "      <th>49652</th>\n",
       "      <th>49653</th>\n",
       "      <th>49667</th>\n",
       "      <th>49668</th>\n",
       "      <th>49670</th>\n",
       "      <th>49678</th>\n",
       "      <th>49680</th>\n",
       "      <th>49683</th>\n",
       "      <th>49686</th>\n",
       "    </tr>\n",
       "    <tr>\n",
       "      <th>order_id</th>\n",
       "      <th></th>\n",
       "      <th></th>\n",
       "      <th></th>\n",
       "      <th></th>\n",
       "      <th></th>\n",
       "      <th></th>\n",
       "      <th></th>\n",
       "      <th></th>\n",
       "      <th></th>\n",
       "      <th></th>\n",
       "      <th></th>\n",
       "      <th></th>\n",
       "      <th></th>\n",
       "      <th></th>\n",
       "      <th></th>\n",
       "      <th></th>\n",
       "      <th></th>\n",
       "      <th></th>\n",
       "      <th></th>\n",
       "      <th></th>\n",
       "      <th></th>\n",
       "    </tr>\n",
       "  </thead>\n",
       "  <tbody>\n",
       "    <tr>\n",
       "      <th>36</th>\n",
       "      <td>0.0</td>\n",
       "      <td>0.0</td>\n",
       "      <td>0.0</td>\n",
       "      <td>0.0</td>\n",
       "      <td>0.0</td>\n",
       "      <td>0.0</td>\n",
       "      <td>0.0</td>\n",
       "      <td>0.0</td>\n",
       "      <td>0.0</td>\n",
       "      <td>0.0</td>\n",
       "      <td>...</td>\n",
       "      <td>0.0</td>\n",
       "      <td>0.0</td>\n",
       "      <td>0.0</td>\n",
       "      <td>0.0</td>\n",
       "      <td>0.0</td>\n",
       "      <td>0.0</td>\n",
       "      <td>0.0</td>\n",
       "      <td>0.0</td>\n",
       "      <td>0.0</td>\n",
       "      <td>0.0</td>\n",
       "    </tr>\n",
       "    <tr>\n",
       "      <th>38</th>\n",
       "      <td>0.0</td>\n",
       "      <td>0.0</td>\n",
       "      <td>0.0</td>\n",
       "      <td>0.0</td>\n",
       "      <td>0.0</td>\n",
       "      <td>0.0</td>\n",
       "      <td>0.0</td>\n",
       "      <td>0.0</td>\n",
       "      <td>0.0</td>\n",
       "      <td>0.0</td>\n",
       "      <td>...</td>\n",
       "      <td>0.0</td>\n",
       "      <td>0.0</td>\n",
       "      <td>0.0</td>\n",
       "      <td>0.0</td>\n",
       "      <td>0.0</td>\n",
       "      <td>0.0</td>\n",
       "      <td>0.0</td>\n",
       "      <td>0.0</td>\n",
       "      <td>0.0</td>\n",
       "      <td>0.0</td>\n",
       "    </tr>\n",
       "    <tr>\n",
       "      <th>170</th>\n",
       "      <td>0.0</td>\n",
       "      <td>0.0</td>\n",
       "      <td>0.0</td>\n",
       "      <td>0.0</td>\n",
       "      <td>0.0</td>\n",
       "      <td>0.0</td>\n",
       "      <td>0.0</td>\n",
       "      <td>0.0</td>\n",
       "      <td>0.0</td>\n",
       "      <td>0.0</td>\n",
       "      <td>...</td>\n",
       "      <td>0.0</td>\n",
       "      <td>0.0</td>\n",
       "      <td>0.0</td>\n",
       "      <td>0.0</td>\n",
       "      <td>0.0</td>\n",
       "      <td>0.0</td>\n",
       "      <td>0.0</td>\n",
       "      <td>0.0</td>\n",
       "      <td>0.0</td>\n",
       "      <td>0.0</td>\n",
       "    </tr>\n",
       "    <tr>\n",
       "      <th>226</th>\n",
       "      <td>0.0</td>\n",
       "      <td>0.0</td>\n",
       "      <td>0.0</td>\n",
       "      <td>0.0</td>\n",
       "      <td>0.0</td>\n",
       "      <td>0.0</td>\n",
       "      <td>0.0</td>\n",
       "      <td>0.0</td>\n",
       "      <td>0.0</td>\n",
       "      <td>0.0</td>\n",
       "      <td>...</td>\n",
       "      <td>0.0</td>\n",
       "      <td>0.0</td>\n",
       "      <td>0.0</td>\n",
       "      <td>0.0</td>\n",
       "      <td>0.0</td>\n",
       "      <td>0.0</td>\n",
       "      <td>0.0</td>\n",
       "      <td>0.0</td>\n",
       "      <td>0.0</td>\n",
       "      <td>0.0</td>\n",
       "    </tr>\n",
       "    <tr>\n",
       "      <th>349</th>\n",
       "      <td>0.0</td>\n",
       "      <td>0.0</td>\n",
       "      <td>0.0</td>\n",
       "      <td>0.0</td>\n",
       "      <td>0.0</td>\n",
       "      <td>0.0</td>\n",
       "      <td>0.0</td>\n",
       "      <td>0.0</td>\n",
       "      <td>0.0</td>\n",
       "      <td>0.0</td>\n",
       "      <td>...</td>\n",
       "      <td>0.0</td>\n",
       "      <td>0.0</td>\n",
       "      <td>0.0</td>\n",
       "      <td>0.0</td>\n",
       "      <td>0.0</td>\n",
       "      <td>0.0</td>\n",
       "      <td>0.0</td>\n",
       "      <td>0.0</td>\n",
       "      <td>0.0</td>\n",
       "      <td>0.0</td>\n",
       "    </tr>\n",
       "  </tbody>\n",
       "</table>\n",
       "<p>5 rows × 16635 columns</p>\n",
       "</div>"
      ],
      "text/plain": [
       "product_id  1      3      4      9      10     23     25     28     29     \\\n",
       "order_id                                                                    \n",
       "36            0.0    0.0    0.0    0.0    0.0    0.0    0.0    0.0    0.0   \n",
       "38            0.0    0.0    0.0    0.0    0.0    0.0    0.0    0.0    0.0   \n",
       "170           0.0    0.0    0.0    0.0    0.0    0.0    0.0    0.0    0.0   \n",
       "226           0.0    0.0    0.0    0.0    0.0    0.0    0.0    0.0    0.0   \n",
       "349           0.0    0.0    0.0    0.0    0.0    0.0    0.0    0.0    0.0   \n",
       "\n",
       "product_id  30     ...    49644  49652  49653  49667  49668  49670  49678  \\\n",
       "order_id           ...                                                      \n",
       "36            0.0  ...      0.0    0.0    0.0    0.0    0.0    0.0    0.0   \n",
       "38            0.0  ...      0.0    0.0    0.0    0.0    0.0    0.0    0.0   \n",
       "170           0.0  ...      0.0    0.0    0.0    0.0    0.0    0.0    0.0   \n",
       "226           0.0  ...      0.0    0.0    0.0    0.0    0.0    0.0    0.0   \n",
       "349           0.0  ...      0.0    0.0    0.0    0.0    0.0    0.0    0.0   \n",
       "\n",
       "product_id  49680  49683  49686  \n",
       "order_id                         \n",
       "36            0.0    0.0    0.0  \n",
       "38            0.0    0.0    0.0  \n",
       "170           0.0    0.0    0.0  \n",
       "226           0.0    0.0    0.0  \n",
       "349           0.0    0.0    0.0  \n",
       "\n",
       "[5 rows x 16635 columns]"
      ]
     },
     "execution_count": 171,
     "metadata": {},
     "output_type": "execute_result"
    }
   ],
   "source": [
    "productPivot.head()"
   ]
  },
  {
   "cell_type": "code",
   "execution_count": 166,
   "metadata": {},
   "outputs": [],
   "source": [
    "from sklearn.metrics.pairwise import cosine_similarity"
   ]
  },
  {
   "cell_type": "code",
   "execution_count": 177,
   "metadata": {},
   "outputs": [
    {
     "data": {
      "text/plain": [
       "(9402, 16635)"
      ]
     },
     "execution_count": 177,
     "metadata": {},
     "output_type": "execute_result"
    }
   ],
   "source": [
    "productPivot.shape"
   ]
  },
  {
   "cell_type": "code",
   "execution_count": 191,
   "metadata": {},
   "outputs": [
    {
     "data": {
      "text/html": [
       "<div>\n",
       "<style scoped>\n",
       "    .dataframe tbody tr th:only-of-type {\n",
       "        vertical-align: middle;\n",
       "    }\n",
       "\n",
       "    .dataframe tbody tr th {\n",
       "        vertical-align: top;\n",
       "    }\n",
       "\n",
       "    .dataframe thead th {\n",
       "        text-align: right;\n",
       "    }\n",
       "</style>\n",
       "<table border=\"1\" class=\"dataframe\">\n",
       "  <thead>\n",
       "    <tr style=\"text-align: right;\">\n",
       "      <th>product_id</th>\n",
       "      <th>1</th>\n",
       "      <th>3</th>\n",
       "      <th>4</th>\n",
       "      <th>9</th>\n",
       "      <th>10</th>\n",
       "      <th>23</th>\n",
       "      <th>25</th>\n",
       "      <th>28</th>\n",
       "      <th>29</th>\n",
       "      <th>30</th>\n",
       "      <th>...</th>\n",
       "      <th>49644</th>\n",
       "      <th>49652</th>\n",
       "      <th>49653</th>\n",
       "      <th>49667</th>\n",
       "      <th>49668</th>\n",
       "      <th>49670</th>\n",
       "      <th>49678</th>\n",
       "      <th>49680</th>\n",
       "      <th>49683</th>\n",
       "      <th>49686</th>\n",
       "    </tr>\n",
       "    <tr>\n",
       "      <th>order_id</th>\n",
       "      <th></th>\n",
       "      <th></th>\n",
       "      <th></th>\n",
       "      <th></th>\n",
       "      <th></th>\n",
       "      <th></th>\n",
       "      <th></th>\n",
       "      <th></th>\n",
       "      <th></th>\n",
       "      <th></th>\n",
       "      <th></th>\n",
       "      <th></th>\n",
       "      <th></th>\n",
       "      <th></th>\n",
       "      <th></th>\n",
       "      <th></th>\n",
       "      <th></th>\n",
       "      <th></th>\n",
       "      <th></th>\n",
       "      <th></th>\n",
       "      <th></th>\n",
       "    </tr>\n",
       "  </thead>\n",
       "  <tbody>\n",
       "    <tr>\n",
       "      <th>36</th>\n",
       "      <td>0.0</td>\n",
       "      <td>0.0</td>\n",
       "      <td>0.0</td>\n",
       "      <td>0.0</td>\n",
       "      <td>0.0</td>\n",
       "      <td>0.0</td>\n",
       "      <td>0.0</td>\n",
       "      <td>0.0</td>\n",
       "      <td>0.0</td>\n",
       "      <td>0.0</td>\n",
       "      <td>...</td>\n",
       "      <td>0.0</td>\n",
       "      <td>0.0</td>\n",
       "      <td>0.0</td>\n",
       "      <td>0.0</td>\n",
       "      <td>0.0</td>\n",
       "      <td>0.0</td>\n",
       "      <td>0.0</td>\n",
       "      <td>0.0</td>\n",
       "      <td>0.0</td>\n",
       "      <td>0.0</td>\n",
       "    </tr>\n",
       "    <tr>\n",
       "      <th>38</th>\n",
       "      <td>0.0</td>\n",
       "      <td>0.0</td>\n",
       "      <td>0.0</td>\n",
       "      <td>0.0</td>\n",
       "      <td>0.0</td>\n",
       "      <td>0.0</td>\n",
       "      <td>0.0</td>\n",
       "      <td>0.0</td>\n",
       "      <td>0.0</td>\n",
       "      <td>0.0</td>\n",
       "      <td>...</td>\n",
       "      <td>0.0</td>\n",
       "      <td>0.0</td>\n",
       "      <td>0.0</td>\n",
       "      <td>0.0</td>\n",
       "      <td>0.0</td>\n",
       "      <td>0.0</td>\n",
       "      <td>0.0</td>\n",
       "      <td>0.0</td>\n",
       "      <td>0.0</td>\n",
       "      <td>0.0</td>\n",
       "    </tr>\n",
       "    <tr>\n",
       "      <th>170</th>\n",
       "      <td>0.0</td>\n",
       "      <td>0.0</td>\n",
       "      <td>0.0</td>\n",
       "      <td>0.0</td>\n",
       "      <td>0.0</td>\n",
       "      <td>0.0</td>\n",
       "      <td>0.0</td>\n",
       "      <td>0.0</td>\n",
       "      <td>0.0</td>\n",
       "      <td>0.0</td>\n",
       "      <td>...</td>\n",
       "      <td>0.0</td>\n",
       "      <td>0.0</td>\n",
       "      <td>0.0</td>\n",
       "      <td>0.0</td>\n",
       "      <td>0.0</td>\n",
       "      <td>0.0</td>\n",
       "      <td>0.0</td>\n",
       "      <td>0.0</td>\n",
       "      <td>0.0</td>\n",
       "      <td>0.0</td>\n",
       "    </tr>\n",
       "    <tr>\n",
       "      <th>226</th>\n",
       "      <td>0.0</td>\n",
       "      <td>0.0</td>\n",
       "      <td>0.0</td>\n",
       "      <td>0.0</td>\n",
       "      <td>0.0</td>\n",
       "      <td>0.0</td>\n",
       "      <td>0.0</td>\n",
       "      <td>0.0</td>\n",
       "      <td>0.0</td>\n",
       "      <td>0.0</td>\n",
       "      <td>...</td>\n",
       "      <td>0.0</td>\n",
       "      <td>0.0</td>\n",
       "      <td>0.0</td>\n",
       "      <td>0.0</td>\n",
       "      <td>0.0</td>\n",
       "      <td>0.0</td>\n",
       "      <td>0.0</td>\n",
       "      <td>0.0</td>\n",
       "      <td>0.0</td>\n",
       "      <td>0.0</td>\n",
       "    </tr>\n",
       "    <tr>\n",
       "      <th>349</th>\n",
       "      <td>0.0</td>\n",
       "      <td>0.0</td>\n",
       "      <td>0.0</td>\n",
       "      <td>0.0</td>\n",
       "      <td>0.0</td>\n",
       "      <td>0.0</td>\n",
       "      <td>0.0</td>\n",
       "      <td>0.0</td>\n",
       "      <td>0.0</td>\n",
       "      <td>0.0</td>\n",
       "      <td>...</td>\n",
       "      <td>0.0</td>\n",
       "      <td>0.0</td>\n",
       "      <td>0.0</td>\n",
       "      <td>0.0</td>\n",
       "      <td>0.0</td>\n",
       "      <td>0.0</td>\n",
       "      <td>0.0</td>\n",
       "      <td>0.0</td>\n",
       "      <td>0.0</td>\n",
       "      <td>0.0</td>\n",
       "    </tr>\n",
       "  </tbody>\n",
       "</table>\n",
       "<p>5 rows × 16635 columns</p>\n",
       "</div>"
      ],
      "text/plain": [
       "product_id  1      3      4      9      10     23     25     28     29     \\\n",
       "order_id                                                                    \n",
       "36            0.0    0.0    0.0    0.0    0.0    0.0    0.0    0.0    0.0   \n",
       "38            0.0    0.0    0.0    0.0    0.0    0.0    0.0    0.0    0.0   \n",
       "170           0.0    0.0    0.0    0.0    0.0    0.0    0.0    0.0    0.0   \n",
       "226           0.0    0.0    0.0    0.0    0.0    0.0    0.0    0.0    0.0   \n",
       "349           0.0    0.0    0.0    0.0    0.0    0.0    0.0    0.0    0.0   \n",
       "\n",
       "product_id  30     ...    49644  49652  49653  49667  49668  49670  49678  \\\n",
       "order_id           ...                                                      \n",
       "36            0.0  ...      0.0    0.0    0.0    0.0    0.0    0.0    0.0   \n",
       "38            0.0  ...      0.0    0.0    0.0    0.0    0.0    0.0    0.0   \n",
       "170           0.0  ...      0.0    0.0    0.0    0.0    0.0    0.0    0.0   \n",
       "226           0.0  ...      0.0    0.0    0.0    0.0    0.0    0.0    0.0   \n",
       "349           0.0  ...      0.0    0.0    0.0    0.0    0.0    0.0    0.0   \n",
       "\n",
       "product_id  49680  49683  49686  \n",
       "order_id                         \n",
       "36            0.0    0.0    0.0  \n",
       "38            0.0    0.0    0.0  \n",
       "170           0.0    0.0    0.0  \n",
       "226           0.0    0.0    0.0  \n",
       "349           0.0    0.0    0.0  \n",
       "\n",
       "[5 rows x 16635 columns]"
      ]
     },
     "execution_count": 191,
     "metadata": {},
     "output_type": "execute_result"
    }
   ],
   "source": [
    "productPivot[:5]"
   ]
  },
  {
   "cell_type": "code",
   "execution_count": 196,
   "metadata": {},
   "outputs": [
    {
     "data": {
      "text/plain": [
       "array([1.        , 0.        , 0.        , 0.        , 0.        ,\n",
       "       0.        , 0.        , 0.        , 0.        , 0.06681531,\n",
       "       0.        , 0.        , 0.        , 0.        , 0.        ,\n",
       "       0.        , 0.        , 0.        , 0.        , 0.        ,\n",
       "       0.08574929, 0.        , 0.15811388, 0.        , 0.        ,\n",
       "       0.        , 0.        , 0.        , 0.        , 0.        ,\n",
       "       0.        , 0.        , 0.        , 0.        , 0.        ,\n",
       "       0.        , 0.        , 0.        , 0.09128709, 0.06154575,\n",
       "       0.        , 0.        , 0.        , 0.        , 0.        ,\n",
       "       0.        , 0.        , 0.        , 0.14433757, 0.        ,\n",
       "       0.        , 0.        , 0.        , 0.        , 0.        ,\n",
       "       0.        , 0.        , 0.        , 0.        , 0.        ,\n",
       "       0.        , 0.        , 0.        , 0.        , 0.        ,\n",
       "       0.        , 0.        , 0.        , 0.        , 0.15811388,\n",
       "       0.1118034 , 0.        , 0.        , 0.        , 0.        ,\n",
       "       0.        , 0.        , 0.13363062, 0.        , 0.        ,\n",
       "       0.        , 0.        , 0.        , 0.        , 0.        ,\n",
       "       0.        , 0.1118034 , 0.        , 0.        , 0.        ,\n",
       "       0.        , 0.        , 0.14433757, 0.        , 0.        ,\n",
       "       0.        , 0.        , 0.        , 0.        , 0.        ,\n",
       "       0.        , 0.        , 0.        , 0.        , 0.        ,\n",
       "       0.        , 0.        , 0.        , 0.        , 0.        ,\n",
       "       0.08574929, 0.        , 0.        , 0.        , 0.        ,\n",
       "       0.        , 0.        , 0.        , 0.07537784, 0.125     ,\n",
       "       0.        , 0.        , 0.        , 0.        , 0.        ,\n",
       "       0.14433757, 0.07715167, 0.        , 0.        , 0.        ,\n",
       "       0.        , 0.        , 0.        , 0.        , 0.        ,\n",
       "       0.        , 0.        , 0.        , 0.        , 0.        ,\n",
       "       0.        , 0.        , 0.        , 0.        , 0.        ,\n",
       "       0.        , 0.        , 0.        , 0.        , 0.        ,\n",
       "       0.        , 0.        , 0.06154575, 0.        , 0.        ,\n",
       "       0.        , 0.        , 0.        , 0.        , 0.        ,\n",
       "       0.        , 0.15811388, 0.        , 0.        , 0.        ,\n",
       "       0.        , 0.        , 0.        , 0.        , 0.07071068,\n",
       "       0.        , 0.        , 0.        , 0.        , 0.        ,\n",
       "       0.        , 0.        , 0.        , 0.        , 0.        ,\n",
       "       0.        , 0.        , 0.        , 0.        , 0.        ,\n",
       "       0.        , 0.        , 0.        , 0.        , 0.        ,\n",
       "       0.10660036, 0.        , 0.        , 0.        , 0.        ,\n",
       "       0.        , 0.        , 0.        , 0.        , 0.        ,\n",
       "       0.        , 0.07715167, 0.14433757, 0.        , 0.        ,\n",
       "       0.        , 0.09805807, 0.        , 0.        , 0.        ,\n",
       "       0.        , 0.09805807, 0.        , 0.        , 0.        ,\n",
       "       0.        , 0.        , 0.        , 0.        , 0.        ,\n",
       "       0.125     , 0.        , 0.        , 0.04811252, 0.        ,\n",
       "       0.        , 0.        , 0.        , 0.        , 0.        ,\n",
       "       0.        , 0.        , 0.        , 0.        , 0.        ,\n",
       "       0.        , 0.        , 0.        , 0.        , 0.        ,\n",
       "       0.        , 0.        , 0.        , 0.        , 0.        ,\n",
       "       0.        , 0.        , 0.        , 0.        , 0.11785113,\n",
       "       0.        , 0.        , 0.        , 0.        , 0.        ,\n",
       "       0.        , 0.        , 0.        , 0.        , 0.        ,\n",
       "       0.        , 0.        , 0.        , 0.        , 0.        ,\n",
       "       0.        , 0.        , 0.        , 0.        , 0.        ,\n",
       "       0.        , 0.        , 0.        , 0.        , 0.        ,\n",
       "       0.09128709, 0.05892557, 0.        , 0.        , 0.        ,\n",
       "       0.        , 0.        , 0.        , 0.        , 0.        ,\n",
       "       0.        , 0.        , 0.        , 0.        , 0.        ,\n",
       "       0.        , 0.        , 0.        , 0.        , 0.        ,\n",
       "       0.        , 0.        , 0.        , 0.        , 0.        ,\n",
       "       0.        , 0.        , 0.        , 0.        , 0.        ,\n",
       "       0.        , 0.        , 0.        , 0.        , 0.        ,\n",
       "       0.        , 0.        , 0.        , 0.13363062, 0.        ,\n",
       "       0.        , 0.        , 0.        , 0.        , 0.125     ,\n",
       "       0.        , 0.        , 0.        , 0.        , 0.        ,\n",
       "       0.        , 0.        , 0.        , 0.        , 0.        ,\n",
       "       0.        , 0.        , 0.        , 0.        , 0.        ,\n",
       "       0.        , 0.        , 0.        , 0.        , 0.        ,\n",
       "       0.        , 0.        , 0.06933752, 0.        , 0.0625    ,\n",
       "       0.        , 0.        , 0.        , 0.        , 0.        ,\n",
       "       0.        , 0.        , 0.        , 0.        , 0.        ,\n",
       "       0.        , 0.        , 0.        , 0.        , 0.        ,\n",
       "       0.        , 0.        , 0.        , 0.        , 0.        ,\n",
       "       0.        , 0.        , 0.        , 0.        , 0.        ,\n",
       "       0.        , 0.        , 0.        , 0.        , 0.        ,\n",
       "       0.        , 0.        , 0.        , 0.        , 0.        ,\n",
       "       0.15811388, 0.        , 0.        , 0.11785113, 0.        ,\n",
       "       0.        , 0.        , 0.        , 0.        , 0.        ,\n",
       "       0.        , 0.        , 0.        , 0.        , 0.        ,\n",
       "       0.        , 0.        , 0.        , 0.        , 0.        ,\n",
       "       0.        , 0.        , 0.        , 0.        , 0.        ,\n",
       "       0.        , 0.        , 0.        , 0.        , 0.        ,\n",
       "       0.        , 0.        , 0.        , 0.        , 0.        ,\n",
       "       0.        , 0.        , 0.        , 0.06804138, 0.        ,\n",
       "       0.        , 0.        , 0.        , 0.        , 0.        ,\n",
       "       0.        , 0.        , 0.        , 0.        , 0.        ,\n",
       "       0.        , 0.        , 0.        , 0.        , 0.        ,\n",
       "       0.        , 0.35355339, 0.        , 0.        , 0.        ,\n",
       "       0.        , 0.        , 0.        , 0.        , 0.        ,\n",
       "       0.        , 0.        , 0.        , 0.        , 0.        ,\n",
       "       0.        , 0.        , 0.        , 0.        , 0.        ,\n",
       "       0.        , 0.        , 0.        , 0.        , 0.        ,\n",
       "       0.        , 0.        , 0.        , 0.        , 0.        ,\n",
       "       0.        , 0.        , 0.        , 0.        , 0.        ,\n",
       "       0.        , 0.        , 0.15811388, 0.        , 0.        ,\n",
       "       0.        , 0.        , 0.        , 0.        , 0.        ,\n",
       "       0.        , 0.08333333, 0.        , 0.        , 0.        ,\n",
       "       0.        , 0.        , 0.        , 0.        , 0.        ,\n",
       "       0.08333333, 0.        , 0.        , 0.        , 0.        ,\n",
       "       0.        , 0.        , 0.        , 0.08838835, 0.        ])"
      ]
     },
     "execution_count": 196,
     "metadata": {},
     "output_type": "execute_result"
    }
   ],
   "source": [
    "cosine_similarity(productPivot[:500])[0]"
   ]
  },
  {
   "cell_type": "code",
   "execution_count": 192,
   "metadata": {},
   "outputs": [
    {
     "data": {
      "text/plain": [
       "product_id\n",
       "19660    1.0\n",
       "34497    1.0\n",
       "39612    1.0\n",
       "43086    1.0\n",
       "46620    1.0\n",
       "46979    1.0\n",
       "48679    1.0\n",
       "49235    1.0\n",
       "Name: 36, dtype: float64"
      ]
     },
     "execution_count": 192,
     "metadata": {},
     "output_type": "execute_result"
    }
   ],
   "source": [
    "productPivot.loc[36][productPivot.loc[36] == 1]"
   ]
  },
  {
   "cell_type": "code",
   "execution_count": 194,
   "metadata": {},
   "outputs": [
    {
     "data": {
      "text/html": [
       "<div>\n",
       "<style scoped>\n",
       "    .dataframe tbody tr th:only-of-type {\n",
       "        vertical-align: middle;\n",
       "    }\n",
       "\n",
       "    .dataframe tbody tr th {\n",
       "        vertical-align: top;\n",
       "    }\n",
       "\n",
       "    .dataframe thead th {\n",
       "        text-align: right;\n",
       "    }\n",
       "</style>\n",
       "<table border=\"1\" class=\"dataframe\">\n",
       "  <thead>\n",
       "    <tr style=\"text-align: right;\">\n",
       "      <th>product_id</th>\n",
       "      <th>1</th>\n",
       "      <th>3</th>\n",
       "      <th>4</th>\n",
       "      <th>9</th>\n",
       "      <th>10</th>\n",
       "      <th>23</th>\n",
       "      <th>25</th>\n",
       "      <th>28</th>\n",
       "      <th>29</th>\n",
       "      <th>30</th>\n",
       "      <th>...</th>\n",
       "      <th>49644</th>\n",
       "      <th>49652</th>\n",
       "      <th>49653</th>\n",
       "      <th>49667</th>\n",
       "      <th>49668</th>\n",
       "      <th>49670</th>\n",
       "      <th>49678</th>\n",
       "      <th>49680</th>\n",
       "      <th>49683</th>\n",
       "      <th>49686</th>\n",
       "    </tr>\n",
       "    <tr>\n",
       "      <th>order_id</th>\n",
       "      <th></th>\n",
       "      <th></th>\n",
       "      <th></th>\n",
       "      <th></th>\n",
       "      <th></th>\n",
       "      <th></th>\n",
       "      <th></th>\n",
       "      <th></th>\n",
       "      <th></th>\n",
       "      <th></th>\n",
       "      <th></th>\n",
       "      <th></th>\n",
       "      <th></th>\n",
       "      <th></th>\n",
       "      <th></th>\n",
       "      <th></th>\n",
       "      <th></th>\n",
       "      <th></th>\n",
       "      <th></th>\n",
       "      <th></th>\n",
       "      <th></th>\n",
       "    </tr>\n",
       "  </thead>\n",
       "  <tbody>\n",
       "    <tr>\n",
       "      <th>1275</th>\n",
       "      <td>0.0</td>\n",
       "      <td>0.0</td>\n",
       "      <td>0.0</td>\n",
       "      <td>0.0</td>\n",
       "      <td>0.0</td>\n",
       "      <td>0.0</td>\n",
       "      <td>0.0</td>\n",
       "      <td>0.0</td>\n",
       "      <td>0.0</td>\n",
       "      <td>0.0</td>\n",
       "      <td>...</td>\n",
       "      <td>0.0</td>\n",
       "      <td>0.0</td>\n",
       "      <td>0.0</td>\n",
       "      <td>0.0</td>\n",
       "      <td>0.0</td>\n",
       "      <td>0.0</td>\n",
       "      <td>0.0</td>\n",
       "      <td>0.0</td>\n",
       "      <td>0.0</td>\n",
       "      <td>0.0</td>\n",
       "    </tr>\n",
       "  </tbody>\n",
       "</table>\n",
       "<p>1 rows × 16635 columns</p>\n",
       "</div>"
      ],
      "text/plain": [
       "product_id  1      3      4      9      10     23     25     28     29     \\\n",
       "order_id                                                                    \n",
       "1275          0.0    0.0    0.0    0.0    0.0    0.0    0.0    0.0    0.0   \n",
       "\n",
       "product_id  30     ...    49644  49652  49653  49667  49668  49670  49678  \\\n",
       "order_id           ...                                                      \n",
       "1275          0.0  ...      0.0    0.0    0.0    0.0    0.0    0.0    0.0   \n",
       "\n",
       "product_id  49680  49683  49686  \n",
       "order_id                         \n",
       "1275          0.0    0.0    0.0  \n",
       "\n",
       "[1 rows x 16635 columns]"
      ]
     },
     "execution_count": 194,
     "metadata": {},
     "output_type": "execute_result"
    }
   ],
   "source": [
    "productPivot[22:23]"
   ]
  },
  {
   "cell_type": "code",
   "execution_count": 197,
   "metadata": {},
   "outputs": [
    {
     "data": {
      "text/html": [
       "<div>\n",
       "<style scoped>\n",
       "    .dataframe tbody tr th:only-of-type {\n",
       "        vertical-align: middle;\n",
       "    }\n",
       "\n",
       "    .dataframe tbody tr th {\n",
       "        vertical-align: top;\n",
       "    }\n",
       "\n",
       "    .dataframe thead th {\n",
       "        text-align: right;\n",
       "    }\n",
       "</style>\n",
       "<table border=\"1\" class=\"dataframe\">\n",
       "  <thead>\n",
       "    <tr style=\"text-align: right;\">\n",
       "      <th>product_id</th>\n",
       "      <th>1</th>\n",
       "      <th>3</th>\n",
       "      <th>4</th>\n",
       "      <th>9</th>\n",
       "      <th>10</th>\n",
       "      <th>23</th>\n",
       "      <th>25</th>\n",
       "      <th>28</th>\n",
       "      <th>29</th>\n",
       "      <th>30</th>\n",
       "      <th>...</th>\n",
       "      <th>49644</th>\n",
       "      <th>49652</th>\n",
       "      <th>49653</th>\n",
       "      <th>49667</th>\n",
       "      <th>49668</th>\n",
       "      <th>49670</th>\n",
       "      <th>49678</th>\n",
       "      <th>49680</th>\n",
       "      <th>49683</th>\n",
       "      <th>49686</th>\n",
       "    </tr>\n",
       "    <tr>\n",
       "      <th>order_id</th>\n",
       "      <th></th>\n",
       "      <th></th>\n",
       "      <th></th>\n",
       "      <th></th>\n",
       "      <th></th>\n",
       "      <th></th>\n",
       "      <th></th>\n",
       "      <th></th>\n",
       "      <th></th>\n",
       "      <th></th>\n",
       "      <th></th>\n",
       "      <th></th>\n",
       "      <th></th>\n",
       "      <th></th>\n",
       "      <th></th>\n",
       "      <th></th>\n",
       "      <th></th>\n",
       "      <th></th>\n",
       "      <th></th>\n",
       "      <th></th>\n",
       "      <th></th>\n",
       "    </tr>\n",
       "  </thead>\n",
       "  <tbody>\n",
       "    <tr>\n",
       "      <th>15462</th>\n",
       "      <td>0.0</td>\n",
       "      <td>0.0</td>\n",
       "      <td>0.0</td>\n",
       "      <td>0.0</td>\n",
       "      <td>0.0</td>\n",
       "      <td>0.0</td>\n",
       "      <td>0.0</td>\n",
       "      <td>0.0</td>\n",
       "      <td>0.0</td>\n",
       "      <td>0.0</td>\n",
       "      <td>...</td>\n",
       "      <td>0.0</td>\n",
       "      <td>0.0</td>\n",
       "      <td>0.0</td>\n",
       "      <td>0.0</td>\n",
       "      <td>0.0</td>\n",
       "      <td>0.0</td>\n",
       "      <td>0.0</td>\n",
       "      <td>0.0</td>\n",
       "      <td>0.0</td>\n",
       "      <td>0.0</td>\n",
       "    </tr>\n",
       "  </tbody>\n",
       "</table>\n",
       "<p>1 rows × 16635 columns</p>\n",
       "</div>"
      ],
      "text/plain": [
       "product_id  1      3      4      9      10     23     25     28     29     \\\n",
       "order_id                                                                    \n",
       "15462         0.0    0.0    0.0    0.0    0.0    0.0    0.0    0.0    0.0   \n",
       "\n",
       "product_id  30     ...    49644  49652  49653  49667  49668  49670  49678  \\\n",
       "order_id           ...                                                      \n",
       "15462         0.0  ...      0.0    0.0    0.0    0.0    0.0    0.0    0.0   \n",
       "\n",
       "product_id  49680  49683  49686  \n",
       "order_id                         \n",
       "15462         0.0    0.0    0.0  \n",
       "\n",
       "[1 rows x 16635 columns]"
      ]
     },
     "execution_count": 197,
     "metadata": {},
     "output_type": "execute_result"
    }
   ],
   "source": [
    "productPivot[436:437]"
   ]
  },
  {
   "cell_type": "code",
   "execution_count": 195,
   "metadata": {},
   "outputs": [
    {
     "data": {
      "text/plain": [
       "product_id\n",
       "5450     1.0\n",
       "6046     1.0\n",
       "18761    1.0\n",
       "31506    1.0\n",
       "48679    1.0\n",
       "Name: 1275, dtype: float64"
      ]
     },
     "execution_count": 195,
     "metadata": {},
     "output_type": "execute_result"
    }
   ],
   "source": [
    "productPivot.loc[1275][productPivot.loc[1275] == 1]"
   ]
  },
  {
   "cell_type": "code",
   "execution_count": 198,
   "metadata": {},
   "outputs": [
    {
     "data": {
      "text/plain": [
       "product_id\n",
       "19660    1.0\n",
       "Name: 15462, dtype: float64"
      ]
     },
     "execution_count": 198,
     "metadata": {},
     "output_type": "execute_result"
    }
   ],
   "source": [
    "productPivot.loc[15462][productPivot.loc[15462] == 1]"
   ]
  },
  {
   "cell_type": "code",
   "execution_count": null,
   "metadata": {},
   "outputs": [],
   "source": []
  },
  {
   "cell_type": "code",
   "execution_count": 48,
   "metadata": {},
   "outputs": [
    {
     "data": {
      "text/plain": [
       "order_id\n",
       "36      0.0\n",
       "38      0.0\n",
       "170     0.0\n",
       "226     0.0\n",
       "349     0.0\n",
       "456     0.0\n",
       "719     0.0\n",
       "762     0.0\n",
       "844     0.0\n",
       "878     1.0\n",
       "915     0.0\n",
       "988     0.0\n",
       "1001    0.0\n",
       "1032    0.0\n",
       "1042    0.0\n",
       "Name: 45066, dtype: float64"
      ]
     },
     "execution_count": 48,
     "metadata": {},
     "output_type": "execute_result"
    }
   ],
   "source": [
    "productPivot[45066].head(15)"
   ]
  },
  {
   "cell_type": "code",
   "execution_count": 49,
   "metadata": {},
   "outputs": [],
   "source": [
    "# bananas\n",
    "bananas = productPivot[24852]\n",
    "honeycrisp = productPivot[45066]"
   ]
  },
  {
   "cell_type": "code",
   "execution_count": 54,
   "metadata": {},
   "outputs": [
    {
     "data": {
      "text/plain": [
       "24852    1332\n",
       "13176    1151\n",
       "21137     801\n",
       "21903     724\n",
       "47626     604\n",
       "47766     553\n",
       "47209     523\n",
       "16797     466\n",
       "26209     407\n",
       "27966     383\n",
       "27845     374\n",
       "39275     351\n",
       "30391     347\n",
       "45007     320\n",
       "22935     303\n",
       "4920      295\n",
       "8518      291\n",
       "40706     291\n",
       "24964     285\n",
       "42265     284\n",
       "Name: product_id, dtype: int64"
      ]
     },
     "execution_count": 54,
     "metadata": {},
     "output_type": "execute_result"
    }
   ],
   "source": [
    "train_sm['product_id'].value_counts()[:20]"
   ]
  },
  {
   "cell_type": "code",
   "execution_count": 50,
   "metadata": {},
   "outputs": [
    {
     "data": {
      "text/plain": [
       "product_id\n",
       "1          9\n",
       "3          1\n",
       "4          1\n",
       "9          1\n",
       "10        14\n",
       "23         3\n",
       "25         4\n",
       "28         1\n",
       "29         1\n",
       "30         1\n",
       "32         2\n",
       "34        20\n",
       "36         2\n",
       "37         3\n",
       "40         1\n",
       "41         1\n",
       "43         1\n",
       "45        51\n",
       "47         3\n",
       "48         1\n",
       "49        13\n",
       "54         5\n",
       "55         1\n",
       "58         2\n",
       "62         1\n",
       "63         5\n",
       "70         2\n",
       "77         1\n",
       "79        10\n",
       "83         2\n",
       "        ... \n",
       "49593      1\n",
       "49597      1\n",
       "49600      2\n",
       "49602      1\n",
       "49604      1\n",
       "49605     24\n",
       "49608      5\n",
       "49609      3\n",
       "49610     27\n",
       "49611      1\n",
       "49615      5\n",
       "49618      2\n",
       "49621     11\n",
       "49622      1\n",
       "49628     16\n",
       "49633      1\n",
       "49636      1\n",
       "49637      3\n",
       "49638      1\n",
       "49640      1\n",
       "49644      2\n",
       "49652      2\n",
       "49653      1\n",
       "49667      7\n",
       "49668      2\n",
       "49670      1\n",
       "49678      1\n",
       "49680      3\n",
       "49683    181\n",
       "49686      1\n",
       "Length: 16635, dtype: int64"
      ]
     },
     "execution_count": 50,
     "metadata": {},
     "output_type": "execute_result"
    }
   ],
   "source": [
    "train_sm.groupby('product_id').size()"
   ]
  },
  {
   "cell_type": "code",
   "execution_count": 55,
   "metadata": {},
   "outputs": [],
   "source": [
    "# items similar to honeycrisp apples\n",
    "similarItems = productPivot.corrwith(honeycrisp)\n",
    "# similarItems\n",
    "# similarItems.shape\n",
    "similarItems = similarItems.dropna()\n",
    "similarItemsDF = pd.DataFrame(similarItems)\n",
    "similarItemsDF = pd.merge(similarItemsDF, products, on=\"product_id\", how=\"inner\")\n",
    "similarItemsDF.columns = ['product_id', 'corr', 'product_name', 'aisle_id', 'department_id']\n",
    "# similarItemsDF['count'] = df.groupby('product_id')['order'].size()\n",
    "# similarItemsDF['count'] = train_sm.groupby('product_id').size()"
   ]
  },
  {
   "cell_type": "code",
   "execution_count": 56,
   "metadata": {},
   "outputs": [
    {
     "data": {
      "text/html": [
       "<div>\n",
       "<style scoped>\n",
       "    .dataframe tbody tr th:only-of-type {\n",
       "        vertical-align: middle;\n",
       "    }\n",
       "\n",
       "    .dataframe tbody tr th {\n",
       "        vertical-align: top;\n",
       "    }\n",
       "\n",
       "    .dataframe thead th {\n",
       "        text-align: right;\n",
       "    }\n",
       "</style>\n",
       "<table border=\"1\" class=\"dataframe\">\n",
       "  <thead>\n",
       "    <tr style=\"text-align: right;\">\n",
       "      <th></th>\n",
       "      <th>product_id</th>\n",
       "      <th>corr</th>\n",
       "      <th>product_name</th>\n",
       "      <th>aisle_id</th>\n",
       "      <th>department_id</th>\n",
       "    </tr>\n",
       "  </thead>\n",
       "  <tbody>\n",
       "    <tr>\n",
       "      <th>30</th>\n",
       "      <td>93</td>\n",
       "      <td>-0.003601</td>\n",
       "      <td>Uncured Cracked Pepper Beef</td>\n",
       "      <td>23</td>\n",
       "      <td>19</td>\n",
       "    </tr>\n",
       "    <tr>\n",
       "      <th>31</th>\n",
       "      <td>95</td>\n",
       "      <td>-0.004411</td>\n",
       "      <td>Organic Rice Vinegar</td>\n",
       "      <td>66</td>\n",
       "      <td>6</td>\n",
       "    </tr>\n",
       "    <tr>\n",
       "      <th>32</th>\n",
       "      <td>99</td>\n",
       "      <td>-0.003119</td>\n",
       "      <td>Local Living Butter Lettuce</td>\n",
       "      <td>83</td>\n",
       "      <td>4</td>\n",
       "    </tr>\n",
       "    <tr>\n",
       "      <th>33</th>\n",
       "      <td>100</td>\n",
       "      <td>-0.001800</td>\n",
       "      <td>Peanut Butter &amp; Strawberry Jam Sandwich</td>\n",
       "      <td>38</td>\n",
       "      <td>1</td>\n",
       "    </tr>\n",
       "    <tr>\n",
       "      <th>34</th>\n",
       "      <td>106</td>\n",
       "      <td>-0.003601</td>\n",
       "      <td>Organic Yummy Tummy Maple &amp; Brown Sugar Instan...</td>\n",
       "      <td>92</td>\n",
       "      <td>18</td>\n",
       "    </tr>\n",
       "    <tr>\n",
       "      <th>35</th>\n",
       "      <td>113</td>\n",
       "      <td>-0.002546</td>\n",
       "      <td>Infant's Blend Probiotic</td>\n",
       "      <td>70</td>\n",
       "      <td>11</td>\n",
       "    </tr>\n",
       "    <tr>\n",
       "      <th>36</th>\n",
       "      <td>115</td>\n",
       "      <td>-0.002546</td>\n",
       "      <td>Scooby-Doo! Fruit Flavored Snacks</td>\n",
       "      <td>50</td>\n",
       "      <td>19</td>\n",
       "    </tr>\n",
       "    <tr>\n",
       "      <th>37</th>\n",
       "      <td>116</td>\n",
       "      <td>-0.004765</td>\n",
       "      <td>English Muffins</td>\n",
       "      <td>93</td>\n",
       "      <td>3</td>\n",
       "    </tr>\n",
       "    <tr>\n",
       "      <th>38</th>\n",
       "      <td>117</td>\n",
       "      <td>-0.006978</td>\n",
       "      <td>Petit Suisse Fruit</td>\n",
       "      <td>2</td>\n",
       "      <td>16</td>\n",
       "    </tr>\n",
       "    <tr>\n",
       "      <th>39</th>\n",
       "      <td>118</td>\n",
       "      <td>-0.001800</td>\n",
       "      <td>Ground Turkey Chub</td>\n",
       "      <td>34</td>\n",
       "      <td>1</td>\n",
       "    </tr>\n",
       "  </tbody>\n",
       "</table>\n",
       "</div>"
      ],
      "text/plain": [
       "    product_id      corr                                       product_name  \\\n",
       "30          93 -0.003601                        Uncured Cracked Pepper Beef   \n",
       "31          95 -0.004411                               Organic Rice Vinegar   \n",
       "32          99 -0.003119                        Local Living Butter Lettuce   \n",
       "33         100 -0.001800            Peanut Butter & Strawberry Jam Sandwich   \n",
       "34         106 -0.003601  Organic Yummy Tummy Maple & Brown Sugar Instan...   \n",
       "35         113 -0.002546                           Infant's Blend Probiotic   \n",
       "36         115 -0.002546                  Scooby-Doo! Fruit Flavored Snacks   \n",
       "37         116 -0.004765                                    English Muffins   \n",
       "38         117 -0.006978                                 Petit Suisse Fruit   \n",
       "39         118 -0.001800                                 Ground Turkey Chub   \n",
       "\n",
       "    aisle_id  department_id  \n",
       "30        23             19  \n",
       "31        66              6  \n",
       "32        83              4  \n",
       "33        38              1  \n",
       "34        92             18  \n",
       "35        70             11  \n",
       "36        50             19  \n",
       "37        93              3  \n",
       "38         2             16  \n",
       "39        34              1  "
      ]
     },
     "execution_count": 56,
     "metadata": {},
     "output_type": "execute_result"
    }
   ],
   "source": [
    "similarItemsDF[30:40]"
   ]
  },
  {
   "cell_type": "code",
   "execution_count": 59,
   "metadata": {},
   "outputs": [
    {
     "data": {
      "text/html": [
       "<div>\n",
       "<style scoped>\n",
       "    .dataframe tbody tr th:only-of-type {\n",
       "        vertical-align: middle;\n",
       "    }\n",
       "\n",
       "    .dataframe tbody tr th {\n",
       "        vertical-align: top;\n",
       "    }\n",
       "\n",
       "    .dataframe thead th {\n",
       "        text-align: right;\n",
       "    }\n",
       "</style>\n",
       "<table border=\"1\" class=\"dataframe\">\n",
       "  <thead>\n",
       "    <tr style=\"text-align: right;\">\n",
       "      <th></th>\n",
       "      <th>product_id</th>\n",
       "      <th>corr</th>\n",
       "      <th>product_name</th>\n",
       "      <th>aisle_id</th>\n",
       "      <th>department_id</th>\n",
       "    </tr>\n",
       "  </thead>\n",
       "  <tbody>\n",
       "    <tr>\n",
       "      <th>15047</th>\n",
       "      <td>45066</td>\n",
       "      <td>1.000000</td>\n",
       "      <td>Honeycrisp Apple</td>\n",
       "      <td>24</td>\n",
       "      <td>4</td>\n",
       "    </tr>\n",
       "    <tr>\n",
       "      <th>8318</th>\n",
       "      <td>24852</td>\n",
       "      <td>0.105542</td>\n",
       "      <td>Banana</td>\n",
       "      <td>24</td>\n",
       "      <td>4</td>\n",
       "    </tr>\n",
       "    <tr>\n",
       "      <th>12170</th>\n",
       "      <td>36287</td>\n",
       "      <td>0.096117</td>\n",
       "      <td>Smooth Operator Natural Peanut Butter</td>\n",
       "      <td>88</td>\n",
       "      <td>13</td>\n",
       "    </tr>\n",
       "    <tr>\n",
       "      <th>15934</th>\n",
       "      <td>47626</td>\n",
       "      <td>0.079749</td>\n",
       "      <td>Large Lemon</td>\n",
       "      <td>24</td>\n",
       "      <td>4</td>\n",
       "    </tr>\n",
       "    <tr>\n",
       "      <th>5012</th>\n",
       "      <td>14917</td>\n",
       "      <td>0.070179</td>\n",
       "      <td>Blackberry Yogurt</td>\n",
       "      <td>120</td>\n",
       "      <td>16</td>\n",
       "    </tr>\n",
       "    <tr>\n",
       "      <th>11776</th>\n",
       "      <td>35147</td>\n",
       "      <td>0.067194</td>\n",
       "      <td>Medium Roast Whole Bean Coffee</td>\n",
       "      <td>26</td>\n",
       "      <td>7</td>\n",
       "    </tr>\n",
       "    <tr>\n",
       "      <th>9937</th>\n",
       "      <td>29691</td>\n",
       "      <td>0.067194</td>\n",
       "      <td>Petite Butter Croissant</td>\n",
       "      <td>43</td>\n",
       "      <td>3</td>\n",
       "    </tr>\n",
       "    <tr>\n",
       "      <th>1086</th>\n",
       "      <td>3283</td>\n",
       "      <td>0.067194</td>\n",
       "      <td>Peanut Butter Creme Cookies</td>\n",
       "      <td>61</td>\n",
       "      <td>19</td>\n",
       "    </tr>\n",
       "    <tr>\n",
       "      <th>13566</th>\n",
       "      <td>40530</td>\n",
       "      <td>0.067194</td>\n",
       "      <td>Soothing Caramel Bedtime Tea</td>\n",
       "      <td>94</td>\n",
       "      <td>7</td>\n",
       "    </tr>\n",
       "    <tr>\n",
       "      <th>5346</th>\n",
       "      <td>15925</td>\n",
       "      <td>0.067194</td>\n",
       "      <td>Macaroni and Cheese</td>\n",
       "      <td>38</td>\n",
       "      <td>1</td>\n",
       "    </tr>\n",
       "  </tbody>\n",
       "</table>\n",
       "</div>"
      ],
      "text/plain": [
       "       product_id      corr                           product_name  aisle_id  \\\n",
       "15047       45066  1.000000                       Honeycrisp Apple        24   \n",
       "8318        24852  0.105542                                 Banana        24   \n",
       "12170       36287  0.096117  Smooth Operator Natural Peanut Butter        88   \n",
       "15934       47626  0.079749                            Large Lemon        24   \n",
       "5012        14917  0.070179                      Blackberry Yogurt       120   \n",
       "11776       35147  0.067194         Medium Roast Whole Bean Coffee        26   \n",
       "9937        29691  0.067194                Petite Butter Croissant        43   \n",
       "1086         3283  0.067194            Peanut Butter Creme Cookies        61   \n",
       "13566       40530  0.067194           Soothing Caramel Bedtime Tea        94   \n",
       "5346        15925  0.067194                    Macaroni and Cheese        38   \n",
       "\n",
       "       department_id  \n",
       "15047              4  \n",
       "8318               4  \n",
       "12170             13  \n",
       "15934              4  \n",
       "5012              16  \n",
       "11776              7  \n",
       "9937               3  \n",
       "1086              19  \n",
       "13566              7  \n",
       "5346               1  "
      ]
     },
     "execution_count": 59,
     "metadata": {},
     "output_type": "execute_result"
    }
   ],
   "source": [
    "similarItemsDF.sort_values(by=['corr'], ascending=False)[:10]"
   ]
  },
  {
   "cell_type": "code",
   "execution_count": 114,
   "metadata": {},
   "outputs": [],
   "source": [
    "# df.groupby('product_id').agg({'reordered': {np.size}})"
   ]
  },
  {
   "cell_type": "code",
   "execution_count": 113,
   "metadata": {},
   "outputs": [
    {
     "data": {
      "text/html": [
       "<div>\n",
       "<style scoped>\n",
       "    .dataframe tbody tr th:only-of-type {\n",
       "        vertical-align: middle;\n",
       "    }\n",
       "\n",
       "    .dataframe tbody tr th {\n",
       "        vertical-align: top;\n",
       "    }\n",
       "\n",
       "    .dataframe thead tr th {\n",
       "        text-align: left;\n",
       "    }\n",
       "\n",
       "    .dataframe thead tr:last-of-type th {\n",
       "        text-align: right;\n",
       "    }\n",
       "</style>\n",
       "<table border=\"1\" class=\"dataframe\">\n",
       "  <thead>\n",
       "    <tr>\n",
       "      <th></th>\n",
       "      <th>reordered</th>\n",
       "    </tr>\n",
       "    <tr>\n",
       "      <th></th>\n",
       "      <th>size</th>\n",
       "    </tr>\n",
       "    <tr>\n",
       "      <th>product_id</th>\n",
       "      <th></th>\n",
       "    </tr>\n",
       "  </thead>\n",
       "  <tbody>\n",
       "    <tr>\n",
       "      <th>1</th>\n",
       "      <td>1852</td>\n",
       "    </tr>\n",
       "    <tr>\n",
       "      <th>2</th>\n",
       "      <td>90</td>\n",
       "    </tr>\n",
       "    <tr>\n",
       "      <th>3</th>\n",
       "      <td>277</td>\n",
       "    </tr>\n",
       "    <tr>\n",
       "      <th>4</th>\n",
       "      <td>329</td>\n",
       "    </tr>\n",
       "    <tr>\n",
       "      <th>5</th>\n",
       "      <td>15</td>\n",
       "    </tr>\n",
       "    <tr>\n",
       "      <th>6</th>\n",
       "      <td>8</td>\n",
       "    </tr>\n",
       "    <tr>\n",
       "      <th>7</th>\n",
       "      <td>30</td>\n",
       "    </tr>\n",
       "    <tr>\n",
       "      <th>8</th>\n",
       "      <td>165</td>\n",
       "    </tr>\n",
       "    <tr>\n",
       "      <th>9</th>\n",
       "      <td>156</td>\n",
       "    </tr>\n",
       "    <tr>\n",
       "      <th>10</th>\n",
       "      <td>2572</td>\n",
       "    </tr>\n",
       "    <tr>\n",
       "      <th>11</th>\n",
       "      <td>104</td>\n",
       "    </tr>\n",
       "    <tr>\n",
       "      <th>12</th>\n",
       "      <td>246</td>\n",
       "    </tr>\n",
       "    <tr>\n",
       "      <th>13</th>\n",
       "      <td>9</td>\n",
       "    </tr>\n",
       "    <tr>\n",
       "      <th>14</th>\n",
       "      <td>17</td>\n",
       "    </tr>\n",
       "    <tr>\n",
       "      <th>15</th>\n",
       "      <td>4</td>\n",
       "    </tr>\n",
       "    <tr>\n",
       "      <th>16</th>\n",
       "      <td>19</td>\n",
       "    </tr>\n",
       "    <tr>\n",
       "      <th>17</th>\n",
       "      <td>18</td>\n",
       "    </tr>\n",
       "    <tr>\n",
       "      <th>18</th>\n",
       "      <td>137</td>\n",
       "    </tr>\n",
       "    <tr>\n",
       "      <th>19</th>\n",
       "      <td>4</td>\n",
       "    </tr>\n",
       "    <tr>\n",
       "      <th>20</th>\n",
       "      <td>6</td>\n",
       "    </tr>\n",
       "  </tbody>\n",
       "</table>\n",
       "</div>"
      ],
      "text/plain": [
       "           reordered\n",
       "                size\n",
       "product_id          \n",
       "1               1852\n",
       "2                 90\n",
       "3                277\n",
       "4                329\n",
       "5                 15\n",
       "6                  8\n",
       "7                 30\n",
       "8                165\n",
       "9                156\n",
       "10              2572\n",
       "11               104\n",
       "12               246\n",
       "13                 9\n",
       "14                17\n",
       "15                 4\n",
       "16                19\n",
       "17                18\n",
       "18               137\n",
       "19                 4\n",
       "20                 6"
      ]
     },
     "execution_count": 113,
     "metadata": {},
     "output_type": "execute_result"
    }
   ],
   "source": [
    "counts = df.groupby('product_id').agg({'reordered': {np.size}})\n",
    "counts[:20]"
   ]
  },
  {
   "cell_type": "code",
   "execution_count": 144,
   "metadata": {},
   "outputs": [
    {
     "data": {
      "text/plain": [
       "product_id\n",
       "1      2\n",
       "3      1\n",
       "9      1\n",
       "10     8\n",
       "23     2\n",
       "25     1\n",
       "29     1\n",
       "34    10\n",
       "36     1\n",
       "37     2\n",
       "dtype: int64"
      ]
     },
     "execution_count": 144,
     "metadata": {},
     "output_type": "execute_result"
    }
   ],
   "source": [
    "count = train_sm.groupby('product_id').size()\n",
    "count_dict = count.to_dict()\n",
    "count[:10]"
   ]
  },
  {
   "cell_type": "code",
   "execution_count": 147,
   "metadata": {},
   "outputs": [
    {
     "data": {
      "text/plain": [
       "count    11971.000000\n",
       "mean         4.176761\n",
       "std         14.267705\n",
       "min          1.000000\n",
       "25%          1.000000\n",
       "50%          1.000000\n",
       "75%          3.000000\n",
       "max        668.000000\n",
       "dtype: float64"
      ]
     },
     "execution_count": 147,
     "metadata": {},
     "output_type": "execute_result"
    }
   ],
   "source": [
    "count.describe()"
   ]
  },
  {
   "cell_type": "code",
   "execution_count": 148,
   "metadata": {},
   "outputs": [],
   "source": [
    "similarItemsDF['total_count'] = similarItemsDF['product_id'].map(count_dict).astype('int')"
   ]
  },
  {
   "cell_type": "code",
   "execution_count": 149,
   "metadata": {},
   "outputs": [
    {
     "data": {
      "text/html": [
       "<div>\n",
       "<style scoped>\n",
       "    .dataframe tbody tr th:only-of-type {\n",
       "        vertical-align: middle;\n",
       "    }\n",
       "\n",
       "    .dataframe tbody tr th {\n",
       "        vertical-align: top;\n",
       "    }\n",
       "\n",
       "    .dataframe thead th {\n",
       "        text-align: right;\n",
       "    }\n",
       "</style>\n",
       "<table border=\"1\" class=\"dataframe\">\n",
       "  <thead>\n",
       "    <tr style=\"text-align: right;\">\n",
       "      <th></th>\n",
       "      <th>product_id</th>\n",
       "      <th>corr</th>\n",
       "      <th>product_name</th>\n",
       "      <th>aisle_id</th>\n",
       "      <th>department_id</th>\n",
       "      <th>count</th>\n",
       "      <th>total_count</th>\n",
       "    </tr>\n",
       "  </thead>\n",
       "  <tbody>\n",
       "    <tr>\n",
       "      <th>0</th>\n",
       "      <td>45</td>\n",
       "      <td>0.447214</td>\n",
       "      <td>European Cucumber</td>\n",
       "      <td>83</td>\n",
       "      <td>4</td>\n",
       "      <td>NaN</td>\n",
       "      <td>25</td>\n",
       "    </tr>\n",
       "    <tr>\n",
       "      <th>1</th>\n",
       "      <td>432</td>\n",
       "      <td>-0.500000</td>\n",
       "      <td>Vanilla Almond Breeze Almond Milk</td>\n",
       "      <td>91</td>\n",
       "      <td>16</td>\n",
       "      <td>1852.0</td>\n",
       "      <td>42</td>\n",
       "    </tr>\n",
       "    <tr>\n",
       "      <th>2</th>\n",
       "      <td>1158</td>\n",
       "      <td>0.408248</td>\n",
       "      <td>Mango Chunks</td>\n",
       "      <td>116</td>\n",
       "      <td>1</td>\n",
       "      <td>90.0</td>\n",
       "      <td>29</td>\n",
       "    </tr>\n",
       "    <tr>\n",
       "      <th>3</th>\n",
       "      <td>1999</td>\n",
       "      <td>-1.000000</td>\n",
       "      <td>Organic Chicken Broth</td>\n",
       "      <td>69</td>\n",
       "      <td>15</td>\n",
       "      <td>277.0</td>\n",
       "      <td>24</td>\n",
       "    </tr>\n",
       "    <tr>\n",
       "      <th>4</th>\n",
       "      <td>2078</td>\n",
       "      <td>0.500000</td>\n",
       "      <td>Unsalted Pure Irish Butter</td>\n",
       "      <td>36</td>\n",
       "      <td>16</td>\n",
       "      <td>329.0</td>\n",
       "      <td>25</td>\n",
       "    </tr>\n",
       "  </tbody>\n",
       "</table>\n",
       "</div>"
      ],
      "text/plain": [
       "   product_id      corr                       product_name  aisle_id  \\\n",
       "0          45  0.447214                  European Cucumber        83   \n",
       "1         432 -0.500000  Vanilla Almond Breeze Almond Milk        91   \n",
       "2        1158  0.408248                       Mango Chunks       116   \n",
       "3        1999 -1.000000              Organic Chicken Broth        69   \n",
       "4        2078  0.500000         Unsalted Pure Irish Butter        36   \n",
       "\n",
       "   department_id   count  total_count  \n",
       "0              4     NaN           25  \n",
       "1             16  1852.0           42  \n",
       "2              1    90.0           29  \n",
       "3             15   277.0           24  \n",
       "4             16   329.0           25  "
      ]
     },
     "execution_count": 149,
     "metadata": {},
     "output_type": "execute_result"
    }
   ],
   "source": [
    "similarItemsDF.head()"
   ]
  },
  {
   "cell_type": "code",
   "execution_count": 153,
   "metadata": {},
   "outputs": [],
   "source": [
    "popularItems = similarItemsDF[similarItemsDF['total_count'] >= 20]"
   ]
  },
  {
   "cell_type": "code",
   "execution_count": 156,
   "metadata": {},
   "outputs": [
    {
     "data": {
      "text/html": [
       "<div>\n",
       "<style scoped>\n",
       "    .dataframe tbody tr th:only-of-type {\n",
       "        vertical-align: middle;\n",
       "    }\n",
       "\n",
       "    .dataframe tbody tr th {\n",
       "        vertical-align: top;\n",
       "    }\n",
       "\n",
       "    .dataframe thead th {\n",
       "        text-align: right;\n",
       "    }\n",
       "</style>\n",
       "<table border=\"1\" class=\"dataframe\">\n",
       "  <thead>\n",
       "    <tr style=\"text-align: right;\">\n",
       "      <th></th>\n",
       "      <th>product_id</th>\n",
       "      <th>corr</th>\n",
       "      <th>product_name</th>\n",
       "      <th>aisle_id</th>\n",
       "      <th>department_id</th>\n",
       "      <th>count</th>\n",
       "      <th>total_count</th>\n",
       "    </tr>\n",
       "  </thead>\n",
       "  <tbody>\n",
       "    <tr>\n",
       "      <th>96</th>\n",
       "      <td>45066</td>\n",
       "      <td>1.0</td>\n",
       "      <td>Honeycrisp Apple</td>\n",
       "      <td>24</td>\n",
       "      <td>4</td>\n",
       "      <td>198.0</td>\n",
       "      <td>138</td>\n",
       "    </tr>\n",
       "    <tr>\n",
       "      <th>43</th>\n",
       "      <td>22825</td>\n",
       "      <td>1.0</td>\n",
       "      <td>Organic D'Anjou Pears</td>\n",
       "      <td>24</td>\n",
       "      <td>4</td>\n",
       "      <td>221.0</td>\n",
       "      <td>68</td>\n",
       "    </tr>\n",
       "    <tr>\n",
       "      <th>86</th>\n",
       "      <td>41950</td>\n",
       "      <td>1.0</td>\n",
       "      <td>Organic Tomato Cluster</td>\n",
       "      <td>83</td>\n",
       "      <td>4</td>\n",
       "      <td>130.0</td>\n",
       "      <td>97</td>\n",
       "    </tr>\n",
       "    <tr>\n",
       "      <th>36</th>\n",
       "      <td>17794</td>\n",
       "      <td>1.0</td>\n",
       "      <td>Carrots</td>\n",
       "      <td>83</td>\n",
       "      <td>4</td>\n",
       "      <td>129.0</td>\n",
       "      <td>103</td>\n",
       "    </tr>\n",
       "    <tr>\n",
       "      <th>59</th>\n",
       "      <td>30720</td>\n",
       "      <td>1.0</td>\n",
       "      <td>Sugar Snap Peas</td>\n",
       "      <td>83</td>\n",
       "      <td>4</td>\n",
       "      <td>28.0</td>\n",
       "      <td>29</td>\n",
       "    </tr>\n",
       "    <tr>\n",
       "      <th>33</th>\n",
       "      <td>16185</td>\n",
       "      <td>1.0</td>\n",
       "      <td>Sharp Cheddar Cheese</td>\n",
       "      <td>21</td>\n",
       "      <td>16</td>\n",
       "      <td>32.0</td>\n",
       "      <td>36</td>\n",
       "    </tr>\n",
       "    <tr>\n",
       "      <th>38</th>\n",
       "      <td>19348</td>\n",
       "      <td>1.0</td>\n",
       "      <td>Fat Free Milk</td>\n",
       "      <td>84</td>\n",
       "      <td>16</td>\n",
       "      <td>17.0</td>\n",
       "      <td>38</td>\n",
       "    </tr>\n",
       "    <tr>\n",
       "      <th>23</th>\n",
       "      <td>10749</td>\n",
       "      <td>1.0</td>\n",
       "      <td>Organic Red Bell Pepper</td>\n",
       "      <td>83</td>\n",
       "      <td>4</td>\n",
       "      <td>1068.0</td>\n",
       "      <td>99</td>\n",
       "    </tr>\n",
       "    <tr>\n",
       "      <th>97</th>\n",
       "      <td>45603</td>\n",
       "      <td>1.0</td>\n",
       "      <td>Trilogy Kombucha Drink</td>\n",
       "      <td>31</td>\n",
       "      <td>7</td>\n",
       "      <td>168.0</td>\n",
       "      <td>23</td>\n",
       "    </tr>\n",
       "    <tr>\n",
       "      <th>98</th>\n",
       "      <td>46654</td>\n",
       "      <td>1.0</td>\n",
       "      <td>Organic Grade A Large Brown Eggs</td>\n",
       "      <td>86</td>\n",
       "      <td>16</td>\n",
       "      <td>39.0</td>\n",
       "      <td>41</td>\n",
       "    </tr>\n",
       "    <tr>\n",
       "      <th>84</th>\n",
       "      <td>40723</td>\n",
       "      <td>1.0</td>\n",
       "      <td>Organic Cripps Pink Apples</td>\n",
       "      <td>24</td>\n",
       "      <td>4</td>\n",
       "      <td>124.0</td>\n",
       "      <td>32</td>\n",
       "    </tr>\n",
       "    <tr>\n",
       "      <th>72</th>\n",
       "      <td>38159</td>\n",
       "      <td>1.0</td>\n",
       "      <td>Organic Yellow Peaches</td>\n",
       "      <td>24</td>\n",
       "      <td>4</td>\n",
       "      <td>13.0</td>\n",
       "      <td>25</td>\n",
       "    </tr>\n",
       "    <tr>\n",
       "      <th>82</th>\n",
       "      <td>40545</td>\n",
       "      <td>1.0</td>\n",
       "      <td>Berry Medley</td>\n",
       "      <td>116</td>\n",
       "      <td>1</td>\n",
       "      <td>35.0</td>\n",
       "      <td>27</td>\n",
       "    </tr>\n",
       "    <tr>\n",
       "      <th>28</th>\n",
       "      <td>13984</td>\n",
       "      <td>1.0</td>\n",
       "      <td>Organic Mint</td>\n",
       "      <td>16</td>\n",
       "      <td>4</td>\n",
       "      <td>706.0</td>\n",
       "      <td>28</td>\n",
       "    </tr>\n",
       "    <tr>\n",
       "      <th>94</th>\n",
       "      <td>44910</td>\n",
       "      <td>1.0</td>\n",
       "      <td>Organic Spring Mix Salad</td>\n",
       "      <td>123</td>\n",
       "      <td>4</td>\n",
       "      <td>879.0</td>\n",
       "      <td>32</td>\n",
       "    </tr>\n",
       "    <tr>\n",
       "      <th>92</th>\n",
       "      <td>44449</td>\n",
       "      <td>1.0</td>\n",
       "      <td>Organic Tomato Sauce</td>\n",
       "      <td>81</td>\n",
       "      <td>15</td>\n",
       "      <td>5.0</td>\n",
       "      <td>21</td>\n",
       "    </tr>\n",
       "    <tr>\n",
       "      <th>14</th>\n",
       "      <td>6187</td>\n",
       "      <td>1.0</td>\n",
       "      <td>Raisin Bran Cereal</td>\n",
       "      <td>121</td>\n",
       "      <td>14</td>\n",
       "      <td>17.0</td>\n",
       "      <td>23</td>\n",
       "    </tr>\n",
       "    <tr>\n",
       "      <th>68</th>\n",
       "      <td>37067</td>\n",
       "      <td>1.0</td>\n",
       "      <td>Organic Banana</td>\n",
       "      <td>24</td>\n",
       "      <td>4</td>\n",
       "      <td>62.0</td>\n",
       "      <td>77</td>\n",
       "    </tr>\n",
       "    <tr>\n",
       "      <th>24</th>\n",
       "      <td>11182</td>\n",
       "      <td>1.0</td>\n",
       "      <td>Baby Spinach</td>\n",
       "      <td>123</td>\n",
       "      <td>4</td>\n",
       "      <td>13.0</td>\n",
       "      <td>52</td>\n",
       "    </tr>\n",
       "    <tr>\n",
       "      <th>101</th>\n",
       "      <td>46969</td>\n",
       "      <td>1.0</td>\n",
       "      <td>Organic Bosc Pear</td>\n",
       "      <td>24</td>\n",
       "      <td>4</td>\n",
       "      <td>177.0</td>\n",
       "      <td>23</td>\n",
       "    </tr>\n",
       "  </tbody>\n",
       "</table>\n",
       "</div>"
      ],
      "text/plain": [
       "     product_id  corr                      product_name  aisle_id  \\\n",
       "96        45066   1.0                  Honeycrisp Apple        24   \n",
       "43        22825   1.0             Organic D'Anjou Pears        24   \n",
       "86        41950   1.0            Organic Tomato Cluster        83   \n",
       "36        17794   1.0                           Carrots        83   \n",
       "59        30720   1.0                   Sugar Snap Peas        83   \n",
       "33        16185   1.0              Sharp Cheddar Cheese        21   \n",
       "38        19348   1.0                     Fat Free Milk        84   \n",
       "23        10749   1.0           Organic Red Bell Pepper        83   \n",
       "97        45603   1.0            Trilogy Kombucha Drink        31   \n",
       "98        46654   1.0  Organic Grade A Large Brown Eggs        86   \n",
       "84        40723   1.0        Organic Cripps Pink Apples        24   \n",
       "72        38159   1.0            Organic Yellow Peaches        24   \n",
       "82        40545   1.0                      Berry Medley       116   \n",
       "28        13984   1.0                      Organic Mint        16   \n",
       "94        44910   1.0          Organic Spring Mix Salad       123   \n",
       "92        44449   1.0              Organic Tomato Sauce        81   \n",
       "14         6187   1.0                Raisin Bran Cereal       121   \n",
       "68        37067   1.0                    Organic Banana        24   \n",
       "24        11182   1.0                      Baby Spinach       123   \n",
       "101       46969   1.0                 Organic Bosc Pear        24   \n",
       "\n",
       "     department_id   count  total_count  \n",
       "96               4   198.0          138  \n",
       "43               4   221.0           68  \n",
       "86               4   130.0           97  \n",
       "36               4   129.0          103  \n",
       "59               4    28.0           29  \n",
       "33              16    32.0           36  \n",
       "38              16    17.0           38  \n",
       "23               4  1068.0           99  \n",
       "97               7   168.0           23  \n",
       "98              16    39.0           41  \n",
       "84               4   124.0           32  \n",
       "72               4    13.0           25  \n",
       "82               1    35.0           27  \n",
       "28               4   706.0           28  \n",
       "94               4   879.0           32  \n",
       "92              15     5.0           21  \n",
       "14              14    17.0           23  \n",
       "68               4    62.0           77  \n",
       "24               4    13.0           52  \n",
       "101              4   177.0           23  "
      ]
     },
     "execution_count": 156,
     "metadata": {},
     "output_type": "execute_result"
    }
   ],
   "source": [
    "popularItems.sort_values(by=['corr'], ascending=False)[:20]"
   ]
  },
  {
   "cell_type": "code",
   "execution_count": 165,
   "metadata": {},
   "outputs": [
    {
     "data": {
      "text/plain": [
       "(346102, 2)"
      ]
     },
     "execution_count": 165,
     "metadata": {},
     "output_type": "execute_result"
    }
   ],
   "source": [
    "test.shape"
   ]
  },
  {
   "cell_type": "code",
   "execution_count": null,
   "metadata": {},
   "outputs": [],
   "source": []
  },
  {
   "cell_type": "code",
   "execution_count": null,
   "metadata": {},
   "outputs": [],
   "source": []
  },
  {
   "cell_type": "code",
   "execution_count": null,
   "metadata": {},
   "outputs": [],
   "source": []
  },
  {
   "cell_type": "code",
   "execution_count": null,
   "metadata": {},
   "outputs": [],
   "source": []
  },
  {
   "cell_type": "code",
   "execution_count": null,
   "metadata": {},
   "outputs": [],
   "source": []
  }
 ],
 "metadata": {
  "kernelspec": {
   "display_name": "Python 3",
   "language": "python",
   "name": "python3"
  },
  "language_info": {
   "codemirror_mode": {
    "name": "ipython",
    "version": 3
   },
   "file_extension": ".py",
   "mimetype": "text/x-python",
   "name": "python",
   "nbconvert_exporter": "python",
   "pygments_lexer": "ipython3",
   "version": "3.7.1"
  }
 },
 "nbformat": 4,
 "nbformat_minor": 2
}
